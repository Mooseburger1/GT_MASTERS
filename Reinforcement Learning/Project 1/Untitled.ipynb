{
 "cells": [
  {
   "cell_type": "code",
   "execution_count": 1,
   "metadata": {},
   "outputs": [
    {
     "data": {
      "text/html": [
       "<style>.container { width:100% !important; }</style>"
      ],
      "text/plain": [
       "<IPython.core.display.HTML object>"
      ]
     },
     "metadata": {},
     "output_type": "display_data"
    }
   ],
   "source": [
    "from IPython.core.display import display, HTML\n",
    "display(HTML(\"<style>.container { width:100% !important; }</style>\"))"
   ]
  },
  {
   "cell_type": "code",
   "execution_count": 2,
   "metadata": {},
   "outputs": [],
   "source": [
    "import numpy as np\n",
    "from collections import namedtuple"
   ]
  },
  {
   "cell_type": "code",
   "execution_count": 3,
   "metadata": {},
   "outputs": [],
   "source": [
    "Walk = namedtuple('Walk', ['Route','Reward'])\n",
    "np.random.seed =1\n",
    "\n",
    "class walkGenerator:\n",
    "    def __init__(self):\n",
    "        \n",
    "        #Dictionary to encode state position to a vector\n",
    "        self.state_arrays = {\n",
    "                'A':np.array([1,0,0,0,0,0,0]),\n",
    "                'B':np.array([0,1,0,0,0,0,0]),\n",
    "                'C':np.array([0,0,1,0,0,0,0]),\n",
    "                'D':np.array([0,0,0,1,0,0,0]),\n",
    "                'E':np.array([0,0,0,0,1,0,0]),\n",
    "                'F':np.array([0,0,0,0,0,1,0]),\n",
    "                'G':np.array([0,0,0,0,0,0,1])\n",
    "               }\n",
    "        #Possible states\n",
    "        self.states = ('A','B','C','D','E','F','G')\n",
    "\n",
    "        #state 0 (A) has a reward of 0\n",
    "        #state 6 (G) has a reward of 1\n",
    "        self.rewards = {0:0, 6:1}\n",
    "\n",
    "\n",
    "        #End at state A or G\n",
    "        self.terminal_states = (0,6)\n",
    "        \n",
    "    def take_a_walk(self):\n",
    "        #initialize empty array to hold the walk progression\n",
    "        walk = []\n",
    "        #rewards for the walk\n",
    "        r = []\n",
    "        #Always start at position 3 (D)\n",
    "        current_state = 3\n",
    "        \n",
    "        while True:\n",
    "            #add initial state to walk\n",
    "            walk.append(self.states[current_state])\n",
    "\n",
    "            #take a random left or right walk\n",
    "            action = np.random.choice([-1,1], p=[0.5,0.5])\n",
    "\n",
    "            #update state position\n",
    "            current_state = current_state + action\n",
    "\n",
    "            #check for terminal state\n",
    "            if current_state in self.terminal_states:\n",
    "                walk.append(self.states[current_state])\n",
    "                r.append(self.rewards[current_state])\n",
    "                break\n",
    "            else:\n",
    "                r.append(0)\n",
    "                \n",
    "        state_matrix = []\n",
    "\n",
    "        for position in walk:\n",
    "            state_matrix.append(self.state_arrays[position])\n",
    "\n",
    "        state_matrix = np.array(state_matrix)\n",
    "        \n",
    "        return Walk(state_matrix, r)\n",
    "    \n",
    "    def generate_training_sets(self, num_samples, sequences_per_sample):\n",
    "        assert isinstance(num_samples, int), 'num_samples param must be integer'\n",
    "        assert num_samples > 0, 'num_samples param must be greater than 0'\n",
    "        assert isinstance(sequences_per_sample, int), 'sequences_per_sample param must be integer'\n",
    "        assert sequences_per_sample > 0, 'sequences_per_sample param must be greater than 0'\n",
    "        \n",
    "        training_sets = []\n",
    "        for i in range(num_samples):\n",
    "            current_set = []\n",
    "            for j in range(sequences_per_sample):\n",
    "                \n",
    "                walk = self.take_a_walk()\n",
    "                current_set.append(walk)\n",
    "                \n",
    "            training_sets.append(current_set)\n",
    "        return training_sets"
   ]
  },
  {
   "cell_type": "code",
   "execution_count": null,
   "metadata": {},
   "outputs": [],
   "source": []
  },
  {
   "cell_type": "code",
   "execution_count": null,
   "metadata": {},
   "outputs": [],
   "source": []
  },
  {
   "cell_type": "code",
   "execution_count": null,
   "metadata": {},
   "outputs": [],
   "source": []
  },
  {
   "cell_type": "code",
   "execution_count": 231,
   "metadata": {},
   "outputs": [],
   "source": [
    "generated_sets = walkGenerator().generate_training_sets(num_samples=100, sequences_per_sample=10)"
   ]
  },
  {
   "cell_type": "code",
   "execution_count": 232,
   "metadata": {},
   "outputs": [],
   "source": [
    "gamma = 1\n",
    "alpha=0.1\n",
    "lamdas=[0.0, 0.1,0.2,0.3,0.4,0.5,0.6,0.7,0.8,0.9,1.0]\n",
    "ideal = np.array([(1.0/6.0, (1.0/3.0), (1.0/2.0), (2.0/3.0), (5.0/6.0))])"
   ]
  },
  {
   "cell_type": "code",
   "execution_count": 233,
   "metadata": {},
   "outputs": [],
   "source": [
    "\n",
    "err = []\n",
    "for lamda in lamdas:\n",
    "\n",
    "    rmses =[]\n",
    "\n",
    "    for set_ in generated_sets:\n",
    "        values_per_seq = []\n",
    "        global_values = np.zeros(7)\n",
    "\n",
    "        next_set = False\n",
    "\n",
    "        while not next_set:\n",
    "\n",
    "\n",
    "            for sequence in set_:\n",
    "\n",
    "                values = global_values.copy()\n",
    "\n",
    "                eligibility = np.zeros(7)\n",
    "\n",
    "                walk = sequence.Route\n",
    "                rewards = sequence.Reward\n",
    "\n",
    "                for step in range(len(walk)-1):\n",
    "                    state = np.argmax(walk[step])\n",
    "                    transition = np.argmax(walk[step+1])\n",
    "                    eligibility[state] =1\n",
    "                    update = rewards[step] + gamma*values[transition] - values[state]\n",
    "                    for pos, val in enumerate(values):\n",
    "                        values[pos] = val + alpha * update * eligibility[pos]\n",
    "                        eligibility[pos] = eligibility[pos] * lamda * gamma\n",
    "                values_per_seq.append(values)\n",
    "\n",
    "            new_values = np.mean(values_per_seq, axis=0)\n",
    "            diff = np.abs(new_values - global_values)\n",
    "            global_values = new_values.copy()\n",
    "            values_per_seq = []\n",
    "\n",
    "            if all(diff <= 0.001):\n",
    "                next_set = True\n",
    "\n",
    "        rmse = np.sqrt(np.mean((global_values[1:-1]-ideal)**2))\n",
    "\n",
    "        rmses.append(rmse)\n",
    "    err.append(np.mean(rmses))"
   ]
  },
  {
   "cell_type": "code",
   "execution_count": 182,
   "metadata": {},
   "outputs": [],
   "source": [
    "import matplotlib.pyplot as plt"
   ]
  },
  {
   "cell_type": "code",
   "execution_count": 236,
   "metadata": {},
   "outputs": [
    {
     "data": {
      "image/png": "[encoded data removed]",
      "text/plain": [
       "<Figure size 1080x576 with 1 Axes>"
      ]
     },
     "metadata": {
      "needs_background": "light"
     },
     "output_type": "display_data"
    }
   ],
   "source": [
    "plt.figure(figsize=(15,8))\n",
    "plt.plot(lamdas, np.mean(errs, axis=0), marker ='o')\n",
    "plt.ylabel('Error Using Best {}'.format(chr(945)))\n",
    "plt.xlabel('λ')\n",
    "plt.text(x = 0.2, y = 0.125,s='Scott Sims Scott Sims Scott Sims', fontsize=20)\n",
    "plt.text(x = 0.6, y = 0.135,s='Scott Sims Scott Sims Scott Sims', fontsize=20)\n",
    "plt.show()"
   ]
  },
  {
   "cell_type": "code",
   "execution_count": 270,
   "metadata": {},
   "outputs": [
    {
     "data": {
      "image/png": "[encoded data removed]",
      "text/plain": [
       "<Figure size 1080x576 with 1 Axes>"
      ]
     },
     "metadata": {
      "needs_background": "light"
     },
     "output_type": "display_data"
    }
   ],
   "source": [
    "plt.figure(figsize=(15,8))\n",
    "plt.plot(lamdas, np.mean(rmses, axis=0), marker ='o')\n",
    "plt.ylabel('Error Using Best {}'.format(chr(945)))\n",
    "plt.xlabel('λ')\n",
    "plt.text(x = 0.2, y = 0.125,s='Scott Sims Scott Sims Scott Sims', fontsize=20)\n",
    "plt.text(x = 0.6, y = 0.135,s='Scott Sims Scott Sims Scott Sims', fontsize=20)\n",
    "plt.show()"
   ]
  },
  {
   "cell_type": "code",
   "execution_count": null,
   "metadata": {},
   "outputs": [],
   "source": [
    "rmses = []\n",
    "lambdas = []"
   ]
  },
  {
   "cell_type": "code",
   "execution_count": null,
   "metadata": {},
   "outputs": [],
   "source": []
  },
  {
   "cell_type": "code",
   "execution_count": null,
   "metadata": {},
   "outputs": [],
   "source": []
  },
  {
   "cell_type": "code",
   "execution_count": null,
   "metadata": {},
   "outputs": [],
   "source": []
  },
  {
   "cell_type": "code",
   "execution_count": null,
   "metadata": {},
   "outputs": [],
   "source": []
  },
  {
   "cell_type": "code",
   "execution_count": null,
   "metadata": {},
   "outputs": [],
   "source": []
  },
  {
   "cell_type": "code",
   "execution_count": null,
   "metadata": {},
   "outputs": [],
   "source": []
  },
  {
   "cell_type": "code",
   "execution_count": null,
   "metadata": {},
   "outputs": [],
   "source": []
  },
  {
   "cell_type": "code",
   "execution_count": null,
   "metadata": {},
   "outputs": [],
   "source": []
  },
  {
   "cell_type": "code",
   "execution_count": 250,
   "metadata": {},
   "outputs": [],
   "source": [
    "training_set = generated_sets[1]"
   ]
  },
  {
   "cell_type": "code",
   "execution_count": 271,
   "metadata": {},
   "outputs": [],
   "source": [
    "def td_lambda(training_set, alpha, gamma, q):\n",
    "    lamdas=[0.0, 0.1,0.2,0.3,0.4,0.5,0.6,0.7,0.8,0.9,1.0]\n",
    "    ideal = np.array([(1.0/6.0, (1.0/3.0), (1.0/2.0), (2.0/3.0), (5.0/6.0))])\n",
    "\n",
    "\n",
    "    rmses =[]\n",
    "    for lamda in lamdas:\n",
    "\n",
    "        \n",
    "\n",
    "        \n",
    "        values_per_seq = []\n",
    "        global_values = np.zeros(7)\n",
    "\n",
    "        converged = False\n",
    "\n",
    "        while not converged:\n",
    "\n",
    "\n",
    "            for sequence in training_set:\n",
    "\n",
    "                values = global_values.copy()\n",
    "\n",
    "                eligibility = np.zeros(7)\n",
    "\n",
    "                walk = sequence.Route\n",
    "                rewards = sequence.Reward\n",
    "\n",
    "                for step in range(len(walk)-1):\n",
    "                    state = np.argmax(walk[step])\n",
    "                    transition = np.argmax(walk[step+1])\n",
    "                    eligibility[state] =1\n",
    "                    update = rewards[step] + gamma*values[transition] - values[state]\n",
    "                    for pos, val in enumerate(values):\n",
    "                        values[pos] = val + alpha * update * eligibility[pos]\n",
    "                        eligibility[pos] = eligibility[pos] * lamda * gamma\n",
    "                values_per_seq.append(values)\n",
    "\n",
    "            new_values = np.mean(values_per_seq, axis=0)\n",
    "            diff = np.abs(new_values - global_values)\n",
    "            global_values = new_values.copy()\n",
    "            values_per_seq = []\n",
    "\n",
    "            if all(diff <= 0.001):\n",
    "                converged = True\n",
    "\n",
    "        rmse = np.sqrt(np.mean((global_values[1:-1]-ideal)**2))\n",
    "\n",
    "        rmses.append(rmse)\n",
    "    q.put(rmses)"
   ]
  },
  {
   "cell_type": "code",
   "execution_count": 255,
   "metadata": {},
   "outputs": [],
   "source": [
    "errs = [td_lambda(generated_sets[i], alpha=0.2, gamma=1.0) for i in range(100)]"
   ]
  },
  {
   "cell_type": "code",
   "execution_count": 260,
   "metadata": {},
   "outputs": [],
   "source": [
    "from multiprocessing import Process, Queue"
   ]
  },
  {
   "cell_type": "code",
   "execution_count": 272,
   "metadata": {},
   "outputs": [],
   "source": [
    "q = Queue()\n",
    "processes = []\n",
    "rmses = []\n",
    "for i in range(100):\n",
    "    p = Process(target=td_lambda, args=(generated_sets[i], 0.2, 1.0, q))\n",
    "    p.start()\n",
    "    processes.append(p)\n",
    "for p in processes:\n",
    "    p.join()\n",
    "    rmses.append(q.get())"
   ]
  },
  {
   "cell_type": "code",
   "execution_count": 273,
   "metadata": {},
   "outputs": [
    {
     "data": {
      "text/plain": [
       "array([0.12527146, 0.12445008, 0.12389751, 0.12359824, 0.12352957,\n",
       "       0.12360953, 0.12393933, 0.12456313, 0.12596153, 0.12941923,\n",
       "       0.14094076])"
      ]
     },
     "execution_count": 273,
     "metadata": {},
     "output_type": "execute_result"
    }
   ],
   "source": [
    "np.mean(rmses, axis=0)"
   ]
  },
  {
   "cell_type": "code",
   "execution_count": null,
   "metadata": {},
   "outputs": [],
   "source": []
  }
 ],
 "metadata": {
  "kernelspec": {
   "display_name": "Python 3",
   "language": "python",
   "name": "python3"
  },
  "language_info": {
   "codemirror_mode": {
    "name": "ipython",
    "version": 3
   },
   "file_extension": ".py",
   "mimetype": "text/x-python",
   "name": "python",
   "nbconvert_exporter": "python",
   "pygments_lexer": "ipython3",
   "version": "3.7.4"
  }
 },
 "nbformat": 4,
 "nbformat_minor": 2
}

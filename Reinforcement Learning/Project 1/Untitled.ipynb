{
 "cells": [
  {
   "cell_type": "code",
   "execution_count": 1,
   "metadata": {},
   "outputs": [
    {
     "data": {
      "text/html": [
       "<style>.container { width:100% !important; }</style>"
      ],
      "text/plain": [
       "<IPython.core.display.HTML object>"
      ]
     },
     "metadata": {},
     "output_type": "display_data"
    }
   ],
   "source": [
    "from IPython.core.display import display, HTML\n",
    "display(HTML(\"<style>.container { width:100% !important; }</style>\"))"
   ]
  },
  {
   "cell_type": "code",
   "execution_count": 10,
   "metadata": {},
   "outputs": [],
   "source": [
    "import numpy as np\n",
    "from collections import namedtuple\n",
    "import matplotlib.pyplot as plt\n",
    "import pickle"
   ]
  },
  {
   "cell_type": "code",
   "execution_count": 3,
   "metadata": {},
   "outputs": [],
   "source": [
    "Walk = namedtuple('Walk', ['Route','Reward'])\n",
    "np.random.seed =1\n",
    "\n",
    "class walkGenerator:\n",
    "    def __init__(self):\n",
    "        \n",
    "        #Dictionary to encode state position to a vector\n",
    "        self.state_arrays = {\n",
    "                'A':np.array([1,0,0,0,0,0,0]),\n",
    "                'B':np.array([0,1,0,0,0,0,0]),\n",
    "                'C':np.array([0,0,1,0,0,0,0]),\n",
    "                'D':np.array([0,0,0,1,0,0,0]),\n",
    "                'E':np.array([0,0,0,0,1,0,0]),\n",
    "                'F':np.array([0,0,0,0,0,1,0]),\n",
    "                'G':np.array([0,0,0,0,0,0,1])\n",
    "               }\n",
    "        #Possible states\n",
    "        self.states = ('A','B','C','D','E','F','G')\n",
    "\n",
    "        #state 0 (A) has a reward of 0\n",
    "        #state 6 (G) has a reward of 1\n",
    "        self.rewards = {0:0, 6:1}\n",
    "\n",
    "\n",
    "        #End at state A or G\n",
    "        self.terminal_states = (0,6)\n",
    "        \n",
    "    def take_a_walk(self):\n",
    "        #initialize empty array to hold the walk progression\n",
    "        walk = []\n",
    "        #rewards for the walk\n",
    "        r = []\n",
    "        #Always start at position 3 (D)\n",
    "        current_state = 3\n",
    "        \n",
    "        while True:\n",
    "            #add initial state to walk\n",
    "            walk.append(self.states[current_state])\n",
    "\n",
    "            #take a random left or right walk\n",
    "            action = np.random.choice([-1,1], p=[0.5,0.5])\n",
    "\n",
    "            #update state position\n",
    "            current_state = current_state + action\n",
    "\n",
    "            #check for terminal state\n",
    "            if current_state in self.terminal_states:\n",
    "                walk.append(self.states[current_state])\n",
    "                r.append(self.rewards[current_state])\n",
    "                break\n",
    "            else:\n",
    "                r.append(0)\n",
    "                \n",
    "        state_matrix = []\n",
    "\n",
    "        for position in walk:\n",
    "            state_matrix.append(self.state_arrays[position])\n",
    "\n",
    "        state_matrix = np.array(state_matrix)\n",
    "        \n",
    "        return Walk(state_matrix, r)\n",
    "    \n",
    "    def generate_training_sets(self, num_samples, sequences_per_sample):\n",
    "        assert isinstance(num_samples, int), 'num_samples param must be integer'\n",
    "        assert num_samples > 0, 'num_samples param must be greater than 0'\n",
    "        assert isinstance(sequences_per_sample, int), 'sequences_per_sample param must be integer'\n",
    "        assert sequences_per_sample > 0, 'sequences_per_sample param must be greater than 0'\n",
    "        \n",
    "        training_sets = []\n",
    "        for i in range(num_samples):\n",
    "            current_set = []\n",
    "            for j in range(sequences_per_sample):\n",
    "                \n",
    "                walk = self.take_a_walk()\n",
    "                current_set.append(walk)\n",
    "                \n",
    "            training_sets.append(current_set)\n",
    "        return training_sets"
   ]
  },
  {
   "cell_type": "code",
   "execution_count": null,
   "metadata": {},
   "outputs": [],
   "source": []
  },
  {
   "cell_type": "code",
   "execution_count": null,
   "metadata": {},
   "outputs": [],
   "source": []
  },
  {
   "cell_type": "code",
   "execution_count": null,
   "metadata": {},
   "outputs": [],
   "source": []
  },
  {
   "cell_type": "code",
   "execution_count": 4,
   "metadata": {},
   "outputs": [],
   "source": [
    "generated_sets = walkGenerator().generate_training_sets(num_samples=100, sequences_per_sample=10)"
   ]
  },
  {
   "cell_type": "code",
   "execution_count": 12,
   "metadata": {},
   "outputs": [],
   "source": [
    "with open('training_set.pickle', 'wb') as file:\n",
    "    pickle.dump(generated_sets, file)"
   ]
  },
  {
   "cell_type": "code",
   "execution_count": 13,
   "metadata": {},
   "outputs": [],
   "source": [
    "with open('training_set.pickle', 'rb') as file:\n",
    "    generated_sets = pickle.load(file)"
   ]
  },
  {
   "cell_type": "code",
   "execution_count": 15,
   "metadata": {},
   "outputs": [],
   "source": [
    "def td_lambda(training_set, lamda, gamma):\n",
    "    alphas=[0.0, 0.1, 0.15, 0.2, 0.25, 0.3, 0.35, 0.4, 0.45, 0.5, 0.55, 0.6]\n",
    "    ideal = np.array([(1.0/6.0, (1.0/3.0), (1.0/2.0), (2.0/3.0), (5.0/6.0))])\n",
    "\n",
    "\n",
    "    rmses = []\n",
    "    for alpha in alphas:\n",
    "\n",
    "        \n",
    "\n",
    "        state_weights = {0:[], 1:[], 2:[], 3:[], 4:[], 5:[], 6:[]}\n",
    "        values_per_seq = []\n",
    "        global_values = [0,0.5,0.5,0.5,0.5,0.5,0]\n",
    "\n",
    "\n",
    "\n",
    "\n",
    "\n",
    "        for sequence in training_set:\n",
    "\n",
    "            values = global_values.copy()\n",
    "            assert values == global_values, 'Initialization of state values is not feeding forward to the next episode'\n",
    "            eligibility = np.zeros(7)\n",
    "\n",
    "            walk = sequence.Route\n",
    "            rewards = sequence.Reward\n",
    "\n",
    "            for step in range(len(walk)-1):\n",
    "                state = np.argmax(walk[step])\n",
    "                transition = np.argmax(walk[step+1])\n",
    "                eligibility[state] +=1\n",
    "                update = rewards[step] + gamma*values[transition] - values[state]\n",
    "                for pos, val in enumerate(values):\n",
    "                    state_weights[pos].append( alpha * update * eligibility[pos] )\n",
    "                    eligibility[pos] = eligibility[pos] * lamda * gamma\n",
    "\n",
    "            for k in state_weights.keys():\n",
    "                weights_summed = np.sum(state_weights[k])\n",
    "                global_values[k] = global_values[k] + weights_summed\n",
    "            \n",
    "            state_weights = {0:[], 1:[], 2:[], 3:[], 4:[], 5:[], 6:[]}\n",
    "            \n",
    "        rmse = np.sqrt(np.mean((global_values[1:-1]-ideal)**2))\n",
    "        rmses.append(rmse)\n",
    "        \n",
    "            \n",
    "            \n",
    "            \n",
    "\n",
    "\n",
    "\n",
    "\n",
    "\n",
    "\n",
    "\n",
    "    return rmses"
   ]
  },
  {
   "cell_type": "code",
   "execution_count": 75,
   "metadata": {},
   "outputs": [],
   "source": [
    "\n",
    "\n",
    "\n",
    "test = [Walk(Route=np.array([[0, 0, 0, 1, 0, 0, 0],\n",
    "                    [0, 0, 1, 0, 0, 0, 0],\n",
    "                    [0, 1, 0, 0, 0, 0, 0],\n",
    "                    [0, 0, 1, 0, 0, 0, 0],\n",
    "                   \n",
    "                             [0, 0, 0, 1, 0, 0, 0],\n",
    "                    [0, 0, 0, 0, 1, 0, 0],\n",
    "                    [0, 0, 0, 0, 0, 1, 0],\n",
    "                    [0, 0, 0, 0, 0, 0, 1]\n",
    "                   ]), Reward=[0, 0, 0, 0, 0, 0, 1])]"
   ]
  },
  {
   "cell_type": "code",
   "execution_count": 76,
   "metadata": {},
   "outputs": [
    {
     "data": {
      "text/plain": [
       "[0.23570226039551584,\n",
       " 0.2204326895722578,\n",
       " 0.21335478545767186,\n",
       " 0.2066996593971655,\n",
       " 0.2005094132047284,\n",
       " 0.19482836355133215,\n",
       " 0.18970226297032108,\n",
       " 0.1851772037255582,\n",
       " 0.1812981959500926,\n",
       " 0.1781074557717468,\n",
       " 0.17564249662253303,\n",
       " 0.17393417809531733]"
      ]
     },
     "execution_count": 76,
     "metadata": {},
     "output_type": "execute_result"
    }
   ],
   "source": [
    "td_lambda(test, 0.3, gamma=1)"
   ]
  },
  {
   "cell_type": "code",
   "execution_count": 27,
   "metadata": {},
   "outputs": [],
   "source": [
    "zero = []\n",
    "three = []\n",
    "eight = []\n",
    "one = []\n",
    "\n",
    "for i in range(len(generated_sets)):\n",
    "    vs8 =td_lambda(generated_sets[i], lamda=0.8, gamma=1)\n",
    "    vs1 =td_lambda(generated_sets[i], lamda=1.0, gamma=1)\n",
    "    vs3 = td_lambda(generated_sets[i], lamda=0.3, gamma=1)\n",
    "    vs0 = td_lambda(generated_sets[i], lamda=0.0, gamma=1)\n",
    "    \n",
    "    eight.append(vs8)\n",
    "    one.append(vs1)\n",
    "    three.append(vs3)\n",
    "    zero.append(vs0)\n",
    "    \n",
    "# zero = np.mean(zero, axis=0)\n",
    "# three = np.mean(three, axis=0)\n",
    "# eight = np.mean(eight, axis=0)\n",
    "# one = np.mean(one, axis=0)"
   ]
  },
  {
   "cell_type": "code",
   "execution_count": 30,
   "metadata": {},
   "outputs": [
    {
     "data": {
      "text/plain": [
       "array([4.44089210e-17, 9.42118881e-04, 1.94941463e-03, 3.14369468e-03,\n",
       "       4.53391204e-03, 6.98581095e-03, 1.37816624e-02, 3.30454631e-02,\n",
       "       8.12638015e-02, 1.95258930e-01, 4.73391380e-01, 1.16219493e+00])"
      ]
     },
     "execution_count": 30,
     "metadata": {},
     "output_type": "execute_result"
    }
   ],
   "source": [
    "np.array(zero).std(axis=0) / 10"
   ]
  },
  {
   "cell_type": "code",
   "execution_count": 17,
   "metadata": {},
   "outputs": [],
   "source": [
    "alphas = [0.0, 0.1, 0.15, 0.2, 0.25, 0.3, 0.35, 0.4, 0.45, 0.5, 0.55, 0.6]"
   ]
  },
  {
   "cell_type": "code",
   "execution_count": 18,
   "metadata": {},
   "outputs": [
    {
     "data": {
      "image/png": "[encoded data removed]",
      "text/plain": [
       "<Figure size 1080x576 with 1 Axes>"
      ]
     },
     "metadata": {
      "needs_background": "light"
     },
     "output_type": "display_data"
    }
   ],
   "source": [
    "plt.figure(figsize=(15,8))\n",
    "plt.plot(alphas, zero, color='red', marker='*', label = '0.0')\n",
    "plt.plot(alphas, three, color='green', marker='*', label = '0.3')\n",
    "plt.plot(alphas, eight, color='blue', marker='*', label= '0.8')\n",
    "plt.plot(alphas, one, color='orange', marker='*', label='1.0')\n",
    "plt.ylim(0,1.0)\n",
    "plt.legend()\n",
    "plt.show()"
   ]
  },
  {
   "cell_type": "code",
   "execution_count": 7,
   "metadata": {},
   "outputs": [],
   "source": []
  },
  {
   "cell_type": "code",
   "execution_count": null,
   "metadata": {},
   "outputs": [],
   "source": [
    "vs0"
   ]
  },
  {
   "cell_type": "code",
   "execution_count": 5,
   "metadata": {},
   "outputs": [],
   "source": [
    "def experiment_1(training_set, alpha, gamma=1):\n",
    "    lamdas=[0.0, 0.1,0.2,0.3,0.4,0.5,0.6,0.7,0.8,0.9,1.0]\n",
    "    ideal = np.array([(1.0/6.0, (1.0/3.0), (1.0/2.0), (2.0/3.0), (5.0/6.0))], dtype='float64')\n",
    "\n",
    "\n",
    "    rmses =[]\n",
    "    for lamda in lamdas:\n",
    "\n",
    "        \n",
    "\n",
    "        \n",
    "\n",
    "        global_values = np.zeros(7, dtype='float64')\n",
    "        temp_global_values = np.zeros(7, dtype='float64')\n",
    "        converged = False\n",
    "\n",
    "        while not converged:\n",
    "\n",
    "            state_weights = {0:[], 1:[], 2:[], 3:[], 4:[], 5:[], 6:[]}\n",
    "\n",
    "            for sequence in training_set:\n",
    "\n",
    "                values = global_values.copy()\n",
    "\n",
    "                eligibility = np.zeros(7, dtype='float64')\n",
    "\n",
    "                walk = sequence.Route\n",
    "                rewards = sequence.Reward\n",
    "\n",
    "                for step in range(len(walk)-1):\n",
    "                    state = np.argmax(walk[step])\n",
    "                    transition = np.argmax(walk[step+1])\n",
    "                    eligibility[state] +=1\n",
    "                    update = rewards[step] + (gamma*values[transition] - values[state])\n",
    "                    for pos, val in enumerate(values):\n",
    "                        state_weights[pos].append(alpha * update * eligibility[pos])\n",
    "                        eligibility[pos] = eligibility[pos] * lamda * gamma\n",
    "\n",
    "\n",
    "            for key, values in state_weights.items():\n",
    "\n",
    "                summed_weights = np.sum(values)\n",
    "                temp_global_values[key] = temp_global_values[key] + summed_weights\n",
    "              \n",
    "            diff = np.abs(temp_global_values - global_values)\n",
    "\n",
    "            if all(diff <= 0.001):\n",
    "                converged = True\n",
    "            global_values = temp_global_values.copy()\n",
    "\n",
    "        rmse = np.sqrt(np.mean((global_values[1:-1]-ideal)**2, dtype='float64'))\n",
    "\n",
    "        rmses.append(rmse)\n",
    "    return(rmses)"
   ]
  },
  {
   "cell_type": "code",
   "execution_count": 6,
   "metadata": {},
   "outputs": [],
   "source": [
    "rmse = []\n",
    "for i in range(100):\n",
    "\n",
    "    r = experiment_1(generated_sets[i], alpha=0.01)\n",
    "    \n",
    "    rmse.append(r)"
   ]
  },
  {
   "cell_type": "code",
   "execution_count": null,
   "metadata": {},
   "outputs": [],
   "source": []
  },
  {
   "cell_type": "code",
   "execution_count": null,
   "metadata": {},
   "outputs": [],
   "source": []
  },
  {
   "cell_type": "code",
   "execution_count": 7,
   "metadata": {},
   "outputs": [],
   "source": [
    "r = np.mean(rmse, axis=0)"
   ]
  },
  {
   "cell_type": "code",
   "execution_count": 8,
   "metadata": {},
   "outputs": [
    {
     "data": {
      "image/png": "[encoded data removed]",
      "text/plain": [
       "<Figure size 432x288 with 1 Axes>"
      ]
     },
     "metadata": {
      "needs_background": "light"
     },
     "output_type": "display_data"
    }
   ],
   "source": [
    "plt.figure()\n",
    "plt.plot([0.0, 0.1,0.2,0.3,0.4,0.5,0.6,0.7,0.8,0.9,1.0], r, marker='o')\n",
    "plt.show()"
   ]
  },
  {
   "cell_type": "code",
   "execution_count": null,
   "metadata": {},
   "outputs": [],
   "source": []
  }
 ],
 "metadata": {
  "kernelspec": {
   "display_name": "Python 3",
   "language": "python",
   "name": "python3"
  },
  "language_info": {
   "codemirror_mode": {
    "name": "ipython",
    "version": 3
   },
   "file_extension": ".py",
   "mimetype": "text/x-python",
   "name": "python",
   "nbconvert_exporter": "python",
   "pygments_lexer": "ipython3",
   "version": "3.7.4"
  }
 },
 "nbformat": 4,
 "nbformat_minor": 2
}

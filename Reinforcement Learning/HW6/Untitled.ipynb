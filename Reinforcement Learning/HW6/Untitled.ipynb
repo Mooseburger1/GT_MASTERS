{
 "cells": [
  {
   "cell_type": "code",
   "execution_count": 2,
   "metadata": {},
   "outputs": [],
   "source": [
    "from cvxopt import matrix, solvers"
   ]
  },
  {
   "cell_type": "code",
   "execution_count": 3,
   "metadata": {},
   "outputs": [],
   "source": [
    "A = matrix([ [-1.0, -1.0, 0.0, 1.0], [1.0, -1.0, -1.0, -2.0] ])\n",
    "b = matrix([ 1.0, -2.0, 0.0, 4.0 ])\n",
    "c = matrix([ 2.0, 1.0 ])"
   ]
  },
  {
   "cell_type": "code",
   "execution_count": 5,
   "metadata": {},
   "outputs": [
    {
     "name": "stdout",
     "output_type": "stream",
     "text": [
      "     pcost       dcost       gap    pres   dres   k/t\n",
      " 0:  2.6471e+00 -7.0588e-01  2e+01  8e-01  2e+00  1e+00\n",
      " 1:  3.0726e+00  2.8437e+00  1e+00  1e-01  2e-01  3e-01\n",
      " 2:  2.4891e+00  2.4808e+00  1e-01  1e-02  2e-02  5e-02\n",
      " 3:  2.4999e+00  2.4998e+00  1e-03  1e-04  2e-04  5e-04\n",
      " 4:  2.5000e+00  2.5000e+00  1e-05  1e-06  2e-06  5e-06\n",
      " 5:  2.5000e+00  2.5000e+00  1e-07  1e-08  2e-08  5e-08\n",
      "Optimal solution found.\n"
     ]
    }
   ],
   "source": [
    "sol = solvers.lp(c,A,b)"
   ]
  },
  {
   "cell_type": "code",
   "execution_count": 6,
   "metadata": {},
   "outputs": [
    {
     "data": {
      "text/plain": [
       "{'x': <2x1 matrix, tc='d'>,\n",
       " 'y': <0x1 matrix, tc='d'>,\n",
       " 's': <4x1 matrix, tc='d'>,\n",
       " 'z': <4x1 matrix, tc='d'>,\n",
       " 'status': 'optimal',\n",
       " 'gap': 1.3974945737537904e-07,\n",
       " 'relative gap': 5.589978335863919e-08,\n",
       " 'primal objective': 2.499999989554308,\n",
       " 'dual objective': 2.4999999817312544,\n",
       " 'primal infeasibility': 1.1368786496881938e-08,\n",
       " 'dual infeasibility': 2.2578790069187308e-08,\n",
       " 'primal slack': 2.0388399547194678e-08,\n",
       " 'dual slack': 3.529915972560751e-09,\n",
       " 'residual as primal infeasibility certificate': None,\n",
       " 'residual as dual infeasibility certificate': None,\n",
       " 'iterations': 5}"
      ]
     },
     "execution_count": 6,
     "metadata": {},
     "output_type": "execute_result"
    }
   ],
   "source": [
    "sol"
   ]
  },
  {
   "cell_type": "code",
   "execution_count": 8,
   "metadata": {},
   "outputs": [
    {
     "name": "stdout",
     "output_type": "stream",
     "text": [
      "[ 5.00e-01]\n",
      "[ 1.50e+00]\n",
      "\n"
     ]
    }
   ],
   "source": [
    "print(sol['x'])"
   ]
  },
  {
   "cell_type": "code",
   "execution_count": 9,
   "metadata": {},
   "outputs": [
    {
     "ename": "SyntaxError",
     "evalue": "invalid syntax (<ipython-input-9-6c281ba156eb>, line 1)",
     "output_type": "error",
     "traceback": [
      "\u001b[0;36m  File \u001b[0;32m\"<ipython-input-9-6c281ba156eb>\"\u001b[0;36m, line \u001b[0;32m1\u001b[0m\n\u001b[0;31m    ]]\u001b[0m\n\u001b[0m    ^\u001b[0m\n\u001b[0;31mSyntaxError\u001b[0m\u001b[0;31m:\u001b[0m invalid syntax\n"
     ]
    }
   ],
   "source": [
    "]]\n"
   ]
  },
  {
   "cell_type": "code",
   "execution_count": 10,
   "metadata": {},
   "outputs": [
    {
     "ename": "SyntaxError",
     "evalue": "invalid syntax (<ipython-input-10-dfc64d935ff0>, line 1)",
     "output_type": "error",
     "traceback": [
      "\u001b[0;36m  File \u001b[0;32m\"<ipython-input-10-dfc64d935ff0>\"\u001b[0;36m, line \u001b[0;32m1\u001b[0m\n\u001b[0;31m    :::\u001b[0m\n\u001b[0m    ^\u001b[0m\n\u001b[0;31mSyntaxError\u001b[0m\u001b[0;31m:\u001b[0m invalid syntax\n"
     ]
    }
   ],
   "source": [
    ":::"
   ]
  },
  {
   "cell_type": "code",
   "execution_count": 13,
   "metadata": {},
   "outputs": [
    {
     "name": "stdout",
     "output_type": "stream",
     "text": [
      "[ 1.00e+00  0.00e+00  2.00e+00 -1.00e+00]\n",
      "[ 1.00e+00 -2.00e+00  0.00e+00  1.00e+00]\n",
      "[ 1.00e+00  1.00e+00 -1.00e+00  0.00e+00]\n",
      "[ 0.00e+00  1.00e+00  1.00e+00  1.00e+00]\n",
      "[ 0.00e+00 -1.00e+00 -1.00e+00 -1.00e+00]\n",
      "\n",
      "     pcost       dcost       gap    pres   dres   k/t\n",
      " 0: -3.2049e-17 -0.0000e+00  6e+00  2e+00  3e+00  1e+00\n",
      " 1:  7.5246e-02 -0.0000e+00  3e-01  1e-01  3e-01  5e-03\n",
      " 2:  4.5403e-04 -8.9344e-17  2e-03  2e-03  4e-03  6e-04\n",
      " 3:  4.5292e-06  4.4565e-16  2e-05  2e-05  4e-05  6e-06\n",
      " 4:  4.5291e-08 -1.7826e-16  2e-07  2e-07  4e-07  6e-08\n",
      " 5:  4.5291e-10 -0.0000e+00  2e-09  2e-09  4e-09  6e-10\n",
      "Optimal solution found.\n",
      "{'x': <4x1 matrix, tc='d'>, 'y': <0x1 matrix, tc='d'>, 's': <5x1 matrix, tc='d'>, 'z': <5x1 matrix, tc='d'>, 'status': 'optimal', 'gap': 2.3988048238090828e-09, 'relative gap': None, 'primal objective': 4.5290833477243596e-10, 'dual objective': -0.0, 'primal infeasibility': 1.7000651938232701e-09, 'dual infeasibility': 3.566086679408275e-09, 'primal slack': 1.075215607005877e-09, 'dual slack': 0.25000000107521547, 'residual as primal infeasibility certificate': None, 'residual as dual infeasibility certificate': None, 'iterations': 5}\n",
      "[-4.53e-10]\n",
      "[ 2.50e-01]\n",
      "[ 2.50e-01]\n",
      "[ 5.00e-01]\n",
      "\n"
     ]
    }
   ],
   "source": [
    "testA = matrix([[1.0, 0.0, 2.0, -1.0],\n",
    "                [1.0,-2.0,0.0,1.0],\n",
    "                [1.0,1.0,-1.0,0.0],\n",
    "                [0.0,1.0,1.0,1.0],\n",
    "                [0.0,-1.0,-1.0,-1.0]])\n",
    "\n",
    "testb = matrix([0.0,0.0,0.0,1.0,-1.0])\n",
    "\n",
    "testc = matrix([-1.0,0.0,0.0,0.0])\n",
    "\n",
    "\n",
    "\n",
    "print(testA.T)\n",
    "\n",
    "\n",
    "\n",
    "test_sol = solvers.lp(testc,testA.T,testb)\n",
    "\n",
    "print(test_sol)\n",
    "\n",
    "print(test_sol['x'])\n",
    "\n",
    "\n",
    "\n",
    "# testA = matrix([[1.0, 0.0, -1.0, 2.95],[1.0,1.0,0.0,-0.64],[1.0,-2.95,0.64,0.0],[0.0,1.0,1.0,1.0],[0.0,-1.0,-1.0,-1.0]])\n",
    "\n",
    "# testb = matrix([0.0,0.0,0.0,1.0,-1.0])\n",
    "\n",
    "# testc = matrix([-1.0,0.0,0.0,0.0])\n",
    "\n",
    "\n",
    "# print(testA.T)\n",
    "\n",
    "\n",
    "\n",
    "# test_sol = solvers.lp(testc,testA.T,testb)\n",
    "\n",
    "# print(test_sol)\n",
    "\n",
    "# print(test_sol['x'])\n"
   ]
  },
  {
   "cell_type": "code",
   "execution_count": null,
   "metadata": {},
   "outputs": [],
   "source": []
  }
 ],
 "metadata": {
  "kernelspec": {
   "display_name": "Python 3",
   "language": "python",
   "name": "python3"
  },
  "language_info": {
   "codemirror_mode": {
    "name": "ipython",
    "version": 3
   },
   "file_extension": ".py",
   "mimetype": "text/x-python",
   "name": "python",
   "nbconvert_exporter": "python",
   "pygments_lexer": "ipython3",
   "version": "3.7.4"
  }
 },
 "nbformat": 4,
 "nbformat_minor": 2
}

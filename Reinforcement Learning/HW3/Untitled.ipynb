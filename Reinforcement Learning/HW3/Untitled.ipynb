{
 "cells": [
  {
   "cell_type": "code",
   "execution_count": 1,
   "metadata": {},
   "outputs": [],
   "source": [
    "import gym\n",
    "import numpy as np"
   ]
  },
  {
   "cell_type": "code",
   "execution_count": 2,
   "metadata": {},
   "outputs": [],
   "source": [
    "def max_dict(d):\n",
    "  # returns the argmax (key) and max (value) from a dictionary\n",
    "  # put this into a function since we are using it so often\n",
    "    max_key = None\n",
    "    max_val = float('-inf')\n",
    "    for k, v in d.items():\n",
    "        if v > max_val:\n",
    "            max_val = v\n",
    "            max_key = k\n",
    "    return max_key, max_val"
   ]
  },
  {
   "cell_type": "code",
   "execution_count": 36,
   "metadata": {},
   "outputs": [],
   "source": [
    "def random_action(a, eps=0.1):\n",
    "  # we'll use epsilon-soft to ensure all states are visited\n",
    "  # what happens if you don't do this? i.e. eps=0\n",
    "    p = np.random.random()\n",
    "    if p < (1 - eps):\n",
    "        return a\n",
    "    else:\n",
    "        return np.random.randint(low=0, high=4)"
   ]
  },
  {
   "cell_type": "code",
   "execution_count": 3,
   "metadata": {},
   "outputs": [],
   "source": [
    "MAX_ITERATIONS = 14697"
   ]
  },
  {
   "cell_type": "code",
   "execution_count": 4,
   "metadata": {},
   "outputs": [],
   "source": [
    "GAMMA = 1.0\n",
    "ALPHA = 0.25\n",
    "EPSILON = 0.29"
   ]
  },
  {
   "cell_type": "code",
   "execution_count": 5,
   "metadata": {},
   "outputs": [],
   "source": [
    "custom_map = 'SFFFHFFFFFFFFFFG'"
   ]
  },
  {
   "cell_type": "code",
   "execution_count": 7,
   "metadata": {},
   "outputs": [],
   "source": [
    "MAP_ = np.array([x for x in custom_map])\n",
    "reshape = int(np.sqrt(len(MAP_)))\n",
    "MAP_ = MAP_.reshape(reshape,-1)"
   ]
  },
  {
   "cell_type": "code",
   "execution_count": 91,
   "metadata": {},
   "outputs": [
    {
     "name": "stdout",
     "output_type": "stream",
     "text": [
      "\n",
      "\u001b[41mS\u001b[0mFFF\n",
      "HFFF\n",
      "FFFF\n",
      "FFFG\n"
     ]
    }
   ],
   "source": [
    "env = gym.make('FrozenLake-v0', desc=MAP_).unwrapped\n",
    "np.random.seed = 741684\n",
    "env.seed(741684)\n",
    "\n",
    "env.reset()\n",
    "env.render()"
   ]
  },
  {
   "cell_type": "code",
   "execution_count": 92,
   "metadata": {},
   "outputs": [],
   "source": [
    "#initialze Q\n",
    "Q = {}\n",
    "num_states = env.observation_space.n\n",
    "num_actions = env.action_space.n\n",
    "\n",
    "for s in range(num_states):\n",
    "    Q[s] = {}\n",
    "    for a in range(num_actions):\n",
    "        Q[s][a] = 0\n",
    "        "
   ]
  },
  {
   "cell_type": "code",
   "execution_count": 93,
   "metadata": {},
   "outputs": [],
   "source": [
    "#keep track of how many times Q[s] has been updated\n",
    "update_counts = {}\n",
    "update_counts_sa = {}\n",
    "for s in range(num_states):\n",
    "    update_counts_sa[s] = {}\n",
    "    for a in range(num_actions):\n",
    "        update_counts_sa[s][a] = 1.0"
   ]
  },
  {
   "cell_type": "code",
   "execution_count": 98,
   "metadata": {},
   "outputs": [],
   "source": [
    "\n",
    "\n",
    "for it in range(MAX_ITERATIONS):\n",
    "    env.reset()\n",
    "    done=0  \n",
    "    s = env.s\n",
    "    a = max_dict(Q[s])[0]\n",
    "    a = random_action(a, eps=EPSILON)\n",
    "    biggest_change = 0\n",
    "    while not done:\n",
    "        s2, r, done, info = env.step(a)\n",
    "\n",
    "        a2 = max_dict(Q[s2])[0]\n",
    "        a2 = random_action(a2, eps=EPSILON)\n",
    "        \n",
    "        Q[s][a] = Q[s][a] + ALPHA * (r + GAMMA * Q[s2][a2] - Q[s][a])\n",
    "        \n",
    "        s = s2\n",
    "        a = a2\n"
   ]
  },
  {
   "cell_type": "code",
   "execution_count": 28,
   "metadata": {},
   "outputs": [],
   "source": [
    "random_action = env.action_space.sample()\n",
    "new_state, reward, done, info = env.step(\n",
    "       random_action)"
   ]
  },
  {
   "cell_type": "code",
   "execution_count": 34,
   "metadata": {},
   "outputs": [
    {
     "data": {
      "text/plain": [
       "0"
      ]
     },
     "execution_count": 34,
     "metadata": {},
     "output_type": "execute_result"
    }
   ],
   "source": [
    "max_dict(Q[env.s])[0]"
   ]
  },
  {
   "cell_type": "code",
   "execution_count": 35,
   "metadata": {},
   "outputs": [
    {
     "data": {
      "text/plain": [
       "2"
      ]
     },
     "execution_count": 35,
     "metadata": {},
     "output_type": "execute_result"
    }
   ],
   "source": [
    "random_action"
   ]
  },
  {
   "cell_type": "code",
   "execution_count": 61,
   "metadata": {},
   "outputs": [
    {
     "data": {
      "text/plain": [
       "0"
      ]
     },
     "execution_count": 61,
     "metadata": {},
     "output_type": "execute_result"
    }
   ],
   "source": [
    "env.reset()"
   ]
  },
  {
   "cell_type": "code",
   "execution_count": 99,
   "metadata": {},
   "outputs": [
    {
     "data": {
      "text/plain": [
       "{0: {0: 0.33329299898492787,\n",
       "  1: 0.23127878891134127,\n",
       "  2: 0.4046395545194827,\n",
       "  3: 0.7199106849260213},\n",
       " 1: {0: 0.7794488656165617,\n",
       "  1: 0.5968637371582065,\n",
       "  2: 0.8679349096656607,\n",
       "  3: 0.7273902570186682},\n",
       " 2: {0: 0.8142294048612919,\n",
       "  1: 0.8439641654198022,\n",
       "  2: 0.914729718331888,\n",
       "  3: 0.8472969786042144},\n",
       " 3: {0: 0.8945322642247748,\n",
       "  1: 0.9148311974216778,\n",
       "  2: 0.921161192191519,\n",
       "  3: 0.9074870231344023},\n",
       " 4: {0: 0.0, 1: 0.0, 2: 0.0, 3: 0.0},\n",
       " 5: {0: 0.694867685707787,\n",
       "  1: 0.5776373340166782,\n",
       "  2: 0.8776099251814813,\n",
       "  3: 0.5145481134839767},\n",
       " 6: {0: 0.8584575603577965,\n",
       "  1: 0.8436193666474827,\n",
       "  2: 0.9051326135169104,\n",
       "  3: 0.8704508248525646},\n",
       " 7: {0: 0.8989775571296151,\n",
       "  1: 0.911898125098009,\n",
       "  2: 0.9389210478449557,\n",
       "  3: 0.8958441126385285},\n",
       " 8: {0: 0.5664853717143907,\n",
       "  1: 0.8468802035404809,\n",
       "  2: 0.16235630349741326,\n",
       "  3: 0.44633344021551663},\n",
       " 9: {0: 0.7478711677723533,\n",
       "  1: 0.8198371149293162,\n",
       "  2: 0.8985117252907524,\n",
       "  3: 0.8164494635999742},\n",
       " 10: {0: 0.871740281380424,\n",
       "  1: 0.9045618805597276,\n",
       "  2: 0.9473959704172323,\n",
       "  3: 0.8980486718057856},\n",
       " 11: {0: 0.9282662801902327,\n",
       "  1: 0.9360589226241672,\n",
       "  2: 0.9694121745967431,\n",
       "  3: 0.933337115873196},\n",
       " 12: {0: 0.7688450494679935,\n",
       "  1: 0.831903390027634,\n",
       "  2: 0.784110834962929,\n",
       "  3: 0.8577345727025215},\n",
       " 13: {0: 0.8781099981425544,\n",
       "  1: 0.9205567953533637,\n",
       "  2: 0.8841242797890108,\n",
       "  3: 0.8957067690277957},\n",
       " 14: {0: 0.9361621619733091,\n",
       "  1: 0.9419051112471958,\n",
       "  2: 0.9789529509249297,\n",
       "  3: 0.9513196494574657},\n",
       " 15: {0: 0, 1: 0, 2: 0, 3: 0}}"
      ]
     },
     "execution_count": 99,
     "metadata": {},
     "output_type": "execute_result"
    }
   ],
   "source": [
    "Q"
   ]
  },
  {
   "cell_type": "code",
   "execution_count": 54,
   "metadata": {},
   "outputs": [
    {
     "data": {
      "text/plain": [
       "{0: {0: 0, 1: 0, 2: 0, 3: 0},\n",
       " 1: {0: 0, 1: 0, 2: 0, 3: 0},\n",
       " 2: {0: 0, 1: 0, 2: 0, 3: 0},\n",
       " 3: {0: 0, 1: 0, 2: 0, 3: 0},\n",
       " 4: {0: 0.0, 1: 0.0, 2: 0.0, 3: 0.0},\n",
       " 5: {0: 0.0, 1: 0, 2: 0, 3: 0},\n",
       " 6: {0: 0, 1: 0, 2: 0, 3: 0},\n",
       " 7: {0: 0, 1: 0, 2: 0, 3: 0},\n",
       " 8: {0: 0, 1: 0, 2: 0, 3: 0},\n",
       " 9: {0: 0, 1: 0, 2: 0, 3: 0},\n",
       " 10: {0: 0, 1: 0, 2: 0, 3: 0},\n",
       " 11: {0: 0, 1: 0, 2: 0, 3: 0},\n",
       " 12: {0: 0, 1: 0, 2: 0, 3: 0},\n",
       " 13: {0: 0, 1: 0, 2: 0, 3: 0},\n",
       " 14: {0: 0, 1: 0, 2: 0, 3: 0},\n",
       " 15: {0: 0, 1: 0, 2: 0, 3: 0}}"
      ]
     },
     "execution_count": 54,
     "metadata": {},
     "output_type": "execute_result"
    }
   ],
   "source": [
    "LEFT = 0\n",
    "DOWN = 1\n",
    "RIGHT = 2\n",
    "UP = 3"
   ]
  },
  {
   "cell_type": "code",
   "execution_count": 100,
   "metadata": {},
   "outputs": [],
   "source": [
    "actions = {0: '<', 1:'∨', 2:'>', 3:'∧'}"
   ]
  },
  {
   "cell_type": "code",
   "execution_count": null,
   "metadata": {},
   "outputs": [],
   "source": []
  }
 ],
 "metadata": {
  "kernelspec": {
   "display_name": "Python 3",
   "language": "python",
   "name": "python3"
  },
  "language_info": {
   "codemirror_mode": {
    "name": "ipython",
    "version": 3
   },
   "file_extension": ".py",
   "mimetype": "text/x-python",
   "name": "python",
   "nbconvert_exporter": "python",
   "pygments_lexer": "ipython3",
   "version": "3.7.4"
  }
 },
 "nbformat": 4,
 "nbformat_minor": 2
}

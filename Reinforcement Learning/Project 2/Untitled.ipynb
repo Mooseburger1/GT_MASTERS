{
 "cells": [
  {
   "cell_type": "code",
   "execution_count": 25,
   "metadata": {},
   "outputs": [],
   "source": [
    "import tensorflow as tf\n",
    "import gym\n",
    "import random\n",
    "import numpy as np\n",
    "import gym\n",
    "import tensorflow as tf\n",
    "from tensorflow.keras import Sequential\n",
    "from tensorflow.keras.layers import Dense, Dropout, Conv2D, MaxPooling2D, Flatten\n",
    "from tensorflow.keras.optimizers import Adam\n",
    "from collections import deque\n",
    "import numpy as np\n",
    "import random\n",
    "import datetime"
   ]
  },
  {
   "cell_type": "code",
   "execution_count": 43,
   "metadata": {},
   "outputs": [],
   "source": [
    "\n",
    "REPLAY_MEMORY_SIZE = 50_000\n",
    "MIN_REPLAY_MEMORY_SIZE = 1_000\n",
    "MODEL_NAME = 'DENSE'\n",
    "ENV_OBSERVATION_SPACE = (8,1)\n",
    "ACTION_SPACE = 4"
   ]
  },
  {
   "cell_type": "code",
   "execution_count": 2,
   "metadata": {},
   "outputs": [],
   "source": [
    "env = gym.make('LunarLander-v2')"
   ]
  },
  {
   "cell_type": "code",
   "execution_count": 44,
   "metadata": {},
   "outputs": [],
   "source": [
    "model = Sequential()\n",
    "model.add(tf.keras.layers.Dense(units=28, activation='tanh', input_shape=ENV_OBSERVATION_SPACE))\n",
    "model.add(tf.keras.layers.Dense(units=56, activation='tanh'))\n",
    "model.add(tf.keras.layers.Dense(units=28, activation='tanh'))\n",
    "model.add(tf.keras.layers.Dense(units=ACTION_SPACE))\n",
    "\n",
    "model.compile(optimizer='adam', loss=tf.keras.losses.SparseCategoricalCrossentropy(from_logits=True), metrics=['accuracy'])\n"
   ]
  },
  {
   "cell_type": "code",
   "execution_count": 41,
   "metadata": {},
   "outputs": [
    {
     "name": "stdout",
     "output_type": "stream",
     "text": [
      "Model: \"sequential_4\"\n",
      "_________________________________________________________________\n",
      "Layer (type)                 Output Shape              Param #   \n",
      "=================================================================\n",
      "dense_10 (Dense)             (None, None, 8, 28)       56        \n",
      "_________________________________________________________________\n",
      "dense_11 (Dense)             (None, None, 8, 56)       1624      \n",
      "_________________________________________________________________\n",
      "dense_12 (Dense)             (None, None, 8, 28)       1596      \n",
      "_________________________________________________________________\n",
      "dense_13 (Dense)             (None, None, 8, 4)        116       \n",
      "=================================================================\n",
      "Total params: 3,392\n",
      "Trainable params: 3,392\n",
      "Non-trainable params: 0\n",
      "_________________________________________________________________\n"
     ]
    }
   ],
   "source": [
    "model.summary()"
   ]
  },
  {
   "cell_type": "code",
   "execution_count": 47,
   "metadata": {},
   "outputs": [
    {
     "data": {
      "text/plain": [
       "array([[ 0.13537371,  0.04993856,  0.01828731, -0.11634445],\n",
       "       [ 0.13537371,  0.04993856,  0.01828731, -0.11634445],\n",
       "       [ 0.13537371,  0.04993856,  0.01828731, -0.11634445],\n",
       "       [ 0.13537371,  0.04993856,  0.01828731, -0.11634445],\n",
       "       [ 0.13537371,  0.04993856,  0.01828731, -0.11634445],\n",
       "       [ 0.13537371,  0.04993856,  0.01828731, -0.11634445],\n",
       "       [ 0.13537371,  0.04993856,  0.01828731, -0.11634445],\n",
       "       [ 0.13537371,  0.04993856,  0.01828731, -0.11634445]],\n",
       "      dtype=float32)"
      ]
     },
     "execution_count": 47,
     "metadata": {},
     "output_type": "execute_result"
    }
   ],
   "source": [
    "model.predict((np.array([1.0,1.0,1.0,1.0,1.0,1.0,1.0,1.0]).reshape(1,8,1)))[0]"
   ]
  },
  {
   "cell_type": "code",
   "execution_count": 48,
   "metadata": {},
   "outputs": [
    {
     "data": {
      "text/plain": [
       "<tensorflow.python.keras.callbacks.TensorBoard at 0x7fa32454df90>"
      ]
     },
     "execution_count": 48,
     "metadata": {},
     "output_type": "execute_result"
    }
   ],
   "source": [
    "tf.keras.callbacks.TensorBoard()"
   ]
  },
  {
   "cell_type": "code",
   "execution_count": 54,
   "metadata": {},
   "outputs": [
    {
     "data": {
      "text/plain": [
       "(array([ 0.00731525,  1.3922826 ,  0.12332779, -0.20456259, -0.00831204,\n",
       "        -0.02761588,  0.        ,  0.        ], dtype=float32),\n",
       " -1.9186847219120011,\n",
       " False,\n",
       " {})"
      ]
     },
     "execution_count": 54,
     "metadata": {},
     "output_type": "execute_result"
    }
   ],
   "source": [
    "env.step(0)"
   ]
  },
  {
   "cell_type": "code",
   "execution_count": null,
   "metadata": {},
   "outputs": [],
   "source": []
  }
 ],
 "metadata": {
  "kernelspec": {
   "display_name": "Python 3.7.4 64-bit ('base': conda)",
   "language": "python",
   "name": "python37464bitbaseconda496e4f14cb09440c9a1e4075475d115c"
  },
  "language_info": {
   "codemirror_mode": {
    "name": "ipython",
    "version": 3
   },
   "file_extension": ".py",
   "mimetype": "text/x-python",
   "name": "python",
   "nbconvert_exporter": "python",
   "pygments_lexer": "ipython3",
   "version": "3.7.4"
  }
 },
 "nbformat": 4,
 "nbformat_minor": 4
}

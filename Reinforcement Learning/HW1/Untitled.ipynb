{
 "cells": [
  {
   "cell_type": "code",
   "execution_count": 6,
   "metadata": {},
   "outputs": [
    {
     "data": {
      "text/html": [
       "<style>.container { width:100% !important; }</style>"
      ],
      "text/plain": [
       "<IPython.core.display.HTML object>"
      ]
     },
     "metadata": {},
     "output_type": "display_data"
    }
   ],
   "source": [
    "from IPython.core.display import display, HTML\n",
    "display(HTML(\"<style>.container { width:100% !important; }</style>\"))"
   ]
  },
  {
   "cell_type": "code",
   "execution_count": 1,
   "metadata": {},
   "outputs": [],
   "source": [
    "import mdptoolbox\n",
    "import numpy as np"
   ]
  },
  {
   "cell_type": "code",
   "execution_count": 5,
   "metadata": {},
   "outputs": [
    {
     "data": {
      "text/plain": [
       "array([[0., 0., 0., 0., 0., 0., 0., 0., 0., 0., 0., 0.],\n",
       "       [0., 0., 0., 0., 0., 0., 0., 0., 0., 0., 0., 0.],\n",
       "       [0., 0., 0., 0., 0., 0., 0., 0., 0., 0., 0., 0.],\n",
       "       [0., 0., 0., 0., 0., 0., 0., 0., 0., 0., 0., 0.],\n",
       "       [0., 0., 0., 0., 0., 0., 0., 0., 0., 0., 0., 0.],\n",
       "       [0., 0., 0., 0., 0., 0., 0., 0., 0., 0., 0., 0.],\n",
       "       [0., 0., 0., 0., 0., 0., 0., 0., 0., 0., 0., 0.],\n",
       "       [0., 0., 0., 0., 0., 0., 0., 0., 0., 0., 0., 0.],\n",
       "       [0., 0., 0., 0., 0., 0., 0., 0., 0., 0., 0., 0.],\n",
       "       [0., 0., 0., 0., 0., 0., 0., 0., 0., 0., 0., 0.],\n",
       "       [0., 0., 0., 0., 0., 0., 0., 0., 0., 0., 0., 0.],\n",
       "       [0., 0., 0., 0., 0., 0., 0., 0., 0., 0., 0., 0.]])"
      ]
     },
     "execution_count": 5,
     "metadata": {},
     "output_type": "execute_result"
    }
   ],
   "source": [
    "N = 2\n",
    "\n",
    "#N*(number of spawns) + 1\n",
    "init = np.zeros((21,21))\n",
    "init"
   ]
  },
  {
   "cell_type": "code",
   "execution_count": 19,
   "metadata": {},
   "outputs": [],
   "source": [
    "goodp = (1.0/6.0)\n",
    "badp = 0.5"
   ]
  },
  {
   "cell_type": "code",
   "execution_count": null,
   "metadata": {},
   "outputs": [],
   "source": [
    "s0 = s1\n",
    "s1 = s1\n",
    "s2 = s2\n",
    "s3 = s6\n",
    "s4 = s7\n",
    "s5 = s8\n",
    "s9 = s9\n",
    "s10 = s10\n",
    "s11 = s11\n",
    "s12 = s21\n",
    "s13 = s22\n",
    "s14 = s23\n",
    "s15 = s24\n",
    "s16 = s25\n",
    "s17 = s26\n",
    "s18 = s27\n",
    "s19 = s28\n",
    "s20 = s29\n",
    "s21 = s21\n",
    "s22 = s22\n",
    "s23 = s23\n",
    "s24 = s24\n",
    "s25 = s25\n",
    "s26 = s26\n",
    "s27 = s27\n",
    "s28 = s28\n",
    "s29 = s29"
   ]
  },
  {
   "cell_type": "code",
   "execution_count": 26,
   "metadata": {},
   "outputs": [],
   "source": [
    "prob = np.zeros((2,30,30))"
   ]
  },
  {
   "cell_type": "code",
   "execution_count": 27,
   "metadata": {},
   "outputs": [],
   "source": [
    "prob[0][0][1] = 1.0\n",
    "prob[0][1][1] = 1.0\n",
    "prob[0][2][2] = 1.0\n",
    "prob[0][3][6] = 1.0\n",
    "prob[0][4][7] = 1.0\n",
    "prob[0][5][8] = 1.0\n",
    "prob[0][6][6] = 1.0\n",
    "prob[0][7][7] = 1.0\n",
    "prob[0][8][8] = 1.0\n",
    "prob[0][9][9] = 1.0\n",
    "prob[0][10][10] = 1.0\n",
    "prob[0][11][11] = 1.0\n",
    "prob[0][12][21] = 1.0\n",
    "prob[0][13][22] = 1.0\n",
    "prob[0][14][23] = 1.0\n",
    "prob[0][15][24] = 1.0\n",
    "prob[0][16][25] = 1.0\n",
    "prob[0][17][26] = 1.0\n",
    "prob[0][18][27] = 1.0\n",
    "prob[0][19][28] = 1.0\n",
    "prob[0][20][29] = 1.0\n",
    "prob[0][21][21] = 1.0\n",
    "prob[0][22][22] = 1.0\n",
    "prob[0][23][23] = 1.0\n",
    "prob[0][24][24] = 1.0\n",
    "prob[0][25][25] = 1.0\n",
    "prob[0][26][26] = 1.0\n",
    "prob[0][27][27] = 1.0\n",
    "prob[0][28][28] = 1.0\n",
    "prob[0][29][29] = 1.0"
   ]
  },
  {
   "cell_type": "code",
   "execution_count": 28,
   "metadata": {},
   "outputs": [],
   "source": [
    "prob[1][0][2] = 0.5\n",
    "prob[1][0][3] = goodp\n",
    "prob[1][0][4] = goodp\n",
    "prob[1][0][5] = goodp\n",
    "prob[1][1][1] = 1.0\n",
    "prob[1][2][2] = 1.0\n",
    "prob[1][3][9] = badp\n",
    "prob[1][3][12] = goodp\n",
    "prob[1][3][13] = goodp\n",
    "prob[1][3][14] = goodp\n",
    "prob[1][4][10] = badp\n",
    "prob[1][4][15] = goodp\n",
    "prob[1][4][16] = goodp\n",
    "prob[1][4][17] = goodp\n",
    "prob[1][5][11] = badp\n",
    "prob[1][5][18] = goodp\n",
    "prob[1][5][19] = goodp\n",
    "prob[1][5][20] = goodp\n",
    "prob[1][6][6] = 1.0\n",
    "prob[1][7][7] = 1.0\n",
    "prob[1][8][8] = 1.0\n",
    "prob[1][9][9] = 1.0\n",
    "prob[1][10][10] = 1.0\n",
    "prob[1][11][11] = 1.0\n",
    "prob[1][12][21] = 1.0\n",
    "prob[1][13][22] = 1.0\n",
    "prob[1][14][23] = 1.0\n",
    "prob[1][15][24] = 1.0\n",
    "prob[1][16][25] = 1.0\n",
    "prob[1][17][26] = 1.0\n",
    "prob[1][18][27] = 1.0\n",
    "prob[1][19][28] = 1.0\n",
    "prob[1][20][29] = 1.0\n",
    "prob[1][21][21] = 1.0\n",
    "prob[1][22][22] = 1.0\n",
    "prob[1][23][23] = 1.0\n",
    "prob[1][24][24] = 1.0\n",
    "prob[1][25][25] = 1.0\n",
    "prob[1][26][26] = 1.0\n",
    "prob[1][27][27] = 1.0\n",
    "prob[1][28][28] = 1.0\n",
    "prob[1][29][29] = 1.0"
   ]
  },
  {
   "cell_type": "code",
   "execution_count": 30,
   "metadata": {},
   "outputs": [],
   "source": [
    "rewards = np.zeros((30,2))"
   ]
  },
  {
   "cell_type": "code",
   "execution_count": null,
   "metadata": {},
   "outputs": [],
   "source": [
    "reward[3][0] = 4.0\n",
    "reward[4][0] = 5.0\n",
    "reward[6][0] = 6.0\n",
    "re"
   ]
  }
 ],
 "metadata": {
  "kernelspec": {
   "display_name": "Python 3",
   "language": "python",
   "name": "python3"
  },
  "language_info": {
   "codemirror_mode": {
    "name": "ipython",
    "version": 3
   },
   "file_extension": ".py",
   "mimetype": "text/x-python",
   "name": "python",
   "nbconvert_exporter": "python",
   "pygments_lexer": "ipython3",
   "version": "3.7.4"
  }
 },
 "nbformat": 4,
 "nbformat_minor": 2
}

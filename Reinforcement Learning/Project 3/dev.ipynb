{
 "nbformat": 4,
 "nbformat_minor": 2,
 "metadata": {
  "language_info": {
   "name": "python",
   "codemirror_mode": {
    "name": "ipython",
    "version": 3
   },
   "version": "3.7.4-final"
  },
  "orig_nbformat": 2,
  "file_extension": ".py",
  "mimetype": "text/x-python",
  "name": "python",
  "npconvert_exporter": "python",
  "pygments_lexer": "ipython3",
  "version": 3,
  "kernelspec": {
   "name": "python37464bitbaseconda496e4f14cb09440c9a1e4075475d115c",
   "display_name": "Python 3.7.4 64-bit ('base': conda)"
  }
 },
 "cells": [
  {
   "cell_type": "code",
   "execution_count": 1,
   "metadata": {},
   "outputs": [],
   "source": [
    "import numpy as np"
   ]
  },
  {
   "cell_type": "code",
   "execution_count": 2,
   "metadata": {},
   "outputs": [
    {
     "output_type": "stream",
     "name": "stdout",
     "text": "[[0. 0. 0. 0.]\n [0. 0. 0. 0.]]\n"
    }
   ],
   "source": [
    "grid = np.zeros((2,4))\n",
    "print(grid)"
   ]
  },
  {
   "cell_type": "code",
   "execution_count": 64,
   "metadata": {},
   "outputs": [],
   "source": [
    "states = {}\n",
    "rewards = []\n",
    "counter = 0\n",
    "#Im possesion 0\n",
    "for possession in [0,1]:\n",
    "    for row in range(grid.shape[0]):\n",
    "        for column in range(grid.shape[1]):\n",
    "\n",
    "            for i in range(2):\n",
    "                for j in range(4):\n",
    "\n",
    "                    if (row,column) == (i,j):\n",
    "                        continue\n",
    "                    else:\n",
    "                        state = (possession, (row,column), (i,j))\n",
    "                        states[state] = counter\n",
    "                        counter+=1\n",
    "                        #states.append(state)\n",
    "\n",
    "                        #check if left side goal and opp has possession - reward should be [-100, 100] - I lose 100 he gains 100 for scoring in my goal\n",
    "                        #or\n",
    "                        #check if left side goal and I have possession - reward should be [-100, 100] - I lose 100 he gains 100 for me scoring in my own goal\n",
    "                        if ((i,j) in [(0,0), (1,0)] and possession == 1) | ((row,column) in [(0,0), (1,0)] and possession == 0):\n",
    "                            reward = [100, -100]\n",
    "                            rewards.append(reward)\n",
    "                        #check if right side goal and opp has possession - reward should be [100, -100] - I gain 100 he loses 100 for scoring in his own goal\n",
    "                        #or\n",
    "                        #check if right side goal and I have possession - reward should be [100, -100] - I gain 100 he loses 100 for me scoring in his goal\n",
    "                        elif ((i,j) in [(0,3), (1,3)] and possession == 1) or ((row,column) in [(0,3), (1,3)] and possession==0):\n",
    "                            reward = [-100, 100]\n",
    "                            rewards.append(reward)\n",
    "                        #no rewards for anything else\n",
    "                        else:\n",
    "                            reward = [0 , 0]\n",
    "                            rewards.append(reward)\n",
    "\n",
    "                       \n",
    "\n",
    "         \n",
    "                        "
   ]
  },
  {
   "cell_type": "code",
   "execution_count": 68,
   "metadata": {},
   "outputs": [
    {
     "output_type": "execute_result",
     "data": {
      "text/plain": "[((-1, 0), (-1, 0)),\n ((1, 0), (-1, 0)),\n ((0, 1), (-1, 0)),\n ((0, -1), (-1, 0)),\n ((0, 0), (-1, 0)),\n ((-1, 0), (1, 0)),\n ((1, 0), (1, 0)),\n ((0, 1), (1, 0)),\n ((0, -1), (1, 0)),\n ((0, 0), (1, 0)),\n ((-1, 0), (0, 1)),\n ((1, 0), (0, 1)),\n ((0, 1), (0, 1)),\n ((0, -1), (0, 1)),\n ((0, 0), (0, 1)),\n ((-1, 0), (0, -1)),\n ((1, 0), (0, -1)),\n ((0, 1), (0, -1)),\n ((0, -1), (0, -1)),\n ((0, 0), (0, -1)),\n ((-1, 0), (0, 0)),\n ((1, 0), (0, 0)),\n ((0, 1), (0, 0)),\n ((0, -1), (0, 0)),\n ((0, 0), (0, 0))]"
     },
     "metadata": {},
     "execution_count": 68
    }
   ],
   "source": [
    "actions"
   ]
  },
  {
   "cell_type": "code",
   "execution_count": 53,
   "metadata": {},
   "outputs": [],
   "source": [
    "list_of_actions = [(-1,0), (1,0), (0,1), (0,-1), (0,0)]"
   ]
  },
  {
   "cell_type": "code",
   "execution_count": 67,
   "metadata": {},
   "outputs": [],
   "source": [
    "actions = []\n",
    "for a in list_of_actions:\n",
    "    for b in list_of_actions:\n",
    "        action = (b,a)\n",
    "        actions.append(action)"
   ]
  },
  {
   "cell_type": "code",
   "execution_count": 91,
   "metadata": {},
   "outputs": [
    {
     "output_type": "execute_result",
     "data": {
      "text/plain": "array([1])"
     },
     "metadata": {},
     "execution_count": 91
    }
   ],
   "source": [
    "np.random.choice([0,1], size=1)"
   ]
  },
  {
   "cell_type": "code",
   "execution_count": 57,
   "metadata": {},
   "outputs": [],
   "source": [
    "A = np.array([[-4, -4],\n",
    "       [ 4, -4],\n",
    "       [ 1, -4],\n",
    "       [-1, -4],\n",
    "       [ 0, -4],\n",
    "       [-4,  4],\n",
    "       [ 4,  4],\n",
    "       [ 1,  4],\n",
    "       [-1,  4],\n",
    "       [ 0,  4],\n",
    "       [-4,  1],\n",
    "       [ 4,  1],\n",
    "       [ 1,  1],\n",
    "       [-1,  1],\n",
    "       [ 0,  1],\n",
    "       [-4, -1],\n",
    "       [ 4, -1],\n",
    "       [ 1, -1],\n",
    "       [-1, -1],\n",
    "       [ 0, -1],\n",
    "       [-4,  0],\n",
    "       [ 4,  0],\n",
    "       [ 1,  0],\n",
    "       [-1,  0],\n",
    "       [ 0,  0]])"
   ]
  }
 ]
}
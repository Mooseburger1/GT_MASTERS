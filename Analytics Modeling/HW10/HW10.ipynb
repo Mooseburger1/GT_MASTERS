{
 "cells": [
  {
   "cell_type": "markdown",
   "metadata": {},
   "source": [
    "# HW 10 - KELLY \"SCOTT\" SIMS"
   ]
  },
  {
   "cell_type": "code",
   "execution_count": 457,
   "metadata": {},
   "outputs": [],
   "source": [
    "import pandas as pd\n",
    "import numpy as np\n",
    "import matplotlib.pyplot as plt\n",
    "import seaborn as sns\n",
    "from IPython.display import display\n",
    "import warnings\n",
    "warnings.filterwarnings(\"ignore\")"
   ]
  },
  {
   "cell_type": "markdown",
   "metadata": {},
   "source": [
    "**Question 14.1**\n",
    "\n",
    "The breast cancer data set breast-cancer-wisconsin.data.txt from\n",
    "http://archive.ics.uci.edu/ml/machine-learning-databases/breast-cancer-wisconsin/ (description at\n",
    "http://archive.ics.uci.edu/ml/datasets/Breast+Cancer+Wisconsin+%28Original%29 ) has missing values.\n",
    "1. Use the mean/mode imputation method to impute values for the missing data.\n",
    "2. Use regression to impute values for the missing data.\n",
    "3. Use regression with perturbation to impute values for the missing data.\n",
    "4. (Optional) Compare the results and quality of classification models (e.g., SVM, KNN) build using\n",
    "(1) the data sets from questions 1,2,3;\n",
    "(2) the data that remains after data points with missing values are removed; and\n",
    "(3) the data set when a binary variable is introduced to indicate missing values.\n"
   ]
  },
  {
   "cell_type": "code",
   "execution_count": 340,
   "metadata": {},
   "outputs": [
    {
     "data": {
      "text/html": [
       "<div>\n",
       "<style scoped>\n",
       "    .dataframe tbody tr th:only-of-type {\n",
       "        vertical-align: middle;\n",
       "    }\n",
       "\n",
       "    .dataframe tbody tr th {\n",
       "        vertical-align: top;\n",
       "    }\n",
       "\n",
       "    .dataframe thead th {\n",
       "        text-align: right;\n",
       "    }\n",
       "</style>\n",
       "<table border=\"1\" class=\"dataframe\">\n",
       "  <thead>\n",
       "    <tr style=\"text-align: right;\">\n",
       "      <th></th>\n",
       "      <th>id_number</th>\n",
       "      <th>clump_thick</th>\n",
       "      <th>cell_size</th>\n",
       "      <th>cell_shape</th>\n",
       "      <th>marginal_adhesion</th>\n",
       "      <th>single_epithelial_size</th>\n",
       "      <th>bare_nuclei</th>\n",
       "      <th>bland_chromatin</th>\n",
       "      <th>normal_nucleoli</th>\n",
       "      <th>mitoses</th>\n",
       "      <th>class</th>\n",
       "    </tr>\n",
       "  </thead>\n",
       "  <tbody>\n",
       "    <tr>\n",
       "      <th>0</th>\n",
       "      <td>1000025</td>\n",
       "      <td>5</td>\n",
       "      <td>1</td>\n",
       "      <td>1</td>\n",
       "      <td>1</td>\n",
       "      <td>2</td>\n",
       "      <td>1</td>\n",
       "      <td>3</td>\n",
       "      <td>1</td>\n",
       "      <td>1</td>\n",
       "      <td>2</td>\n",
       "    </tr>\n",
       "    <tr>\n",
       "      <th>1</th>\n",
       "      <td>1002945</td>\n",
       "      <td>5</td>\n",
       "      <td>4</td>\n",
       "      <td>4</td>\n",
       "      <td>5</td>\n",
       "      <td>7</td>\n",
       "      <td>10</td>\n",
       "      <td>3</td>\n",
       "      <td>2</td>\n",
       "      <td>1</td>\n",
       "      <td>2</td>\n",
       "    </tr>\n",
       "    <tr>\n",
       "      <th>2</th>\n",
       "      <td>1015425</td>\n",
       "      <td>3</td>\n",
       "      <td>1</td>\n",
       "      <td>1</td>\n",
       "      <td>1</td>\n",
       "      <td>2</td>\n",
       "      <td>2</td>\n",
       "      <td>3</td>\n",
       "      <td>1</td>\n",
       "      <td>1</td>\n",
       "      <td>2</td>\n",
       "    </tr>\n",
       "    <tr>\n",
       "      <th>3</th>\n",
       "      <td>1016277</td>\n",
       "      <td>6</td>\n",
       "      <td>8</td>\n",
       "      <td>8</td>\n",
       "      <td>1</td>\n",
       "      <td>3</td>\n",
       "      <td>4</td>\n",
       "      <td>3</td>\n",
       "      <td>7</td>\n",
       "      <td>1</td>\n",
       "      <td>2</td>\n",
       "    </tr>\n",
       "    <tr>\n",
       "      <th>4</th>\n",
       "      <td>1017023</td>\n",
       "      <td>4</td>\n",
       "      <td>1</td>\n",
       "      <td>1</td>\n",
       "      <td>3</td>\n",
       "      <td>2</td>\n",
       "      <td>1</td>\n",
       "      <td>3</td>\n",
       "      <td>1</td>\n",
       "      <td>1</td>\n",
       "      <td>2</td>\n",
       "    </tr>\n",
       "  </tbody>\n",
       "</table>\n",
       "</div>"
      ],
      "text/plain": [
       "   id_number  clump_thick  cell_size  cell_shape  marginal_adhesion  \\\n",
       "0    1000025            5          1           1                  1   \n",
       "1    1002945            5          4           4                  5   \n",
       "2    1015425            3          1           1                  1   \n",
       "3    1016277            6          8           8                  1   \n",
       "4    1017023            4          1           1                  3   \n",
       "\n",
       "   single_epithelial_size bare_nuclei  bland_chromatin  normal_nucleoli  \\\n",
       "0                       2           1                3                1   \n",
       "1                       7          10                3                2   \n",
       "2                       2           2                3                1   \n",
       "3                       3           4                3                7   \n",
       "4                       2           1                3                1   \n",
       "\n",
       "   mitoses  class  \n",
       "0        1      2  \n",
       "1        1      2  \n",
       "2        1      2  \n",
       "3        1      2  \n",
       "4        1      2  "
      ]
     },
     "execution_count": 340,
     "metadata": {},
     "output_type": "execute_result"
    }
   ],
   "source": [
    "columns = ['id_number', 'clump_thick', 'cell_size' , 'cell_shape' , 'marginal_adhesion', \n",
    "           'single_epithelial_size','bare_nuclei','bland_chromatin', 'normal_nucleoli','mitoses', 'class']\n",
    "df = pd.read_csv('breast-cancer-wisconsin.data.txt', header=None, names=columns)\n",
    "df.head()"
   ]
  },
  {
   "cell_type": "code",
   "execution_count": 341,
   "metadata": {},
   "outputs": [
    {
     "name": "stdout",
     "output_type": "stream",
     "text": [
      "<class 'pandas.core.frame.DataFrame'>\n",
      "RangeIndex: 699 entries, 0 to 698\n",
      "Data columns (total 11 columns):\n",
      "id_number                 699 non-null int64\n",
      "clump_thick               699 non-null int64\n",
      "cell_size                 699 non-null int64\n",
      "cell_shape                699 non-null int64\n",
      "marginal_adhesion         699 non-null int64\n",
      "single_epithelial_size    699 non-null int64\n",
      "bare_nuclei               699 non-null object\n",
      "bland_chromatin           699 non-null int64\n",
      "normal_nucleoli           699 non-null int64\n",
      "mitoses                   699 non-null int64\n",
      "class                     699 non-null int64\n",
      "dtypes: int64(10), object(1)\n",
      "memory usage: 60.1+ KB\n"
     ]
    }
   ],
   "source": [
    "df.info()"
   ]
  },
  {
   "cell_type": "markdown",
   "metadata": {},
   "source": [
    "It appears that all columns are of type integer except **bare_nuclei**. Since it is of type \"object\", it must have some values other than integers representative of missing values. Let's inspect a little further"
   ]
  },
  {
   "cell_type": "code",
   "execution_count": 342,
   "metadata": {},
   "outputs": [
    {
     "data": {
      "text/plain": [
       "array(['1', '10', '2', '4', '3', '9', '7', '?', '5', '8', '6'],\n",
       "      dtype=object)"
      ]
     },
     "execution_count": 342,
     "metadata": {},
     "output_type": "execute_result"
    }
   ],
   "source": [
    "df['bare_nuclei'].unique()"
   ]
  },
  {
   "cell_type": "markdown",
   "metadata": {},
   "source": [
    "There is a question mark used as a placeholder for missing values. Let's see all instances of these missing values."
   ]
  },
  {
   "cell_type": "code",
   "execution_count": 343,
   "metadata": {},
   "outputs": [
    {
     "name": "stdout",
     "output_type": "stream",
     "text": [
      "16\n"
     ]
    },
    {
     "data": {
      "text/html": [
       "<div>\n",
       "<style scoped>\n",
       "    .dataframe tbody tr th:only-of-type {\n",
       "        vertical-align: middle;\n",
       "    }\n",
       "\n",
       "    .dataframe tbody tr th {\n",
       "        vertical-align: top;\n",
       "    }\n",
       "\n",
       "    .dataframe thead th {\n",
       "        text-align: right;\n",
       "    }\n",
       "</style>\n",
       "<table border=\"1\" class=\"dataframe\">\n",
       "  <thead>\n",
       "    <tr style=\"text-align: right;\">\n",
       "      <th></th>\n",
       "      <th>id_number</th>\n",
       "      <th>clump_thick</th>\n",
       "      <th>cell_size</th>\n",
       "      <th>cell_shape</th>\n",
       "      <th>marginal_adhesion</th>\n",
       "      <th>single_epithelial_size</th>\n",
       "      <th>bare_nuclei</th>\n",
       "      <th>bland_chromatin</th>\n",
       "      <th>normal_nucleoli</th>\n",
       "      <th>mitoses</th>\n",
       "      <th>class</th>\n",
       "    </tr>\n",
       "  </thead>\n",
       "  <tbody>\n",
       "    <tr>\n",
       "      <th>23</th>\n",
       "      <td>1057013</td>\n",
       "      <td>8</td>\n",
       "      <td>4</td>\n",
       "      <td>5</td>\n",
       "      <td>1</td>\n",
       "      <td>2</td>\n",
       "      <td>?</td>\n",
       "      <td>7</td>\n",
       "      <td>3</td>\n",
       "      <td>1</td>\n",
       "      <td>4</td>\n",
       "    </tr>\n",
       "    <tr>\n",
       "      <th>40</th>\n",
       "      <td>1096800</td>\n",
       "      <td>6</td>\n",
       "      <td>6</td>\n",
       "      <td>6</td>\n",
       "      <td>9</td>\n",
       "      <td>6</td>\n",
       "      <td>?</td>\n",
       "      <td>7</td>\n",
       "      <td>8</td>\n",
       "      <td>1</td>\n",
       "      <td>2</td>\n",
       "    </tr>\n",
       "    <tr>\n",
       "      <th>139</th>\n",
       "      <td>1183246</td>\n",
       "      <td>1</td>\n",
       "      <td>1</td>\n",
       "      <td>1</td>\n",
       "      <td>1</td>\n",
       "      <td>1</td>\n",
       "      <td>?</td>\n",
       "      <td>2</td>\n",
       "      <td>1</td>\n",
       "      <td>1</td>\n",
       "      <td>2</td>\n",
       "    </tr>\n",
       "    <tr>\n",
       "      <th>145</th>\n",
       "      <td>1184840</td>\n",
       "      <td>1</td>\n",
       "      <td>1</td>\n",
       "      <td>3</td>\n",
       "      <td>1</td>\n",
       "      <td>2</td>\n",
       "      <td>?</td>\n",
       "      <td>2</td>\n",
       "      <td>1</td>\n",
       "      <td>1</td>\n",
       "      <td>2</td>\n",
       "    </tr>\n",
       "    <tr>\n",
       "      <th>158</th>\n",
       "      <td>1193683</td>\n",
       "      <td>1</td>\n",
       "      <td>1</td>\n",
       "      <td>2</td>\n",
       "      <td>1</td>\n",
       "      <td>3</td>\n",
       "      <td>?</td>\n",
       "      <td>1</td>\n",
       "      <td>1</td>\n",
       "      <td>1</td>\n",
       "      <td>2</td>\n",
       "    </tr>\n",
       "    <tr>\n",
       "      <th>164</th>\n",
       "      <td>1197510</td>\n",
       "      <td>5</td>\n",
       "      <td>1</td>\n",
       "      <td>1</td>\n",
       "      <td>1</td>\n",
       "      <td>2</td>\n",
       "      <td>?</td>\n",
       "      <td>3</td>\n",
       "      <td>1</td>\n",
       "      <td>1</td>\n",
       "      <td>2</td>\n",
       "    </tr>\n",
       "    <tr>\n",
       "      <th>235</th>\n",
       "      <td>1241232</td>\n",
       "      <td>3</td>\n",
       "      <td>1</td>\n",
       "      <td>4</td>\n",
       "      <td>1</td>\n",
       "      <td>2</td>\n",
       "      <td>?</td>\n",
       "      <td>3</td>\n",
       "      <td>1</td>\n",
       "      <td>1</td>\n",
       "      <td>2</td>\n",
       "    </tr>\n",
       "    <tr>\n",
       "      <th>249</th>\n",
       "      <td>169356</td>\n",
       "      <td>3</td>\n",
       "      <td>1</td>\n",
       "      <td>1</td>\n",
       "      <td>1</td>\n",
       "      <td>2</td>\n",
       "      <td>?</td>\n",
       "      <td>3</td>\n",
       "      <td>1</td>\n",
       "      <td>1</td>\n",
       "      <td>2</td>\n",
       "    </tr>\n",
       "    <tr>\n",
       "      <th>275</th>\n",
       "      <td>432809</td>\n",
       "      <td>3</td>\n",
       "      <td>1</td>\n",
       "      <td>3</td>\n",
       "      <td>1</td>\n",
       "      <td>2</td>\n",
       "      <td>?</td>\n",
       "      <td>2</td>\n",
       "      <td>1</td>\n",
       "      <td>1</td>\n",
       "      <td>2</td>\n",
       "    </tr>\n",
       "    <tr>\n",
       "      <th>292</th>\n",
       "      <td>563649</td>\n",
       "      <td>8</td>\n",
       "      <td>8</td>\n",
       "      <td>8</td>\n",
       "      <td>1</td>\n",
       "      <td>2</td>\n",
       "      <td>?</td>\n",
       "      <td>6</td>\n",
       "      <td>10</td>\n",
       "      <td>1</td>\n",
       "      <td>4</td>\n",
       "    </tr>\n",
       "    <tr>\n",
       "      <th>294</th>\n",
       "      <td>606140</td>\n",
       "      <td>1</td>\n",
       "      <td>1</td>\n",
       "      <td>1</td>\n",
       "      <td>1</td>\n",
       "      <td>2</td>\n",
       "      <td>?</td>\n",
       "      <td>2</td>\n",
       "      <td>1</td>\n",
       "      <td>1</td>\n",
       "      <td>2</td>\n",
       "    </tr>\n",
       "    <tr>\n",
       "      <th>297</th>\n",
       "      <td>61634</td>\n",
       "      <td>5</td>\n",
       "      <td>4</td>\n",
       "      <td>3</td>\n",
       "      <td>1</td>\n",
       "      <td>2</td>\n",
       "      <td>?</td>\n",
       "      <td>2</td>\n",
       "      <td>3</td>\n",
       "      <td>1</td>\n",
       "      <td>2</td>\n",
       "    </tr>\n",
       "    <tr>\n",
       "      <th>315</th>\n",
       "      <td>704168</td>\n",
       "      <td>4</td>\n",
       "      <td>6</td>\n",
       "      <td>5</td>\n",
       "      <td>6</td>\n",
       "      <td>7</td>\n",
       "      <td>?</td>\n",
       "      <td>4</td>\n",
       "      <td>9</td>\n",
       "      <td>1</td>\n",
       "      <td>2</td>\n",
       "    </tr>\n",
       "    <tr>\n",
       "      <th>321</th>\n",
       "      <td>733639</td>\n",
       "      <td>3</td>\n",
       "      <td>1</td>\n",
       "      <td>1</td>\n",
       "      <td>1</td>\n",
       "      <td>2</td>\n",
       "      <td>?</td>\n",
       "      <td>3</td>\n",
       "      <td>1</td>\n",
       "      <td>1</td>\n",
       "      <td>2</td>\n",
       "    </tr>\n",
       "    <tr>\n",
       "      <th>411</th>\n",
       "      <td>1238464</td>\n",
       "      <td>1</td>\n",
       "      <td>1</td>\n",
       "      <td>1</td>\n",
       "      <td>1</td>\n",
       "      <td>1</td>\n",
       "      <td>?</td>\n",
       "      <td>2</td>\n",
       "      <td>1</td>\n",
       "      <td>1</td>\n",
       "      <td>2</td>\n",
       "    </tr>\n",
       "    <tr>\n",
       "      <th>617</th>\n",
       "      <td>1057067</td>\n",
       "      <td>1</td>\n",
       "      <td>1</td>\n",
       "      <td>1</td>\n",
       "      <td>1</td>\n",
       "      <td>1</td>\n",
       "      <td>?</td>\n",
       "      <td>1</td>\n",
       "      <td>1</td>\n",
       "      <td>1</td>\n",
       "      <td>2</td>\n",
       "    </tr>\n",
       "  </tbody>\n",
       "</table>\n",
       "</div>"
      ],
      "text/plain": [
       "     id_number  clump_thick  cell_size  cell_shape  marginal_adhesion  \\\n",
       "23     1057013            8          4           5                  1   \n",
       "40     1096800            6          6           6                  9   \n",
       "139    1183246            1          1           1                  1   \n",
       "145    1184840            1          1           3                  1   \n",
       "158    1193683            1          1           2                  1   \n",
       "164    1197510            5          1           1                  1   \n",
       "235    1241232            3          1           4                  1   \n",
       "249     169356            3          1           1                  1   \n",
       "275     432809            3          1           3                  1   \n",
       "292     563649            8          8           8                  1   \n",
       "294     606140            1          1           1                  1   \n",
       "297      61634            5          4           3                  1   \n",
       "315     704168            4          6           5                  6   \n",
       "321     733639            3          1           1                  1   \n",
       "411    1238464            1          1           1                  1   \n",
       "617    1057067            1          1           1                  1   \n",
       "\n",
       "     single_epithelial_size bare_nuclei  bland_chromatin  normal_nucleoli  \\\n",
       "23                        2           ?                7                3   \n",
       "40                        6           ?                7                8   \n",
       "139                       1           ?                2                1   \n",
       "145                       2           ?                2                1   \n",
       "158                       3           ?                1                1   \n",
       "164                       2           ?                3                1   \n",
       "235                       2           ?                3                1   \n",
       "249                       2           ?                3                1   \n",
       "275                       2           ?                2                1   \n",
       "292                       2           ?                6               10   \n",
       "294                       2           ?                2                1   \n",
       "297                       2           ?                2                3   \n",
       "315                       7           ?                4                9   \n",
       "321                       2           ?                3                1   \n",
       "411                       1           ?                2                1   \n",
       "617                       1           ?                1                1   \n",
       "\n",
       "     mitoses  class  \n",
       "23         1      4  \n",
       "40         1      2  \n",
       "139        1      2  \n",
       "145        1      2  \n",
       "158        1      2  \n",
       "164        1      2  \n",
       "235        1      2  \n",
       "249        1      2  \n",
       "275        1      2  \n",
       "292        1      4  \n",
       "294        1      2  \n",
       "297        1      2  \n",
       "315        1      2  \n",
       "321        1      2  \n",
       "411        1      2  \n",
       "617        1      2  "
      ]
     },
     "execution_count": 343,
     "metadata": {},
     "output_type": "execute_result"
    }
   ],
   "source": [
    "print(len(df[df.bare_nuclei == '?']))\n",
    "df[df.bare_nuclei == '?']"
   ]
  },
  {
   "cell_type": "markdown",
   "metadata": {},
   "source": [
    "There are 16 missing values in the bare_nuclei column. We impute using mean/mode method first"
   ]
  },
  {
   "cell_type": "markdown",
   "metadata": {},
   "source": [
    "# 1. Mean/Mode Imputation\n",
    "------------------\n",
    "The reason why it is the \"mean/mode\" imputation is because the method you use is dependent on the distribution of values for that feature. Mean is very sensitive to skew and outlier. Because of this, it should only be used when the distribution is normal. Anything but normal, then we should use the mode. Let's check the distribution of bare_nuclei"
   ]
  },
  {
   "cell_type": "code",
   "execution_count": 344,
   "metadata": {},
   "outputs": [
    {
     "data": {
      "image/png": "[encoded data removed]",
      "text/plain": [
       "<Figure size 1080x576 with 1 Axes>"
      ]
     },
     "metadata": {
      "needs_background": "light"
     },
     "output_type": "display_data"
    }
   ],
   "source": [
    "df[df.bare_nuclei != '?'].bare_nuclei.astype('int').plot(kind = 'hist', figsize = (15,8), title = 'Bare Nuclei Distribution')\n",
    "plt.xlabel('Bare Nuclei')\n",
    "plt.show()"
   ]
  },
  {
   "cell_type": "markdown",
   "metadata": {},
   "source": [
    "It's very clear that Bare Nuclei is not normally distributed. Therefore, we will use the mode"
   ]
  },
  {
   "cell_type": "code",
   "execution_count": 345,
   "metadata": {},
   "outputs": [
    {
     "data": {
      "image/png": "[encoded data removed]",
      "text/plain": [
       "<Figure size 1080x576 with 1 Axes>"
      ]
     },
     "metadata": {
      "needs_background": "light"
     },
     "output_type": "display_data"
    }
   ],
   "source": [
    "df[df.bare_nuclei !='?'].groupby('bare_nuclei', as_index = False)['class']\\\n",
    "                        .count().sort_values('class',ascending =False)\\\n",
    "                        .set_index('bare_nuclei')\\\n",
    "                        .plot(kind = 'bar', \n",
    "                              title = 'Breakdown of Bare Nucle Distribution', \n",
    "                              figsize=(15,8), \n",
    "                              legend=False)\n",
    "plt.show()"
   ]
  },
  {
   "cell_type": "markdown",
   "metadata": {},
   "source": [
    "It's clear that 1 is the mode. This is the value we will use for the imputation"
   ]
  },
  {
   "cell_type": "code",
   "execution_count": 563,
   "metadata": {},
   "outputs": [],
   "source": [
    "mode_df = df.copy()\n",
    "mode_df['bare_nuclei'] = df.bare_nuclei.replace('?', 1).astype('int')"
   ]
  },
  {
   "cell_type": "code",
   "execution_count": 564,
   "metadata": {},
   "outputs": [
    {
     "name": "stdout",
     "output_type": "stream",
     "text": [
      "<class 'pandas.core.frame.DataFrame'>\n",
      "RangeIndex: 699 entries, 0 to 698\n",
      "Data columns (total 11 columns):\n",
      "id_number                 699 non-null int64\n",
      "clump_thick               699 non-null int64\n",
      "cell_size                 699 non-null int64\n",
      "cell_shape                699 non-null int64\n",
      "marginal_adhesion         699 non-null int64\n",
      "single_epithelial_size    699 non-null int64\n",
      "bare_nuclei               699 non-null int64\n",
      "bland_chromatin           699 non-null int64\n",
      "normal_nucleoli           699 non-null int64\n",
      "mitoses                   699 non-null int64\n",
      "class                     699 non-null int64\n",
      "dtypes: int64(11)\n",
      "memory usage: 60.1 KB\n"
     ]
    }
   ],
   "source": [
    "mode_df.info()"
   ]
  },
  {
   "cell_type": "markdown",
   "metadata": {},
   "source": [
    "We have imputed all the missing values and now all of our columns are integers as well"
   ]
  },
  {
   "cell_type": "markdown",
   "metadata": {},
   "source": [
    "# 2. Use Regression to Impute"
   ]
  },
  {
   "cell_type": "code",
   "execution_count": 348,
   "metadata": {},
   "outputs": [],
   "source": [
    "from sklearn.model_selection import train_test_split\n",
    "from sklearn.preprocessing import MinMaxScaler"
   ]
  },
  {
   "cell_type": "markdown",
   "metadata": {},
   "source": [
    "First we need to remove those observations where data is missing"
   ]
  },
  {
   "cell_type": "code",
   "execution_count": 512,
   "metadata": {},
   "outputs": [],
   "source": [
    "train_df = df.copy()\n",
    "unknown_df = df.copy()\n",
    "\n",
    "train_df = df[df.bare_nuclei !='?']\n",
    "unknown_df = df[df.bare_nuclei == '?']"
   ]
  },
  {
   "cell_type": "code",
   "execution_count": 507,
   "metadata": {},
   "outputs": [
    {
     "data": {
      "text/html": [
       "<div>\n",
       "<style scoped>\n",
       "    .dataframe tbody tr th:only-of-type {\n",
       "        vertical-align: middle;\n",
       "    }\n",
       "\n",
       "    .dataframe tbody tr th {\n",
       "        vertical-align: top;\n",
       "    }\n",
       "\n",
       "    .dataframe thead th {\n",
       "        text-align: right;\n",
       "    }\n",
       "</style>\n",
       "<table border=\"1\" class=\"dataframe\">\n",
       "  <thead>\n",
       "    <tr style=\"text-align: right;\">\n",
       "      <th></th>\n",
       "      <th>id_number</th>\n",
       "      <th>clump_thick</th>\n",
       "      <th>cell_size</th>\n",
       "      <th>cell_shape</th>\n",
       "      <th>marginal_adhesion</th>\n",
       "      <th>single_epithelial_size</th>\n",
       "      <th>bare_nuclei</th>\n",
       "      <th>bland_chromatin</th>\n",
       "      <th>normal_nucleoli</th>\n",
       "      <th>mitoses</th>\n",
       "      <th>class</th>\n",
       "    </tr>\n",
       "  </thead>\n",
       "  <tbody>\n",
       "    <tr>\n",
       "      <th>23</th>\n",
       "      <td>1057013</td>\n",
       "      <td>8</td>\n",
       "      <td>4</td>\n",
       "      <td>5</td>\n",
       "      <td>1</td>\n",
       "      <td>2</td>\n",
       "      <td>?</td>\n",
       "      <td>7</td>\n",
       "      <td>3</td>\n",
       "      <td>1</td>\n",
       "      <td>4</td>\n",
       "    </tr>\n",
       "    <tr>\n",
       "      <th>40</th>\n",
       "      <td>1096800</td>\n",
       "      <td>6</td>\n",
       "      <td>6</td>\n",
       "      <td>6</td>\n",
       "      <td>9</td>\n",
       "      <td>6</td>\n",
       "      <td>?</td>\n",
       "      <td>7</td>\n",
       "      <td>8</td>\n",
       "      <td>1</td>\n",
       "      <td>2</td>\n",
       "    </tr>\n",
       "    <tr>\n",
       "      <th>139</th>\n",
       "      <td>1183246</td>\n",
       "      <td>1</td>\n",
       "      <td>1</td>\n",
       "      <td>1</td>\n",
       "      <td>1</td>\n",
       "      <td>1</td>\n",
       "      <td>?</td>\n",
       "      <td>2</td>\n",
       "      <td>1</td>\n",
       "      <td>1</td>\n",
       "      <td>2</td>\n",
       "    </tr>\n",
       "    <tr>\n",
       "      <th>145</th>\n",
       "      <td>1184840</td>\n",
       "      <td>1</td>\n",
       "      <td>1</td>\n",
       "      <td>3</td>\n",
       "      <td>1</td>\n",
       "      <td>2</td>\n",
       "      <td>?</td>\n",
       "      <td>2</td>\n",
       "      <td>1</td>\n",
       "      <td>1</td>\n",
       "      <td>2</td>\n",
       "    </tr>\n",
       "    <tr>\n",
       "      <th>158</th>\n",
       "      <td>1193683</td>\n",
       "      <td>1</td>\n",
       "      <td>1</td>\n",
       "      <td>2</td>\n",
       "      <td>1</td>\n",
       "      <td>3</td>\n",
       "      <td>?</td>\n",
       "      <td>1</td>\n",
       "      <td>1</td>\n",
       "      <td>1</td>\n",
       "      <td>2</td>\n",
       "    </tr>\n",
       "  </tbody>\n",
       "</table>\n",
       "</div>"
      ],
      "text/plain": [
       "     id_number  clump_thick  cell_size  cell_shape  marginal_adhesion  \\\n",
       "23     1057013            8          4           5                  1   \n",
       "40     1096800            6          6           6                  9   \n",
       "139    1183246            1          1           1                  1   \n",
       "145    1184840            1          1           3                  1   \n",
       "158    1193683            1          1           2                  1   \n",
       "\n",
       "     single_epithelial_size bare_nuclei  bland_chromatin  normal_nucleoli  \\\n",
       "23                        2           ?                7                3   \n",
       "40                        6           ?                7                8   \n",
       "139                       1           ?                2                1   \n",
       "145                       2           ?                2                1   \n",
       "158                       3           ?                1                1   \n",
       "\n",
       "     mitoses  class  \n",
       "23         1      4  \n",
       "40         1      2  \n",
       "139        1      2  \n",
       "145        1      2  \n",
       "158        1      2  "
      ]
     },
     "execution_count": 507,
     "metadata": {},
     "output_type": "execute_result"
    }
   ],
   "source": [
    "unknown_df.head()"
   ]
  },
  {
   "cell_type": "markdown",
   "metadata": {},
   "source": [
    "We have our train data and our test data. Next we need separate the training data into train and validation sets while removing the target variable **bare_nuclei** and the ultimate variable being predicted **class**. We need to remove class because training a model with knowledge of what the ultimate variable interest is, is known as **Data Leakage**, and we don't want to train such a model. Finally, we can remove id_number since the identification of a patient should bear no weight on the classification of a tumor. Conversely, depending on the data, it could also be a form of data leakage. If a particular ID number is represented more than once in a data set, it might lead to bias if that particular ID is ever predicted upon again."
   ]
  },
  {
   "cell_type": "code",
   "execution_count": 513,
   "metadata": {},
   "outputs": [],
   "source": [
    "#Remove the target class and ultimate class to avoid data leakage\n",
    "X_train = train_df[[x for x in df.columns if x not in ['class', 'bare_nuclei', 'id_number']]]\n",
    "y_train = train_df['bare_nuclei']\n",
    "\n",
    "#Perform the same procedure for the data that needs to be predicted upon\n",
    "X_unknown = unknown_df[[x for x in unknown_df.columns if x not in ['class', 'bare_nuclei', 'id_number']]]"
   ]
  },
  {
   "cell_type": "code",
   "execution_count": 463,
   "metadata": {},
   "outputs": [
    {
     "data": {
      "image/png": "[encoded data removed]",
      "text/plain": [
       "<Figure size 1440x1440 with 72 Axes>"
      ]
     },
     "metadata": {
      "needs_background": "light"
     },
     "output_type": "display_data"
    }
   ],
   "source": [
    "sns.pairplot(X_train)\n",
    "plt.show()"
   ]
  },
  {
   "cell_type": "markdown",
   "metadata": {},
   "source": [
    "There appears to be strong correlation betweel **cell_shape** and **cell_size**. Let's see how strong of a correlation it is"
   ]
  },
  {
   "cell_type": "code",
   "execution_count": 464,
   "metadata": {},
   "outputs": [
    {
     "name": "stdout",
     "output_type": "stream",
     "text": [
      "Pearson Correlation factor between cell shape and size: 0.9072282331914379\n"
     ]
    }
   ],
   "source": [
    "print('Pearson Correlation factor between cell shape and size: {}'.format(X_train.corr().loc['cell_size', 'cell_shape']))"
   ]
  },
  {
   "cell_type": "markdown",
   "metadata": {},
   "source": [
    "just as anticipated, there is a high correlation between **cell_shape** and **cell_size**. As a sanity check, let's see all correlation values"
   ]
  },
  {
   "cell_type": "code",
   "execution_count": 465,
   "metadata": {},
   "outputs": [
    {
     "data": {
      "text/html": [
       "<div>\n",
       "<style scoped>\n",
       "    .dataframe tbody tr th:only-of-type {\n",
       "        vertical-align: middle;\n",
       "    }\n",
       "\n",
       "    .dataframe tbody tr th {\n",
       "        vertical-align: top;\n",
       "    }\n",
       "\n",
       "    .dataframe thead th {\n",
       "        text-align: right;\n",
       "    }\n",
       "</style>\n",
       "<table border=\"1\" class=\"dataframe\">\n",
       "  <thead>\n",
       "    <tr style=\"text-align: right;\">\n",
       "      <th></th>\n",
       "      <th>clump_thick</th>\n",
       "      <th>cell_size</th>\n",
       "      <th>cell_shape</th>\n",
       "      <th>marginal_adhesion</th>\n",
       "      <th>single_epithelial_size</th>\n",
       "      <th>bland_chromatin</th>\n",
       "      <th>normal_nucleoli</th>\n",
       "      <th>mitoses</th>\n",
       "    </tr>\n",
       "  </thead>\n",
       "  <tbody>\n",
       "    <tr>\n",
       "      <th>clump_thick</th>\n",
       "      <td>1.000000</td>\n",
       "      <td>0.642481</td>\n",
       "      <td>0.653470</td>\n",
       "      <td>0.487829</td>\n",
       "      <td>0.523596</td>\n",
       "      <td>0.553742</td>\n",
       "      <td>0.534066</td>\n",
       "      <td>0.350957</td>\n",
       "    </tr>\n",
       "    <tr>\n",
       "      <th>cell_size</th>\n",
       "      <td>0.642481</td>\n",
       "      <td>1.000000</td>\n",
       "      <td>0.907228</td>\n",
       "      <td>0.706977</td>\n",
       "      <td>0.753544</td>\n",
       "      <td>0.755559</td>\n",
       "      <td>0.719346</td>\n",
       "      <td>0.460755</td>\n",
       "    </tr>\n",
       "    <tr>\n",
       "      <th>cell_shape</th>\n",
       "      <td>0.653470</td>\n",
       "      <td>0.907228</td>\n",
       "      <td>1.000000</td>\n",
       "      <td>0.685948</td>\n",
       "      <td>0.722462</td>\n",
       "      <td>0.735344</td>\n",
       "      <td>0.717963</td>\n",
       "      <td>0.441258</td>\n",
       "    </tr>\n",
       "    <tr>\n",
       "      <th>marginal_adhesion</th>\n",
       "      <td>0.487829</td>\n",
       "      <td>0.706977</td>\n",
       "      <td>0.685948</td>\n",
       "      <td>1.000000</td>\n",
       "      <td>0.594548</td>\n",
       "      <td>0.668567</td>\n",
       "      <td>0.603121</td>\n",
       "      <td>0.418898</td>\n",
       "    </tr>\n",
       "    <tr>\n",
       "      <th>single_epithelial_size</th>\n",
       "      <td>0.523596</td>\n",
       "      <td>0.753544</td>\n",
       "      <td>0.722462</td>\n",
       "      <td>0.594548</td>\n",
       "      <td>1.000000</td>\n",
       "      <td>0.618128</td>\n",
       "      <td>0.628926</td>\n",
       "      <td>0.480583</td>\n",
       "    </tr>\n",
       "    <tr>\n",
       "      <th>bland_chromatin</th>\n",
       "      <td>0.553742</td>\n",
       "      <td>0.755559</td>\n",
       "      <td>0.735344</td>\n",
       "      <td>0.668567</td>\n",
       "      <td>0.618128</td>\n",
       "      <td>1.000000</td>\n",
       "      <td>0.665602</td>\n",
       "      <td>0.346011</td>\n",
       "    </tr>\n",
       "    <tr>\n",
       "      <th>normal_nucleoli</th>\n",
       "      <td>0.534066</td>\n",
       "      <td>0.719346</td>\n",
       "      <td>0.717963</td>\n",
       "      <td>0.603121</td>\n",
       "      <td>0.628926</td>\n",
       "      <td>0.665602</td>\n",
       "      <td>1.000000</td>\n",
       "      <td>0.433757</td>\n",
       "    </tr>\n",
       "    <tr>\n",
       "      <th>mitoses</th>\n",
       "      <td>0.350957</td>\n",
       "      <td>0.460755</td>\n",
       "      <td>0.441258</td>\n",
       "      <td>0.418898</td>\n",
       "      <td>0.480583</td>\n",
       "      <td>0.346011</td>\n",
       "      <td>0.433757</td>\n",
       "      <td>1.000000</td>\n",
       "    </tr>\n",
       "  </tbody>\n",
       "</table>\n",
       "</div>"
      ],
      "text/plain": [
       "                        clump_thick  cell_size  cell_shape  marginal_adhesion  \\\n",
       "clump_thick                1.000000   0.642481    0.653470           0.487829   \n",
       "cell_size                  0.642481   1.000000    0.907228           0.706977   \n",
       "cell_shape                 0.653470   0.907228    1.000000           0.685948   \n",
       "marginal_adhesion          0.487829   0.706977    0.685948           1.000000   \n",
       "single_epithelial_size     0.523596   0.753544    0.722462           0.594548   \n",
       "bland_chromatin            0.553742   0.755559    0.735344           0.668567   \n",
       "normal_nucleoli            0.534066   0.719346    0.717963           0.603121   \n",
       "mitoses                    0.350957   0.460755    0.441258           0.418898   \n",
       "\n",
       "                        single_epithelial_size  bland_chromatin  \\\n",
       "clump_thick                           0.523596         0.553742   \n",
       "cell_size                             0.753544         0.755559   \n",
       "cell_shape                            0.722462         0.735344   \n",
       "marginal_adhesion                     0.594548         0.668567   \n",
       "single_epithelial_size                1.000000         0.618128   \n",
       "bland_chromatin                       0.618128         1.000000   \n",
       "normal_nucleoli                       0.628926         0.665602   \n",
       "mitoses                               0.480583         0.346011   \n",
       "\n",
       "                        normal_nucleoli   mitoses  \n",
       "clump_thick                    0.534066  0.350957  \n",
       "cell_size                      0.719346  0.460755  \n",
       "cell_shape                     0.717963  0.441258  \n",
       "marginal_adhesion              0.603121  0.418898  \n",
       "single_epithelial_size         0.628926  0.480583  \n",
       "bland_chromatin                0.665602  0.346011  \n",
       "normal_nucleoli                1.000000  0.433757  \n",
       "mitoses                        0.433757  1.000000  "
      ]
     },
     "execution_count": 465,
     "metadata": {},
     "output_type": "execute_result"
    }
   ],
   "source": [
    "X_train.corr()"
   ]
  },
  {
   "cell_type": "markdown",
   "metadata": {},
   "source": [
    "There's relatively high correlation between **cell_size** and **single_epithelial_size** as well as **bland_chromatin** and **normal_nucleoli**. Conversely, with **cell_shape**, there's relatively high correlation wih **single_epithelial_size**, **bland_chromatin** and **normal_nucleoli**. Let's progress by dropping **cell_shape** since it had 90% correlation with **cell_size**. By dropping that feature, that automatically drops the corresponding high correlations with the other features."
   ]
  },
  {
   "cell_type": "code",
   "execution_count": 509,
   "metadata": {},
   "outputs": [],
   "source": [
    "X_train = X_train[[x for x in X_train.columns if x not in ['cell_shape']]]\n",
    "X_unknown = X_unknown[[x for x in X_unknown.columns if x not in ['cell_shape']]]"
   ]
  },
  {
   "cell_type": "code",
   "execution_count": 510,
   "metadata": {},
   "outputs": [
    {
     "data": {
      "text/html": [
       "<div>\n",
       "<style scoped>\n",
       "    .dataframe tbody tr th:only-of-type {\n",
       "        vertical-align: middle;\n",
       "    }\n",
       "\n",
       "    .dataframe tbody tr th {\n",
       "        vertical-align: top;\n",
       "    }\n",
       "\n",
       "    .dataframe thead th {\n",
       "        text-align: right;\n",
       "    }\n",
       "</style>\n",
       "<table border=\"1\" class=\"dataframe\">\n",
       "  <thead>\n",
       "    <tr style=\"text-align: right;\">\n",
       "      <th></th>\n",
       "      <th>clump_thick</th>\n",
       "      <th>cell_size</th>\n",
       "      <th>marginal_adhesion</th>\n",
       "      <th>single_epithelial_size</th>\n",
       "      <th>bland_chromatin</th>\n",
       "      <th>normal_nucleoli</th>\n",
       "      <th>mitoses</th>\n",
       "    </tr>\n",
       "  </thead>\n",
       "  <tbody>\n",
       "    <tr>\n",
       "      <th>0</th>\n",
       "      <td>5</td>\n",
       "      <td>1</td>\n",
       "      <td>1</td>\n",
       "      <td>2</td>\n",
       "      <td>3</td>\n",
       "      <td>1</td>\n",
       "      <td>1</td>\n",
       "    </tr>\n",
       "    <tr>\n",
       "      <th>1</th>\n",
       "      <td>5</td>\n",
       "      <td>4</td>\n",
       "      <td>5</td>\n",
       "      <td>7</td>\n",
       "      <td>3</td>\n",
       "      <td>2</td>\n",
       "      <td>1</td>\n",
       "    </tr>\n",
       "    <tr>\n",
       "      <th>2</th>\n",
       "      <td>3</td>\n",
       "      <td>1</td>\n",
       "      <td>1</td>\n",
       "      <td>2</td>\n",
       "      <td>3</td>\n",
       "      <td>1</td>\n",
       "      <td>1</td>\n",
       "    </tr>\n",
       "    <tr>\n",
       "      <th>3</th>\n",
       "      <td>6</td>\n",
       "      <td>8</td>\n",
       "      <td>1</td>\n",
       "      <td>3</td>\n",
       "      <td>3</td>\n",
       "      <td>7</td>\n",
       "      <td>1</td>\n",
       "    </tr>\n",
       "    <tr>\n",
       "      <th>4</th>\n",
       "      <td>4</td>\n",
       "      <td>1</td>\n",
       "      <td>3</td>\n",
       "      <td>2</td>\n",
       "      <td>3</td>\n",
       "      <td>1</td>\n",
       "      <td>1</td>\n",
       "    </tr>\n",
       "  </tbody>\n",
       "</table>\n",
       "</div>"
      ],
      "text/plain": [
       "   clump_thick  cell_size  marginal_adhesion  single_epithelial_size  \\\n",
       "0            5          1                  1                       2   \n",
       "1            5          4                  5                       7   \n",
       "2            3          1                  1                       2   \n",
       "3            6          8                  1                       3   \n",
       "4            4          1                  3                       2   \n",
       "\n",
       "   bland_chromatin  normal_nucleoli  mitoses  \n",
       "0                3                1        1  \n",
       "1                3                2        1  \n",
       "2                3                1        1  \n",
       "3                3                7        1  \n",
       "4                3                1        1  "
      ]
     },
     "execution_count": 510,
     "metadata": {},
     "output_type": "execute_result"
    }
   ],
   "source": [
    "X_train.head()"
   ]
  },
  {
   "cell_type": "code",
   "execution_count": 511,
   "metadata": {},
   "outputs": [
    {
     "data": {
      "text/html": [
       "<div>\n",
       "<style scoped>\n",
       "    .dataframe tbody tr th:only-of-type {\n",
       "        vertical-align: middle;\n",
       "    }\n",
       "\n",
       "    .dataframe tbody tr th {\n",
       "        vertical-align: top;\n",
       "    }\n",
       "\n",
       "    .dataframe thead th {\n",
       "        text-align: right;\n",
       "    }\n",
       "</style>\n",
       "<table border=\"1\" class=\"dataframe\">\n",
       "  <thead>\n",
       "    <tr style=\"text-align: right;\">\n",
       "      <th></th>\n",
       "      <th>clump_thick</th>\n",
       "      <th>cell_size</th>\n",
       "      <th>marginal_adhesion</th>\n",
       "      <th>single_epithelial_size</th>\n",
       "      <th>bland_chromatin</th>\n",
       "      <th>normal_nucleoli</th>\n",
       "      <th>mitoses</th>\n",
       "    </tr>\n",
       "  </thead>\n",
       "  <tbody>\n",
       "    <tr>\n",
       "      <th>23</th>\n",
       "      <td>8</td>\n",
       "      <td>4</td>\n",
       "      <td>1</td>\n",
       "      <td>2</td>\n",
       "      <td>7</td>\n",
       "      <td>3</td>\n",
       "      <td>1</td>\n",
       "    </tr>\n",
       "    <tr>\n",
       "      <th>40</th>\n",
       "      <td>6</td>\n",
       "      <td>6</td>\n",
       "      <td>9</td>\n",
       "      <td>6</td>\n",
       "      <td>7</td>\n",
       "      <td>8</td>\n",
       "      <td>1</td>\n",
       "    </tr>\n",
       "    <tr>\n",
       "      <th>139</th>\n",
       "      <td>1</td>\n",
       "      <td>1</td>\n",
       "      <td>1</td>\n",
       "      <td>1</td>\n",
       "      <td>2</td>\n",
       "      <td>1</td>\n",
       "      <td>1</td>\n",
       "    </tr>\n",
       "    <tr>\n",
       "      <th>145</th>\n",
       "      <td>1</td>\n",
       "      <td>1</td>\n",
       "      <td>1</td>\n",
       "      <td>2</td>\n",
       "      <td>2</td>\n",
       "      <td>1</td>\n",
       "      <td>1</td>\n",
       "    </tr>\n",
       "    <tr>\n",
       "      <th>158</th>\n",
       "      <td>1</td>\n",
       "      <td>1</td>\n",
       "      <td>1</td>\n",
       "      <td>3</td>\n",
       "      <td>1</td>\n",
       "      <td>1</td>\n",
       "      <td>1</td>\n",
       "    </tr>\n",
       "  </tbody>\n",
       "</table>\n",
       "</div>"
      ],
      "text/plain": [
       "     clump_thick  cell_size  marginal_adhesion  single_epithelial_size  \\\n",
       "23             8          4                  1                       2   \n",
       "40             6          6                  9                       6   \n",
       "139            1          1                  1                       1   \n",
       "145            1          1                  1                       2   \n",
       "158            1          1                  1                       3   \n",
       "\n",
       "     bland_chromatin  normal_nucleoli  mitoses  \n",
       "23                 7                3        1  \n",
       "40                 7                8        1  \n",
       "139                2                1        1  \n",
       "145                2                1        1  \n",
       "158                1                1        1  "
      ]
     },
     "execution_count": 511,
     "metadata": {},
     "output_type": "execute_result"
    }
   ],
   "source": [
    "X_unknown.head()"
   ]
  },
  {
   "cell_type": "code",
   "execution_count": 469,
   "metadata": {},
   "outputs": [],
   "source": [
    "#Perform a 70/30 train - validate split\n",
    "train, val, y_train, y_val = train_test_split(X_train, y_train, test_size=0.30, random_state=42)"
   ]
  },
  {
   "cell_type": "markdown",
   "metadata": {},
   "source": [
    "Now that we have prepared our data by removing the target variable from the training data, scaling the data, and splitting the training data into 60% training set and 40% validation set, we can now tune a regression model"
   ]
  },
  {
   "cell_type": "code",
   "execution_count": 447,
   "metadata": {},
   "outputs": [],
   "source": [
    "from sklearn.linear_model import LinearRegression, Ridge, Lasso"
   ]
  },
  {
   "cell_type": "code",
   "execution_count": 448,
   "metadata": {},
   "outputs": [],
   "source": [
    "lm = LinearRegression()\n",
    "lr = Ridge(alpha = 0.1)\n",
    "ls = Lasso(alpha = 0.1)"
   ]
  },
  {
   "cell_type": "code",
   "execution_count": 449,
   "metadata": {},
   "outputs": [
    {
     "data": {
      "text/plain": [
       "Lasso(alpha=0.1, copy_X=True, fit_intercept=True, max_iter=1000,\n",
       "   normalize=False, positive=False, precompute=False, random_state=None,\n",
       "   selection='cyclic', tol=0.0001, warm_start=False)"
      ]
     },
     "execution_count": 449,
     "metadata": {},
     "output_type": "execute_result"
    }
   ],
   "source": [
    "lm.fit(train, y_train)\n",
    "lr.fit(train, y_train)\n",
    "ls.fit(train, y_train)"
   ]
  },
  {
   "cell_type": "code",
   "execution_count": 450,
   "metadata": {},
   "outputs": [
    {
     "name": "stdout",
     "output_type": "stream",
     "text": [
      "TRAINING DATA R^2 SCORE\n",
      "-----------------------\n",
      "Linear Regression Model: 0.5930626354976749 R^2\n",
      "Ridge Linear Regression: 0.593062635341173 R^2\n",
      "Lasso Linear Regression: 0.5926503963396388 R^2\n"
     ]
    }
   ],
   "source": [
    "print('TRAINING DATA R^2 SCORE')\n",
    "print('-----------------------')\n",
    "print('Linear Regression Model: {} R^2'.format(lm.score(train,y_train)))\n",
    "print('Ridge Linear Regression: {} R^2'.format(lr.score(train,y_train)))\n",
    "print('Lasso Linear Regression: {} R^2'.format(ls.score(train,y_train)))"
   ]
  },
  {
   "cell_type": "code",
   "execution_count": 451,
   "metadata": {},
   "outputs": [
    {
     "name": "stdout",
     "output_type": "stream",
     "text": [
      "VALIDATION DATA R^2 SCORE\n",
      "-------------------\n",
      "Linear Regression Model: 0.6208451201327663 R^2\n",
      "Ridge Linear Regression: 0.6208448338570569 R^2\n",
      "Lasso Linear Regression: 0.6193526481579414 R^2\n"
     ]
    }
   ],
   "source": [
    "print('VALIDATION DATA R^2 SCORE')\n",
    "print('-------------------')\n",
    "print('Linear Regression Model: {} R^2'.format(lm.score(val, y_val)))\n",
    "print('Ridge Linear Regression: {} R^2'.format(lr.score(val,y_val)))\n",
    "print('Lasso Linear Regression: {} R^2'.format(ls.score(val,y_val)))"
   ]
  },
  {
   "cell_type": "markdown",
   "metadata": {},
   "source": [
    "Ridge regression and normal linear regression appear to be performing the best intially. Let's predict on the unknown data and compare predicitons amongst all 3 models"
   ]
  },
  {
   "cell_type": "code",
   "execution_count": 452,
   "metadata": {},
   "outputs": [],
   "source": [
    "regression_predictions = [round(x) for x in lm.predict(X_unknown)]\n",
    "ridge_predictions = [round(x) for x in lr.predict(X_unknown)]\n",
    "lasso_predictions = [round(x) for x in ls.predict(X_unknown)]"
   ]
  },
  {
   "cell_type": "code",
   "execution_count": 453,
   "metadata": {},
   "outputs": [
    {
     "data": {
      "image/png": "[encoded data removed]",
      "text/plain": [
       "<Figure size 1080x576 with 1 Axes>"
      ]
     },
     "metadata": {
      "needs_background": "light"
     },
     "output_type": "display_data"
    }
   ],
   "source": [
    "plt.subplots(nrows=1, ncols =1, figsize = (15,8))\n",
    "ax = plt.subplot(111)\n",
    "ax.scatter(range(len(regression_predictions)), regression_predictions, color = 'r', label='regresssion', s = 800, edgecolors ='k')\n",
    "ax.scatter(range(len(regression_predictions)), ridge_predictions, color = 'b', label = 'ridge', s = 400, edgecolors = 'k')\n",
    "ax.scatter(range(len(regression_predictions)), lasso_predictions, color = 'g', label = 'lasso' , s = 200, edgecolors = 'k')\n",
    "plt.legend()\n",
    "plt.title('Model Predictions')\n",
    "plt.xlabel('Unknown Observation #')\n",
    "plt.ylabel('Prediction')\n",
    "ax.spines['right'].set_visible(False)\n",
    "ax.spines['top'].set_visible(False)\n",
    "plt.show()\n"
   ]
  },
  {
   "cell_type": "markdown",
   "metadata": {},
   "source": [
    "For the most part, it appears that all 3 models agree on predictions for the missing values. Only the LASSO model dissagress with the other two models on 4 instances of the 16 observations. Since the predictions being made are values between 1 and ten, this is could be treated as a multiclass classifcation problem. Real quick, let's just fit a random forest model and see what results it gives us"
   ]
  },
  {
   "cell_type": "code",
   "execution_count": 387,
   "metadata": {},
   "outputs": [],
   "source": [
    "from sklearn.ensemble import RandomForestClassifier"
   ]
  },
  {
   "cell_type": "code",
   "execution_count": 388,
   "metadata": {},
   "outputs": [],
   "source": [
    "clf = RandomForestClassifier(n_estimators=500, max_features=3)"
   ]
  },
  {
   "cell_type": "code",
   "execution_count": 389,
   "metadata": {},
   "outputs": [
    {
     "data": {
      "text/plain": [
       "RandomForestClassifier(bootstrap=True, class_weight=None, criterion='gini',\n",
       "            max_depth=None, max_features=3, max_leaf_nodes=None,\n",
       "            min_impurity_decrease=0.0, min_impurity_split=None,\n",
       "            min_samples_leaf=1, min_samples_split=2,\n",
       "            min_weight_fraction_leaf=0.0, n_estimators=500, n_jobs=1,\n",
       "            oob_score=False, random_state=None, verbose=0,\n",
       "            warm_start=False)"
      ]
     },
     "execution_count": 389,
     "metadata": {},
     "output_type": "execute_result"
    }
   ],
   "source": [
    "clf.fit(train, y_train)"
   ]
  },
  {
   "cell_type": "code",
   "execution_count": 390,
   "metadata": {},
   "outputs": [],
   "source": [
    "from sklearn.metrics import confusion_matrix, classification_report"
   ]
  },
  {
   "cell_type": "code",
   "execution_count": 391,
   "metadata": {},
   "outputs": [
    {
     "data": {
      "image/png": "[encoded data removed]",
      "text/plain": [
       "<Figure size 1080x576 with 2 Axes>"
      ]
     },
     "metadata": {
      "needs_background": "light"
     },
     "output_type": "display_data"
    }
   ],
   "source": [
    "plt.figure(figsize = (15,8))\n",
    "sns.heatmap(confusion_matrix(y_train, clf.predict(train)), annot = True, cmap = 'coolwarm')\n",
    "plt.xticks(np.arange(10) + 0.5, [1,10,2,3,4,5,6,7,8,9])\n",
    "plt.yticks(np.arange(10) + 0.5, [1,10,2,3,4,5,6,7,8,9])\n",
    "plt.title('Training Set Confustion Matrix')\n",
    "plt.xlabel('True')\n",
    "plt.ylabel('Predicted')\n",
    "plt.show()"
   ]
  },
  {
   "cell_type": "code",
   "execution_count": 392,
   "metadata": {},
   "outputs": [
    {
     "name": "stdout",
     "output_type": "stream",
     "text": [
      "             precision    recall  f1-score   support\n",
      "\n",
      "          1       0.96      1.00      0.98       288\n",
      "         10       1.00      1.00      1.00        90\n",
      "          2       1.00      0.78      0.88        18\n",
      "          3       1.00      0.83      0.91        18\n",
      "          4       1.00      0.83      0.91        12\n",
      "          5       1.00      0.87      0.93        23\n",
      "          6       1.00      1.00      1.00         2\n",
      "          7       1.00      1.00      1.00         7\n",
      "          8       1.00      1.00      1.00        16\n",
      "          9       1.00      1.00      1.00         4\n",
      "\n",
      "avg / total       0.98      0.97      0.97       478\n",
      "\n"
     ]
    }
   ],
   "source": [
    "print(classification_report(y_train, clf.predict(train)))"
   ]
  },
  {
   "cell_type": "code",
   "execution_count": 393,
   "metadata": {},
   "outputs": [
    {
     "data": {
      "image/png": "[encoded data removed]",
      "text/plain": [
       "<Figure size 1080x576 with 2 Axes>"
      ]
     },
     "metadata": {
      "needs_background": "light"
     },
     "output_type": "display_data"
    }
   ],
   "source": [
    "plt.figure(figsize = (15,8))\n",
    "sns.heatmap(confusion_matrix(y_val, clf.predict(val)), annot = True, cmap = 'coolwarm')\n",
    "plt.xticks(np.arange(10) + 0.5, [1,10,2,3,4,5,6,7,8,9])\n",
    "plt.yticks(np.arange(10) + 0.5, [1,10,2,3,4,5,6,7,8,9])\n",
    "plt.title('Validation Set Confustion Matrix')\n",
    "plt.xlabel('True')\n",
    "plt.ylabel('Predicted')\n",
    "plt.show()"
   ]
  },
  {
   "cell_type": "code",
   "execution_count": 458,
   "metadata": {},
   "outputs": [
    {
     "name": "stdout",
     "output_type": "stream",
     "text": [
      "             precision    recall  f1-score   support\n",
      "\n",
      "          1       0.84      0.94      0.88       114\n",
      "         10       0.52      0.76      0.62        42\n",
      "          2       0.00      0.00      0.00        12\n",
      "          3       0.00      0.00      0.00        10\n",
      "          4       0.00      0.00      0.00         7\n",
      "          5       0.00      0.00      0.00         7\n",
      "          6       0.00      0.00      0.00         2\n",
      "          7       0.00      0.00      0.00         1\n",
      "          8       0.50      0.20      0.29         5\n",
      "          9       0.00      0.00      0.00         5\n",
      "\n",
      "avg / total       0.58      0.68      0.63       205\n",
      "\n"
     ]
    }
   ],
   "source": [
    "print(classification_report(y_val, clf.predict(val)))"
   ]
  },
  {
   "cell_type": "markdown",
   "metadata": {},
   "source": [
    "The Random Forest Classifier unfortunately severely overfit the training data. When the model was optimized to reduce high variance, the performance for both the training and validation set greatly attenuated. Let's continue using only our ridge regression model. We will use the original dataframe, filter it by the rows that have the ? symbol, and feed those rows into our trained model to make a prediction. We will then update the original dataframe with those predicted rows"
   ]
  },
  {
   "cell_type": "code",
   "execution_count": 459,
   "metadata": {},
   "outputs": [
    {
     "data": {
      "text/plain": [
       "23     ?\n",
       "40     ?\n",
       "139    ?\n",
       "145    ?\n",
       "158    ?\n",
       "164    ?\n",
       "235    ?\n",
       "249    ?\n",
       "275    ?\n",
       "292    ?\n",
       "294    ?\n",
       "297    ?\n",
       "315    ?\n",
       "321    ?\n",
       "411    ?\n",
       "617    ?\n",
       "Name: bare_nuclei, dtype: object"
      ]
     },
     "metadata": {},
     "output_type": "display_data"
    },
    {
     "data": {
      "text/plain": [
       "23     5\n",
       "40     8\n",
       "139    1\n",
       "145    1\n",
       "158    1\n",
       "164    2\n",
       "235    2\n",
       "249    2\n",
       "275    1\n",
       "292    6\n",
       "294    1\n",
       "297    3\n",
       "315    6\n",
       "321    2\n",
       "411    1\n",
       "617    1\n",
       "Name: bare_nuclei, dtype: int64"
      ]
     },
     "metadata": {},
     "output_type": "display_data"
    }
   ],
   "source": [
    "predicted = df[df.bare_nuclei == '?']\n",
    "display(predicted.bare_nuclei)\n",
    "predicted['bare_nuclei'] = predicted.loc[:, [x for x in df.columns if x not in ['class', \n",
    "                                                                                'bare_nuclei', \n",
    "                                                                                'id_number',\n",
    "                                                                                'cell_shape']]]. \\\n",
    "apply(lambda x: int(round(lr.predict(np.array(x).reshape(1,-1))[0])), axis = 1)\n",
    "display(predicted.bare_nuclei)"
   ]
  },
  {
   "cell_type": "code",
   "execution_count": 460,
   "metadata": {},
   "outputs": [],
   "source": [
    "regression_df = predicted.combine_first(df)"
   ]
  },
  {
   "cell_type": "markdown",
   "metadata": {},
   "source": [
    "# REGRESSION WITH PERTURBATION"
   ]
  },
  {
   "cell_type": "markdown",
   "metadata": {},
   "source": [
    "For regression with Perturbation, we could perturb the dependent variable and train a model to fit the perturbed labeled classes, or we could perturb one to all of the features in the training set. Let's perform the latter and perturb all the training features by using numpy's **random** module"
   ]
  },
  {
   "cell_type": "code",
   "execution_count": 482,
   "metadata": {},
   "outputs": [],
   "source": [
    "from numpy import random"
   ]
  },
  {
   "cell_type": "markdown",
   "metadata": {},
   "source": [
    "Create a function that when passed a value will perturb that value by a value chosen from the random uniform distribution. The uniform function will be bound from a minimum of 0.01 and a maximum of 0.5"
   ]
  },
  {
   "cell_type": "code",
   "execution_count": 483,
   "metadata": {},
   "outputs": [],
   "source": [
    "def perturb_data(x):\n",
    "    random_perturbation_value = random.uniform(0.01, 0.5)\n",
    "    return x + random_perturbation_value"
   ]
  },
  {
   "cell_type": "code",
   "execution_count": 514,
   "metadata": {},
   "outputs": [],
   "source": [
    "X_perturbed = X_train.applymap(perturb_data).drop('cell_shape', axis = 1)\n",
    "X_unknown = X_unknown.drop('cell_shape', axis =1)"
   ]
  },
  {
   "cell_type": "code",
   "execution_count": 515,
   "metadata": {},
   "outputs": [
    {
     "data": {
      "text/html": [
       "<div>\n",
       "<style scoped>\n",
       "    .dataframe tbody tr th:only-of-type {\n",
       "        vertical-align: middle;\n",
       "    }\n",
       "\n",
       "    .dataframe tbody tr th {\n",
       "        vertical-align: top;\n",
       "    }\n",
       "\n",
       "    .dataframe thead th {\n",
       "        text-align: right;\n",
       "    }\n",
       "</style>\n",
       "<table border=\"1\" class=\"dataframe\">\n",
       "  <thead>\n",
       "    <tr style=\"text-align: right;\">\n",
       "      <th></th>\n",
       "      <th>clump_thick</th>\n",
       "      <th>cell_size</th>\n",
       "      <th>marginal_adhesion</th>\n",
       "      <th>single_epithelial_size</th>\n",
       "      <th>bland_chromatin</th>\n",
       "      <th>normal_nucleoli</th>\n",
       "      <th>mitoses</th>\n",
       "    </tr>\n",
       "  </thead>\n",
       "  <tbody>\n",
       "    <tr>\n",
       "      <th>0</th>\n",
       "      <td>5.150864</td>\n",
       "      <td>1.081866</td>\n",
       "      <td>1.060537</td>\n",
       "      <td>2.433456</td>\n",
       "      <td>3.069821</td>\n",
       "      <td>1.063825</td>\n",
       "      <td>1.174128</td>\n",
       "    </tr>\n",
       "    <tr>\n",
       "      <th>1</th>\n",
       "      <td>5.415497</td>\n",
       "      <td>4.190781</td>\n",
       "      <td>5.368362</td>\n",
       "      <td>7.276969</td>\n",
       "      <td>3.403928</td>\n",
       "      <td>2.045791</td>\n",
       "      <td>1.377286</td>\n",
       "    </tr>\n",
       "    <tr>\n",
       "      <th>2</th>\n",
       "      <td>3.290998</td>\n",
       "      <td>1.269518</td>\n",
       "      <td>1.453180</td>\n",
       "      <td>2.356982</td>\n",
       "      <td>3.294174</td>\n",
       "      <td>1.468491</td>\n",
       "      <td>1.020592</td>\n",
       "    </tr>\n",
       "    <tr>\n",
       "      <th>3</th>\n",
       "      <td>6.277502</td>\n",
       "      <td>8.389768</td>\n",
       "      <td>1.459068</td>\n",
       "      <td>3.488128</td>\n",
       "      <td>3.239609</td>\n",
       "      <td>7.453250</td>\n",
       "      <td>1.473643</td>\n",
       "    </tr>\n",
       "    <tr>\n",
       "      <th>4</th>\n",
       "      <td>4.260226</td>\n",
       "      <td>1.444531</td>\n",
       "      <td>3.241891</td>\n",
       "      <td>2.207681</td>\n",
       "      <td>3.392368</td>\n",
       "      <td>1.197347</td>\n",
       "      <td>1.463228</td>\n",
       "    </tr>\n",
       "  </tbody>\n",
       "</table>\n",
       "</div>"
      ],
      "text/plain": [
       "   clump_thick  cell_size  marginal_adhesion  single_epithelial_size  \\\n",
       "0     5.150864   1.081866           1.060537                2.433456   \n",
       "1     5.415497   4.190781           5.368362                7.276969   \n",
       "2     3.290998   1.269518           1.453180                2.356982   \n",
       "3     6.277502   8.389768           1.459068                3.488128   \n",
       "4     4.260226   1.444531           3.241891                2.207681   \n",
       "\n",
       "   bland_chromatin  normal_nucleoli   mitoses  \n",
       "0         3.069821         1.063825  1.174128  \n",
       "1         3.403928         2.045791  1.377286  \n",
       "2         3.294174         1.468491  1.020592  \n",
       "3         3.239609         7.453250  1.473643  \n",
       "4         3.392368         1.197347  1.463228  "
      ]
     },
     "execution_count": 515,
     "metadata": {},
     "output_type": "execute_result"
    }
   ],
   "source": [
    "X_perturbed.head()"
   ]
  },
  {
   "cell_type": "markdown",
   "metadata": {},
   "source": [
    "Create the train and validation sets"
   ]
  },
  {
   "cell_type": "code",
   "execution_count": 516,
   "metadata": {},
   "outputs": [],
   "source": [
    "#Perform a 70/30 train - validate split\n",
    "train, val, y_train, y_val = train_test_split(X_perturbed, y_train, test_size=0.30, random_state=42)"
   ]
  },
  {
   "cell_type": "code",
   "execution_count": 517,
   "metadata": {},
   "outputs": [],
   "source": [
    "lm = LinearRegression()\n",
    "lr = Ridge(alpha = 0.1)\n",
    "ls = Lasso(alpha = 0.1)"
   ]
  },
  {
   "cell_type": "code",
   "execution_count": 518,
   "metadata": {},
   "outputs": [
    {
     "data": {
      "text/plain": [
       "Lasso(alpha=0.1, copy_X=True, fit_intercept=True, max_iter=1000,\n",
       "   normalize=False, positive=False, precompute=False, random_state=None,\n",
       "   selection='cyclic', tol=0.0001, warm_start=False)"
      ]
     },
     "execution_count": 518,
     "metadata": {},
     "output_type": "execute_result"
    }
   ],
   "source": [
    "lm.fit(train, y_train)\n",
    "lr.fit(train, y_train)\n",
    "ls.fit(train, y_train)"
   ]
  },
  {
   "cell_type": "code",
   "execution_count": 519,
   "metadata": {},
   "outputs": [
    {
     "name": "stdout",
     "output_type": "stream",
     "text": [
      "TRAINING DATA R^2 SCORE\n",
      "-----------------------\n",
      "Linear Regression Model: 0.5934230664771337 R^2\n",
      "Ridge Linear Regression: 0.5934230663131856 R^2\n",
      "Lasso Linear Regression: 0.5929464766716372 R^2\n"
     ]
    }
   ],
   "source": [
    "print('TRAINING DATA R^2 SCORE')\n",
    "print('-----------------------')\n",
    "print('Linear Regression Model: {} R^2'.format(lm.score(train,y_train)))\n",
    "print('Ridge Linear Regression: {} R^2'.format(lr.score(train,y_train)))\n",
    "print('Lasso Linear Regression: {} R^2'.format(ls.score(train,y_train)))"
   ]
  },
  {
   "cell_type": "code",
   "execution_count": 520,
   "metadata": {},
   "outputs": [
    {
     "name": "stdout",
     "output_type": "stream",
     "text": [
      "VALIDATION DATA R^2 SCORE\n",
      "-------------------\n",
      "Linear Regression Model: 0.6181635785395408 R^2\n",
      "Ridge Linear Regression: 0.6181634698420793 R^2\n",
      "Lasso Linear Regression: 0.6167314019153769 R^2\n"
     ]
    }
   ],
   "source": [
    "print('VALIDATION DATA R^2 SCORE')\n",
    "print('-------------------')\n",
    "print('Linear Regression Model: {} R^2'.format(lm.score(val, y_val)))\n",
    "print('Ridge Linear Regression: {} R^2'.format(lr.score(val,y_val)))\n",
    "print('Lasso Linear Regression: {} R^2'.format(ls.score(val,y_val)))"
   ]
  },
  {
   "cell_type": "code",
   "execution_count": 521,
   "metadata": {},
   "outputs": [],
   "source": [
    "perturbed_regression_predictions = [round(x) for x in lm.predict(X_unknown)]\n",
    "perturbed_ridge_predictions = [round(x) for x in lr.predict(X_unknown)]\n",
    "perturbed_lasso_predictions = [round(x) for x in ls.predict(X_unknown)]"
   ]
  },
  {
   "cell_type": "code",
   "execution_count": 522,
   "metadata": {},
   "outputs": [
    {
     "data": {
      "image/png": "[encoded data removed]",
      "text/plain": [
       "<Figure size 1080x576 with 1 Axes>"
      ]
     },
     "metadata": {
      "needs_background": "light"
     },
     "output_type": "display_data"
    }
   ],
   "source": [
    "plt.subplots(nrows=1, ncols =1, figsize = (15,8))\n",
    "ax = plt.subplot(111)\n",
    "ax.scatter(range(len(regression_predictions)), perturbed_regression_predictions, color = 'r', label='regresssion', s = 800, edgecolors ='k')\n",
    "ax.scatter(range(len(regression_predictions)), perturbed_ridge_predictions, color = 'b', label = 'ridge', s = 400, edgecolors = 'k')\n",
    "ax.scatter(range(len(regression_predictions)), perturbed_lasso_predictions, color = 'g', label = 'lasso' , s = 200, edgecolors = 'k')\n",
    "plt.legend()\n",
    "plt.title('Model Predictions')\n",
    "plt.xlabel('Unknown Observation #')\n",
    "plt.ylabel('Prediction')\n",
    "ax.spines['right'].set_visible(False)\n",
    "ax.spines['top'].set_visible(False)\n",
    "plt.show()"
   ]
  },
  {
   "cell_type": "code",
   "execution_count": 523,
   "metadata": {},
   "outputs": [
    {
     "data": {
      "image/png": "[encoded data removed]",
      "text/plain": [
       "<Figure size 1080x576 with 1 Axes>"
      ]
     },
     "metadata": {
      "needs_background": "light"
     },
     "output_type": "display_data"
    }
   ],
   "source": [
    "plt.figure(figsize = (15,8))\n",
    "plt.scatter(range(len(regression_predictions)), perturbed_regression_predictions, color = 'r', edgecolors='k', label='Perturbed', s = 800)\n",
    "plt.scatter(range(len(regression_predictions)), regression_predictions, color = 'b', edgecolors='k', label = 'Non Perturbed', s = 400)\n",
    "plt.title('Perturbed vs Non Perturbed Predictions')\n",
    "plt.xlabel('Unknown Observation #')\n",
    "plt.ylabel('Prediction')\n",
    "plt.legend()\n",
    "plt.show()"
   ]
  },
  {
   "cell_type": "markdown",
   "metadata": {},
   "source": [
    "The perturbed vs non perturbed models are relatively similar. Where they disagree is, the difference is only by 1. "
   ]
  },
  {
   "cell_type": "code",
   "execution_count": 526,
   "metadata": {},
   "outputs": [
    {
     "data": {
      "text/plain": [
       "23     ?\n",
       "40     ?\n",
       "139    ?\n",
       "145    ?\n",
       "158    ?\n",
       "164    ?\n",
       "235    ?\n",
       "249    ?\n",
       "275    ?\n",
       "292    ?\n",
       "294    ?\n",
       "297    ?\n",
       "315    ?\n",
       "321    ?\n",
       "411    ?\n",
       "617    ?\n",
       "Name: bare_nuclei, dtype: object"
      ]
     },
     "metadata": {},
     "output_type": "display_data"
    },
    {
     "data": {
      "text/plain": [
       "23     5\n",
       "40     8\n",
       "139    1\n",
       "145    1\n",
       "158    0\n",
       "164    2\n",
       "235    1\n",
       "249    1\n",
       "275    1\n",
       "292    5\n",
       "294    1\n",
       "297    2\n",
       "315    6\n",
       "321    1\n",
       "411    1\n",
       "617    0\n",
       "Name: bare_nuclei, dtype: int64"
      ]
     },
     "metadata": {},
     "output_type": "display_data"
    }
   ],
   "source": [
    "perturbed = df[df.bare_nuclei == '?']\n",
    "display(perturbed.bare_nuclei)\n",
    "perturbed['bare_nuclei'] = perturbed.loc[:, [x for x in df.columns if x not in ['class', \n",
    "                                                                                'bare_nuclei', \n",
    "                                                                                'id_number',\n",
    "                                                                                'cell_shape']]]. \\\n",
    "apply(lambda x: int(round(lr.predict(np.array(x).reshape(1,-1))[0])), axis = 1)\n",
    "display(perturbed.bare_nuclei)"
   ]
  },
  {
   "cell_type": "code",
   "execution_count": 527,
   "metadata": {},
   "outputs": [],
   "source": [
    "perturbed_df = perturbed.combine_first(df)"
   ]
  },
  {
   "cell_type": "markdown",
   "metadata": {},
   "source": [
    "# KNN MODEL USING VALUES FROM 1, 2, AND 3"
   ]
  },
  {
   "cell_type": "code",
   "execution_count": 540,
   "metadata": {},
   "outputs": [],
   "source": [
    "def prep_df(df):\n",
    "    df['class'] = df['class'].replace(2,0).replace(4,1)\n",
    "    y = df['class']\n",
    "    df = df.drop(['class', 'cell_shape', 'id_number'], axis = 1)\n",
    "    return df, y"
   ]
  },
  {
   "cell_type": "code",
   "execution_count": 528,
   "metadata": {},
   "outputs": [],
   "source": [
    "from sklearn.neighbors import KNeighborsClassifier"
   ]
  },
  {
   "cell_type": "code",
   "execution_count": 558,
   "metadata": {},
   "outputs": [],
   "source": [
    "models = {}"
   ]
  },
  {
   "cell_type": "code",
   "execution_count": 544,
   "metadata": {},
   "outputs": [],
   "source": [
    "clf = KNeighborsClassifier(n_neighbors = 4)"
   ]
  },
  {
   "cell_type": "code",
   "execution_count": 565,
   "metadata": {},
   "outputs": [],
   "source": [
    "mode_df , y = prep_df(mode_df)\n",
    "regression_df , y = prep_df(regression_df)\n",
    "perturbed_df, y = prep_df(perturbed_df)"
   ]
  },
  {
   "cell_type": "code",
   "execution_count": 566,
   "metadata": {},
   "outputs": [],
   "source": [
    "def neighbor_model(df, y, clf, impute_type):\n",
    "    \n",
    "    X_train, X_test, y_train, y_test = train_test_split(df, y, test_size=0.33, random_state=42)\n",
    "    \n",
    "    clf.fit(X_train, y_train)\n",
    "    \n",
    "    train_score = clf.score(X_train, y_train)\n",
    "    \n",
    "    test_score = clf.score( X_test, y_test)\n",
    "    \n",
    "    models[impute_type] = {'Train Score': train_score, 'Test Score': test_score}\n",
    "    print('******************** IMPUTATION METHOD: \"{}\" ********************'.format(impute_type))\n",
    "    \n",
    "    print('TRAINING SET METRICS\\n')\n",
    "    print(classification_report(y_train, clf.predict(X_train)))\n",
    "    \n",
    "    print('\\nTEST SET METRICS\\n')\n",
    "    print(classification_report(y_test, clf.predict(X_test)))"
   ]
  },
  {
   "cell_type": "code",
   "execution_count": 567,
   "metadata": {},
   "outputs": [
    {
     "name": "stdout",
     "output_type": "stream",
     "text": [
      "******************** IMPUTATION METHOD: \"MODE\" ********************\n",
      "TRAINING SET METRICS\n",
      "\n",
      "             precision    recall  f1-score   support\n",
      "\n",
      "        0.0       0.96      0.99      0.98       304\n",
      "        1.0       0.97      0.93      0.95       164\n",
      "\n",
      "avg / total       0.97      0.97      0.97       468\n",
      "\n",
      "\n",
      "TEST SET METRICS\n",
      "\n",
      "             precision    recall  f1-score   support\n",
      "\n",
      "        0.0       0.96      0.99      0.97       154\n",
      "        1.0       0.97      0.92      0.95        77\n",
      "\n",
      "avg / total       0.97      0.97      0.97       231\n",
      "\n"
     ]
    }
   ],
   "source": [
    "neighbor_model(mode_df, y, clf, 'MODE')"
   ]
  },
  {
   "cell_type": "code",
   "execution_count": 569,
   "metadata": {},
   "outputs": [
    {
     "name": "stdout",
     "output_type": "stream",
     "text": [
      "******************** IMPUTATION METHOD: \"REGRESSION\" ********************\n",
      "TRAINING SET METRICS\n",
      "\n",
      "             precision    recall  f1-score   support\n",
      "\n",
      "        0.0       0.96      0.98      0.97       304\n",
      "        1.0       0.96      0.93      0.95       164\n",
      "\n",
      "avg / total       0.96      0.96      0.96       468\n",
      "\n",
      "\n",
      "TEST SET METRICS\n",
      "\n",
      "             precision    recall  f1-score   support\n",
      "\n",
      "        0.0       0.96      0.99      0.97       154\n",
      "        1.0       0.97      0.92      0.95        77\n",
      "\n",
      "avg / total       0.97      0.97      0.97       231\n",
      "\n"
     ]
    }
   ],
   "source": [
    "neighbor_model(regression_df, y, clf, 'REGRESSION')"
   ]
  },
  {
   "cell_type": "code",
   "execution_count": 570,
   "metadata": {},
   "outputs": [
    {
     "name": "stdout",
     "output_type": "stream",
     "text": [
      "******************** IMPUTATION METHOD: \"PERTUBATION\" ********************\n",
      "TRAINING SET METRICS\n",
      "\n",
      "             precision    recall  f1-score   support\n",
      "\n",
      "        0.0       0.96      0.98      0.97       304\n",
      "        1.0       0.96      0.93      0.95       164\n",
      "\n",
      "avg / total       0.96      0.96      0.96       468\n",
      "\n",
      "\n",
      "TEST SET METRICS\n",
      "\n",
      "             precision    recall  f1-score   support\n",
      "\n",
      "        0.0       0.96      0.99      0.97       154\n",
      "        1.0       0.97      0.92      0.95        77\n",
      "\n",
      "avg / total       0.97      0.97      0.97       231\n",
      "\n"
     ]
    }
   ],
   "source": [
    "neighbor_model(perturbed_df, y, clf, 'PERTUBATION')"
   ]
  },
  {
   "cell_type": "code",
   "execution_count": 571,
   "metadata": {},
   "outputs": [
    {
     "data": {
      "text/plain": [
       "{'MODE': {'Train Score': 0.967948717948718, 'Test Score': 0.9653679653679653},\n",
       " 'REGRESSION': {'Train Score': 0.9636752136752137,\n",
       "  'Test Score': 0.9653679653679653},\n",
       " 'PERTUBATION': {'Train Score': 0.9636752136752137,\n",
       "  'Test Score': 0.9653679653679653}}"
      ]
     },
     "execution_count": 571,
     "metadata": {},
     "output_type": "execute_result"
    }
   ],
   "source": [
    "models"
   ]
  },
  {
   "cell_type": "code",
   "execution_count": 573,
   "metadata": {},
   "outputs": [
    {
     "data": {
      "text/html": [
       "<div>\n",
       "<style scoped>\n",
       "    .dataframe tbody tr th:only-of-type {\n",
       "        vertical-align: middle;\n",
       "    }\n",
       "\n",
       "    .dataframe tbody tr th {\n",
       "        vertical-align: top;\n",
       "    }\n",
       "\n",
       "    .dataframe thead th {\n",
       "        text-align: right;\n",
       "    }\n",
       "</style>\n",
       "<table border=\"1\" class=\"dataframe\">\n",
       "  <thead>\n",
       "    <tr style=\"text-align: right;\">\n",
       "      <th></th>\n",
       "      <th>Test Score</th>\n",
       "      <th>Train Score</th>\n",
       "    </tr>\n",
       "  </thead>\n",
       "  <tbody>\n",
       "    <tr>\n",
       "      <th>MODE</th>\n",
       "      <td>0.965368</td>\n",
       "      <td>0.967949</td>\n",
       "    </tr>\n",
       "    <tr>\n",
       "      <th>REGRESSION</th>\n",
       "      <td>0.965368</td>\n",
       "      <td>0.963675</td>\n",
       "    </tr>\n",
       "    <tr>\n",
       "      <th>PERTUBATION</th>\n",
       "      <td>0.965368</td>\n",
       "      <td>0.963675</td>\n",
       "    </tr>\n",
       "  </tbody>\n",
       "</table>\n",
       "</div>"
      ],
      "text/plain": [
       "             Test Score  Train Score\n",
       "MODE           0.965368     0.967949\n",
       "REGRESSION     0.965368     0.963675\n",
       "PERTUBATION    0.965368     0.963675"
      ]
     },
     "execution_count": 573,
     "metadata": {},
     "output_type": "execute_result"
    }
   ],
   "source": [
    "pd.DataFrame(models).T"
   ]
  },
  {
   "cell_type": "markdown",
   "metadata": {},
   "source": [
    "### CONCLUSION\n",
    "-------------------\n",
    "It appears that all three models are performing very well for both the training and test set. The Mode imputation method however is providing just a little better accuracy on the Train set. "
   ]
  },
  {
   "cell_type": "markdown",
   "metadata": {},
   "source": [
    "# Question 15.1\n",
    "------------------\n",
    "Describe a situation or problem from your job, everyday life, current events, etc., for which optimization\n",
    "would be appropriate. What data would you need?"
   ]
  },
  {
   "cell_type": "markdown",
   "metadata": {},
   "source": [
    "With Amazon taking over the world in online retail, it is undoubtedly in their best interest to optimize their shipping business model. A good optimization problem could be determining how many products to ship from factory to each warehouse, or from each factory to each warehouse and direct to each end customer, to minimize shipping cost while meeting warehouse demands and not exceeding factory supplies. Data would be:\n",
    "\n",
    "* Shipping Cost per distance from warehouse\n",
    "* Shipping Cost per distance from factory\n",
    "* Factory supply churn rate\n",
    "* Warehouse capacity\n",
    "* Factory Supplies Cost"
   ]
  },
  {
   "cell_type": "code",
   "execution_count": null,
   "metadata": {},
   "outputs": [],
   "source": []
  }
 ],
 "metadata": {
  "kernelspec": {
   "display_name": "Python 3",
   "language": "python",
   "name": "python3"
  },
  "language_info": {
   "codemirror_mode": {
    "name": "ipython",
    "version": 3
   },
   "file_extension": ".py",
   "mimetype": "text/x-python",
   "name": "python",
   "nbconvert_exporter": "python",
   "pygments_lexer": "ipython3",
   "version": "3.7.0"
  }
 },
 "nbformat": 4,
 "nbformat_minor": 2
}

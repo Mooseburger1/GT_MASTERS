{
 "cells": [
  {
   "cell_type": "code",
   "execution_count": null,
   "metadata": {},
   "outputs": [],
   "source": [
    "import simpy\n",
    "import numpy as np\n",
    "import matplotlib.pyplot as plt\n",
    "import seaborn as sns"
   ]
  },
  {
   "cell_type": "markdown",
   "metadata": {},
   "source": [
    "In this problem you, can simulate a simplified airport security system at a busy airport. Passengers arrive\n",
    "according to a Poisson distribution with $\\lambda$$_{1}$ = 5 per minute (i.e., mean interarrival rate $\\mu$$_{1}$ = 0.2 minutes)\n",
    "to the ID/boarding-pass check queue, where there are several servers who each have exponential\n",
    "service time with mean rate $\\lambda$$_{2}$ = 0.75 minutes. [Hint: model them as one block that has more than one\n",
    "resource.] After that, the passengers are assigned to the shortest of the several personal-check queues,\n",
    "where they go through the personal scanner (time is uniformly distributed between 0.5 minutes and 1\n",
    "minute).\n",
    "Use the Arena software (PC users) or Python with SimPy (PC or Mac users) to build a simulation of the\n",
    "system, and then vary the number of ID/boarding-pass checkers and personal-check queues to\n",
    "determine how many are needed to keep average wait times below 15 minutes. [If you’re using SimPy,\n",
    "or if you have access to a non-student version of Arena, you can use λ1 = 50 to simulate a busier airport.]"
   ]
  },
  {
   "cell_type": "markdown",
   "metadata": {},
   "source": [
    "### DISCLAIMER - THIS PDF DOCUMENT IS LONG BECAUSE I'M OUTPUTTING THE STATUS OF EVERY CUSTOMER FOR A 24 HOUR PERIOD AT THE AIRPORTS. THIS OBVIOUSLY PRINTS OUT A LOT OF DATA DURING SIMULATION"
   ]
  },
  {
   "cell_type": "code",
   "execution_count": null,
   "metadata": {},
   "outputs": [],
   "source": [
    "def airport_model(num_servers, num_scanners, seed, lambda_):\n",
    "    \n",
    "    #set passengers arriving according to poisson\n",
    "    def generate_interarrival():\n",
    "        return np.random.poisson(1/lambda_)\n",
    "    \n",
    "    #set servers effeciency to exponential distribution\n",
    "    def generate_service():\n",
    "        return np.random.exponential(0.75)\n",
    "    \n",
    "    #set personal scanning to uniform distribution\n",
    "    def generate_screening():\n",
    "        return np.random.uniform(0.5, 1.0)\n",
    "\n",
    "    #main simulation execution function\n",
    "    def customer_run(env, servers, screening):\n",
    "        i = 0\n",
    "        while True:\n",
    "            i += 1\n",
    "            yield env.timeout(generate_interarrival())\n",
    "            \n",
    "            env.process(customer(env, i, servers, screening))\n",
    "            \n",
    "    #secondary simulation execution function       \n",
    "    def customer(env, customer, servers, screening):\n",
    "        with servers.request() as request:\n",
    "            with screening.request() as srequest:\n",
    "                tick = env.now\n",
    "                print(env.now, 'minutes: customer {} arrives'.format(customer))\n",
    "                yield request\n",
    "                print(env.now, 'minutes: customer {} is being served'.format(customer))\n",
    "                yield env.timeout(generate_service())\n",
    "                print(env.now, 'minutes: customer {} to screening'.format(customer))\n",
    "                yield srequest\n",
    "                yield env.timeout(generate_screening())\n",
    "                print(env.now, 'minutes: customer {} through security'.format(customer))\n",
    "                tock = env.now\n",
    "                times.append((tock - tick))\n",
    "                print('TOTAL WAIT FOR CUSTOMER {}: {} MINS'.format(customer, round((tock - tick),2)))\n",
    "            \n",
    "    #track queue times and lengths       \n",
    "    def observe(env, servers, screening):\n",
    "        while True:\n",
    "            obs_times.append(env.now)\n",
    "            seq_length.append(len(servers.queue))\n",
    "            scq_length.append(len(screening.queue))\n",
    "            yield env.timeout(1)\n",
    "        \n",
    "        \n",
    "    #instantiate simulation environment    \n",
    "    env = simpy.Environment()\n",
    "    \n",
    "    #amount of servers to adjust\n",
    "    servers = simpy.Resource(env, capacity = num_servers)\n",
    "    \n",
    "    #amount of personal scanners to adjust\n",
    "    screening = simpy.Resource(env, capacity = num_scanners)\n",
    "    \n",
    "    #set seed for reproducibility\n",
    "    np.random.seed(seed)\n",
    "    \n",
    "    #process customer_run function in the environment\n",
    "    env.process(customer_run(env, servers, screening))\n",
    "    #process observe function in the evnironment\n",
    "    env.process(observe(env, servers, screening))\n",
    "    \n",
    "    #empty lists to write data to\n",
    "    times = []\n",
    "    obs_times = []\n",
    "    seq_length = []\n",
    "    scq_length = []\n",
    "    \n",
    "    #run the environment - simulate 12 hours\n",
    "    env.run(until = 1080)\n",
    "    \n",
    "    return times, obs_times, seq_length, scq_length"
   ]
  },
  {
   "cell_type": "markdown",
   "metadata": {},
   "source": [
    "# Let's try simulating the simple airport for customer arrivals that mimic that of a poisson distribution with lambda = 5. We will simulate for a typical full airport work day (18 Hours)"
   ]
  },
  {
   "cell_type": "markdown",
   "metadata": {},
   "source": [
    "### SIMULATING WITH 9 SERVERS AND 6 SELF SCANNERS"
   ]
  },
  {
   "cell_type": "code",
   "execution_count": null,
   "metadata": {},
   "outputs": [],
   "source": [
    "times,obs_times,server_q_length,scanner_q_length = airport_model(num_servers = 9, num_scanners=6, seed = 42, lambda_ = 5)"
   ]
  },
  {
   "cell_type": "code",
   "execution_count": null,
   "metadata": {},
   "outputs": [],
   "source": []
  },
  {
   "cell_type": "code",
   "execution_count": null,
   "metadata": {},
   "outputs": [],
   "source": [
    "plt.figure(figsize=(15,8))\n",
    "sns.distplot(times, bins = 10, hist_kws={'density':False}, kde=False)\n",
    "plt.xlabel('Wait Times')\n",
    "plt.ylabel('Frequency')\n",
    "plt.title('Wait Times Distribution')\n",
    "plt.show()"
   ]
  },
  {
   "cell_type": "code",
   "execution_count": null,
   "metadata": {},
   "outputs": [],
   "source": [
    "plt.figure(figsize=(15,8))\n",
    "sns.boxplot(times)\n",
    "plt.xlabel('Wait Times')\n",
    "plt.title('Average Wait Time: {} Minutes'.format(round(np.mean(times),2)))\n",
    "plt.show()"
   ]
  },
  {
   "cell_type": "code",
   "execution_count": null,
   "metadata": {},
   "outputs": [],
   "source": [
    "obs_times = np.array(obs_times)\n",
    "obs_times = obs_times / 60\n",
    "\n",
    "plt.figure(figsize=(15,8))\n",
    "sns.scatterplot(obs_times, server_q_length)\n",
    "plt.title('Number of People in Queue')\n",
    "plt.xlabel('Time of Day')\n",
    "plt.ylabel('Queue Length')\n",
    "\n",
    "plt.show()"
   ]
  },
  {
   "cell_type": "markdown",
   "metadata": {},
   "source": [
    "## CONCLUSION\n",
    "### MEAN WAIT TIME\n",
    "After adjusting both the servers and scanners, I eventually arrived at a combination of 9 servers and 6 scanners to keep wait times below 15 minutes. Dropping servers down to 8 increased average wait times to 18 minutes as opposed to the 8 minutes it currently is iwth 9 servers"
   ]
  },
  {
   "cell_type": "code",
   "execution_count": null,
   "metadata": {},
   "outputs": [],
   "source": [
    "np.mean(times)"
   ]
  },
  {
   "cell_type": "code",
   "execution_count": null,
   "metadata": {},
   "outputs": [],
   "source": []
  },
  {
   "cell_type": "code",
   "execution_count": null,
   "metadata": {},
   "outputs": [],
   "source": []
  },
  {
   "cell_type": "code",
   "execution_count": null,
   "metadata": {},
   "outputs": [],
   "source": []
  },
  {
   "cell_type": "markdown",
   "metadata": {},
   "source": [
    "# BUSY AIRPORT\n",
    "\n",
    "Let's try the busy airport next"
   ]
  },
  {
   "cell_type": "code",
   "execution_count": null,
   "metadata": {},
   "outputs": [],
   "source": [
    "times,obs_times,server_q_length,scanner_q_length = airport_model(num_servers = 80, num_scanners=62, seed = 42, lambda_ = 50)"
   ]
  },
  {
   "cell_type": "code",
   "execution_count": null,
   "metadata": {},
   "outputs": [],
   "source": []
  },
  {
   "cell_type": "code",
   "execution_count": null,
   "metadata": {},
   "outputs": [],
   "source": [
    "plt.figure(figsize=(15,8))\n",
    "sns.distplot(times, bins = 10, hist_kws={'density':False}, kde=False)\n",
    "plt.xlabel('Wait Times')\n",
    "plt.ylabel('Frequency')\n",
    "plt.title('Wait Times Distribution')\n",
    "plt.show()"
   ]
  },
  {
   "cell_type": "code",
   "execution_count": null,
   "metadata": {},
   "outputs": [],
   "source": [
    "plt.figure(figsize=(15,8))\n",
    "sns.boxplot(times)\n",
    "plt.xlabel('Wait Times')\n",
    "plt.title('Average Wait Time: {} Minutes'.format(round(np.mean(times),2)))\n",
    "plt.show()"
   ]
  },
  {
   "cell_type": "code",
   "execution_count": null,
   "metadata": {},
   "outputs": [],
   "source": [
    "obs_times = np.array(obs_times)\n",
    "obs_times = obs_times / 60\n",
    "\n",
    "plt.figure(figsize=(15,8))\n",
    "sns.scatterplot(obs_times, server_q_length)\n",
    "plt.title('Number of People in Queue')\n",
    "plt.xlabel('Time of Day')\n",
    "plt.ylabel('Queue Length')\n",
    "\n",
    "plt.show()"
   ]
  },
  {
   "cell_type": "markdown",
   "metadata": {},
   "source": [
    "## CONCLUSION\n",
    "With 80 servers and 62 self scanners, the average wait time is 11.8 minutes at the very busy airport"
   ]
  },
  {
   "cell_type": "code",
   "execution_count": null,
   "metadata": {},
   "outputs": [],
   "source": [
    "np.mean(times)"
   ]
  }
 ],
 "metadata": {
  "kernelspec": {
   "display_name": "Python 3",
   "language": "python",
   "name": "python3"
  },
  "language_info": {
   "codemirror_mode": {
    "name": "ipython",
    "version": 3
   },
   "file_extension": ".py",
   "mimetype": "text/x-python",
   "name": "python",
   "nbconvert_exporter": "python",
   "pygments_lexer": "ipython3",
   "version": "3.7.0"
  }
 },
 "nbformat": 4,
 "nbformat_minor": 2
}

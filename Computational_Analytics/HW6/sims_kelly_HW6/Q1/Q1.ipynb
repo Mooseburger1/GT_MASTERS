{
 "cells": [
  {
   "cell_type": "code",
   "execution_count": 1,
   "metadata": {},
   "outputs": [
    {
     "data": {
      "text/html": [
       "<style>.container { width:100% !important; }</style>"
      ],
      "text/plain": [
       "<IPython.core.display.HTML object>"
      ]
     },
     "metadata": {},
     "output_type": "display_data"
    }
   ],
   "source": [
    "from IPython.core.display import display, HTML\n",
    "display(HTML(\"<style>.container { width:100% !important; }</style>\"))"
   ]
  },
  {
   "cell_type": "code",
   "execution_count": 2,
   "metadata": {},
   "outputs": [],
   "source": [
    "import pandas as pd\n",
    "import numpy as np\n",
    "np.random.seed(24)\n",
    "import matplotlib.pyplot as plt\n",
    "import warnings\n",
    "\n",
    "warnings.filterwarnings('ignore')\n"
   ]
  },
  {
   "cell_type": "code",
   "execution_count": 3,
   "metadata": {},
   "outputs": [],
   "source": [
    "def plotit(df, show=True, resized=False):\n",
    "    \n",
    "    if resized:\n",
    "        df = df.groupby(['x1','x2','y']).count().reset_index().rename(columns={'weights':'sizes'})\n",
    "        sizes = ((df.sizes.values - (df.sizes.min())+0.9) ** 3) * 100\n",
    "    else:\n",
    "        sizes = [250 for x in range(len(df))]\n",
    "        \n",
    "    markers = ['+' if y==1 else 'o' for y in df.y]\n",
    "    colors = ['r' if y==1 else 'b' for y in df.y]\n",
    "    facecolors=['r' if y==1 else 'none' for y in df.y]\n",
    "\n",
    "    \n",
    "    \n",
    "    fig = plt.figure(figsize=(15,8))\n",
    "    for pos,row in enumerate(df.values):\n",
    "        plt.scatter(row[0], row[1], marker=markers[pos], color=colors[pos], facecolors=facecolors[pos], s=sizes[pos], lw=3)\n",
    "        plt.xticks([-1, 0, 1])\n",
    "        plt.yticks([-1, 0, 1])\n",
    "        plt.ylim(-1.5,1.5)\n",
    "        plt.xlim(-1.5,1.5)\n",
    "    if show: plt.show()\n",
    "    else: return fig"
   ]
  },
  {
   "cell_type": "code",
   "execution_count": 4,
   "metadata": {},
   "outputs": [],
   "source": [
    "def Gini_Index(df, col, tar):\n",
    "    \n",
    "    #initialize gini and split value\n",
    "    gini_index = np.inf\n",
    "    split_val = 0\n",
    "    \n",
    "    #iterate through each value in the column of interest\n",
    "    #and calculate the gini index with it as split value\n",
    "    for pos, val in enumerate(set(sorted(df[col].values))):\n",
    "        if pos != 0:\n",
    "            val = (val + df[col].values[pos-1]) / 2\n",
    "        #how many observations are >= val\n",
    "        geq = len(df[df[col] >= val]) + 1e-5\n",
    "        #how many observation are < val\n",
    "        lt = len(df[df[col] < val]) + 1e-5\n",
    "        \n",
    "        #how many observations >= val belong to class 1 (normalized)\n",
    "        class_1_and_geq = len(df[(df[col] >= val) & (df[tar] == 1)]) / geq\n",
    "        #how many observations >= val belong to class 2 (normalized)\n",
    "        class_2_and_geq = len(df[(df[col] >= val) & (df[tar] == -1)]) / geq\n",
    "        #calc gini\n",
    "        gini1 = 1 - (class_1_and_geq**2 + class_2_and_geq**2)\n",
    "        \n",
    "        #how many observations < val belong to class 1 (normalized)\n",
    "        class_1_and_lt = len(df[(df[col] < val) & (df[tar] == 1)]) / lt\n",
    "        #how many observations < val belong to class 2 (normalized)\n",
    "        class_2_and_lt = len(df[(df[col] < val) & (df[tar] == -1)]) / lt\n",
    "        #calc gini\n",
    "        gini2 = 1 - (class_1_and_lt**2 + class_2_and_lt**2)\n",
    "        \n",
    "        #calculate normalized gini\n",
    "        new_index = (geq/len(df)) * gini1 + (lt/len(df)) * gini2\n",
    "        \n",
    "        #keep lowest gini value\n",
    "        if new_index <= gini_index:\n",
    "            gini_index = new_index\n",
    "            split_val=val\n",
    "    \n",
    "    #return lowest gini_index and split value\n",
    "    return gini_index, split_val"
   ]
  },
  {
   "cell_type": "markdown",
   "metadata": {},
   "source": [
    "# Q1\n",
    "## AdaBoost\n",
    "\n",
    "Consider the following dataset, plotting in the following figure. The first two coordinates represent the\n",
    "value of two features, and the last coordinate is the binary label of the data.\n",
    "$$\n",
    "X 1 = (−1, 0, +1), X 2 = (−0.5, 0.5, +1), X 3 = (0, 1, −1), X 4 = (0.5, 1, −1),\\\\\n",
    "X 5 = (1, 0, +1), X 6 = (1, −1, +1), X 7 = (0, −1, −1), X 8 = (0, 0, −1)\n",
    "$$\n",
    "In this problem, you will run through T = 3 iterations of AdaBoost with decision stumps (as explained\n",
    "in the lecture) as weak learners."
   ]
  },
  {
   "cell_type": "markdown",
   "metadata": {},
   "source": [
    "#### (a) For each iteration t = 1, 2, 3, compute  $\\epsilon_t$ , $\\alpha_t$ , $Z_t$, $D_t$ by hand (i.e., show the calculation steps) and draw the decision stumps on the figure (you can draw this by hand)."
   ]
  },
  {
   "cell_type": "code",
   "execution_count": 5,
   "metadata": {},
   "outputs": [],
   "source": [
    "data = {'x1':[-1,-0.5,0,0.5,1,1,0,0],\n",
    "        'x2':[0,0.5,1,1,0,-1,-1,0],\n",
    "        'y' :[1,1,-1,-1,1,1,-1,-1]}"
   ]
  },
  {
   "cell_type": "code",
   "execution_count": 6,
   "metadata": {},
   "outputs": [],
   "source": [
    "df = pd.DataFrame(data)"
   ]
  },
  {
   "cell_type": "markdown",
   "metadata": {},
   "source": [
    "First we need to initialize the weights for each data point. We set them initially so that they are uniform:\n",
    "$$\n",
    "D_{(i)} = \\frac{1}{m} = \\frac{1}{8} = 0.125\n",
    "$$"
   ]
  },
  {
   "cell_type": "code",
   "execution_count": 7,
   "metadata": {},
   "outputs": [
    {
     "data": {
      "text/html": [
       "<div>\n",
       "<style scoped>\n",
       "    .dataframe tbody tr th:only-of-type {\n",
       "        vertical-align: middle;\n",
       "    }\n",
       "\n",
       "    .dataframe tbody tr th {\n",
       "        vertical-align: top;\n",
       "    }\n",
       "\n",
       "    .dataframe thead th {\n",
       "        text-align: right;\n",
       "    }\n",
       "</style>\n",
       "<table border=\"1\" class=\"dataframe\">\n",
       "  <thead>\n",
       "    <tr style=\"text-align: right;\">\n",
       "      <th></th>\n",
       "      <th>x1</th>\n",
       "      <th>x2</th>\n",
       "      <th>y</th>\n",
       "      <th>weights</th>\n",
       "    </tr>\n",
       "  </thead>\n",
       "  <tbody>\n",
       "    <tr>\n",
       "      <td>0</td>\n",
       "      <td>-1.0</td>\n",
       "      <td>0.0</td>\n",
       "      <td>1</td>\n",
       "      <td>0.125</td>\n",
       "    </tr>\n",
       "    <tr>\n",
       "      <td>1</td>\n",
       "      <td>-0.5</td>\n",
       "      <td>0.5</td>\n",
       "      <td>1</td>\n",
       "      <td>0.125</td>\n",
       "    </tr>\n",
       "    <tr>\n",
       "      <td>2</td>\n",
       "      <td>0.0</td>\n",
       "      <td>1.0</td>\n",
       "      <td>-1</td>\n",
       "      <td>0.125</td>\n",
       "    </tr>\n",
       "    <tr>\n",
       "      <td>3</td>\n",
       "      <td>0.5</td>\n",
       "      <td>1.0</td>\n",
       "      <td>-1</td>\n",
       "      <td>0.125</td>\n",
       "    </tr>\n",
       "    <tr>\n",
       "      <td>4</td>\n",
       "      <td>1.0</td>\n",
       "      <td>0.0</td>\n",
       "      <td>1</td>\n",
       "      <td>0.125</td>\n",
       "    </tr>\n",
       "    <tr>\n",
       "      <td>5</td>\n",
       "      <td>1.0</td>\n",
       "      <td>-1.0</td>\n",
       "      <td>1</td>\n",
       "      <td>0.125</td>\n",
       "    </tr>\n",
       "    <tr>\n",
       "      <td>6</td>\n",
       "      <td>0.0</td>\n",
       "      <td>-1.0</td>\n",
       "      <td>-1</td>\n",
       "      <td>0.125</td>\n",
       "    </tr>\n",
       "    <tr>\n",
       "      <td>7</td>\n",
       "      <td>0.0</td>\n",
       "      <td>0.0</td>\n",
       "      <td>-1</td>\n",
       "      <td>0.125</td>\n",
       "    </tr>\n",
       "  </tbody>\n",
       "</table>\n",
       "</div>"
      ],
      "text/plain": [
       "    x1   x2  y  weights\n",
       "0 -1.0  0.0  1    0.125\n",
       "1 -0.5  0.5  1    0.125\n",
       "2  0.0  1.0 -1    0.125\n",
       "3  0.5  1.0 -1    0.125\n",
       "4  1.0  0.0  1    0.125\n",
       "5  1.0 -1.0  1    0.125\n",
       "6  0.0 -1.0 -1    0.125\n",
       "7  0.0  0.0 -1    0.125"
      ]
     },
     "execution_count": 7,
     "metadata": {},
     "output_type": "execute_result"
    }
   ],
   "source": [
    "D = 1/8\n",
    "df['weights'] = 1/8\n",
    "\n",
    "df"
   ]
  },
  {
   "cell_type": "code",
   "execution_count": 8,
   "metadata": {},
   "outputs": [
    {
     "data": {
      "image/png": "[encoded data removed]",
      "text/plain": [
       "<Figure size 1080x576 with 1 Axes>"
      ]
     },
     "metadata": {
      "needs_background": "light"
     },
     "output_type": "display_data"
    }
   ],
   "source": [
    "fig = plotit(df)"
   ]
  },
  {
   "cell_type": "markdown",
   "metadata": {},
   "source": [
    "In order to determine the best stump to split on, we will use gini impurity on each feature column. Whichever column has the lowest gini score is the one in which the stump will be split on"
   ]
  },
  {
   "cell_type": "code",
   "execution_count": 9,
   "metadata": {},
   "outputs": [
    {
     "name": "stdout",
     "output_type": "stream",
     "text": [
      "Gini Score x1: 0.33333777777037027\t Value: -0.25\n",
      "Gini Score x2: 0.33333777777037027\t Value: 1.0\n"
     ]
    }
   ],
   "source": [
    "score_x1, val_x1 = Gini_Index(df=df, col='x1', tar='y')\n",
    "score_x2, val_x2 = Gini_Index(df=df, col='x2', tar='y')\n",
    "\n",
    "print('Gini Score x1: {}\\t Value: {}'.format(score_x1, val_x1))\n",
    "print('Gini Score x2: {}\\t Value: {}'.format(score_x2, val_x2))"
   ]
  },
  {
   "cell_type": "markdown",
   "metadata": {},
   "source": [
    "We can see from both gini scores, splitting on x1 at -0.25 will produce a more pure child. Therefore, we will pick x1 as the stump being split on the value -0.25.\n",
    "\n",
    "$$\n",
    " \\begin{cases} \n",
    "      1 & x1 < -0.25 \\\\\n",
    "      -1 & x1 \\geq -0.25\n",
    "   \\end{cases}\n",
    "$$"
   ]
  },
  {
   "cell_type": "code",
   "execution_count": 10,
   "metadata": {},
   "outputs": [
    {
     "data": {
      "image/png": "[encoded data removed]",
      "text/plain": [
       "<Figure size 1080x576 with 1 Axes>"
      ]
     },
     "metadata": {
      "needs_background": "light"
     },
     "output_type": "display_data"
    }
   ],
   "source": [
    "fig = plotit(df, show=False)\n",
    "ax = fig.gca()\n",
    "ax.plot([-0.25]*100, np.linspace(-1.5, 1.5, 100), ls='--', color='k', lw=2)\n",
    "ax.fill_between(x=np.linspace(-0.25,1.5,100), y1=[-1.5]*100, y2=[1.5]*100, where=(np.linspace(0,1.5,100)>=0), alpha=0.4, color='blue')\n",
    "ax.fill_between(x=np.linspace(-1.5,-0.25,100), y1=[-1.5]*100, y2=[1.5]*100, where=(np.linspace(-1.5,0,100)<=0), alpha=0.4, color='red')\n",
    "plt.savefig('first.png', bbox_layout='tight', bbox_inches='tight')\n",
    "plt.show()"
   ]
  },
  {
   "cell_type": "markdown",
   "metadata": {},
   "source": [
    "Next, we need to determine how much say this stump will have in the overall classification. We do this by accounting for the errors in the stump. This stump made 2 errors (1,-1) & (1,0). The observations of the two errors each have a weight of $\\frac{1}{8}$\n",
    "\n",
    "$$\n",
    "\\epsilon_1 = \\frac{1}{8} + \\frac{1}{8} = \\frac{1}{4}\n",
    "$$\n",
    "\n",
    "Therefore\n",
    "\n",
    "$$\n",
    "\\alpha_1 = \\frac{1}{2}log\\frac{1 - \\epsilon_1}{\\epsilon_1} = \\frac{1}{2}log\\frac{1 - 0.25}{0.25} = 0.5493\n",
    "$$"
   ]
  },
  {
   "cell_type": "markdown",
   "metadata": {},
   "source": [
    "Next we need to update and then normalize the weights for the next stump. The update is as follows\n",
    "\n",
    "\n",
    "$$\n",
    "D_t(1) *\n",
    " \\begin{cases} \n",
    "      e^{-\\alpha_1} & \\text{if}\\ \\ \\ y^i = h_t(x^i) \\\\\n",
    "      e^{\\alpha_1} & \\text{if}\\ \\ \\ y^i \\neq h_t(x^i) \\\\\n",
    "   \\end{cases}\n",
    "$$\n",
    "\n",
    "The stump incorrectly classified the two points (1,-1) & (1,0). So they're update will be proportional to $exp\\{\\alpha_1\\}$"
   ]
  },
  {
   "cell_type": "code",
   "execution_count": 11,
   "metadata": {},
   "outputs": [
    {
     "data": {
      "text/html": [
       "<div>\n",
       "<style scoped>\n",
       "    .dataframe tbody tr th:only-of-type {\n",
       "        vertical-align: middle;\n",
       "    }\n",
       "\n",
       "    .dataframe tbody tr th {\n",
       "        vertical-align: top;\n",
       "    }\n",
       "\n",
       "    .dataframe thead th {\n",
       "        text-align: right;\n",
       "    }\n",
       "</style>\n",
       "<table border=\"1\" class=\"dataframe\">\n",
       "  <thead>\n",
       "    <tr style=\"text-align: right;\">\n",
       "      <th></th>\n",
       "      <th>x1</th>\n",
       "      <th>x2</th>\n",
       "      <th>y</th>\n",
       "      <th>weights</th>\n",
       "    </tr>\n",
       "  </thead>\n",
       "  <tbody>\n",
       "    <tr>\n",
       "      <td>0</td>\n",
       "      <td>-1.0</td>\n",
       "      <td>0.0</td>\n",
       "      <td>1</td>\n",
       "      <td>0.072169</td>\n",
       "    </tr>\n",
       "    <tr>\n",
       "      <td>1</td>\n",
       "      <td>-0.5</td>\n",
       "      <td>0.5</td>\n",
       "      <td>1</td>\n",
       "      <td>0.072169</td>\n",
       "    </tr>\n",
       "    <tr>\n",
       "      <td>2</td>\n",
       "      <td>0.0</td>\n",
       "      <td>1.0</td>\n",
       "      <td>-1</td>\n",
       "      <td>0.072169</td>\n",
       "    </tr>\n",
       "    <tr>\n",
       "      <td>3</td>\n",
       "      <td>0.5</td>\n",
       "      <td>1.0</td>\n",
       "      <td>-1</td>\n",
       "      <td>0.072169</td>\n",
       "    </tr>\n",
       "    <tr>\n",
       "      <td>4</td>\n",
       "      <td>1.0</td>\n",
       "      <td>0.0</td>\n",
       "      <td>1</td>\n",
       "      <td>0.216505</td>\n",
       "    </tr>\n",
       "    <tr>\n",
       "      <td>5</td>\n",
       "      <td>1.0</td>\n",
       "      <td>-1.0</td>\n",
       "      <td>1</td>\n",
       "      <td>0.216505</td>\n",
       "    </tr>\n",
       "    <tr>\n",
       "      <td>6</td>\n",
       "      <td>0.0</td>\n",
       "      <td>-1.0</td>\n",
       "      <td>-1</td>\n",
       "      <td>0.072169</td>\n",
       "    </tr>\n",
       "    <tr>\n",
       "      <td>7</td>\n",
       "      <td>0.0</td>\n",
       "      <td>0.0</td>\n",
       "      <td>-1</td>\n",
       "      <td>0.072169</td>\n",
       "    </tr>\n",
       "  </tbody>\n",
       "</table>\n",
       "</div>"
      ],
      "text/plain": [
       "    x1   x2  y   weights\n",
       "0 -1.0  0.0  1  0.072169\n",
       "1 -0.5  0.5  1  0.072169\n",
       "2  0.0  1.0 -1  0.072169\n",
       "3  0.5  1.0 -1  0.072169\n",
       "4  1.0  0.0  1  0.216505\n",
       "5  1.0 -1.0  1  0.216505\n",
       "6  0.0 -1.0 -1  0.072169\n",
       "7  0.0  0.0 -1  0.072169"
      ]
     },
     "execution_count": 11,
     "metadata": {},
     "output_type": "execute_result"
    }
   ],
   "source": [
    "alpha = 0.5493\n",
    "\n",
    "#adjust weights for correct points\n",
    "df.loc[:,'weights'][df.x1 != 1] = df.weights.values[df.x1 != 1] * np.e**(-alpha)\n",
    "\n",
    "#adjust weights for incorrect points\n",
    "df.loc[:, 'weights'][df.x1 == 1] = df.weights.values[df.x1 == 1] * np.e**(alpha)\n",
    "\n",
    "df"
   ]
  },
  {
   "cell_type": "markdown",
   "metadata": {},
   "source": [
    "Finally, we must normalize all the newly adjusted weights so they sum to 1:\n",
    "\n",
    "$$\n",
    "D^i = \\frac{D^i}{Z_t}\n",
    "$$\n",
    "\n",
    "where\n",
    "\n",
    "$$\n",
    "Z_t = \\sum_{i=1}^m D_t(i) * \n",
    "\\begin{cases} \n",
    "      e^{-\\alpha_1} & \\text{if}\\ \\ \\ y^i = h_t(x^i) \\\\\n",
    "      e^{\\alpha_1} & \\text{if}\\ \\ \\ y^i \\neq h_t(x^i) \\\\\n",
    "   \\end{cases}\n",
    "$$\n",
    "\n",
    "is the sum of all the newly adjusted weights"
   ]
  },
  {
   "cell_type": "code",
   "execution_count": 12,
   "metadata": {},
   "outputs": [
    {
     "name": "stdout",
     "output_type": "stream",
     "text": [
      "Z = 0.8660254038007861\n"
     ]
    }
   ],
   "source": [
    "Z = df.weights.sum(axis=0)\n",
    "print('Z =', Z)"
   ]
  },
  {
   "cell_type": "code",
   "execution_count": 13,
   "metadata": {},
   "outputs": [
    {
     "data": {
      "text/html": [
       "<div>\n",
       "<style scoped>\n",
       "    .dataframe tbody tr th:only-of-type {\n",
       "        vertical-align: middle;\n",
       "    }\n",
       "\n",
       "    .dataframe tbody tr th {\n",
       "        vertical-align: top;\n",
       "    }\n",
       "\n",
       "    .dataframe thead th {\n",
       "        text-align: right;\n",
       "    }\n",
       "</style>\n",
       "<table border=\"1\" class=\"dataframe\">\n",
       "  <thead>\n",
       "    <tr style=\"text-align: right;\">\n",
       "      <th></th>\n",
       "      <th>x1</th>\n",
       "      <th>x2</th>\n",
       "      <th>y</th>\n",
       "      <th>weights</th>\n",
       "    </tr>\n",
       "  </thead>\n",
       "  <tbody>\n",
       "    <tr>\n",
       "      <td>0</td>\n",
       "      <td>-1.0</td>\n",
       "      <td>0.0</td>\n",
       "      <td>1</td>\n",
       "      <td>0.083334</td>\n",
       "    </tr>\n",
       "    <tr>\n",
       "      <td>1</td>\n",
       "      <td>-0.5</td>\n",
       "      <td>0.5</td>\n",
       "      <td>1</td>\n",
       "      <td>0.083334</td>\n",
       "    </tr>\n",
       "    <tr>\n",
       "      <td>2</td>\n",
       "      <td>0.0</td>\n",
       "      <td>1.0</td>\n",
       "      <td>-1</td>\n",
       "      <td>0.083334</td>\n",
       "    </tr>\n",
       "    <tr>\n",
       "      <td>3</td>\n",
       "      <td>0.5</td>\n",
       "      <td>1.0</td>\n",
       "      <td>-1</td>\n",
       "      <td>0.083334</td>\n",
       "    </tr>\n",
       "    <tr>\n",
       "      <td>4</td>\n",
       "      <td>1.0</td>\n",
       "      <td>0.0</td>\n",
       "      <td>1</td>\n",
       "      <td>0.249998</td>\n",
       "    </tr>\n",
       "    <tr>\n",
       "      <td>5</td>\n",
       "      <td>1.0</td>\n",
       "      <td>-1.0</td>\n",
       "      <td>1</td>\n",
       "      <td>0.249998</td>\n",
       "    </tr>\n",
       "    <tr>\n",
       "      <td>6</td>\n",
       "      <td>0.0</td>\n",
       "      <td>-1.0</td>\n",
       "      <td>-1</td>\n",
       "      <td>0.083334</td>\n",
       "    </tr>\n",
       "    <tr>\n",
       "      <td>7</td>\n",
       "      <td>0.0</td>\n",
       "      <td>0.0</td>\n",
       "      <td>-1</td>\n",
       "      <td>0.083334</td>\n",
       "    </tr>\n",
       "  </tbody>\n",
       "</table>\n",
       "</div>"
      ],
      "text/plain": [
       "    x1   x2  y   weights\n",
       "0 -1.0  0.0  1  0.083334\n",
       "1 -0.5  0.5  1  0.083334\n",
       "2  0.0  1.0 -1  0.083334\n",
       "3  0.5  1.0 -1  0.083334\n",
       "4  1.0  0.0  1  0.249998\n",
       "5  1.0 -1.0  1  0.249998\n",
       "6  0.0 -1.0 -1  0.083334\n",
       "7  0.0  0.0 -1  0.083334"
      ]
     },
     "execution_count": 13,
     "metadata": {},
     "output_type": "execute_result"
    }
   ],
   "source": [
    "df.weights = df.weights / Z\n",
    "df"
   ]
  },
  {
   "cell_type": "markdown",
   "metadata": {},
   "source": [
    "| t | $\\epsilon_t$ | $\\alpha_t$ | $Z_t$ | $D_t(1)$ | $D_t(2)$ | $D_t(3)$ | $D_t(4)$ | $D_t(5)$ | $D_t(6)$ | $D_t(7)$ | $D_t(8)$ |\n",
    "|---|--------------|------------|-------|----------|----------|----------|----------|----------|----------|----------|----------|\n",
    "| 1 | 0.25         | 0.5493     | 0.866 | 0.083334 | 0.083334 | 0.083334 | 0.083334 | 0.249998 | 0.249998 | 0.083334 | 0.083334 |\n",
    "| 2 |              |            |       |          |          |          |          |          |          |          |          |\n",
    "| 3 |              |            |       |          |          |          |          |          |          |          |          |\n",
    "\n",
    "\n",
    "Next, we need to randomly sample the original dataset with respect to their new weights so that we create a new training set of same size as the original. Since there are 8 samples, we will sample a unifomr [0,1] distribution 8 times. In order to determine which observation is added to the new dataset from these sampled numbers, we will take the cumsum of the weights"
   ]
  },
  {
   "cell_type": "code",
   "execution_count": 14,
   "metadata": {},
   "outputs": [
    {
     "data": {
      "text/plain": [
       "0    0.083334\n",
       "1    0.166668\n",
       "2    0.250002\n",
       "3    0.333335\n",
       "4    0.583334\n",
       "5    0.833332\n",
       "6    0.916666\n",
       "7    1.000000\n",
       "Name: weights, dtype: float64"
      ]
     },
     "execution_count": 14,
     "metadata": {},
     "output_type": "execute_result"
    }
   ],
   "source": [
    "cumsum = df.weights.cumsum()\n",
    "cumsum"
   ]
  },
  {
   "cell_type": "markdown",
   "metadata": {},
   "source": [
    "If a randomly sampled number is $0 \\leq x \\leq 0.083334$ then we add the first observation to the new dataset. If a randomly sampled number is $0.083334 < x \\leq 0.166668$, then we add the second observation to the new dataset. If a randomly sampled number is $0.333335 < x \\leq 0.584443$, then we add the $4^{th}$ observation to the new dataset. Etc, etc."
   ]
  },
  {
   "cell_type": "code",
   "execution_count": 15,
   "metadata": {},
   "outputs": [
    {
     "data": {
      "text/plain": [
       "array([0.9600173 , 0.69951205, 0.99986729, 0.2200673 , 0.36105635,\n",
       "       0.73984099, 0.99645573, 0.31634698])"
      ]
     },
     "execution_count": 15,
     "metadata": {},
     "output_type": "execute_result"
    }
   ],
   "source": [
    "randoms = np.random.uniform(size=8)\n",
    "randoms"
   ]
  },
  {
   "cell_type": "code",
   "execution_count": 16,
   "metadata": {},
   "outputs": [
    {
     "data": {
      "text/plain": [
       "[7, 5, 7, 2, 4, 5, 7, 3]"
      ]
     },
     "execution_count": 16,
     "metadata": {},
     "output_type": "execute_result"
    }
   ],
   "source": [
    "sampled_indices = [np.argmin(cumsum[cumsum > x]) for x in randoms]\n",
    "sampled_indices"
   ]
  },
  {
   "cell_type": "markdown",
   "metadata": {},
   "source": [
    "So we can see for the next data set, observations 4 and 5, which were incorrectly classified in the first stump, make up 3 out of the 8 new samples for the next stump. Fortunately pandas already has a built in method to handle this sampling operation. So for simplicity, let's utilize that"
   ]
  },
  {
   "cell_type": "code",
   "execution_count": 17,
   "metadata": {},
   "outputs": [
    {
     "data": {
      "text/html": [
       "<div>\n",
       "<style scoped>\n",
       "    .dataframe tbody tr th:only-of-type {\n",
       "        vertical-align: middle;\n",
       "    }\n",
       "\n",
       "    .dataframe tbody tr th {\n",
       "        vertical-align: top;\n",
       "    }\n",
       "\n",
       "    .dataframe thead th {\n",
       "        text-align: right;\n",
       "    }\n",
       "</style>\n",
       "<table border=\"1\" class=\"dataframe\">\n",
       "  <thead>\n",
       "    <tr style=\"text-align: right;\">\n",
       "      <th></th>\n",
       "      <th>x1</th>\n",
       "      <th>x2</th>\n",
       "      <th>y</th>\n",
       "      <th>weights</th>\n",
       "    </tr>\n",
       "  </thead>\n",
       "  <tbody>\n",
       "    <tr>\n",
       "      <td>1</td>\n",
       "      <td>-0.5</td>\n",
       "      <td>0.5</td>\n",
       "      <td>1</td>\n",
       "      <td>0.083334</td>\n",
       "    </tr>\n",
       "    <tr>\n",
       "      <td>4</td>\n",
       "      <td>1.0</td>\n",
       "      <td>0.0</td>\n",
       "      <td>1</td>\n",
       "      <td>0.249998</td>\n",
       "    </tr>\n",
       "    <tr>\n",
       "      <td>3</td>\n",
       "      <td>0.5</td>\n",
       "      <td>1.0</td>\n",
       "      <td>-1</td>\n",
       "      <td>0.083334</td>\n",
       "    </tr>\n",
       "    <tr>\n",
       "      <td>4</td>\n",
       "      <td>1.0</td>\n",
       "      <td>0.0</td>\n",
       "      <td>1</td>\n",
       "      <td>0.249998</td>\n",
       "    </tr>\n",
       "    <tr>\n",
       "      <td>5</td>\n",
       "      <td>1.0</td>\n",
       "      <td>-1.0</td>\n",
       "      <td>1</td>\n",
       "      <td>0.249998</td>\n",
       "    </tr>\n",
       "    <tr>\n",
       "      <td>6</td>\n",
       "      <td>0.0</td>\n",
       "      <td>-1.0</td>\n",
       "      <td>-1</td>\n",
       "      <td>0.083334</td>\n",
       "    </tr>\n",
       "    <tr>\n",
       "      <td>4</td>\n",
       "      <td>1.0</td>\n",
       "      <td>0.0</td>\n",
       "      <td>1</td>\n",
       "      <td>0.249998</td>\n",
       "    </tr>\n",
       "    <tr>\n",
       "      <td>2</td>\n",
       "      <td>0.0</td>\n",
       "      <td>1.0</td>\n",
       "      <td>-1</td>\n",
       "      <td>0.083334</td>\n",
       "    </tr>\n",
       "  </tbody>\n",
       "</table>\n",
       "</div>"
      ],
      "text/plain": [
       "    x1   x2  y   weights\n",
       "1 -0.5  0.5  1  0.083334\n",
       "4  1.0  0.0  1  0.249998\n",
       "3  0.5  1.0 -1  0.083334\n",
       "4  1.0  0.0  1  0.249998\n",
       "5  1.0 -1.0  1  0.249998\n",
       "6  0.0 -1.0 -1  0.083334\n",
       "4  1.0  0.0  1  0.249998\n",
       "2  0.0  1.0 -1  0.083334"
      ]
     },
     "execution_count": 17,
     "metadata": {},
     "output_type": "execute_result"
    }
   ],
   "source": [
    "df2 = df.sample(n=8, replace=True, weights=df.weights)\n",
    "df2"
   ]
  },
  {
   "cell_type": "markdown",
   "metadata": {},
   "source": [
    "Next, since we sampled a new dataset, we need to reset the weights, and then perform all the same steps as earlier"
   ]
  },
  {
   "cell_type": "code",
   "execution_count": 18,
   "metadata": {},
   "outputs": [],
   "source": [
    "df2.weights = 1/8"
   ]
  },
  {
   "cell_type": "code",
   "execution_count": 19,
   "metadata": {},
   "outputs": [
    {
     "name": "stdout",
     "output_type": "stream",
     "text": [
      "Gini Score x1: 0.18750453124492172\t Value: 0.75\n",
      "Gini Score x2: 0.20833798610335644\t Value: 1.0\n"
     ]
    }
   ],
   "source": [
    "#get gini scores for stump split\n",
    "score_x1, val_x1 = Gini_Index(df=df2, col='x1', tar='y')\n",
    "score_x2, val_x2 = Gini_Index(df=df2, col='x2', tar='y')\n",
    "\n",
    "print('Gini Score x1: {}\\t Value: {}'.format(score_x1, val_x1))\n",
    "print('Gini Score x2: {}\\t Value: {}'.format(score_x2, val_x2))"
   ]
  },
  {
   "cell_type": "code",
   "execution_count": 49,
   "metadata": {},
   "outputs": [
    {
     "data": {
      "image/png": "[encoded data removed]",
      "text/plain": [
       "<Figure size 1080x576 with 1 Axes>"
      ]
     },
     "metadata": {
      "needs_background": "light"
     },
     "output_type": "display_data"
    }
   ],
   "source": [
    "fig = plotit(df2, show=False, resized=True)\n",
    "ax = fig.gca()\n",
    "ax.plot([0.75]*100,np.linspace(-1.5, 1.5, 100),  ls='--', color='k', lw=2)\n",
    "ax.fill_between(x=np.linspace(-1.5,0.75,100), y1=[-1.5]*100, y2=[1.5]*100, where=(np.linspace(0,1.5,100)>=0), alpha=0.4, color='blue')\n",
    "ax.fill_between(x=np.linspace(0.75,1.5,100), y1=[-1.5]*100, y2=[1.5]*100, where=(np.linspace(-1.5,0,100)<=0), alpha=0.4, color='red')\n",
    "plt.title('Size is representative of quantity')\n",
    "plt.savefig('second.png', bbox_layout='tight', bbox_inches='tight')\n",
    "plt.show()"
   ]
  },
  {
   "cell_type": "markdown",
   "metadata": {},
   "source": [
    "In this instance, only one data point (-0.5 , 0.5) was misclassified. Thus:\n",
    "$$\n",
    "\\epsilon_2 = \\frac{1}{8}\n",
    "$$\n",
    "\n",
    "and\n",
    "\n",
    "$$\n",
    "\\alpha_2 = \\frac{1}{2}log\\frac{1 - 0.125}{0.125} = 0.972955\n",
    "$$\n",
    "\n",
    "Adjusting the weights using $\\alpha_2$ produces:"
   ]
  },
  {
   "cell_type": "code",
   "execution_count": 21,
   "metadata": {},
   "outputs": [
    {
     "data": {
      "text/html": [
       "<div>\n",
       "<style scoped>\n",
       "    .dataframe tbody tr th:only-of-type {\n",
       "        vertical-align: middle;\n",
       "    }\n",
       "\n",
       "    .dataframe tbody tr th {\n",
       "        vertical-align: top;\n",
       "    }\n",
       "\n",
       "    .dataframe thead th {\n",
       "        text-align: right;\n",
       "    }\n",
       "</style>\n",
       "<table border=\"1\" class=\"dataframe\">\n",
       "  <thead>\n",
       "    <tr style=\"text-align: right;\">\n",
       "      <th></th>\n",
       "      <th>x1</th>\n",
       "      <th>x2</th>\n",
       "      <th>y</th>\n",
       "      <th>weights</th>\n",
       "    </tr>\n",
       "  </thead>\n",
       "  <tbody>\n",
       "    <tr>\n",
       "      <td>1</td>\n",
       "      <td>-0.5</td>\n",
       "      <td>0.5</td>\n",
       "      <td>1</td>\n",
       "      <td>0.330719</td>\n",
       "    </tr>\n",
       "    <tr>\n",
       "      <td>4</td>\n",
       "      <td>1.0</td>\n",
       "      <td>0.0</td>\n",
       "      <td>1</td>\n",
       "      <td>0.047246</td>\n",
       "    </tr>\n",
       "    <tr>\n",
       "      <td>3</td>\n",
       "      <td>0.5</td>\n",
       "      <td>1.0</td>\n",
       "      <td>-1</td>\n",
       "      <td>0.047246</td>\n",
       "    </tr>\n",
       "    <tr>\n",
       "      <td>4</td>\n",
       "      <td>1.0</td>\n",
       "      <td>0.0</td>\n",
       "      <td>1</td>\n",
       "      <td>0.047246</td>\n",
       "    </tr>\n",
       "    <tr>\n",
       "      <td>5</td>\n",
       "      <td>1.0</td>\n",
       "      <td>-1.0</td>\n",
       "      <td>1</td>\n",
       "      <td>0.047246</td>\n",
       "    </tr>\n",
       "    <tr>\n",
       "      <td>6</td>\n",
       "      <td>0.0</td>\n",
       "      <td>-1.0</td>\n",
       "      <td>-1</td>\n",
       "      <td>0.047246</td>\n",
       "    </tr>\n",
       "    <tr>\n",
       "      <td>4</td>\n",
       "      <td>1.0</td>\n",
       "      <td>0.0</td>\n",
       "      <td>1</td>\n",
       "      <td>0.047246</td>\n",
       "    </tr>\n",
       "    <tr>\n",
       "      <td>2</td>\n",
       "      <td>0.0</td>\n",
       "      <td>1.0</td>\n",
       "      <td>-1</td>\n",
       "      <td>0.047246</td>\n",
       "    </tr>\n",
       "  </tbody>\n",
       "</table>\n",
       "</div>"
      ],
      "text/plain": [
       "    x1   x2  y   weights\n",
       "1 -0.5  0.5  1  0.330719\n",
       "4  1.0  0.0  1  0.047246\n",
       "3  0.5  1.0 -1  0.047246\n",
       "4  1.0  0.0  1  0.047246\n",
       "5  1.0 -1.0  1  0.047246\n",
       "6  0.0 -1.0 -1  0.047246\n",
       "4  1.0  0.0  1  0.047246\n",
       "2  0.0  1.0 -1  0.047246"
      ]
     },
     "execution_count": 21,
     "metadata": {},
     "output_type": "execute_result"
    }
   ],
   "source": [
    "alpha = 0.972955\n",
    "\n",
    "#adjust weights for incorrect points\n",
    "df2.loc[:, 'weights'][(df2.x1==-0.5 )& (df2.x2==0.5)] = 0.125 * np.e**(alpha)\n",
    "\n",
    "#adjust weights for correct points\n",
    "df2.loc[:, 'weights'][~((df2.x1==-0.5 )& (df2.x2==0.5))] = 0.125 * np.e**(-alpha)\n",
    "\n",
    "df2"
   ]
  },
  {
   "cell_type": "markdown",
   "metadata": {},
   "source": [
    "Finally, normalizing all the newly adjusted weights produces"
   ]
  },
  {
   "cell_type": "code",
   "execution_count": 22,
   "metadata": {},
   "outputs": [
    {
     "name": "stdout",
     "output_type": "stream",
     "text": [
      "Z = 0.6614378277661495\n"
     ]
    }
   ],
   "source": [
    "Z = df2.weights.sum(axis=0)\n",
    "print('Z =', Z)"
   ]
  },
  {
   "cell_type": "code",
   "execution_count": 23,
   "metadata": {},
   "outputs": [
    {
     "data": {
      "text/html": [
       "<div>\n",
       "<style scoped>\n",
       "    .dataframe tbody tr th:only-of-type {\n",
       "        vertical-align: middle;\n",
       "    }\n",
       "\n",
       "    .dataframe tbody tr th {\n",
       "        vertical-align: top;\n",
       "    }\n",
       "\n",
       "    .dataframe thead th {\n",
       "        text-align: right;\n",
       "    }\n",
       "</style>\n",
       "<table border=\"1\" class=\"dataframe\">\n",
       "  <thead>\n",
       "    <tr style=\"text-align: right;\">\n",
       "      <th></th>\n",
       "      <th>x1</th>\n",
       "      <th>x2</th>\n",
       "      <th>y</th>\n",
       "      <th>weights</th>\n",
       "    </tr>\n",
       "  </thead>\n",
       "  <tbody>\n",
       "    <tr>\n",
       "      <td>1</td>\n",
       "      <td>-0.5</td>\n",
       "      <td>0.5</td>\n",
       "      <td>1</td>\n",
       "      <td>0.500000</td>\n",
       "    </tr>\n",
       "    <tr>\n",
       "      <td>4</td>\n",
       "      <td>1.0</td>\n",
       "      <td>0.0</td>\n",
       "      <td>1</td>\n",
       "      <td>0.071429</td>\n",
       "    </tr>\n",
       "    <tr>\n",
       "      <td>3</td>\n",
       "      <td>0.5</td>\n",
       "      <td>1.0</td>\n",
       "      <td>-1</td>\n",
       "      <td>0.071429</td>\n",
       "    </tr>\n",
       "    <tr>\n",
       "      <td>4</td>\n",
       "      <td>1.0</td>\n",
       "      <td>0.0</td>\n",
       "      <td>1</td>\n",
       "      <td>0.071429</td>\n",
       "    </tr>\n",
       "    <tr>\n",
       "      <td>5</td>\n",
       "      <td>1.0</td>\n",
       "      <td>-1.0</td>\n",
       "      <td>1</td>\n",
       "      <td>0.071429</td>\n",
       "    </tr>\n",
       "    <tr>\n",
       "      <td>6</td>\n",
       "      <td>0.0</td>\n",
       "      <td>-1.0</td>\n",
       "      <td>-1</td>\n",
       "      <td>0.071429</td>\n",
       "    </tr>\n",
       "    <tr>\n",
       "      <td>4</td>\n",
       "      <td>1.0</td>\n",
       "      <td>0.0</td>\n",
       "      <td>1</td>\n",
       "      <td>0.071429</td>\n",
       "    </tr>\n",
       "    <tr>\n",
       "      <td>2</td>\n",
       "      <td>0.0</td>\n",
       "      <td>1.0</td>\n",
       "      <td>-1</td>\n",
       "      <td>0.071429</td>\n",
       "    </tr>\n",
       "  </tbody>\n",
       "</table>\n",
       "</div>"
      ],
      "text/plain": [
       "    x1   x2  y   weights\n",
       "1 -0.5  0.5  1  0.500000\n",
       "4  1.0  0.0  1  0.071429\n",
       "3  0.5  1.0 -1  0.071429\n",
       "4  1.0  0.0  1  0.071429\n",
       "5  1.0 -1.0  1  0.071429\n",
       "6  0.0 -1.0 -1  0.071429\n",
       "4  1.0  0.0  1  0.071429\n",
       "2  0.0  1.0 -1  0.071429"
      ]
     },
     "execution_count": 23,
     "metadata": {},
     "output_type": "execute_result"
    }
   ],
   "source": [
    "df2.weights = df2.weights / Z\n",
    "df2"
   ]
  },
  {
   "cell_type": "markdown",
   "metadata": {},
   "source": [
    "| t | $\\epsilon_t$ | $\\alpha_t$ | $Z_t$  | $D_t(1)$ | $D_t(2)$ | $D_t(3)$ | $D_t(4)$ | $D_t(5)$ | $D_t(6)$ | $D_t(7)$ | $D_t(8)$ |\n",
    "|---|--------------|------------|--------|----------|----------|----------|----------|----------|----------|----------|----------|\n",
    "| 1 | 0.25         | 0.5493     | 0.866  | 0.083334 | 0.083334 | 0.083334 | 0.083334 | 0.249998 | 0.249998 | 0.083334 | 0.083334 |\n",
    "| 2 | 0.125        | 0.972955   | 0.6614 | 0.5      | 0.071429 | 0.071429 | 0.071429 | 0.071429 | 0.071429 | 0.071429 | 0.071429 |\n",
    "| 3 |              |            |        |          |          |          |          |          |          |          |          |"
   ]
  },
  {
   "cell_type": "markdown",
   "metadata": {},
   "source": [
    "And Finally, repeating the same steps for the 3rd and final time"
   ]
  },
  {
   "cell_type": "code",
   "execution_count": 28,
   "metadata": {},
   "outputs": [
    {
     "data": {
      "text/html": [
       "<div>\n",
       "<style scoped>\n",
       "    .dataframe tbody tr th:only-of-type {\n",
       "        vertical-align: middle;\n",
       "    }\n",
       "\n",
       "    .dataframe tbody tr th {\n",
       "        vertical-align: top;\n",
       "    }\n",
       "\n",
       "    .dataframe thead th {\n",
       "        text-align: right;\n",
       "    }\n",
       "</style>\n",
       "<table border=\"1\" class=\"dataframe\">\n",
       "  <thead>\n",
       "    <tr style=\"text-align: right;\">\n",
       "      <th></th>\n",
       "      <th>x1</th>\n",
       "      <th>x2</th>\n",
       "      <th>y</th>\n",
       "      <th>weights</th>\n",
       "    </tr>\n",
       "  </thead>\n",
       "  <tbody>\n",
       "    <tr>\n",
       "      <td>1</td>\n",
       "      <td>-0.5</td>\n",
       "      <td>0.5</td>\n",
       "      <td>1</td>\n",
       "      <td>0.125</td>\n",
       "    </tr>\n",
       "    <tr>\n",
       "      <td>3</td>\n",
       "      <td>0.5</td>\n",
       "      <td>1.0</td>\n",
       "      <td>-1</td>\n",
       "      <td>0.125</td>\n",
       "    </tr>\n",
       "    <tr>\n",
       "      <td>1</td>\n",
       "      <td>-0.5</td>\n",
       "      <td>0.5</td>\n",
       "      <td>1</td>\n",
       "      <td>0.125</td>\n",
       "    </tr>\n",
       "    <tr>\n",
       "      <td>1</td>\n",
       "      <td>-0.5</td>\n",
       "      <td>0.5</td>\n",
       "      <td>1</td>\n",
       "      <td>0.125</td>\n",
       "    </tr>\n",
       "    <tr>\n",
       "      <td>1</td>\n",
       "      <td>-0.5</td>\n",
       "      <td>0.5</td>\n",
       "      <td>1</td>\n",
       "      <td>0.125</td>\n",
       "    </tr>\n",
       "    <tr>\n",
       "      <td>4</td>\n",
       "      <td>1.0</td>\n",
       "      <td>0.0</td>\n",
       "      <td>1</td>\n",
       "      <td>0.125</td>\n",
       "    </tr>\n",
       "    <tr>\n",
       "      <td>2</td>\n",
       "      <td>0.0</td>\n",
       "      <td>1.0</td>\n",
       "      <td>-1</td>\n",
       "      <td>0.125</td>\n",
       "    </tr>\n",
       "    <tr>\n",
       "      <td>1</td>\n",
       "      <td>-0.5</td>\n",
       "      <td>0.5</td>\n",
       "      <td>1</td>\n",
       "      <td>0.125</td>\n",
       "    </tr>\n",
       "  </tbody>\n",
       "</table>\n",
       "</div>"
      ],
      "text/plain": [
       "    x1   x2  y  weights\n",
       "1 -0.5  0.5  1    0.125\n",
       "3  0.5  1.0 -1    0.125\n",
       "1 -0.5  0.5  1    0.125\n",
       "1 -0.5  0.5  1    0.125\n",
       "1 -0.5  0.5  1    0.125\n",
       "4  1.0  0.0  1    0.125\n",
       "2  0.0  1.0 -1    0.125\n",
       "1 -0.5  0.5  1    0.125"
      ]
     },
     "execution_count": 28,
     "metadata": {},
     "output_type": "execute_result"
    }
   ],
   "source": [
    "df3 = df2.sample(n=8, replace=True, weights=df2.weights)\n",
    "df3.weights = 1/8\n",
    "df3"
   ]
  },
  {
   "cell_type": "code",
   "execution_count": 29,
   "metadata": {},
   "outputs": [
    {
     "name": "stdout",
     "output_type": "stream",
     "text": [
      "Gini Score x1: 0.1666711111062962\t Value: -0.25\n",
      "Gini Score x2: 4.999991666537677e-06\t Value: 1.0\n"
     ]
    }
   ],
   "source": [
    "#get gini scores for stump split\n",
    "score_x1, val_x1 = Gini_Index(df=df3, col='x1', tar='y')\n",
    "score_x2, val_x2 = Gini_Index(df=df3, col='x2', tar='y')\n",
    "\n",
    "print('Gini Score x1: {}\\t Value: {}'.format(score_x1, val_x1))\n",
    "print('Gini Score x2: {}\\t Value: {}'.format(score_x2, val_x2))"
   ]
  },
  {
   "cell_type": "code",
   "execution_count": 50,
   "metadata": {},
   "outputs": [
    {
     "data": {
      "image/png": "[encoded data removed]",
      "text/plain": [
       "<Figure size 1080x576 with 1 Axes>"
      ]
     },
     "metadata": {
      "needs_background": "light"
     },
     "output_type": "display_data"
    }
   ],
   "source": [
    "fig = plotit(df3, show=False, resized=True)\n",
    "ax = fig.gca()\n",
    "ax.plot(np.linspace(-1.5, 1.5, 100),[1]*100, ls='--', color='k', lw=2)\n",
    "ax.fill_between(x=np.linspace(-1.5,1.5,100), y1=[1.0]*100, y2=[1.5]*100, where=(np.linspace(0,1.5,100)>=0), alpha=0.4, color='blue')\n",
    "ax.fill_between(x=np.linspace(-1.5,1.5,100), y1=[-1.5]*100, y2=[1]*100, where=(np.linspace(-1.5,0,100)<=0), alpha=0.4, color='red')\n",
    "plt.title('Size is representative of quantity')\n",
    "plt.savefig('third.png', bbox_layout='tight', bbox_inches='tight')\n",
    "plt.show()"
   ]
  },
  {
   "cell_type": "markdown",
   "metadata": {},
   "source": [
    "There are 0 errors in this final iteration, therefore:\n",
    "\n",
    "$$\n",
    "\\epsilon_3 = 0\n",
    "$$\n",
    "\n",
    "Since $\\epsilon_3$ is 0, we will perturb it ever so slightly to not produce an error while calculating $\\alpha_3$\n",
    "\n",
    "$$\n",
    "\\alpha_3 =  \\frac{1}{2}log\\frac{1 - 0.00005}{0.00005} = 5.7564\n",
    "$$"
   ]
  },
  {
   "cell_type": "code",
   "execution_count": 37,
   "metadata": {},
   "outputs": [],
   "source": [
    "alpha = 5.7564\n",
    "\n",
    "#adjust weights for correct points\n",
    "df3.loc[:, 'weights'] = 0.125 * np.e**(-alpha)\n"
   ]
  },
  {
   "cell_type": "code",
   "execution_count": 38,
   "metadata": {},
   "outputs": [
    {
     "name": "stdout",
     "output_type": "stream",
     "text": [
      "Z = 0.003162476043927111\n"
     ]
    }
   ],
   "source": [
    "Z = df3.weights.sum(axis=0)\n",
    "print('Z =', Z)"
   ]
  },
  {
   "cell_type": "code",
   "execution_count": 39,
   "metadata": {},
   "outputs": [
    {
     "data": {
      "text/html": [
       "<div>\n",
       "<style scoped>\n",
       "    .dataframe tbody tr th:only-of-type {\n",
       "        vertical-align: middle;\n",
       "    }\n",
       "\n",
       "    .dataframe tbody tr th {\n",
       "        vertical-align: top;\n",
       "    }\n",
       "\n",
       "    .dataframe thead th {\n",
       "        text-align: right;\n",
       "    }\n",
       "</style>\n",
       "<table border=\"1\" class=\"dataframe\">\n",
       "  <thead>\n",
       "    <tr style=\"text-align: right;\">\n",
       "      <th></th>\n",
       "      <th>x1</th>\n",
       "      <th>x2</th>\n",
       "      <th>y</th>\n",
       "      <th>weights</th>\n",
       "    </tr>\n",
       "  </thead>\n",
       "  <tbody>\n",
       "    <tr>\n",
       "      <td>1</td>\n",
       "      <td>-0.5</td>\n",
       "      <td>0.5</td>\n",
       "      <td>1</td>\n",
       "      <td>0.125</td>\n",
       "    </tr>\n",
       "    <tr>\n",
       "      <td>3</td>\n",
       "      <td>0.5</td>\n",
       "      <td>1.0</td>\n",
       "      <td>-1</td>\n",
       "      <td>0.125</td>\n",
       "    </tr>\n",
       "    <tr>\n",
       "      <td>1</td>\n",
       "      <td>-0.5</td>\n",
       "      <td>0.5</td>\n",
       "      <td>1</td>\n",
       "      <td>0.125</td>\n",
       "    </tr>\n",
       "    <tr>\n",
       "      <td>1</td>\n",
       "      <td>-0.5</td>\n",
       "      <td>0.5</td>\n",
       "      <td>1</td>\n",
       "      <td>0.125</td>\n",
       "    </tr>\n",
       "    <tr>\n",
       "      <td>1</td>\n",
       "      <td>-0.5</td>\n",
       "      <td>0.5</td>\n",
       "      <td>1</td>\n",
       "      <td>0.125</td>\n",
       "    </tr>\n",
       "    <tr>\n",
       "      <td>4</td>\n",
       "      <td>1.0</td>\n",
       "      <td>0.0</td>\n",
       "      <td>1</td>\n",
       "      <td>0.125</td>\n",
       "    </tr>\n",
       "    <tr>\n",
       "      <td>2</td>\n",
       "      <td>0.0</td>\n",
       "      <td>1.0</td>\n",
       "      <td>-1</td>\n",
       "      <td>0.125</td>\n",
       "    </tr>\n",
       "    <tr>\n",
       "      <td>1</td>\n",
       "      <td>-0.5</td>\n",
       "      <td>0.5</td>\n",
       "      <td>1</td>\n",
       "      <td>0.125</td>\n",
       "    </tr>\n",
       "  </tbody>\n",
       "</table>\n",
       "</div>"
      ],
      "text/plain": [
       "    x1   x2  y  weights\n",
       "1 -0.5  0.5  1    0.125\n",
       "3  0.5  1.0 -1    0.125\n",
       "1 -0.5  0.5  1    0.125\n",
       "1 -0.5  0.5  1    0.125\n",
       "1 -0.5  0.5  1    0.125\n",
       "4  1.0  0.0  1    0.125\n",
       "2  0.0  1.0 -1    0.125\n",
       "1 -0.5  0.5  1    0.125"
      ]
     },
     "execution_count": 39,
     "metadata": {},
     "output_type": "execute_result"
    }
   ],
   "source": [
    "df3.weights = df3.weights / Z\n",
    "df3"
   ]
  },
  {
   "cell_type": "markdown",
   "metadata": {},
   "source": [
    "| t | $\\epsilon_t$ | $\\alpha_t$ | $Z_t$   | $D_t(1)$ | $D_t(2)$ | $D_t(3)$ | $D_t(4)$ | $D_t(5)$ | $D_t(6)$ | $D_t(7)$ | $D_t(8)$ |\n",
    "|---|--------------|------------|---------|----------|----------|----------|----------|----------|----------|----------|----------|\n",
    "| 1 | 0.25         | 0.5493     | 0.866   | 0.083334 | 0.083334 | 0.083334 | 0.083334 | 0.249998 | 0.249998 | 0.083334 | 0.083334 |\n",
    "| 2 | 0.125        | 0.972955   | 0.6614  | 0.5      | 0.071429 | 0.071429 | 0.071429 | 0.071429 | 0.071429 | 0.071429 | 0.071429 |\n",
    "| 3 | 0            | 5.7564     | 0.00316 | 0.125    | 0.125    | 0.125    | 0.125    | 0.125    | 0.125    | 0.125    | 0.125    |"
   ]
  },
  {
   "cell_type": "code",
   "execution_count": 48,
   "metadata": {},
   "outputs": [
    {
     "data": {
      "image/png": "[encoded data removed]",
      "text/plain": [
       "<Figure size 1080x576 with 1 Axes>"
      ]
     },
     "metadata": {
      "needs_background": "light"
     },
     "output_type": "display_data"
    }
   ],
   "source": [
    "fig = plotit(df, show=False)\n",
    "ax = fig.gca()\n",
    "ax.plot([-0.25]*100, np.linspace(-1.5, 1.5, 100), ls='--', color='k', lw=2)\n",
    "ax.plot(np.linspace(-1.5, 1.5, 100),[1.0]*100,  ls='--', color='k', lw=2)\n",
    "ax.plot([0.75]*100, np.linspace(-1.5, 1.5, 100), ls='--', color='k', lw=2)\n",
    "ax.fill_between(x=np.linspace(-0.25,0.75,100), y1=[-1.5]*100, y2=[1.0]*100, where=(np.linspace(0,1.5,100)>=0), alpha=0.4, color='blue')\n",
    "ax.fill_between(x=np.linspace(-1.5,-0.25,100), y1=[-1.5]*100, y2=[1.0]*100, where=(np.linspace(-1.5,0,100)<=0), alpha=0.4, color='red')\n",
    "ax.fill_between(x=np.linspace(0.75,1.5,100), y1=[-1.5]*100, y2=[1.0]*100, where=(np.linspace(0,1.5,100)>=0), alpha=0.4, color='red')\n",
    "ax.fill_between(x=np.linspace(-1.5,1.5,100), y1=[1.0]*100, y2=[1.5]*100, where=(np.linspace(0,1.5,100)>=0), alpha=0.4, color='blue')\n",
    "plt.savefig('final.png', bbox_layout='tight', bbox_inches='tight')\n",
    "plt.show()"
   ]
  },
  {
   "cell_type": "markdown",
   "metadata": {},
   "source": [
    "#### (b) What is the training error of this AdaBoost? Give a short explanation for why AdaBoost outperforms a single decision stump."
   ]
  },
  {
   "cell_type": "markdown",
   "metadata": {},
   "source": [
    "The training error for this data is 0. It manages to perfectly classify each observation. AdaBoost outperforms a single stump because it is a superposition of many \"focused\" stumps. Focused meaning each stump was explicitly directed to focus on errors from a prior stump to make up for its inadequacies. "
   ]
  }
 ],
 "metadata": {
  "kernelspec": {
   "display_name": "Python 3",
   "language": "python",
   "name": "python3"
  },
  "language_info": {
   "codemirror_mode": {
    "name": "ipython",
    "version": 3
   },
   "file_extension": ".py",
   "mimetype": "text/x-python",
   "name": "python",
   "nbconvert_exporter": "python",
   "pygments_lexer": "ipython3",
   "version": "3.7.4"
  }
 },
 "nbformat": 4,
 "nbformat_minor": 2
}

{
 "cells": [
  {
   "cell_type": "code",
   "execution_count": null,
   "metadata": {},
   "outputs": [],
   "source": [
    "import numpy as np\n",
    "from numpy.linalg import norm\n",
    "import networkx as nx\n",
    "from scipy.io import loadmat\n",
    "import pandas as pd\n",
    "import matplotlib.pyplot as plt\n",
    "from matplotlib.offsetbox import OffsetImage, AnnotationBbox\n",
    "import seaborn as sns\n",
    "from scipy.linalg import eig\n",
    "import string\n",
    "\n",
    "from IPython.core.display import display, HTML\n",
    "display(HTML(\"<style>.container { width:100% !important; }</style>\"))"
   ]
  },
  {
   "cell_type": "markdown",
   "metadata": {},
   "source": [
    "# Q2\n",
    "\n",
    "## Order of faces using ISOMAP\n",
    "\n",
    "This question aims to reproduce the ISOMAP algorithm results in the original paper for\n",
    "ISOMAP, J.B. Tenenbaum, V. de Silva, and J.C. Langford, Science 290 (2000) 2319-2323\n",
    "that we have also seen in the lecture as an exercise (isn’t this exciting to go through the\n",
    "process of generating results for a high-impact research paper!)\n",
    "The file isomap.mat (or isomap.dat) contains 698 images, corresponding to different poses\n",
    "of the same face. Each image is given as a 64 × 64 luminosity map, hence represented as a\n",
    "vector in $\\mathbb{R}^{4096}$  . This vector is stored as a row in the file. [This is one of the datasets used in\n",
    "the original paper] In this question, you are expected to implement the ISOMAP algorithm\n",
    "by coding it up yourself. You may use the provided functions in ShortestPath.zip to find the\n",
    "shortest path as required by one step of the algorithm.\n",
    "Choose the Euclidean distance (i.e., in this case, a distance in $\\mathbb{R}^{4096}$ ) to construct the\n",
    "nearest neighbor graph—vertices corresponding to the images. Construct a similarity graph\n",
    "with vertices corresponding to the images, and tune the threshold $\\epsilon$ so that each node has\n",
    "at least 100 neighbors (this approach corresponds to the so-called $\\epsilon$-Isomap).\n",
    "\n",
    "\n",
    "1. Visualize the similarity graph (you can either show the adjacency matrix, or similar to the lecture slides, visualize the graph using graph visualization packages such as Gephi (https://gephi.org) and illustrate a few images corresponds to nodes at different parts of the graph, e.g., mark them by hand or use software packages)."
   ]
  },
  {
   "cell_type": "code",
   "execution_count": null,
   "metadata": {},
   "outputs": [],
   "source": [
    "#load data\n",
    "data=loadmat('isomap.mat')['images'].T"
   ]
  },
  {
   "cell_type": "code",
   "execution_count": null,
   "metadata": {},
   "outputs": [],
   "source": [
    "#notate original shape of the images\n",
    "original_shape = (64,64)"
   ]
  },
  {
   "cell_type": "code",
   "execution_count": null,
   "metadata": {},
   "outputs": [],
   "source": [
    "#visualize a single image in the dataset\n",
    "plt.figure(figsize=(15,8))\n",
    "plt.imshow(data[100,:].reshape(original_shape).T, cmap='gray')\n",
    "plt.axis('off')\n",
    "plt.show()"
   ]
  },
  {
   "cell_type": "code",
   "execution_count": null,
   "metadata": {},
   "outputs": [],
   "source": [
    "def Matrix_D(W):\n",
    "    # Generate Graph and Obtain Matrix D, \\\\\n",
    "    # from weight matrix W defining the weight on the edge between each pair of nodes.\n",
    "    # Note that you can assign sufficiently large weights to non-existing edges.\n",
    "\n",
    "    n = np.shape(W)[0]\n",
    "    Graph = nx.DiGraph()\n",
    "    for i in range(n):\n",
    "        for j in range(n):\n",
    "            Graph.add_weighted_edges_from([(i,j,min(W[i,j], W[j,i]))])\n",
    "\n",
    "    res = dict(nx.all_pairs_dijkstra_path_length(Graph))\n",
    "    D = np.zeros([n,n])\n",
    "    for i in range(n):\n",
    "        for j in range(n):\n",
    "            D[i,j] = res[i][j]\n",
    "    np.savetxt('D.csv', D)\n",
    "    return D"
   ]
  },
  {
   "cell_type": "code",
   "execution_count": null,
   "metadata": {},
   "outputs": [],
   "source": [
    "def wnn(data, epsilon=None, n_neighbors=None, distance='eucl'):\n",
    "    '''\n",
    "    This function calculates the adjacency matrix by one of two methods. If n_neighbors is \n",
    "    None, then epsilon-isomap is calculated (threshold by epsilon). User must manually tune\n",
    "    epsilon until an adjacency matrix is produced such that each node has a minimum of n-desired\n",
    "    neighbors. If n_neighbors is supplied, epsilon is ignored and the adjacency for a given node \n",
    "    will continue to be calculated until it has n_neighbors\n",
    "    '''\n",
    "    m = data.shape[0]\n",
    "    \n",
    "    #if n_neighbors not supplied perform epsilon-isomap\n",
    "    if not n_neighbors:\n",
    "        \n",
    "        #initialize emptry array to store results\n",
    "        A = np.zeros(shape=(m,m))\n",
    "\n",
    "        #loop through each row\n",
    "        for i in range(m):\n",
    "            for j in range(i,m):\n",
    "\n",
    "                a = data[i]\n",
    "                b = data[j]\n",
    "                \n",
    "                #calculation for euclidian distance\n",
    "                if distance == 'eucl':\n",
    "                    dist = np.sqrt(sum((a - b)**2))\n",
    "                    \n",
    "                #calculation for manhattan distance\n",
    "                elif distance == 'manhattan':\n",
    "                    dist = np.sum(np.abs(a-b)**1)**(1/1)\n",
    "                \n",
    "                #panic \n",
    "                else:\n",
    "                    return 'Invalid distance metric'\n",
    "                \n",
    "                #if distance is less than epsilon record the neighbors as an undirected graph\n",
    "                if dist <= epsilon:\n",
    "                    A[i][j] = dist\n",
    "                    A[j][i] = dist\n",
    "\n",
    "        return A\n",
    "    \n",
    "    #if n_neighbors provided, calculate distance for a given node until it has n_neighbors\n",
    "    else:\n",
    "        \n",
    "        #calculate the distance of all nodes from all other nodes\n",
    "        dist = np.array([[norm(a-b) for b in data] for a in data])\n",
    "        \n",
    "        #initialize empty array to hold results\n",
    "        A= np.zeros((m,m))\n",
    "        \n",
    "        #sort in decreasing order and slice by the first n neighbors\n",
    "        sorted_ = np.argsort(dist, axis=1)[:, 1:n_neighbors+1]\n",
    "        \n",
    "        #record the distances for the first 100 neighbors for each row\n",
    "        for pos, x in enumerate(sorted_):\n",
    "            A[pos, x] = dist[pos, x]\n",
    "            \n",
    "        return A\n",
    "    "
   ]
  },
  {
   "cell_type": "code",
   "execution_count": null,
   "metadata": {},
   "outputs": [],
   "source": [
    "#epsilon to produce at least 100 neighbors was found to be 22.38\n",
    "\n",
    "#calculte k-nearest neighbors with k=100\n",
    "A_knn = wnn(data=data, n_neighbors=100)\n",
    "\n",
    "#find epsilon nearest neighbors with epsilon ensuring a min of 100 neighbors\n",
    "A_eps = wnn(data=data, epsilon=22.38, n_neighbors=None)"
   ]
  },
  {
   "cell_type": "code",
   "execution_count": null,
   "metadata": {},
   "outputs": [],
   "source": [
    "plt.subplots(nrows=1, ncols=2, figsize=(25,8))\n",
    "plt.subplot(121)\n",
    "sns.heatmap(A_knn)\n",
    "plt.title('Adjacency Matrix from KNN')\n",
    "\n",
    "plt.subplot(122)\n",
    "sns.heatmap(A_eps)\n",
    "plt.title('Adjacency Matrix from Epsilon Threshold')\n",
    "plt.show()"
   ]
  },
  {
   "cell_type": "code",
   "execution_count": null,
   "metadata": {},
   "outputs": [],
   "source": [
    "plt.subplots(nrows=1, ncols=2, figsize=(25,8))\n",
    "d = sorted([x[x != 0].shape[0] for x in A_knn])\n",
    "plt.subplot(121)\n",
    "plt.bar(range(A.shape[0]), d)\n",
    "plt.title('# Neighbors per Node from KNN')\n",
    "\n",
    "\n",
    "d = sorted([x[x != 0].shape[0] for x in A_eps])\n",
    "plt.subplot(122)\n",
    "plt.bar(range(A.shape[0]), d)\n",
    "plt.title('# Neighbors per Epsilon Thresholding')\n",
    "plt.show()"
   ]
  },
  {
   "cell_type": "code",
   "execution_count": null,
   "metadata": {},
   "outputs": [],
   "source": [
    "'''\n",
    "This code was used to generate the actual graph with nodes and edges.\n",
    "Wasn't a fan of how it turned out nor the runtime. Keeping code for future\n",
    "reference, but not outputing the graph for the final report \n",
    "'''\n",
    "\n",
    "# b = A.copy()\n",
    "# b[b == np.inf] =0\n",
    "\n",
    "# G = nx.from_numpy_array(b)\n",
    "\n",
    "# dt = [('len', float)]\n",
    "\n",
    "# b = b.view(dt)\n",
    "\n",
    "# G = nx.from_numpy_matrix(b)\n",
    "# G = nx.relabel_nodes(G, dict(zip(range(len(G.nodes())),string.ascii_uppercase)))    \n",
    "\n",
    "# G = nx.drawing.nx_agraph.to_agraph(G,)\n",
    "\n",
    "# G.node_attr.update(color=\"red\", style=\"filled\", height=\"1\", width=\"1\")\n",
    "# G.edge_attr.update(color=\"black\", weight=\"2.0\")\n",
    "\n",
    "# G.draw('distances.png', format='png', prog='neato', args='-Goutputorder=edgesfirst')"
   ]
  },
  {
   "cell_type": "markdown",
   "metadata": {},
   "source": [
    "2. Implement the ISOMAP algorithm yourself to obtain a k = 2-dimensional embedding. This means, each picture is represented by a two-dimensional vector (Z in the lecture), which we called “embedding” of pictures. Plot the embeddings using a scatter plot, similar to the plots in lecture slides. Find a few images in the embedding space and show what these images look like. Comment on do you see any visual similarity among them and their arrangement, similar to what you seen in the paper?"
   ]
  },
  {
   "cell_type": "code",
   "execution_count": null,
   "metadata": {},
   "outputs": [],
   "source": [
    "#prep data to calculate D matrix\n",
    "a_knn = A_knn.copy()\n",
    "a_eps = A_eps.copy()\n",
    "\n",
    "#map distances in the Adj. Graph of 0 to infinity before calculating D\n",
    "a_knn[a_knn==0] = np.inf\n",
    "a_eps[a_eps==0] = np.inf\n",
    "\n",
    "#calculate D matrix for both methods\n",
    "D_knn = Matrix_D(a_knn)\n",
    "D_eps = Matrix_D(a_eps)"
   ]
  },
  {
   "cell_type": "code",
   "execution_count": null,
   "metadata": {},
   "outputs": [],
   "source": [
    "plt.subplots(nrows=1, ncols=2, figsize=(25,8))\n",
    "plt.subplot(121)\n",
    "sns.heatmap(D_knn)\n",
    "plt.title('KNN D-Matrix')\n",
    "\n",
    "plt.subplot(122)\n",
    "sns.heatmap(D_eps)\n",
    "plt.title('Epsilon D-Matrix')\n",
    "plt.show()"
   ]
  },
  {
   "cell_type": "code",
   "execution_count": null,
   "metadata": {},
   "outputs": [],
   "source": [
    "def center(D):\n",
    "    I = np.eye(A_knn.shape[0])\n",
    "    ones = np.ones((D.shape[0], 1))\n",
    "    m = D.shape[0]\n",
    "    \n",
    "    H = I - (1/m)* ones.dot(ones.T)\n",
    "    \n",
    "    return -0.5 * H.dot(D**2).dot(H)"
   ]
  },
  {
   "cell_type": "code",
   "execution_count": null,
   "metadata": {},
   "outputs": [],
   "source": [
    "C_knn = center(D_knn)\n",
    "C_eps = center(D_eps)"
   ]
  },
  {
   "cell_type": "code",
   "execution_count": null,
   "metadata": {},
   "outputs": [],
   "source": [
    "plt.subplots(nrows=1, ncols=2, figsize=(25,8))\n",
    "plt.subplot(121)\n",
    "sns.heatmap(C_knn)\n",
    "plt.title('KNN Centered')\n",
    "\n",
    "plt.subplot(122)\n",
    "sns.heatmap(C_eps)\n",
    "plt.title('Epsilon Centered')\n",
    "plt.show()"
   ]
  },
  {
   "cell_type": "code",
   "execution_count": null,
   "metadata": {},
   "outputs": [],
   "source": [
    "def eigendecomposition(data: np.array, k: int) -> np.array:\n",
    "\n",
    "    #eigendecomposition\n",
    "    vals, vecs = np.linalg.eig(data)\n",
    "    \n",
    "    #pair vals with vecs before sorting\n",
    "    vals_and_vecs = list( zip( np.abs(vals) , vecs.T ) )\n",
    "    \n",
    "\n",
    "\n",
    "    # Select n_components eigenvectors with largest eigenvalues, obtain subspace transform matrix\n",
    "    vals_and_vecs.sort(key=lambda x: x[0], reverse=True)\n",
    "    vals_and_vecs = np.array(vals_and_vecs)\n",
    "    W = np.hstack([vals_and_vecs[i, 1].reshape(data.shape[1], 1) for i in range(k)])\n",
    "\n",
    "    # Return samples in new subspace\n",
    "    return np.real(vals[:k]), np.real(W)\n",
    "\n",
    "\n",
    "def isomap(data: np.array, k: int) -> np.array:\n",
    "    \n",
    "    #eigendecomposition\n",
    "    vals, vecs = eigendecomposition(data, k)\n",
    "    \n",
    "    #sqrt and diagonalize the eigenvalues\n",
    "    vals = np.diag(np.sqrt(vals))\n",
    "    \n",
    "    #return the dot product between eigenvectors and eigenvalues\n",
    "    return vecs.dot(vals)\n",
    "\n",
    "\n",
    "\n",
    "def pca(data: np.array, k: int) -> np.array:\n",
    "    \n",
    "    #calculate the mean of each column\n",
    "    mu = np.mean(data, axis=0)\n",
    "\n",
    "    #mean ceter the values\n",
    "    centered = (data - mu)\n",
    "\n",
    "    #calculate covariance matrix\n",
    "    cov = centered.T.dot(centered)\n",
    "\n",
    "    \n",
    "    #eigendecomposition\n",
    "    vals, vecs = eigendecomposition(cov, k)\n",
    "    \n",
    "    return centered.dot(vecs)"
   ]
  },
  {
   "cell_type": "code",
   "execution_count": null,
   "metadata": {},
   "outputs": [],
   "source": [
    "#calculate isomap for knn\n",
    "isomap_knn = isomap(C_knn, 2)\n",
    "\n",
    "#calculate isomap for epsilon\n",
    "isomap_eps = isomap(C_eps, 2)"
   ]
  },
  {
   "cell_type": "code",
   "execution_count": null,
   "metadata": {},
   "outputs": [],
   "source": [
    "selected_image_idx = [16,559, 250, 352, 204, 90, 500, 199, 396, 689, 487, 56, 555, 452,332, 174, 123, 156, 178, 270, 406, 119, 186, 249, 474, 70, 14,583, 261, 395, 46, 316, 184, 562, 533, 471, 35, 147, 668, 612, 618, 133,231,522,281,454,613]\n",
    "\n",
    "\n",
    "plt.subplots(nrows=1, ncols=2, figsize=(30,8))\n",
    "ax=plt.subplot(121)\n",
    "ax.scatter(isomap_knn[:,0], isomap_knn[:,1])\n",
    "plt.title('ISOMAP KNN')\n",
    "for i in selected_image_idx:\n",
    "    single_image = data[i,:].reshape(64, 64).T\n",
    "\n",
    "    imagebox = OffsetImage(single_image, zoom=0.6, cmap='gray')\n",
    "    ab = AnnotationBbox(imagebox, isomap_knn[i], pad=0.1)\n",
    "    ax.add_artist(ab)  \n",
    "\n",
    "\n",
    "ax=plt.subplot(122)\n",
    "ax.scatter(isomap_eps[:,0], isomap_eps[:,1])\n",
    "plt.title('ISOMAP EPSILON THRESHOLDING')\n",
    "for i in selected_image_idx:\n",
    "    single_image = data[i,:].reshape(64, 64).T\n",
    "\n",
    "    imagebox = OffsetImage(single_image, zoom=0.6, cmap='gray')\n",
    "    ab = AnnotationBbox(imagebox, isomap_eps[i], pad=0.1)\n",
    "    ax.add_artist(ab)  \n",
    "\n",
    "plt.show()\n",
    "\n"
   ]
  },
  {
   "cell_type": "markdown",
   "metadata": {},
   "source": [
    "3. Now choose L1 distance (or Manhattan distance) between images (recall the definition from “Clustering” lecture)). Repeat the steps above. Use \u000f-ISOMAP to obtain a k = 2 dimensional embedding. Present a plot of this embedding. Do you see any difference by choosing a different similarity measure by comparing results in Part (b) and Part (c)?"
   ]
  },
  {
   "cell_type": "code",
   "execution_count": null,
   "metadata": {},
   "outputs": [],
   "source": [
    "A_knn = wnn(data=data, n_neighbors=100, distance='manhattan')\n",
    "A_eps = wnn(data=data, epsilon=1011,  distance='manhattan')"
   ]
  },
  {
   "cell_type": "code",
   "execution_count": null,
   "metadata": {},
   "outputs": [],
   "source": [
    "plt.subplots(nrows=1, ncols=2, figsize=(25,8))\n",
    "plt.subplot(121)\n",
    "sns.heatmap(A_knn)\n",
    "plt.title('Adjacency Matrix from KNN - Manhattan')\n",
    "\n",
    "plt.subplot(122)\n",
    "sns.heatmap(A_eps)\n",
    "plt.title('Adjacency Matrix from Epsilon Threshold - Manhattan')\n",
    "plt.show()"
   ]
  },
  {
   "cell_type": "code",
   "execution_count": null,
   "metadata": {},
   "outputs": [],
   "source": [
    "plt.subplots(nrows=1, ncols=2, figsize=(25,8))\n",
    "d = sorted([x[x != 0].shape[0] for x in A_knn])\n",
    "plt.subplot(121)\n",
    "plt.bar(range(A.shape[0]), d)\n",
    "plt.title('# Neighbors per Node from KNN - Manhattan')\n",
    "\n",
    "\n",
    "d = sorted([x[x != 0].shape[0] for x in A_eps])\n",
    "plt.subplot(122)\n",
    "plt.bar(range(A.shape[0]), d)\n",
    "plt.title('# Neighbors per Epsilon Thresholding - Manhattan')\n",
    "plt.show()"
   ]
  },
  {
   "cell_type": "code",
   "execution_count": null,
   "metadata": {},
   "outputs": [],
   "source": [
    "#prep data to calculate D matrix\n",
    "a_knn = A_knn.copy()\n",
    "a_eps = A_eps.copy()\n",
    "\n",
    "#map distances in the Adj. Graph of 0 to infinity before calculating D\n",
    "a_knn[a_knn==0] = np.inf\n",
    "a_eps[a_eps==0] = np.inf\n",
    "\n",
    "#calculate D matrix for both methods\n",
    "D_knn = Matrix_D(a_knn)\n",
    "D_eps = Matrix_D(a_eps)"
   ]
  },
  {
   "cell_type": "code",
   "execution_count": null,
   "metadata": {},
   "outputs": [],
   "source": [
    "plt.subplots(nrows=1, ncols=2, figsize=(25,8))\n",
    "plt.subplot(121)\n",
    "sns.heatmap(D_knn)\n",
    "plt.title('KNN D-Matrix - Manhattan')\n",
    "\n",
    "plt.subplot(122)\n",
    "sns.heatmap(D_eps)\n",
    "plt.title('Epsilon D-Matrix - Manhattan')\n",
    "plt.show()"
   ]
  },
  {
   "cell_type": "code",
   "execution_count": null,
   "metadata": {},
   "outputs": [],
   "source": [
    "C_knn = center(D_knn)\n",
    "C_eps = center(D_eps)"
   ]
  },
  {
   "cell_type": "code",
   "execution_count": null,
   "metadata": {},
   "outputs": [],
   "source": [
    "#calculate isomap for knn\n",
    "isomap_knn = isomap(C_knn, 2)\n",
    "\n",
    "#calculate isomap for epsilon\n",
    "isomap_eps = isomap(C_eps, 2)"
   ]
  },
  {
   "cell_type": "code",
   "execution_count": null,
   "metadata": {},
   "outputs": [],
   "source": [
    "selected_image_idx = [16,559, 250, 352, 204, 90, 500, 199, 396, 689, 487, 56, 555, 452,332, 174, 123, 156, 178, 270, 406, 119, 186, 249, 474, 70, 14,583, 261, 395, 46, 316, 184, 562, 533, 471, 35, 147, 668, 612, 618, 133,231,522,281,454,613]\n",
    "\n",
    "\n",
    "plt.subplots(nrows=1, ncols=2, figsize=(30,8))\n",
    "ax=plt.subplot(121)\n",
    "ax.scatter(isomap_knn[:,0], isomap_knn[:,1])\n",
    "plt.title('ISOMAP KNN - Manhattan')\n",
    "for i in selected_image_idx:\n",
    "    single_image = data[i,:].reshape(64, 64).T\n",
    "\n",
    "    imagebox = OffsetImage(single_image, zoom=0.6, cmap='gray')\n",
    "    ab = AnnotationBbox(imagebox, isomap_knn[i], pad=0.1)\n",
    "    ax.add_artist(ab)  \n",
    "\n",
    "\n",
    "ax=plt.subplot(122)\n",
    "ax.scatter(isomap_eps[:,0], isomap_eps[:,1])\n",
    "plt.title('ISOMAP EPSILON THRESHOLDING - Manhattan')\n",
    "for i in selected_image_idx:\n",
    "    single_image = data[i,:].reshape(64, 64).T\n",
    "\n",
    "    imagebox = OffsetImage(single_image, zoom=0.6, cmap='gray')\n",
    "    ab = AnnotationBbox(imagebox, isomap_eps[i], pad=0.1)\n",
    "    ax.add_artist(ab)  \n",
    "\n",
    "plt.show()\n",
    "\n"
   ]
  },
  {
   "cell_type": "code",
   "execution_count": null,
   "metadata": {},
   "outputs": [],
   "source": [
    "vp_knn = eigendecomposition(A_knn, 2)\n",
    "vp_eps = eigendecomposition(A_eps, 2)\n",
    "\n",
    "selected_image_idx = [16,559, 250, 352, 204, 90, 500, 199, 396, 689, 487, 56, 555, 452,332, 174, 123, 156, 178, 270, 406, 119, 186, 249, 474, 70, 14,583, 261, 395, 46, 316, 184, 562, 533, 471, 35, 147, 668, 612, 618, 133,231,522,281,454,613]\n",
    "\n",
    "# plt.figure(figsize=(30,15))\n",
    "plt.subplots(figsize=(15,8))\n",
    "ax=plt.subplot()\n",
    "# for i in range(v_knn.shape[0]):\n",
    "#     plt.scatter(v_knn[i,0], v_knn[i,1])\n",
    "#     plt.text(v_knn[i,0], v_knn[i,1], i)\n",
    "ax.scatter(vp_knn[:,0], vp_knn[:,1])\n",
    "for i in selected_image_idx:\n",
    "    single_image = data[i,:].reshape(64, 64).T\n",
    "\n",
    "    imagebox = OffsetImage(single_image, zoom=0.6, cmap='gray')\n",
    "    ab = AnnotationBbox(imagebox, vp_knn[i], pad=0.1)\n",
    "    ax.add_artist(ab)  \n",
    "\n",
    "plt.show()\n",
    "\n",
    "\n",
    "plt.subplots(figsize=(15,8))\n",
    "ax=plt.subplot()\n",
    "ax.scatter(vp_eps[:,0], vp_eps[:,1])\n",
    "for i in selected_image_idx:\n",
    "    single_image = data[i,:].reshape(64, 64).T\n",
    "\n",
    "    imagebox = OffsetImage(single_image, zoom=0.6, cmap='gray')\n",
    "    ab = AnnotationBbox(imagebox, vp_eps[i], pad=0.1)\n",
    "    ax.add_artist(ab)  \n",
    "\n",
    "plt.show()"
   ]
  },
  {
   "cell_type": "code",
   "execution_count": null,
   "metadata": {},
   "outputs": [],
   "source": []
  },
  {
   "cell_type": "code",
   "execution_count": null,
   "metadata": {},
   "outputs": [],
   "source": []
  },
  {
   "cell_type": "code",
   "execution_count": null,
   "metadata": {},
   "outputs": [],
   "source": []
  },
  {
   "cell_type": "code",
   "execution_count": null,
   "metadata": {},
   "outputs": [],
   "source": []
  },
  {
   "cell_type": "code",
   "execution_count": null,
   "metadata": {},
   "outputs": [],
   "source": [
    "e = pca(C_knn, 2)"
   ]
  },
  {
   "cell_type": "code",
   "execution_count": null,
   "metadata": {},
   "outputs": [],
   "source": [
    "from sklearn.decomposition import PCA"
   ]
  },
  {
   "cell_type": "code",
   "execution_count": null,
   "metadata": {},
   "outputs": [],
   "source": [
    "w = PCA(n_components=2)\n",
    "w.fit(C_knn)\n",
    "ee = w.transform(C_knn)"
   ]
  },
  {
   "cell_type": "code",
   "execution_count": null,
   "metadata": {},
   "outputs": [],
   "source": [
    "plt.subplots(nrows=1, ncols=2)\n",
    "plt.subplot(121)\n",
    "plt.scatter(ee[:,1], ee[:,0])\n",
    "plt.title('sklearn')\n",
    "plt.subplot(122)\n",
    "plt.scatter(e[:,1], e[:,0])\n",
    "plt.title('mine')\n",
    "plt.show()"
   ]
  },
  {
   "cell_type": "code",
   "execution_count": null,
   "metadata": {},
   "outputs": [],
   "source": [
    "e.shape"
   ]
  },
  {
   "cell_type": "code",
   "execution_count": null,
   "metadata": {},
   "outputs": [],
   "source": []
  }
 ],
 "metadata": {
  "kernelspec": {
   "display_name": "Python 3",
   "language": "python",
   "name": "python3"
  },
  "language_info": {
   "codemirror_mode": {
    "name": "ipython",
    "version": 3
   },
   "file_extension": ".py",
   "mimetype": "text/x-python",
   "name": "python",
   "nbconvert_exporter": "python",
   "pygments_lexer": "ipython3",
   "version": "3.7.4"
  }
 },
 "nbformat": 4,
 "nbformat_minor": 2
}

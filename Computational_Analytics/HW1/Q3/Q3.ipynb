{
 "cells": [
  {
   "cell_type": "code",
   "execution_count": 65,
   "metadata": {},
   "outputs": [],
   "source": [
    "import numpy as np\n",
    "import pandas as pd\n",
    "pd.set_option('display.max_rows', 1500)\n",
    "import matplotlib.pyplot as plt\n",
    "import seaborn as sns\n",
    "from sklearn.datasets import make_circles\n",
    "import networkx as nx\n",
    "from scipy import linalg\n",
    "from sklearn.cluster import KMeans as sklearnKMeans"
   ]
  },
  {
   "cell_type": "markdown",
   "metadata": {},
   "source": [
    "# Politcal blogs dataset [35 points]\n",
    "\n",
    "We will study a political blogs dataset first compiled for the paper Lada A. Adamic and Natalie Glance,\n",
    "“The political blogosphere and the 2004 US Election”, in Proceedings of the WWW-2005 Workshop on the\n",
    "Weblogging Ecosystem (2005). The dataset nodes.txt contains a graph with n = 1490 vertices (“nodes”)\n",
    "corresponding to political blogs. Each vertex has a 0-1 label (in the 3rd column) corresponding to the\n",
    "political orientation of that blog. We will consider this as the true label and try to reconstruct the true label\n",
    "from the graph using the spectral clustering on the graph. The dataset edges.txt contains edges between the\n",
    "vertices. You may remove isolated nodes (nodes that are not connected any other nodes).\n",
    "\n",
    "1. Assume the number of clusters in the graph is k. Explain the meaning of k here intuitively"
   ]
  },
  {
   "cell_type": "markdown",
   "metadata": {},
   "source": [
    "2. Use spectral clustering to find the k = 2, k = 3, and k = 4 clusters in the network of\n",
    "political blogs (each node is a blog, and their edges are defined in the file edges.txt). Then report the\n",
    "majority labels in each cluster, when k = 2, 3, 4, respectively. For example, if there are k = 2 clusters,\n",
    "and their labels are {0, 1, 1, 1} and {0, 0, 1} then the majority label for the first cluster is 1 and for\n",
    "the second cluster is 0. It is required you implementing the algorithms yourself rather than\n",
    "calling from a package."
   ]
  },
  {
   "cell_type": "code",
   "execution_count": 33,
   "metadata": {},
   "outputs": [
    {
     "name": "stdout",
     "output_type": "stream",
     "text": [
      "Total nodes in file:  1490\n"
     ]
    }
   ],
   "source": [
    "#load data\n",
    "edges = pd.read_csv('edges.edgelist', sep='\\t', header=None, names=['from','to'])\n",
    "nodes = pd.read_csv('nodes.txt', sep='\\t', header=None, names=['node', 'blog', 'class', 'source'])\n",
    "\n",
    "print('Total nodes in file: ',len(nodes))"
   ]
  },
  {
   "cell_type": "code",
   "execution_count": 34,
   "metadata": {},
   "outputs": [
    {
     "name": "stdout",
     "output_type": "stream",
     "text": [
      "Total connected nodes:  1224\n"
     ]
    }
   ],
   "source": [
    "#remove nodes that are isolated (has no edges)\n",
    "\n",
    "#get all nodes in nodes list\n",
    "nodes_in_nodes_list = nodes.node.values\n",
    "\n",
    "#create a set of all unique nodes in the 'from' list\n",
    "nodes_in_edges_list_from = edges['from'].unique()\n",
    "#create a set of all unique nodes in the 'to' list\n",
    "nodes_in_edges_list_to = edges['to'].unique()\n",
    "#take the union of the two sets\n",
    "nodes_in_edges = np.union1d(nodes_in_edges_list_from, nodes_in_edges_list_to)\n",
    "\n",
    "#isolated nodes are those in nodes list that don't appear in the edge lists\n",
    "#take the intersection of the two which will remove the isolated nodes\n",
    "nodes_in_clusters = np.intersect1d(nodes_in_nodes_list, nodes_in_edges)\n",
    "\n",
    "#remove isolated nodes from the nodes list\n",
    "nodes = nodes[nodes.node.isin(nodes_in_clusters)].reset_index().drop('index',axis=1)\n",
    "\n",
    "print('Total connected nodes: ', len(nodes))"
   ]
  },
  {
   "cell_type": "code",
   "execution_count": 35,
   "metadata": {},
   "outputs": [],
   "source": [
    "def create_A_matrix(nodes: np.array, edges: np.array) -> np.array:\n",
    "    \n",
    "    #get the total number of nodes (largest node in nodes list)\n",
    "    m = max(nodes)+1\n",
    "    \n",
    "    #create an empty m x m matrix\n",
    "    A = np.zeros((m,m))\n",
    "    \n",
    "    #fill out adjacency matrix with edges\n",
    "    for nodeA, nodeB in edges:\n",
    "        A[nodeA, nodeB] = 1\n",
    "        A[nodeB, nodeA] = 1\n",
    "\n",
    "    \n",
    "        \n",
    "    \n",
    "    return A[nodes[:,None], nodes]"
   ]
  },
  {
   "cell_type": "code",
   "execution_count": 42,
   "metadata": {},
   "outputs": [],
   "source": [
    "def create_D_matrix(A: np.array) -> np.array:\n",
    "    \n",
    "    #total connections for a node is the sum of adjacencies from A matrix\n",
    "    sums = np.sum(A, axis=1)\n",
    "    \n",
    "    #D is then just a diagonal matrix of the sums\n",
    "    D = np.diag(sums)\n",
    "    \n",
    "    return D"
   ]
  },
  {
   "cell_type": "code",
   "execution_count": 43,
   "metadata": {},
   "outputs": [],
   "source": [
    "def create_L_matrix(nodes: np.array, edges: np.array) -> np.array:\n",
    "    \n",
    "    A = create_A_matrix(nodes, edges)\n",
    "    \n",
    "    D = create_D_matrix(A)\n",
    "    \n",
    "    L = D - A\n",
    "    \n",
    "    return L"
   ]
  },
  {
   "cell_type": "code",
   "execution_count": 49,
   "metadata": {},
   "outputs": [],
   "source": [
    "def eigens(L: np.array, k: int) -> np.array:\n",
    "    \n",
    "    #eigenvalues and eigenvectors of L matrix\n",
    "    eigvals, eigenvects = linalg.eig(L)\n",
    "    \n",
    "    #eigenvals and eigenvecs are guaranteed to be sorted\n",
    "    #sort the eigenvals\n",
    "    sorted_indices = np.argsort(eigvals)\n",
    "    sorted_ = eigvals[sorted_indices]\n",
    "    \n",
    "    #sort eigenvector columns by the sorted eigenvalues\n",
    "    #cast from type(complex) to type(real)\n",
    "    eigenvects = np.real(eigenvects[:, sorted_indices])\n",
    "    \n",
    "    #eigenvalues cast from type(complex) to type(real)\n",
    "    eigvals = np.real(sorted_)\n",
    "    \n",
    "    #return vals, vects up to k columns\n",
    "    return eigvals, eigenvects[:, :k]"
   ]
  },
  {
   "cell_type": "code",
   "execution_count": 63,
   "metadata": {},
   "outputs": [],
   "source": [
    "class Distances:\n",
    "    '''\n",
    "    This class is responsible for all distance calculations. Supported distance metrics are from the set\n",
    "    {eucl, eucl_squared, manhattan, minkowski}. Each method underneath calls the minkowski methods since\n",
    "    each metric is a variant of the minkowski distance with respect to a different power, p.\n",
    "    '''\n",
    "    def __init__(self, distance: str) -> None:\n",
    "        '''\n",
    "        inputs\n",
    "        ------\n",
    "        distance (str) -> The distance metric desired from the set {eucl, eucl_squared, manhattan, minkowski}\n",
    "        '''\n",
    "        assert distance in ('eucl', 'eucl_squared', 'manhattan', 'minkowski'), 'Distance \"{}\" not understood. Please choose from (\"eucl\" | \"eucl_squared\" | \"manhattan\" | \"minkowski\")'.format(distance)\n",
    "        self.distance = distance\n",
    "        \n",
    "    def _calculate_distance(self, p1: np.array, p2: np.array, p=None) -> np.array:\n",
    "        \n",
    "        \n",
    "        if self.distance == 'eucl':\n",
    "            return self._euclidean(p1, p2)\n",
    "        \n",
    "        elif self.distance == 'eucl_squared':\n",
    "            return self._euclidean(p1, p2)**2\n",
    "        \n",
    "        elif self.distance == 'manhattan':\n",
    "            return self._manhattan(p1, p2)\n",
    "        \n",
    "        elif self.distance == 'minkowski' or (p>2 or p<1):\n",
    "            return self._minkowski(p1, p2, p)\n",
    "        \n",
    "    def _euclidean(self, p1: np.array, p2:np.array) -> np.array:\n",
    "        '''\n",
    "        inputs\n",
    "        ------\n",
    "        p1: array -> single observation point of dimension (1 x m)\n",
    "        p2: array -> k-cluster centroids/medoids dimension (k x m)\n",
    "\n",
    "        outputs\n",
    "        -------\n",
    "        eucl: array -> euclidean distance of p1 and p2 dimension (kx 1)\n",
    "        '''\n",
    "        \n",
    "        assert p1.shape[0] == 1, 'wrong dimension for euclidean distance. p1 shape[0] = {}'.format(p1.shape[0])\n",
    "        assert p2.shape[1] == p1.shape[1], 'dimension mismatch for p1 and p2 euclidean distance. p1 {} and p2 {}'.format(p1.shape, p2.shape)\n",
    "        \n",
    "        eucl = self._minkowski(p1, p2, 2)\n",
    "        \n",
    "        return eucl\n",
    "    \n",
    "    def _manhattan(self, p1: np.array, p2: np.array) -> np.array:\n",
    "        '''\n",
    "        inputs\n",
    "        ------\n",
    "        p1: array -> single observation point of dimension (1 x m)\n",
    "        p2: array -> k-cluster centroids/medoids dimension (k x m)\n",
    "\n",
    "        outputs\n",
    "        -------\n",
    "        manhan: array -> manhattan distance of p1 and p2 dimension (kx 1)\n",
    "        '''\n",
    "        \n",
    "        assert p1.shape[0] == 1, 'wrong dimension for euclidean distance. p1 shape[0] = {}'.format(p1.shape[0])\n",
    "        assert p2.shape[1] == p1.shape[1], 'dimension mismatch for p1 and p2 euclidean distance. p1 {} and p2 {}'.format(p1.shape, p2.shape)\n",
    "        \n",
    "        manhan = self._minkowski(p1, p2, 1)\n",
    "        return manhan\n",
    "    \n",
    "    def _minkowski(self, p1: np.array, p2: np.array, p: int) -> np.array:\n",
    "        '''\n",
    "        inputs\n",
    "        ------\n",
    "        p1: array -> single observation point of dimension (1 x m)\n",
    "        p2: array -> k-cluster centroids/medoids dimension (k x m)\n",
    "\n",
    "        outputs\n",
    "        -------\n",
    "        mink: array -> manhattan distance of p1 and p2 dimension (kx 1)\n",
    "        '''\n",
    "        \n",
    "        assert p1.shape[0] == 1, 'wrong dimension for euclidean distance. p1 shape[0] = {}'.format(p1.shape[0])\n",
    "        assert p2.shape[1] == p1.shape[1], 'dimension mismatch for p1 and p2 euclidean distance. p1 {} and p2 {}'.format(p1.shape, p2.shape)\n",
    "        \n",
    "        mink = np.sum(np.abs(p1-p2)**p, axis=1)**(1/p)\n",
    "        return mink\n",
    "\n",
    "    \n",
    "  \n",
    "\n",
    "\n",
    "    \n",
    "class RandomInit:\n",
    "    def __init__(self, method: str)-> None:\n",
    "        '''\n",
    "        This class is responsible for randomly initializing centroids for either kmeans or kmedoids algorithms\n",
    "        \n",
    "        inputs\n",
    "        ------\n",
    "        method: (str) -> type of initialization need (kmedoids | kmeans)\n",
    "        '''\n",
    "        assert method in ('kmedoids', 'kmeans'), 'RandomInit method \"{}\" not understood. Please choose (kmedoids | kmeans)'.format(method)\n",
    "        self.method = method\n",
    "        \n",
    "        \n",
    "    def _initialize(self, x: np.array, k: int):\n",
    "        if self.method == 'kmedoids' and x is None:\n",
    "            raise Exception('Invalid Parameter - method chosen \"kmedoids\" but no data given')\n",
    "        elif self.method == 'kmedoids' and k is None:\n",
    "            raise Exception('Invalid Parameter - method chosen \"kmedoids\" but no k given')\n",
    "        \n",
    "        if self.method == 'kmeans' and k is None:\n",
    "            raise Exception('Invalid Parameter - method chosen \"kmeans\" but no k given')\n",
    "        elif self.method == 'kmeans' and x is None:\n",
    "            raise Exception('Invalid Parameter - method chosen \"kmeans\" but no data given')\n",
    "            \n",
    "        if self.method == 'kmedoids':\n",
    "            return self._kmedoids_init(x=x, k=k)\n",
    "        \n",
    "        elif self.method == 'kmeans':\n",
    "            return self._kmeans_init(k=k, x=x)\n",
    "\n",
    "    def _kmedoids_init(self, x: np.array, k: int)->list:\n",
    "        '''\n",
    "        initializes k kmedoid cluster centers by randomly selecting k data points from\n",
    "        the input data\n",
    "        \n",
    "        inputs\n",
    "        ------\n",
    "        x: np.array -> The training data of shape (m,n)\n",
    "        k: int -> The number of desired cluster centers\n",
    "        \n",
    "        outputs\n",
    "        -------\n",
    "        clusters: np.array -> k randomly selected data points to be the cluster centroids\n",
    "        \n",
    "        '''\n",
    "        \n",
    "        #holds the randomly selected data point indices\n",
    "        cluster_idxs = []\n",
    "        \n",
    "        for i in range(k):\n",
    "            #random select a datapoint index\n",
    "            rand_cluster = np.random.randint(0, len(x))\n",
    "            #if this point has been previously selected, select another one\n",
    "            while rand_cluster in cluster_idxs:\n",
    "                rand_cluster = np.random.randint(0, len(x))\n",
    "            #add new data point index\n",
    "            cluster_idxs.append(rand_cluster)\n",
    "        #return data points located at the randomly chosen indices\n",
    "        return x[cluster_idxs]\n",
    "    \n",
    "    def _kmeans_init(self, x: np.array, k: int) -> np.array:\n",
    "        '''\n",
    "        initializes k random cluster centroids by randomly selecting k values for \n",
    "        each dimension's domain in x\n",
    "        \n",
    "        inputs\n",
    "        ------\n",
    "        x: np.array -> The training data of shape (m,n)\n",
    "        k: int -> the number of desired cluster centers\n",
    "        \n",
    "        outputs\n",
    "        -------\n",
    "        rand_centroids: np.array -> k randomly initialized centroids of shape (k,n)\n",
    "        '''\n",
    "        #get the min value for each column in x\n",
    "        min_domain = np.min(x, axis=0)\n",
    "        #get the max value for each column in x\n",
    "        max_domain = np.max(x, axis=0)\n",
    "        #get the shape of x\n",
    "        m,n = x.shape\n",
    "        \n",
    "        #randomly generated k cluster centroids between the low and hi domains for each column\n",
    "        rand_centroids = np.random.uniform(low=min_domain, high=max_domain, size=(k,n))\n",
    "        \n",
    "        return rand_centroids\n",
    "                    \n",
    "\n",
    "                \n",
    "                \n",
    "                \n",
    "class KMeans:\n",
    "    def __init__(self, k: int, distance_metric: str, p=None, iterations=1000, verbose=True) -> None:\n",
    "\n",
    "        self.k = k\n",
    "        self.distance = Distances(distance=distance_metric)\n",
    "        self.initializer = RandomInit(method='kmeans')\n",
    "        self.p = p\n",
    "        self.iterations = iterations\n",
    "        self.verbose = verbose\n",
    "        self.converged = False\n",
    "        \n",
    "    def fit(self, x):\n",
    "        m,n = x.shape\n",
    "        \n",
    "        #initialize dict to accumulate cost for each centroid\n",
    "        self.centroid_costs = {c:0 for c in range(self.k)}\n",
    "        \n",
    "        #initialize empty array to hold cluster assignments\n",
    "        self.cluster_assignments = np.zeros((m,1))\n",
    "        \n",
    "        #randomly initialize k clusters\n",
    "        self.cluster_centers = self.initializer._initialize(x=x, k=self.k)\n",
    "        \n",
    "        #begin cluster assignment\n",
    "        for i in range(self.iterations):\n",
    "            if self.verbose:\n",
    "                print('Iteration', i)\n",
    "                \n",
    "            #check if we have converged\n",
    "            if self.converged:\n",
    "                if self.verbose:\n",
    "                    print('Converged!')\n",
    "                return\n",
    "            \n",
    "            #assign each point to a cluster\n",
    "            self._assign(x)\n",
    "            \n",
    "            #keep a copy of the current centroids\n",
    "            old_centroids = self.cluster_centers.copy()\n",
    "\n",
    "            #update cluster centroids\n",
    "            self._update_centroids(x)\n",
    "            \n",
    "            #check if old_centroids are equal to new centroids - no change means we have converged\n",
    "            if (old_centroids == self.cluster_centers).all():\n",
    "                self.converged = True\n",
    "\n",
    "            #reset the costs in preparation for the next cycle\n",
    "            self.centroid_costs = {c:0 for c in range(self.k)}\n",
    "            \n",
    "            \n",
    "            \n",
    "    def _assign(self, x):\n",
    "        #classify each data point by calculating distances\n",
    "        for i in range(x.shape[0]):\n",
    "            \n",
    "            #isolate a single data point\n",
    "            current_data_point = x[i,:].reshape(1,-1)\n",
    "                \n",
    "            #calculate the distance of the current datapoint to each centroid\n",
    "            distance = self.distance._calculate_distance(current_data_point, self.cluster_centers, self.p)\n",
    "\n",
    "            #the cluster assignment for current point is the argmin of distance\n",
    "            assignment = np.argmin(distance)\n",
    "\n",
    "            #get the cost associated with this assignment - this is located at the position of the argmin (assignment)\n",
    "            cost = distance[assignment]\n",
    "            \n",
    "            #save assignment\n",
    "            self.cluster_assignments[i] = assignment\n",
    "            \n",
    "            #update the cost for the current centroid\n",
    "            self.centroid_costs[assignment] += cost\n",
    "            \n",
    "    def _update_centroids(self, x):\n",
    "\n",
    "            #for each cluster\n",
    "            for pos, c in enumerate(range(self.k)):\n",
    "\n",
    "                #get all data points that exist in cluster c\n",
    "                cx = x[(self.cluster_assignments == c).ravel()]\n",
    "                \n",
    "                if cx.any().any():\n",
    "                    #calculate the positional mean\n",
    "                    cluster_mean = np.mean(cx, axis=0)\n",
    "\n",
    "                    #update the cluster centroid with the mean\n",
    "                    self.cluster_centers[pos] = cluster_mean"
   ]
  },
  {
   "cell_type": "code",
   "execution_count": null,
   "metadata": {},
   "outputs": [],
   "source": [
    "def draw_graph(G):\n",
    "    plt.figure(figsize=(20,15))\n",
    "    pos = nx.spring_layout(G, iterations = 25)\n",
    "    nx.draw_networkx_nodes(G, pos)\n",
    "    nx.draw_networkx_labels(G, pos)\n",
    "    nx.draw_networkx_edges(G, pos, width=1.0, alpha=0.5, node_size=2)"
   ]
  },
  {
   "cell_type": "code",
   "execution_count": 41,
   "metadata": {},
   "outputs": [
    {
     "data": {
      "text/plain": [
       "True"
      ]
     },
     "execution_count": 41,
     "metadata": {},
     "output_type": "execute_result"
    }
   ],
   "source": [
    "#networkx adjacency matrix\n",
    "G =nx.read_edgelist(\"edges.edgelist\", nodetype=int,delimiter='\\t')\n",
    "W = nx.adjacency_matrix(G,nodelist=sorted(G.nodes())).toarray()\n",
    "\n",
    "#my adjacency matrix\n",
    "A = create_A_matrix(nodes.node.values, edges.loc[:, ['from', 'to']].values)\n",
    "\n",
    "\n",
    "## are they equal?\n",
    "(A == W).all().all()"
   ]
  },
  {
   "cell_type": "code",
   "execution_count": 45,
   "metadata": {},
   "outputs": [
    {
     "data": {
      "text/plain": [
       "True"
      ]
     },
     "execution_count": 45,
     "metadata": {},
     "output_type": "execute_result"
    }
   ],
   "source": [
    "#networkx laplacian\n",
    "Lx = nx.laplacian_matrix(G,nodelist=sorted(G.nodes())).toarray()\n",
    "\n",
    "#my Laplacian\n",
    "L = create_L_matrix(nodes.node.values, edges.loc[:, ['from', 'to']].values)\n",
    "\n",
    "#are they equal?\n",
    "(L == Lx).all().all()"
   ]
  },
  {
   "cell_type": "code",
   "execution_count": 54,
   "metadata": {},
   "outputs": [
    {
     "name": "stdout",
     "output_type": "stream",
     "text": [
      "Eigenvals match:  True\n",
      "Eigenvecs match:  True\n"
     ]
    }
   ],
   "source": [
    "#eigvals, eigvects for networkx Laplacian\n",
    "valsx, vecsx = eigens(Lx, k=2)\n",
    "\n",
    "#eigvals, eigvects for my Laplacian\n",
    "vals, vecs = eigens(Lx, k=2)\n",
    "\n",
    "#are eigs equal?\n",
    "print('Eigenvals match: ',(valsx == vals).all().all())\n",
    "print('Eigenvecs match: ',(vecsx == vecs).all().all())"
   ]
  },
  {
   "cell_type": "code",
   "execution_count": 57,
   "metadata": {},
   "outputs": [
    {
     "name": "stdout",
     "output_type": "stream",
     "text": [
      "Eigenval 1:  4.380241386347686e-15\n",
      "Eigenval 2:  6.864591294635427e-14\n",
      "Imaginary Eigenvalues:  [0.]\n"
     ]
    }
   ],
   "source": [
    "print('Eigenval 1: ', vals[0])\n",
    "print('Eigenval 2: ', vals[1])\n",
    "\n",
    "print('Imaginary Eigenvalues: ', np.unique(np.imag(vals)))"
   ]
  },
  {
   "cell_type": "code",
   "execution_count": 58,
   "metadata": {},
   "outputs": [
    {
     "data": {
      "image/png": "[encoded data removed]",
      "text/plain": [
       "<Figure size 1080x576 with 1 Axes>"
      ]
     },
     "metadata": {
      "needs_background": "light"
     },
     "output_type": "display_data"
    }
   ],
   "source": [
    "plt.figure(figsize=(15,8))\n",
    "plt.scatter(vecsx[:, 0], vecsx[:, 1])\n",
    "plt.xlabel('First Eigenvector')\n",
    "plt.ylabel('Second Eigenvector')\n",
    "plt.show()"
   ]
  },
  {
   "cell_type": "code",
   "execution_count": 128,
   "metadata": {},
   "outputs": [],
   "source": [
    "#eigvals, eigvects for networkx Laplacian\n",
    "valsx, vecsx = eigens(Lx, k=4)\n",
    "\n",
    "#use columns 2 to k since first two columns correspond to eigen 0\n",
    "vecsx = vecsx[:,2:]"
   ]
  },
  {
   "cell_type": "code",
   "execution_count": 174,
   "metadata": {},
   "outputs": [],
   "source": [
    "k=14\n",
    "sklkm = sklearnKMeans(n_clusters=k)\n",
    "my_km = KMeans(k=k, distance_metric='eucl', verbose=False)"
   ]
  },
  {
   "cell_type": "code",
   "execution_count": 175,
   "metadata": {},
   "outputs": [],
   "source": [
    "sklkm.fit(vecsx)\n",
    "my_km.fit(vecsx)"
   ]
  },
  {
   "cell_type": "code",
   "execution_count": 176,
   "metadata": {},
   "outputs": [],
   "source": [
    "# plt.subplots(nrows=1, ncols=2, figsize=(20,8))\n",
    "# plt.subplot(121)\n",
    "# ax=sns.distplot(sklkm.labels_, kde=False)\n",
    "# patches = [x for x in ax.patches if x.get_height() > 0.1]\n",
    "# for p in patches:\n",
    "#     height = p.get_height()\n",
    "#     ax.text(p.get_x()+p.get_width()/2.,\n",
    "#             height + 3,\n",
    "#             '{}'.format(int(height)),\n",
    "#             ha=\"center\") \n",
    "\n",
    "# plt.xticks(range(len(patches) ))\n",
    "# plt.xlim([-0.5, len(patches) + 0.5])\n",
    "# plt.title('SKLearns KMeans')\n",
    "# plt.subplot(122)\n",
    "# ax=sns.distplot(my_km.cluster_assignments, kde=False)\n",
    "# patches = [x for x in ax.patches if x.get_height() > 0]\n",
    "# for p in patches:\n",
    "#     height = p.get_height()\n",
    "#     ax.text(p.get_x()+p.get_width()/2.,\n",
    "#             height + 3,\n",
    "#             '{}'.format(int(height)),\n",
    "#             ha=\"center\") \n",
    "\n",
    "# plt.xlim([-0.5, len(patches) + 0.5])\n",
    "# plt.xticks(range(len(patches) + 1))\n",
    "# plt.title('SKLearns KMeans')\n",
    "# plt.title('My KMeans')\n",
    "# plt.show()"
   ]
  },
  {
   "cell_type": "code",
   "execution_count": 180,
   "metadata": {},
   "outputs": [
    {
     "data": {
      "image/png": "[encoded data removed]",
      "text/plain": [
       "<Figure size 3600x720 with 1 Axes>"
      ]
     },
     "metadata": {
      "needs_background": "light"
     },
     "output_type": "display_data"
    }
   ],
   "source": [
    "plt.figure(figsize=(50,10))\n",
    "ax=sns.countplot(sklkm.labels_,)\n",
    "ax.set_xlabel('Clusters', fontsize=30)\n",
    "ax.set_ylabel('Count', fontsize=30)\n",
    "patches = [x for x in ax.patches if x.get_height() > 0]\n",
    "for p in patches:\n",
    "    height = p.get_height()\n",
    "    ax.text(p.get_x()+p.get_width()/2.,\n",
    "            height + 3,\n",
    "            '{}'.format(int(height)),\n",
    "            ha=\"center\", size=15) \n",
    "    \n",
    "ax.set_xlim(-1, k + 0.5)\n",
    "plt.show()"
   ]
  },
  {
   "cell_type": "code",
   "execution_count": null,
   "metadata": {},
   "outputs": [],
   "source": []
  },
  {
   "cell_type": "code",
   "execution_count": null,
   "metadata": {},
   "outputs": [],
   "source": []
  }
 ],
 "metadata": {
  "kernelspec": {
   "display_name": "Python 3",
   "language": "python",
   "name": "python3"
  },
  "language_info": {
   "codemirror_mode": {
    "name": "ipython",
    "version": 3
   },
   "file_extension": ".py",
   "mimetype": "text/x-python",
   "name": "python",
   "nbconvert_exporter": "python",
   "pygments_lexer": "ipython3",
   "version": "3.7.4"
  }
 },
 "nbformat": 4,
 "nbformat_minor": 4
}

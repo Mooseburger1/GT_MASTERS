{
 "cells": [
  {
   "cell_type": "code",
   "execution_count": 1,
   "metadata": {},
   "outputs": [
    {
     "data": {
      "text/html": [
       "<style>.container { width:99% !important; }</style>"
      ],
      "text/plain": [
       "<IPython.core.display.HTML object>"
      ]
     },
     "metadata": {},
     "output_type": "display_data"
    }
   ],
   "source": [
    "import matplotlib.pyplot as plt\n",
    "import numpy as np\n",
    "\n",
    "from IPython.core.display import display, HTML\n",
    "display(HTML(\"<style>.container { width:99% !important; }</style>\"))"
   ]
  },
  {
   "cell_type": "markdown",
   "metadata": {},
   "source": [
    "# Clustering [25 points]\n",
    "Given m data points $x^i$ , i = 1, . . . , m, K-means clustering algorithm groups them into k clusters by mini-\n",
    "mizing the distortion function over {$r^{ij} , μ^j$}\n",
    "\n",
    "\n",
    "$$\n",
    "J = \\sum_{i=1}^m \\sum_{j=1}^k r^{ij} ||x^i - \\mu^j ||^2\n",
    "$$\n",
    "\n",
    "where $r^{ij}$ = 1 if $x^i$ belongs to the j-th cluster and $r^{ij}$ = 0 otherwise.\n",
    "\n",
    "\n",
    "\n",
    "## 1.\n",
    "### Prove that using the squared Euclidean distance $||x^i - \\mu^j||^2$ as the dissimilarity function and minimizing the distortion function, we will have\n",
    "\n",
    "$$\n",
    "\\mu^j = \\frac{\\sum_i r^{ij} x^i}{\\sum_i r^{ij}}\n",
    "$$\n",
    "\n",
    "\n",
    "### **Answer**\n",
    "\n",
    "with\n",
    "\n",
    "$$\n",
    "J = \\sum_{i=1}^m \\sum_{j=1}^k r^{ij} ||x^i - \\mu^j ||^2\n",
    "\\tag{1}\n",
    "$$\n",
    "\n",
    "taking the derivative of (1) with respect to $\\mu^j$\n",
    "\n",
    "$$\n",
    "\\frac{\\partial J}{\\partial \\mu^j} = -2 \\sum_{i=1}^m \\sum_{j=1}^k r^{ij} (x^i - \\mu^j )\n",
    "$$\n",
    "$$\n",
    "= \\sum_{i=1}^m \\sum_{j=1}^k  (-2r^{ij}x^i + 2r^{ij}\\mu^j )\n",
    "\\tag{2}\n",
    "$$\n",
    "\n",
    "Setting (2) equal to 0 and solving for $\\mu^j$ yields\n",
    "\n",
    "$$\n",
    "\\sum_{i=1}^m \\sum_{j=1}^k  (-2r^{ij}x^i + 2r^{ij}\\mu^j ) = 0 \n",
    "$$\n",
    "$$\n",
    "2r^{ij}\\mu^j = 2r^{ij}x^i\n",
    "$$\n",
    "\n",
    "$$\n",
    "\\mu^j = \\frac{\\sum_i 2r^{ij}x^i}{\\sum_i 2r^{ij}}\n",
    "\\tag{3}\n",
    "$$\n",
    "\n",
    "\n",
    "reducing (3) yields\n",
    "\n",
    "$$\n",
    "\\boxed{\\mu^j = \\frac{\\sum_i r^{ij}x^i}{\\sum_i r^{ij}}}\n",
    "$$"
   ]
  },
  {
   "cell_type": "markdown",
   "metadata": {},
   "source": [
    " "
   ]
  },
  {
   "cell_type": "markdown",
   "metadata": {},
   "source": [
    " "
   ]
  },
  {
   "cell_type": "markdown",
   "metadata": {},
   "source": [
    " "
   ]
  },
  {
   "cell_type": "markdown",
   "metadata": {},
   "source": [
    "## 2.\n",
    "### Now suppose we replace the similarity function (the squared $ℓ_2$ distance here: $||x^i - \\mu^j||^2$ by another distance measure, the quadratic distance (also known as the Mahalanobis distance) $d(x, y) = (x − y)^T Σ(x − y)$, where the given weight matrix Σ is symmetrical and positive definite (meaning that the corresponding d(x, y) > 0 when $x \\ne y$). (i) Show (prove) that the centroid in this case will be the same \n",
    "\n",
    "$$\n",
    "\\mu^j = \\frac{\\sum_i r^{ij} x^i}{\\sum_i r^{ij}}\n",
    "$$\n",
    "\n",
    "\n",
    "### **Answer**\n",
    "with\n",
    "\n",
    "$$\n",
    "J = \\sum_{i=1}^m \\sum_{j=1}^k r^{ij} (x^i - \\mu^j)^T \\Sigma (x^i - \\mu^j)\n",
    "\\tag{1}\n",
    "$$\n",
    "\n",
    "\n",
    "Noting that $X^TX = X^2$, (1) becomes\n",
    "\n",
    "$$\n",
    "J = \\sum_{i=1}^m \\sum_{j=1}^k r^{ij} \\Sigma (x^i - \\mu^j)^2\n",
    "\\tag{2}\n",
    "$$\n",
    "\n",
    "\n",
    "Taking the derivative of (2) with respect to $\\mu$ yields\n",
    "\n",
    "$$\n",
    "\\frac{\\partial J}{\\partial \\mu} = -2 \\Sigma \\sum_{i=1}^m \\sum_{j=1}^k r^{ij}(x^i - \\mu^j)\n",
    "$$\n",
    "$$\n",
    "= \\sum_{i=1}^m \\sum_{j=1}^k -2 \\Sigma x^i + 2 \\Sigma \\mu^j\n",
    "\\tag{3}\n",
    "$$\n",
    "\n",
    "\n",
    "Setting (3) equal to 0 and solving for $\\mu$\n",
    "\n",
    "$$\n",
    "\\sum_{i=1}^m \\sum_{j=1}^k -2 \\Sigma r^{ij} x^i + 2 \\Sigma r^{ij} \\mu^j = 0\n",
    "$$\n",
    "$$\n",
    "2 \\Sigma r{ij} \\mu^j  = 2 \\Sigma r^{ij} x^i\n",
    "$$\n",
    "$$\n",
    "\\mu^j = \\frac{2 \\Sigma r^{ij} x^i}{2 \\Sigma r^{ij}}\n",
    "\\tag{4}\n",
    "$$\n",
    "\n",
    "Reducing (4) yields\n",
    "\n",
    "$$\n",
    "\\boxed{\\mu^j = \\frac{\\sum_i r^{ij}x^i}{\\sum_i r^{ij}}}\n",
    "$$\n",
    "\n",
    "\n",
    "### (ii) However, the assignment function will be different – comment how the assignment function $r^{ij}$ should be in this case. Thus, the point is here that, depending on the similarity function, the results of k-means may be different.\n",
    "\n",
    "### Answer\n",
    "Note that the assignment will be different between the two similarity functions because $d(x, y) = (x − y)^T Σ(x − y) \\ne  ||x - y ||^2$. Although similar, the former (Mahalanobis distance) multiplies the squared differences by a corresponding weight matrix which in turn potentially adjusts what would have been cluster assignment before weight multiplication"
   ]
  },
  {
   "cell_type": "markdown",
   "metadata": {},
   "source": [
    "  "
   ]
  },
  {
   "cell_type": "markdown",
   "metadata": {},
   "source": [
    " "
   ]
  },
  {
   "cell_type": "markdown",
   "metadata": {},
   "source": [
    " "
   ]
  },
  {
   "cell_type": "markdown",
   "metadata": {},
   "source": [
    " "
   ]
  },
  {
   "cell_type": "markdown",
   "metadata": {},
   "source": [
    "## 3. \n",
    "### Prove (using mathematical arguments) that K-means algorithm converges to a local optimum in finite steps.\n",
    "\n",
    "### **Answer** \n",
    "\n",
    "The first thing to note is that the algorithm iteraties over a training set that is finite. No new points are added, nor are points removed. Centroids are randomly initialized within the latent space. At time $\\tau$ we iterate over each point and  assign them to a centroid (cluster) that minimizes:\n",
    "\n",
    "$$\n",
    "J_{\\tau} = \\sum_{i=1}^m \\sum_{j=1}^k r^{ij} ||x^i - \\mu^j ||^2\n",
    "$$\n",
    "\n",
    "The centroid locations are then updated with respect to all points that make up its cluster. This is done by taking the positional mean of the \"within cluster points\" positions:\n",
    "\n",
    "$$\n",
    "\\mu^j_{\\tau} = \\frac{\\sum_i r^{ij} x^i}{\\sum_i r^{ij}}\n",
    "$$\n",
    "\n",
    "Upon next iteration $\\tau + 1$ we iterate and calculate again \n",
    "\n",
    "$$\n",
    "J_{\\tau + 1}\n",
    "$$\n",
    "\n",
    "Since we moved the centroids closer to their \"within cluster points\" that minimized J, there's only two possiblities:\n",
    "\n",
    "1. $J_{\\tau} > J_{\\tau + 1}$\n",
    "2. $J_{\\tau} = J_{\\tau + 1}$\n",
    "\n",
    "For case (1), if we find that $J_{\\tau} > J_{\\tau + 1}$, this means we have found cluster groupings with a lower cost at iteration $\\tau + 1$. The centroids $\\mu_{\\tau + 1}$are then updated accordingly with the new classifications \n",
    "\n",
    "For case (2), if $J_{\\tau} = J_{\\tau + 1}$ then no points have changed clusters. Therefore, the centroid update equation $\\mu_{\\tau} = \\mu_{\\tau + 1}$. Since the centroids didn't update, on iteration $\\tau + 2$, it will be true that $J_{\\tau + 2} = J_{\\tau + 1}\\ \\  \\therefore J_{\\tau + 1} = J_{\\tau + 2} = J_{\\tau + 3} ...... = J_{\\tau + inf}$. The algorithm has converged. However it is important to note that convergence isn't necessarily at the global minimum due to the random initialization of the centroids.\n",
    "\n",
    "The key thing to remember is that we are iterating over a finite set of data points that are stationary. Since only (1) & (2) are possible. Eventually the centroids will converge to a position s.t. only (2) is possible."
   ]
  },
  {
   "cell_type": "markdown",
   "metadata": {},
   "source": [
    " "
   ]
  },
  {
   "cell_type": "markdown",
   "metadata": {},
   "source": [
    " "
   ]
  },
  {
   "cell_type": "markdown",
   "metadata": {},
   "source": [
    " "
   ]
  },
  {
   "cell_type": "markdown",
   "metadata": {},
   "source": [
    " "
   ]
  },
  {
   "cell_type": "markdown",
   "metadata": {},
   "source": [
    "## 4. \n",
    "### Calculate k-means by hands. Given 5 data points configuration in Figure 1. Assume k = 2 and use Manhattan distance (a.k.a. the $ℓ_1$ distance: given two 2-dimensional points (x 1 , y 1 ) and (x 2 , y 2 ), their distance is |x 1 − x 2 | + |y 1 − y 2 |). Assuming the initialization of centroid as shown, after one iteration of k-means algorithm, answer the following questions."
   ]
  },
  {
   "cell_type": "code",
   "execution_count": 2,
   "metadata": {},
   "outputs": [],
   "source": [
    "#generate the points\n",
    "points = [\n",
    "    (2,2),\n",
    "    (-1,1),\n",
    "    (3,1),\n",
    "    (0,-1),\n",
    "    (-2,-2)\n",
    "]\n",
    "\n",
    "#initialize the 2 centroids\n",
    "centroids = [\n",
    "    (-3, -1),\n",
    "    (2, 1)\n",
    "]\n",
    "\n",
    "#label for points\n",
    "labsP = (1,2,3,4,5)\n",
    "\n",
    "#label for centroids\n",
    "labsC = ('A', 'B')"
   ]
  },
  {
   "cell_type": "code",
   "execution_count": 3,
   "metadata": {},
   "outputs": [],
   "source": [
    "def plotit():\n",
    "    plt.figure(figsize=(15,8))\n",
    "    plt.scatter(x=[x[0] for x in points], y=[x[1] for x in points], color='yellow', edgecolor='k', s=300,zorder=3)\n",
    "    plt.scatter(x=[x[0] for x in centroids], y=[x[1] for x in centroids], marker='s', color='purple', edgecolor='k', s=300, zorder=3)\n",
    "    plt.plot(np.linspace(-4,4), [0]*len(np.linspace(-4,4)), color='k', lw=5)\n",
    "    plt.plot([0]*len(np.linspace(-4,4)),np.linspace(-4,4),  color='k', lw=5)\n",
    "    for pos, x in enumerate(labsP):\n",
    "        plt.text(points[pos][0]-0.035, points[pos][1]-0.035, x)\n",
    "    for pos, x in enumerate(labsC):\n",
    "        plt.text(centroids[pos][0]-0.035, centroids[pos][1]-0.035, x, color='white')\n",
    "    plt.grid('on')\n",
    "    plt.ylim([-3, 3])\n",
    "    plt.xlim([-4,4])\n",
    "    plt.show()"
   ]
  },
  {
   "cell_type": "code",
   "execution_count": 4,
   "metadata": {},
   "outputs": [
    {
     "data": {
      "image/png": "[encoded data removed]",
      "text/plain": [
       "<Figure size 1080x576 with 1 Axes>"
      ]
     },
     "metadata": {
      "needs_background": "light"
     },
     "output_type": "display_data"
    }
   ],
   "source": [
    "plotit()"
   ]
  },
  {
   "cell_type": "markdown",
   "metadata": {},
   "source": [
    "### (a.) Show the cluster assignment"
   ]
  },
  {
   "cell_type": "code",
   "execution_count": 5,
   "metadata": {},
   "outputs": [],
   "source": [
    "def manhattan_distance(point, centroid):\n",
    "    #calculate manhattan distance\n",
    "    return np.abs(point[0] - centroid[0]) + np.abs(point[1] - centroid[1])\n",
    "\n",
    "def classify():\n",
    "    #placeholder for each points classification\n",
    "    classifications = []\n",
    "\n",
    "    for pos1, p in enumerate(points):\n",
    "        #initialize large distance metric\n",
    "        dist = np.inf\n",
    "        for pos2, c in enumerate(centroids):\n",
    "            #make note of what the prev best distance was\n",
    "            prev = dist\n",
    "            #compare new manhattan distance from prev\n",
    "            dist = min(dist, manhattan_distance(p, c))\n",
    "            #if new distance make sure to make note of which cluster the min distance corresponds to\n",
    "            if dist != prev:\n",
    "                lowest = labsC[pos2]\n",
    "        #save best cluster\n",
    "        classifications.append(lowest)\n",
    "    return classifications"
   ]
  },
  {
   "cell_type": "code",
   "execution_count": 6,
   "metadata": {},
   "outputs": [
    {
     "data": {
      "text/plain": [
       "['B', 'B', 'B', 'A', 'A']"
      ]
     },
     "execution_count": 6,
     "metadata": {},
     "output_type": "execute_result"
    }
   ],
   "source": [
    "classifications = classify()\n",
    "classifications"
   ]
  },
  {
   "cell_type": "markdown",
   "metadata": {},
   "source": [
    "#### The cluster assignments after the first iteration have the points [(2,2),(-1,1),(3,1)] assigned to centroid **B** while the points [(0,-1),(-2,-2)] are assigned to cluster **A**. The graph belows shows proper cluster assignments"
   ]
  },
  {
   "cell_type": "code",
   "execution_count": 7,
   "metadata": {},
   "outputs": [],
   "source": [
    "colors = {'A':'blue', 'B':'red'}\n",
    "def plotit2(title):\n",
    "    plt.figure(figsize=(15,8))\n",
    "    for pos, c in enumerate(classifications):\n",
    "        plt.scatter(x=points[pos][0], y=points[pos][1], color=colors[c], edgecolor='k', s=300,zorder=3)\n",
    "\n",
    "    for pos, c in enumerate(centroids):\n",
    "        plt.scatter(x=c[0], y=c[1], marker='s', color=colors[labsC[pos]], edgecolor='k', s=300, zorder=3)\n",
    "\n",
    "    plt.plot(np.linspace(-4,4), [0]*len(np.linspace(-4,4)), color='k', lw=5)\n",
    "    plt.plot([0]*len(np.linspace(-4,4)),np.linspace(-4,4),  color='k', lw=5)\n",
    "    for pos, x in enumerate(labsP):\n",
    "        plt.text(points[pos][0]-0.035, points[pos][1]-0.035, x, color='white')\n",
    "    for pos, x in enumerate(labsC):\n",
    "        plt.text(centroids[pos][0]-0.035, centroids[pos][1]-0.035, x, color='white')\n",
    "    plt.title(title)\n",
    "    plt.grid('on')\n",
    "    plt.ylim([-3, 3])\n",
    "    plt.xlim([-4,4])\n",
    "    plt.show()"
   ]
  },
  {
   "cell_type": "code",
   "execution_count": 8,
   "metadata": {},
   "outputs": [
    {
     "data": {
      "image/png": "[encoded data removed]",
      "text/plain": [
       "<Figure size 1080x576 with 1 Axes>"
      ]
     },
     "metadata": {
      "needs_background": "light"
     },
     "output_type": "display_data"
    }
   ],
   "source": [
    "plotit2(title='Classification on 1st Iteration')"
   ]
  },
  {
   "cell_type": "markdown",
   "metadata": {},
   "source": [
    "### (b.) Show the location of the new center "
   ]
  },
  {
   "cell_type": "code",
   "execution_count": 9,
   "metadata": {},
   "outputs": [],
   "source": [
    "def new_center(idxs):\n",
    "    #calculate the average x and y position for all points in cluster\n",
    "    x,y = 0.0, 0.0\n",
    "    n = len(idxs) * 1.0\n",
    "    for idx in idxs:\n",
    "        x += points[idx][0]\n",
    "        y += points[idx][1]\n",
    "        \n",
    "    return (x/n , y/n)\n",
    "\n",
    "\n",
    "\n",
    "def update_center():\n",
    "    #get the points in cluster A\n",
    "    A_points = np.argwhere(np.array(classifications) == 'A').ravel()\n",
    "    #get the points in cluster B\n",
    "    B_points = np.argwhere(np.array(classifications) == 'B').ravel()\n",
    "\n",
    "    cluster_points = (A_points, B_points)\n",
    "    \n",
    "    #Update centers using points in clusters\n",
    "    for i in range(len(centroids)):\n",
    "        centroids[i] = new_center(cluster_points[i])"
   ]
  },
  {
   "cell_type": "code",
   "execution_count": 10,
   "metadata": {},
   "outputs": [
    {
     "name": "stdout",
     "output_type": "stream",
     "text": [
      "New Centroid A: (-1.0, -1.5)\n",
      "New Centroid B: (1.3333333333333333, 1.3333333333333333)\n"
     ]
    }
   ],
   "source": [
    "update_center()\n",
    "\n",
    "print('New Centroid A: {}\\nNew Centroid B: {}'.format(*centroids))"
   ]
  },
  {
   "cell_type": "markdown",
   "metadata": {},
   "source": [
    "#### After cluster assignments, centroid **A** is assigned to the location (-1.0, -1.5) and centroid **B** is assigned to the location (1.33, 1.33). The graph below shows updated centroid locations "
   ]
  },
  {
   "cell_type": "code",
   "execution_count": 11,
   "metadata": {},
   "outputs": [
    {
     "data": {
      "image/png": "[encoded data removed]",
      "text/plain": [
       "<Figure size 1080x576 with 1 Axes>"
      ]
     },
     "metadata": {
      "needs_background": "light"
     },
     "output_type": "display_data"
    }
   ],
   "source": [
    "plotit2(title = 'Updated Centers')"
   ]
  },
  {
   "cell_type": "markdown",
   "metadata": {},
   "source": [
    "### (c.) Will it terminate in one step?\n",
    "\n",
    "#### Visually we can see that no, it won't terminate in one step. With the new updated centroid locations, point 2's manhattan distance is closer to centroid A than centroid B. However, let's not leave it to visual assumptions. Let's run another update. Before running the update, we will manually check the manhattan distance specifically for point 2 with respect to the two centroids"
   ]
  },
  {
   "cell_type": "code",
   "execution_count": 12,
   "metadata": {},
   "outputs": [
    {
     "name": "stdout",
     "output_type": "stream",
     "text": [
      "Point 2 ----> Centroid A: 2.5\n",
      "Point 2 ----> Centroid B: 2.666666666666666\n"
     ]
    }
   ],
   "source": [
    "print('Point 2 ----> Centroid A: {}'.format(manhattan_distance(points[1], centroids[0])))\n",
    "print('Point 2 ----> Centroid B: {}'.format(manhattan_distance(points[1], centroids[1])))"
   ]
  },
  {
   "cell_type": "code",
   "execution_count": 13,
   "metadata": {},
   "outputs": [
    {
     "data": {
      "image/png": "[encoded data removed]",
      "text/plain": [
       "<Figure size 1080x576 with 1 Axes>"
      ]
     },
     "metadata": {
      "needs_background": "light"
     },
     "output_type": "display_data"
    }
   ],
   "source": [
    "classifications = classify()\n",
    "update_center()\n",
    "plotit2(title='New Cluster Assignment After 2nd Iteration')"
   ]
  },
  {
   "cell_type": "markdown",
   "metadata": {},
   "source": [
    "#### As we can see, point 2 was closer to Centroid A. Therefore it was reclassified and the position for both centroids was updated "
   ]
  }
 ],
 "metadata": {
  "kernelspec": {
   "display_name": "Python 3",
   "language": "python",
   "name": "python3"
  },
  "language_info": {
   "codemirror_mode": {
    "name": "ipython",
    "version": 3
   },
   "file_extension": ".py",
   "mimetype": "text/x-python",
   "name": "python",
   "nbconvert_exporter": "python",
   "pygments_lexer": "ipython3",
   "version": "3.7.4"
  }
 },
 "nbformat": 4,
 "nbformat_minor": 4
}

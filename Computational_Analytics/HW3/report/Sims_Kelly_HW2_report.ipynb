{
 "cells": [
  {
   "cell_type": "markdown",
   "metadata": {},
   "source": [
    "# Q1\n",
    "## Density Estimation: Psychological Experiments\n",
    "\n",
    "We will use this data to study whether or not the two brain regions are likely to be indepen-\n",
    "dent of each other and considering different types of political view For this question; you\n",
    "can use the proper package for histogram and KDE; no need to write your own.\n",
    "The data set n90pol.csv contains information on 90 university students who participated in\n",
    "a psychological experiment designed to look for relationships between the size of different\n",
    "regions of the brain and political views. The variables amygdala and acc indicate the volume\n",
    "of two particular brain regions known to be involved in emotions and decision-making, the\n",
    "amygdala and the anterior cingulate cortex; more exactly, these are residuals from the pre-\n",
    "dicted volume, after adjusting for height, sex, and similar body-type variables. The variable\n",
    "orientation gives the students’ locations on a five-point scale from 1 (very conservative) to 5\n",
    "(very liberal). Note that in the dataset, we only have observations for orientation from 2 to\n",
    "5.\n",
    "\n",
    "#### 1. Form the 1-dimensional histogram and KDE to estimate the distrbutions of amygdala and acc, respectively. For this question, you can ignore the variable **orientation**."
   ]
  },
  {
   "cell_type": "code",
   "execution_count": null,
   "metadata": {},
   "outputs": [],
   "source": []
  }
 ],
 "metadata": {
  "kernelspec": {
   "display_name": "Python 3",
   "language": "python",
   "name": "python3"
  },
  "language_info": {
   "codemirror_mode": {
    "name": "ipython",
    "version": 3
   },
   "file_extension": ".py",
   "mimetype": "text/x-python",
   "name": "python",
   "nbconvert_exporter": "python",
   "pygments_lexer": "ipython3",
   "version": "3.7.4"
  }
 },
 "nbformat": 4,
 "nbformat_minor": 2
}

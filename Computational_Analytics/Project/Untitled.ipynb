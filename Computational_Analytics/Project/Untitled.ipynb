{
 "cells": [
  {
   "cell_type": "code",
   "execution_count": 1,
   "metadata": {},
   "outputs": [],
   "source": [
    "import pandas as pd\n",
    "import numpy as np\n",
    "import matplotlib.pyplot as plt\n",
    "import seaborn as sns"
   ]
  },
  {
   "cell_type": "code",
   "execution_count": 27,
   "metadata": {},
   "outputs": [],
   "source": [
    "data = pd.read_csv('all-the-news-2-1.csv', usecols=['date', 'publication','section','author'])"
   ]
  },
  {
   "cell_type": "code",
   "execution_count": 17,
   "metadata": {},
   "outputs": [
    {
     "data": {
      "text/plain": [
       "array(['Vox', 'Business Insider', 'Reuters', 'TMZ', 'Vice', 'Vice News',\n",
       "       'Hyperallergic', 'TechCrunch', 'Axios', 'Refinery 29', 'The Verge',\n",
       "       'Mashable', 'People', 'Economist', 'CNN', 'Gizmodo', 'New Yorker',\n",
       "       'CNBC', 'Wired', 'New Republic', 'Fox News', 'The Hill',\n",
       "       'Politico', 'The New York Times', 'Buzzfeed News',\n",
       "       'Washington Post', nan], dtype=object)"
      ]
     },
     "execution_count": 17,
     "metadata": {},
     "output_type": "execute_result"
    }
   ],
   "source": [
    "data.publication.unique()"
   ]
  },
  {
   "cell_type": "code",
   "execution_count": 18,
   "metadata": {},
   "outputs": [
    {
     "data": {
      "text/plain": [
       "Timestamp('2016-01-01 00:00:00')"
      ]
     },
     "execution_count": 18,
     "metadata": {},
     "output_type": "execute_result"
    }
   ],
   "source": [
    "np.min(pd.to_datetime(data.date))"
   ]
  },
  {
   "cell_type": "code",
   "execution_count": 19,
   "metadata": {},
   "outputs": [
    {
     "data": {
      "text/plain": [
       "Timestamp('2020-04-02 00:00:00')"
      ]
     },
     "execution_count": 19,
     "metadata": {},
     "output_type": "execute_result"
    }
   ],
   "source": [
    "np.max(pd.to_datetime(data.date))"
   ]
  },
  {
   "cell_type": "code",
   "execution_count": 28,
   "metadata": {},
   "outputs": [],
   "source": [
    "data['date'] = pd.to_datetime(data.date)"
   ]
  },
  {
   "cell_type": "code",
   "execution_count": 29,
   "metadata": {},
   "outputs": [],
   "source": [
    "data['year'] = data.date.dt.year"
   ]
  },
  {
   "cell_type": "code",
   "execution_count": 32,
   "metadata": {},
   "outputs": [
    {
     "data": {
      "text/plain": [
       "year\n",
       "2016.0    604511\n",
       "2017.0    640493\n",
       "2018.0    553588\n",
       "2019.0    655456\n",
       "2020.0    234830\n",
       "Name: date, dtype: int64"
      ]
     },
     "execution_count": 32,
     "metadata": {},
     "output_type": "execute_result"
    }
   ],
   "source": [
    "data.groupby('year')['date'].count()"
   ]
  },
  {
   "cell_type": "code",
   "execution_count": 36,
   "metadata": {},
   "outputs": [
    {
     "data": {
      "text/plain": [
       "array(['Vox', 'Business Insider', 'Reuters', 'TMZ', 'Vice', 'Vice News',\n",
       "       'Hyperallergic', 'TechCrunch', 'Axios', 'Refinery 29', 'The Verge',\n",
       "       'Mashable', 'People', 'Economist', 'CNN', 'Gizmodo', 'New Yorker',\n",
       "       'CNBC', 'Wired', 'New Republic', 'Fox News', 'The Hill',\n",
       "       'Politico', 'The New York Times', 'Buzzfeed News',\n",
       "       'Washington Post', nan], dtype=object)"
      ]
     },
     "execution_count": 36,
     "metadata": {},
     "output_type": "execute_result"
    }
   ],
   "source": [
    "data.publication.unique()"
   ]
  },
  {
   "cell_type": "code",
   "execution_count": 34,
   "metadata": {},
   "outputs": [
    {
     "name": "stdout",
     "output_type": "stream",
     "text": [
      "<class 'pandas.core.frame.DataFrame'>\n",
      "RangeIndex: 2688879 entries, 0 to 2688878\n",
      "Data columns (total 5 columns):\n",
      "date           datetime64[ns]\n",
      "author         object\n",
      "section        object\n",
      "publication    object\n",
      "year           float64\n",
      "dtypes: datetime64[ns](1), float64(1), object(3)\n",
      "memory usage: 102.6+ MB\n"
     ]
    }
   ],
   "source": [
    "data.info()"
   ]
  },
  {
   "cell_type": "code",
   "execution_count": null,
   "metadata": {},
   "outputs": [],
   "source": []
  }
 ],
 "metadata": {
  "kernelspec": {
   "display_name": "Python 3",
   "language": "python",
   "name": "python3"
  },
  "language_info": {
   "codemirror_mode": {
    "name": "ipython",
    "version": 3
   },
   "file_extension": ".py",
   "mimetype": "text/x-python",
   "name": "python",
   "nbconvert_exporter": "python",
   "pygments_lexer": "ipython3",
   "version": "3.7.4"
  }
 },
 "nbformat": 4,
 "nbformat_minor": 2
}

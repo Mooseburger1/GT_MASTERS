{
 "cells": [
  {
   "cell_type": "code",
   "execution_count": 1,
   "metadata": {},
   "outputs": [],
   "source": [
    "import numpy as np"
   ]
  },
  {
   "cell_type": "code",
   "execution_count": 3,
   "metadata": {},
   "outputs": [],
   "source": [
    "class Player:\n",
    "    '''\n",
    "    This class is responsible for instantiating a player in the game of blackjack\n",
    "    \n",
    "    inputs\n",
    "    ------\n",
    "    strategy -> A strategy function the player will use as main strategy in the game\n",
    "    bank -> Amount of money the player starts with\n",
    "    \n",
    "    outputs\n",
    "    -------\n",
    "    None\n",
    "    '''\n",
    "    def __init__(strategy, bank: float, name: str):\n",
    "        #strategy class\n",
    "        self.strategy = strategy\n",
    "        \n",
    "        #starting money\n",
    "        self.bank = bank\n",
    "        \n",
    "        #flag to check if player is broke\n",
    "        self.broke = False if bank > 0 else True\n",
    "        \n",
    "        #player name\n",
    "        self.name = name"
   ]
  },
  {
   "cell_type": "code",
   "execution_count": 23,
   "metadata": {},
   "outputs": [],
   "source": [
    "'''\n",
    "\n",
    "These functions should be placed in their own scripts -> Strategies\n",
    "'''\n",
    "\n",
    "def basic_strategy(my_cards, dealers_card, players_at_table=None, players_cards=None):\n",
    "\n",
    "    #separate aces\n",
    "    aces = my_cards[my_cards==1]\n",
    "    numbers_and_faces = my_cards[my_cards > 1]\n",
    "    \n",
    "    total = np.sum(numbers_and_faces)\n",
    "\n",
    "    \n",
    "    #logic if no aces in hand\n",
    "    if aces.size==0:\n",
    "        \n",
    "        #check for 21\n",
    "        if total == 21: return 'stand'\n",
    "        \n",
    "        if total < 16: return 'hit'\n",
    "        \n",
    "        if total >= 16: return 'stand'\n",
    "        \n",
    "        \n",
    "    #logic if aces in hand    \n",
    "    else:\n",
    "        if 11 + total > 21:\n",
    "            total += 1\n",
    "        else:\n",
    "            total += 11\n",
    "            \n",
    "        \n",
    "        #check for 21\n",
    "        if total == 21: return 'stand'\n",
    "        \n",
    "        if total < 16: return 'hit'\n",
    "        \n",
    "        if total >= 16: return 'stand'\n",
    "        \n",
    "        \n",
    "    \n",
    "    "
   ]
  },
  {
   "cell_type": "code",
   "execution_count": 25,
   "metadata": {},
   "outputs": [
    {
     "data": {
      "text/plain": [
       "'stand'"
      ]
     },
     "execution_count": 25,
     "metadata": {},
     "output_type": "execute_result"
    }
   ],
   "source": []
  },
  {
   "cell_type": "code",
   "execution_count": null,
   "metadata": {},
   "outputs": [],
   "source": [
    "check if n"
   ]
  }
 ],
 "metadata": {
  "kernelspec": {
   "display_name": "Python 3",
   "language": "python",
   "name": "python3"
  },
  "language_info": {
   "codemirror_mode": {
    "name": "ipython",
    "version": 3
   },
   "file_extension": ".py",
   "mimetype": "text/x-python",
   "name": "python",
   "nbconvert_exporter": "python",
   "pygments_lexer": "ipython3",
   "version": "3.7.4"
  }
 },
 "nbformat": 4,
 "nbformat_minor": 2
}

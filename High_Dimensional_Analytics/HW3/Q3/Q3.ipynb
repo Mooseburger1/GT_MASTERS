{
 "cells": [
  {
   "cell_type": "markdown",
   "metadata": {},
   "source": [
    "# **Question 3.** Image Classification\n",
    "<font size=5>\n",
    "Dimensionality reduction, feature extraction and selection are crucial parts of high multidimensional data analysis. Consider a set of K training samples $X^{(k)} \\in R^{I_1 x I_2 x .... x I_N}$, (k=1,2, ... , K) corresponding to C categories/classes, and a set of test data $X^{t} \\in R^{I_1 x I_2 x .... x I_N}$, (t=1,2, ... , T). The challenge is to find appropriate labels for the test data. The classification algorithm can be generally performed in the following steps:\n",
    "\n",
    "1. Find a set of basis matrices and the corresponding features from the training data $X^{(k)}$. The relation of a sample $X^{(k)}$ and basis factors can be expressed as:\n",
    "    \n",
    "\\begin{equation}\n",
    "X^{(k)} \\approx G^{(k)} x_1 A^{(1)} x_2 A^{(2)} ... x_N A^{(N)} (k=1,2,....K)\n",
    "\\end{equation}\n",
    "\n",
    "Where the core tensor $G^{(k)} \\in R^{J_1 x J_2 x ... x J_N}$ representing features of a much lower dimension than the training data $X^{(k)}$. In other words, the core tensor $G^{(k)}$ consists of features of $X^{(k)}$ in subspace $A^{(n)}$.\n",
    "\n",
    "    \n",
    "2. Perform feature extraction for the test samples $X^{(t)}$ using the basis factors found for the training data (using a projected filter). \n",
    "\\begin{equation}\n",
    "X^{(t)} x_1 A^{(1)T} ... x_N A^{(N)T}\n",
    "\\end{equation}\n",
    "    \n",
    "    \n",
    "3. Perform classification by comparing the test features with the training features.\n",
    "    \n",
    "You are given 28 training images, train1.jpg through train28.jpg. The first 14 images correspond to cats, and the remaining images correspond to birds. There are two classes: cats and birds. The labels for the images can be found in the file train_lab.mat. Your job will be to classify 12 new images, Test1.jpg through Test12.jpg. Use the training features to train a random forest with 100 trees. Note that you will need to vectorize the training features.\n"
   ]
  },
  {
   "cell_type": "code",
   "execution_count": 1,
   "metadata": {},
   "outputs": [
    {
     "data": {
      "text/html": [
       "<style>.container { width:100% !important; }</style>"
      ],
      "text/plain": [
       "<IPython.core.display.HTML object>"
      ]
     },
     "metadata": {},
     "output_type": "display_data"
    }
   ],
   "source": [
    "from scipy.io import loadmat\n",
    "import matplotlib.pyplot as plt\n",
    "import numpy as np\n",
    "import tensorly as tl\n",
    "from tensorly.tenalg import khatri_rao\n",
    "from tensorly.decomposition import tucker\n",
    "from sklearn.ensemble import RandomForestClassifier\n",
    "from sklearn.metrics import accuracy_score\n",
    "import os\n",
    "import re\n",
    "import cv2\n",
    "from IPython.core.display import display, HTML\n",
    "display(HTML(\"<style>.container { width:100% !important; }</style>\"))"
   ]
  },
  {
   "cell_type": "code",
   "execution_count": 2,
   "metadata": {},
   "outputs": [],
   "source": [
    "# Helper functions for properly sorting the train and test images by name\n",
    "def atoi(text):\n",
    "    return int(text) if text.isdigit() else text\n",
    "\n",
    "def natural_keys(text):\n",
    "    '''\n",
    "    alist.sort(key=natural_keys) sorts in human order\n",
    "    http://nedbatchelder.com/blog/200712/human_sorting.html\n",
    "    (See Toothy's implementation in the comments)\n",
    "    '''\n",
    "    return [ atoi(c) for c in re.split(r'(\\d+)', text) ]"
   ]
  },
  {
   "cell_type": "code",
   "execution_count": 3,
   "metadata": {},
   "outputs": [],
   "source": [
    "#list of image paths for train and test images\n",
    "train = [os.path.join('train', x) for x in sorted(os.listdir('train'), key=natural_keys)]\n",
    "test = [os.path.join('test', x) for x in sorted(os.listdir('test'), key=natural_keys)]"
   ]
  },
  {
   "cell_type": "code",
   "execution_count": 4,
   "metadata": {},
   "outputs": [],
   "source": [
    "#load train and test labels\n",
    "train_labs = loadmat('train_lab.mat')['train']\n",
    "test_labs = loadmat('test_lab.mat')['test']"
   ]
  },
  {
   "cell_type": "markdown",
   "metadata": {},
   "source": [
    "### **Part 1.** Read and convert all images into gray scale. Form a third-order tensor using the training data and apply Tucker decomposition with $R_1=10; R_2=10; R_3=28$.  Predict the labels for the images on the test set. Report the classification error. "
   ]
  },
  {
   "cell_type": "code",
   "execution_count": 5,
   "metadata": {},
   "outputs": [],
   "source": [
    "#load and convert to grayscale\n",
    "grays_train = [cv2.cvtColor(plt.imread(x), cv2.COLOR_RGB2GRAY) for x in train]\n",
    "grays_test = [cv2.cvtColor(plt.imread(x), cv2.COLOR_RGB2GRAY) for x in test]"
   ]
  },
  {
   "cell_type": "code",
   "execution_count": 6,
   "metadata": {},
   "outputs": [],
   "source": [
    "#Form a third order tensor of the gray images\n",
    "X_train = np.dstack(grays_train)\n",
    "X_test = np.dstack(grays_test)"
   ]
  },
  {
   "cell_type": "code",
   "execution_count": 7,
   "metadata": {},
   "outputs": [],
   "source": [
    "#apply Tucker Decmoposition\n",
    "core, factors = tucker(tl.tensor(X_train, dtype=tl.float32), ranks=[10,10,28])"
   ]
  },
  {
   "cell_type": "code",
   "execution_count": 8,
   "metadata": {},
   "outputs": [],
   "source": [
    "#abosrb core into the 3rd dimension factor since only the first 2 factors are needed\n",
    "core=tl.tenalg.mode_dot(core, factors[-1], mode=2)\n",
    "#vectorize the core tensor\n",
    "core = core.reshape(-1,28).T"
   ]
  },
  {
   "cell_type": "code",
   "execution_count": 9,
   "metadata": {},
   "outputs": [
    {
     "data": {
      "text/plain": [
       "RandomForestClassifier(bootstrap=True, ccp_alpha=0.0, class_weight=None,\n",
       "                       criterion='gini', max_depth=None, max_features='auto',\n",
       "                       max_leaf_nodes=None, max_samples=None,\n",
       "                       min_impurity_decrease=0.0, min_impurity_split=None,\n",
       "                       min_samples_leaf=1, min_samples_split=2,\n",
       "                       min_weight_fraction_leaf=0.0, n_estimators=100,\n",
       "                       n_jobs=None, oob_score=False, random_state=None,\n",
       "                       verbose=0, warm_start=False)"
      ]
     },
     "execution_count": 9,
     "metadata": {},
     "output_type": "execute_result"
    }
   ],
   "source": [
    "#create and train the RF classifier\n",
    "clf = RandomForestClassifier()\n",
    "clf.fit(core, train_labs.ravel())"
   ]
  },
  {
   "cell_type": "code",
   "execution_count": 10,
   "metadata": {},
   "outputs": [],
   "source": [
    "#transform test tensor\n",
    "ttc = tl.tenalg.mode_dot(tl.tenalg.mode_dot(X_test, factors[0].T, mode=0), factors[1].T, mode=1)\n",
    "#vectorize the tensor\n",
    "ttc=ttc.reshape(-1,12).T"
   ]
  },
  {
   "cell_type": "code",
   "execution_count": 11,
   "metadata": {},
   "outputs": [],
   "source": [
    "#predict on test set\n",
    "preds = clf.predict(ttc)"
   ]
  },
  {
   "cell_type": "code",
   "execution_count": 12,
   "metadata": {},
   "outputs": [],
   "source": [
    "#calculate accuracy on test set\n",
    "acc = accuracy_score(test_labs.ravel(), preds)"
   ]
  },
  {
   "cell_type": "code",
   "execution_count": 13,
   "metadata": {},
   "outputs": [
    {
     "name": "stdout",
     "output_type": "stream",
     "text": [
      "Accuracy on test set: 0.9166666666666666\n",
      "11 out of 12 correctly predicted\n"
     ]
    }
   ],
   "source": [
    "print('Accuracy on test set: {}'.format(acc))\n",
    "print('{} out of {} correctly predicted'.format(len(preds) - sum(test_labs.ravel() - preds), len(preds)))"
   ]
  },
  {
   "cell_type": "markdown",
   "metadata": {},
   "source": [
    " "
   ]
  },
  {
   "cell_type": "markdown",
   "metadata": {},
   "source": [
    " "
   ]
  },
  {
   "cell_type": "markdown",
   "metadata": {},
   "source": [
    "   "
   ]
  },
  {
   "cell_type": "markdown",
   "metadata": {},
   "source": [
    " "
   ]
  },
  {
   "cell_type": "markdown",
   "metadata": {},
   "source": [
    "### **Part 2.** Read all images in RGB format. Form a fourth-order tensor using the training data and apply Tucker decomposition with $R_1=10; R_2=10; R_3=3; R_4=28$. Predict the labels for the images on the test set. Report the classification error. "
   ]
  },
  {
   "cell_type": "code",
   "execution_count": 14,
   "metadata": {},
   "outputs": [],
   "source": [
    "#Create 4th order tensor with the RGB images\n",
    "rgb_train = [plt.imread(x) for x in train]\n",
    "rgb_test = [plt.imread(x) for x in test]"
   ]
  },
  {
   "cell_type": "code",
   "execution_count": 15,
   "metadata": {},
   "outputs": [],
   "source": [
    "X_train = np.stack(rgb_train, axis=3)\n",
    "X_test = np.stack(rgb_test, axis=3)"
   ]
  },
  {
   "cell_type": "code",
   "execution_count": 16,
   "metadata": {},
   "outputs": [],
   "source": [
    "#apply Tucker Decmoposition\n",
    "core, factors = tucker(tl.tensor(X_train, dtype=tl.float32), ranks=[10,10,3,28])"
   ]
  },
  {
   "cell_type": "code",
   "execution_count": 17,
   "metadata": {},
   "outputs": [],
   "source": [
    "#abosrb core into the 4th dimension factor since only the first 3 factors are needed\n",
    "core=tl.tenalg.mode_dot(core, factors[-1], mode=3)\n",
    "#vectorize the core tensor\n",
    "core = core.reshape(-1, 28).T"
   ]
  },
  {
   "cell_type": "code",
   "execution_count": 18,
   "metadata": {},
   "outputs": [
    {
     "data": {
      "text/plain": [
       "RandomForestClassifier(bootstrap=True, ccp_alpha=0.0, class_weight=None,\n",
       "                       criterion='gini', max_depth=None, max_features='auto',\n",
       "                       max_leaf_nodes=None, max_samples=None,\n",
       "                       min_impurity_decrease=0.0, min_impurity_split=None,\n",
       "                       min_samples_leaf=1, min_samples_split=2,\n",
       "                       min_weight_fraction_leaf=0.0, n_estimators=100,\n",
       "                       n_jobs=None, oob_score=False, random_state=None,\n",
       "                       verbose=0, warm_start=False)"
      ]
     },
     "execution_count": 18,
     "metadata": {},
     "output_type": "execute_result"
    }
   ],
   "source": [
    "#create and train the RF classifier\n",
    "clf = RandomForestClassifier()\n",
    "clf.fit(core, train_labs.ravel())"
   ]
  },
  {
   "cell_type": "code",
   "execution_count": 19,
   "metadata": {},
   "outputs": [],
   "source": [
    "#transform test tensor\n",
    "ttc = tl.tenalg.mode_dot(tl.tenalg.mode_dot(tl.tenalg.mode_dot(X_test, factors[0].T, mode=0), factors[1].T, mode=1), factors[2].T, mode=2)\n",
    "#vectorize the tensor\n",
    "ttc=ttc.reshape(-1,12).T"
   ]
  },
  {
   "cell_type": "code",
   "execution_count": 20,
   "metadata": {},
   "outputs": [],
   "source": [
    "#predict on test set\n",
    "preds = clf.predict(ttc)"
   ]
  },
  {
   "cell_type": "code",
   "execution_count": 21,
   "metadata": {},
   "outputs": [],
   "source": [
    "#calculate accuracy on test set\n",
    "acc = accuracy_score(test_labs.ravel(), preds)"
   ]
  },
  {
   "cell_type": "code",
   "execution_count": 22,
   "metadata": {},
   "outputs": [
    {
     "name": "stdout",
     "output_type": "stream",
     "text": [
      "Accuracy on test set: 0.9166666666666666\n",
      "11 out of 12 correctly predicted\n"
     ]
    }
   ],
   "source": [
    "print('Accuracy on test set: {}'.format(acc))\n",
    "print('{} out of {} correctly predicted'.format(len(preds) - sum(test_labs.ravel() - preds), len(preds)))"
   ]
  }
 ],
 "metadata": {
  "kernelspec": {
   "display_name": "Python 3",
   "language": "python",
   "name": "python3"
  },
  "language_info": {
   "codemirror_mode": {
    "name": "ipython",
    "version": 3
   },
   "file_extension": ".py",
   "mimetype": "text/x-python",
   "name": "python",
   "nbconvert_exporter": "python",
   "pygments_lexer": "ipython3",
   "version": "3.7.4"
  }
 },
 "nbformat": 4,
 "nbformat_minor": 4
}

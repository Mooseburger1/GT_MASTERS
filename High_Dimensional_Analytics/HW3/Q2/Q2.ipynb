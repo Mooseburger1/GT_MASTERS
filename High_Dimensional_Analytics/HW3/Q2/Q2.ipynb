{
 "cells": [
  {
   "cell_type": "markdown",
   "metadata": {},
   "source": [
    "# **Question 2.** Multilinear Algebra\n",
    "\n",
    "<font size=4>\n",
    "Given \n",
    "\n",
    "\\begin{equation}\n",
    "A * B = \\begin{pmatrix} 1 & 2\\\\ 3 & 4\\end{pmatrix}\n",
    ", A * C = \\begin{pmatrix} 5 & 6\\\\ 7 & 8\\end{pmatrix}\n",
    ",C * D + D = \\begin{pmatrix} 6 & 4\\\\ 16 & 10\\end{pmatrix}\n",
    ",y = \\begin{pmatrix} 1 & 2 & 3 & 4 \\end{pmatrix}^T\n",
    "\\end{equation}\n",
    "\n",
    "find the vector of coefficients $\\hat{\\beta}$ by solving the following optimization problem:\n",
    "\n",
    "\\begin{equation}\n",
    "\\hat{\\beta} = argmin_{\\beta}\\|y-\\{[(A \\otimes C)^T * (B^T \\otimes A^T)]\\ [(B \\odot C)* (A \\odot D) + A * B \\odot D]\\}\\beta \\|^2_2\n",
    "\\end{equation}\n",
    "\n",
    "Simplify the above expression to an appropriate form before solving the optimization problem.\n",
    "\n",
    "Hint: $(A \\otimes B) * (C \\otimes D) = (A * C) \\otimes (B * D); (A \\odot B) * (C \\odot D) = (A * C) \\odot (B * D)$"
   ]
  },
  {
   "cell_type": "code",
   "execution_count": 1,
   "metadata": {},
   "outputs": [
    {
     "data": {
      "text/html": [
       "<style>.container { width:100% !important; }</style>"
      ],
      "text/plain": [
       "<IPython.core.display.HTML object>"
      ]
     },
     "metadata": {},
     "output_type": "display_data"
    }
   ],
   "source": [
    "import numpy as np\n",
    "from tensorly.tenalg import khatri_rao\n",
    "from IPython.core.display import display, HTML\n",
    "display(HTML(\"<style>.container { width:100% !important; }</style>\"))"
   ]
  },
  {
   "cell_type": "markdown",
   "metadata": {},
   "source": [
    "# ***Note: Following section is for notes and references. The answer is below this section***"
   ]
  },
  {
   "cell_type": "markdown",
   "metadata": {},
   "source": [
    "# Hadamard Product\n",
    "\n",
    "<font size=5>\n",
    "Element wise matrix multiplication\n",
    "E.g.\n",
    "\n",
    "\\begin{equation}\n",
    "A= \\left( \\begin{array}{ccc}\n",
    "1 & 2\\\\\n",
    "3 & 4\\end{array} \\right)\\qquad\n",
    "B= \\left( \\begin{array}{ccc}\n",
    "5 & 6\\\\\n",
    "7 & 8\\end{array} \\right)\n",
    "\\end{equation}\n",
    "\n",
    "\\begin{equation}\n",
    "A * B = \n",
    "\\left( \\begin{array}{ccc}\n",
    "1*5 & 2*6\\\\\n",
    "3*7 & 4*8\\end{array} \\right)\\qquad\n",
    "= \\left( \\begin{array}{ccc}\n",
    "5 & 12\\\\\n",
    "21 & 32\\end{array} \\right)\n",
    "\\end{equation}\n",
    "\n",
    "**Code**\n",
    "```\n",
    "import numpy as np\n",
    "\n",
    "A = np.array([[1,2],[3,4]])\n",
    "B = np.array([[5,6],[7,8]])\n",
    "\n",
    "ham = A*B\n",
    "```"
   ]
  },
  {
   "cell_type": "markdown",
   "metadata": {},
   "source": [
    "  "
   ]
  },
  {
   "cell_type": "markdown",
   "metadata": {},
   "source": [
    " "
   ]
  },
  {
   "cell_type": "markdown",
   "metadata": {},
   "source": [
    " "
   ]
  },
  {
   "cell_type": "markdown",
   "metadata": {},
   "source": [
    "# Kronecker Product\n",
    "------------------------\n",
    "<font size=5>\n",
    "Denoted $A \\otimes B$ where A $\\in \\mathbb{R}^{IxJ}$ and B $\\in \\mathbb{R}^{KxL}$. The result is a matrix of size (IK) x (JL) and defined by:\n",
    "\n",
    "\\begin{equation}\n",
    "\\begin{pmatrix}\n",
    "a_{11}B & a_{12}B & ... & a_{1J}B \\\\\n",
    "a_{21}B & a_{22}B & ... & a_{2J}B \\\\\n",
    "... & ... & ... & ... \\\\\n",
    "a_{I1}B & a_{I2}B &  ... & a_{IJ}B \\\\\n",
    "\\end{pmatrix}\n",
    "\\end{equation}\n",
    "\n",
    "\n",
    "\\begin{equation}\n",
    "u \\otimes v = \n",
    "\\begin{pmatrix}\n",
    "1*v & 2*v\\\\\n",
    "3*v & 4*v\n",
    "\\end{pmatrix}\n",
    "= \n",
    "\\begin{pmatrix}\n",
    "5 & 6 & 10 & 12\\\\\n",
    "7 & 8 & 14 & 16\\\\\n",
    "15 & 18 & 20 & 24\\\\\n",
    "21 & 24 & 28 & 32\\end{pmatrix}\n",
    "\\end{equation}\n",
    "\n",
    "**Code**\n",
    "```\n",
    "import numpy as np\n",
    "\n",
    "A = np.array([[1,2],[3,4]])\n",
    "B = np.array([[5,6],[7,8]])\n",
    "\n",
    "kron = np.kron(A,B)\n",
    "```"
   ]
  },
  {
   "cell_type": "markdown",
   "metadata": {},
   "source": [
    " "
   ]
  },
  {
   "cell_type": "markdown",
   "metadata": {},
   "source": [
    "  "
   ]
  },
  {
   "cell_type": "markdown",
   "metadata": {},
   "source": [
    "  "
   ]
  },
  {
   "cell_type": "markdown",
   "metadata": {},
   "source": [
    "# Khati-Rao Product\n",
    "------------------------\n",
    "<font size=5>\n",
    "\"Matching columnwise\" Kronecker product. Denoted $A \\odot B$ where A $\\in \\mathbb{R}^{IxK}$ and B $\\in \\mathbb{R}^{JxK}$. A $\\odot$ B is a matrix of size (IJ) x (K) and computed by\n",
    "\n",
    "\\begin{equation}\n",
    "A \\odot B = [a_1 \\otimes b_1\\ \\ \\ \\ \\ a_2 \\otimes b_2\\ \\ ....\\ \\  a_k \\otimes b_k ]\n",
    "\\end{equation}\n",
    "\n",
    "\\begin{equation}\n",
    "A \\odot B = \n",
    "\\left( \\begin{array}{ccc}\n",
    "1*5 & 2*6\\\\\n",
    "1*7 & 2*8\\\\\n",
    "3*5 & 4*6\\\\\n",
    "3*7 & 4*8\n",
    "\\end{array} \\right)\\qquad\n",
    "= \\left( \\begin{array}{ccc}\n",
    "5 & 12\\\\\n",
    "7 & 16\\\\\n",
    "15 & 24\\\\\n",
    "21 & 32\n",
    "\\end{array} \\right)\n",
    "\\end{equation}\n",
    "\n",
    "\n",
    "**Code**\n",
    "```\n",
    "from tensorly.tenalg import khatri_rao\n",
    "\n",
    "A = np.array([[1,2],[3,4]])\n",
    "B = np.array([[5,6],[7,8]])\n",
    "\n",
    "kr = khatri_rao([A,B])\n",
    "```"
   ]
  },
  {
   "cell_type": "markdown",
   "metadata": {},
   "source": [
    " "
   ]
  },
  {
   "cell_type": "markdown",
   "metadata": {},
   "source": [
    " "
   ]
  },
  {
   "cell_type": "markdown",
   "metadata": {},
   "source": [
    " "
   ]
  },
  {
   "cell_type": "markdown",
   "metadata": {},
   "source": [
    "# **Answer:**\n",
    "---------------\n",
    "<font size=5>\n",
    "A few things to note first\n",
    "\n",
    "\\begin{equation}I.  \\ \\ \\ \\ **A*B** \\in \\mathbb{R}^{2x2} , \\ \\ \\ \\ **A*C** \\in \\mathbb{R}^{2x2} \\ \\ \\ \\ \\therefore A \\in \\mathbb{R}^{2x2} ,\\ B \\in \\mathbb{R}^{2x2}\\ , and\\ \\ C \\in \\mathbb{R}^{2x2}\\end{equation}\n",
    "\n",
    "\\begin{equation}II. \\ \\ \\ \\ (A \\otimes B)^T = (A^T\\otimes B^T)\\end{equation}\n",
    "\n",
    "\\begin{equation}III. \\ \\ \\ \\ (A * C) = (C * A)\\ -\\ commutative\\ property\\ holds\\ for\\ Hadamard\\ product\\end{equation}\n",
    "\n",
    "\\begin{equation}IV. \\ \\ \\ \\ (A \\odot B) + (A \\odot C) = A \\odot (B+C)\\ -\\ distributive\\ property\\ holds\\ for\\ Khatri\\ Rao\\ product\\end{equation}\n",
    "\n",
    "<br><br><br><br><br>\n",
    "\n",
    "\\begin{equation}\n",
    "\\hat{\\beta} = argmin_{\\beta}\\|y-\\{[(A \\otimes C)^T * (B^T \\otimes A^T)]\\ [(B \\odot C)* (A \\odot D) + A * B \\odot D]\\}\\beta \\|^2_2 \\ \\ \\ \\ \\ \\ \\ (1)\n",
    "\\end{equation}\n",
    "\n",
    "<br>\n",
    "\n",
    "Rearraning the elements in the 1st square bracket of (1) according to item (II.) above and applying the hint $(A \\otimes B) * (C \\otimes D) = (A * C) \\otimes (B * D)$\n",
    "\n",
    "<br>\n",
    "\n",
    "\n",
    "\\begin{equation}\n",
    "\\hat{\\beta} = argmin_{\\beta}\\|y-\\{[(A^T \\otimes C^T) * (B^T \\otimes A^T)]\\ [(B \\odot C)* (A \\odot D) + A * B \\odot D]\\}\\beta \\|^2_2\n",
    "\\\\\n",
    "\\ \\ \\ \\ \\ \\ \\ \\ \\ \\ \\ \\ \\ \\ \\ = argmin_{\\beta}\\|y-\\{[(A^T * B^T) \\otimes (C^T * A^T)]\\ [(B \\odot C)* (A \\odot D) + A * B \\odot D]\\}\\beta \\|^2_2 \\ \\ \\ \\ \\ \\ \\ (2)\n",
    "\\end{equation}\n",
    "\n",
    "<br>\n",
    "\n",
    "Following the commutative property for Hadamard product as noted above in (III.) and reapplying item (II.) equation (2) can be written as\n",
    "\n",
    "<br>\n",
    "\n",
    "\\begin{equation}\n",
    "\\ \\ \\ \\ \\ \\ \\ \\ \\ \\ \\ \\ \\ \\ \\ = argmin_{\\beta}\\|y-\\{[(A * B)^T \\otimes (A * C)^T]\\ [(B \\odot C)* (A \\odot D) + A * B \\odot D]\\}\\beta \\|^2_2 \\ \\ \\ \\ \\ \\ \\ (3)\n",
    "\\end{equation}\n",
    "\n",
    "<br>\n",
    "\n",
    "Rearanging elements in the second square bracket of (3) according to the hint $(A \\odot B) * (C \\odot D) = (A * C) \\odot (B * D)$\n",
    "\n",
    "<br>\n",
    "\n",
    "\\begin{equation}\n",
    "\\ \\ \\ \\ \\ \\ \\ \\ \\ \\ \\ \\ \\ \\ \\ = argmin_{\\beta}\\|y-\\{[(A * B)^T \\otimes (A * C)^T]\\ [(B * A) \\odot (C * D) + A * B \\odot D]\\}\\beta \\|^2_2 \\ \\ \\ \\ \\ \\ \\ (4)\n",
    "\\end{equation}\n",
    "\n",
    "<br>\n",
    "\n",
    "Notating $(A * B) = (B * A) = \\gamma$ (4) becomes\n",
    "\n",
    "<br>\n",
    "\n",
    "\\begin{equation}\n",
    "\\ \\ \\ \\ \\ \\ \\ \\ \\ \\ \\ \\ \\ \\ \\ = argmin_{\\beta}\\|y-\\{[(A * B)^T \\otimes (A * C)^T]\\ [\\gamma \\odot (C * D) + \\gamma \\odot D]\\}\\beta \\|^2_2 \\ \\ \\ \\ \\ \\ \\ (5)\n",
    "\\end{equation}\n",
    "\n",
    "<br>\n",
    "\n",
    "Notating item (IV.) above and factoring out $\\gamma$\n",
    "\n",
    "<br>\n",
    "\n",
    "\\begin{equation}\n",
    "\\ \\ \\ \\ \\ \\ \\ \\ \\ \\ \\ \\ \\ \\ \\ = argmin_{\\beta}\\|y-\\{[(A * B)^T \\otimes (A * C)^T]\\ [\\gamma \\odot ((C * D) + D)\\ ]\\}\\beta \\|^2_2 \\ \\ \\ \\ \\ \\ \\ (6)\n",
    "\\end{equation}\n",
    "\n",
    "<br>\n",
    "\n",
    "Replacing $\\gamma$ with $\\gamma = (A * B)$ in (6) we arrive at\n",
    "\n",
    "<br>\n",
    "\n",
    "\\begin{equation}\n",
    "\\hat{\\beta} = argmin_{\\beta}\\|y-\\{[(A * B)^T \\otimes (A * C)^T]\\ [(A * B) \\odot ((C * D) + D)\\ ]\\}\\beta \\|^2_2 \\ \\ \\ \\ \\ \\ \\ (7)\n",
    "\\end{equation}\n",
    "\n",
    "<br>\n",
    "\n",
    "\\begin{equation}\n",
    "\\boxed{\\hat{\\beta} = argmin_{\\beta}\\|y-X\\beta \\|^2_2 \\ \\ \\ \\ \\ \\therefore X = \\{[(A * B)^T \\otimes (A * C)^T]\\ [(A * B) \\odot ((C * D) + D)\\ ]\\}}  \\ \\ \\ \\ \\ \\ \\ (8)\n",
    "\\end{equation}"
   ]
  },
  {
   "cell_type": "code",
   "execution_count": 2,
   "metadata": {},
   "outputs": [],
   "source": [
    "ab = np.array([[1,2],[3,4]])\n",
    "ac = np.array([[5,6],[7,8]])\n",
    "cdd = np.array([[6,4],[16,10]])\n",
    "y = np.array([1,2,3,4])"
   ]
  },
  {
   "cell_type": "markdown",
   "metadata": {},
   "source": [
    "### Using eqn. (8) above, create **X** matrix"
   ]
  },
  {
   "cell_type": "code",
   "execution_count": 3,
   "metadata": {},
   "outputs": [],
   "source": [
    "#left square bracket - Kronecker product\n",
    "M1 = np.kron(ab.T, ac.T)"
   ]
  },
  {
   "cell_type": "code",
   "execution_count": 4,
   "metadata": {},
   "outputs": [],
   "source": [
    "#right square bracket - khatri rao prodcut\n",
    "M2 = khatri_rao([ab, cdd])"
   ]
  },
  {
   "cell_type": "code",
   "execution_count": 5,
   "metadata": {},
   "outputs": [],
   "source": [
    "# X - matrix\n",
    "X = M1.dot(M2)"
   ]
  },
  {
   "cell_type": "markdown",
   "metadata": {},
   "source": [
    "### Using numpy to solve OLS for beta"
   ]
  },
  {
   "cell_type": "code",
   "execution_count": 6,
   "metadata": {},
   "outputs": [
    {
     "data": {
      "text/plain": [
       "array([-0.0309884 ,  0.03603101])"
      ]
     },
     "execution_count": 6,
     "metadata": {},
     "output_type": "execute_result"
    }
   ],
   "source": [
    "betas_np = np.linalg.lstsq(X,y, rcond=None)[0]\n",
    "betas_np"
   ]
  },
  {
   "cell_type": "markdown",
   "metadata": {},
   "source": [
    "### Manual calculation of OLS for sanity check $\\hat{\\beta} = (X^T X)^{-1} X^T y$"
   ]
  },
  {
   "cell_type": "code",
   "execution_count": 7,
   "metadata": {},
   "outputs": [
    {
     "data": {
      "text/plain": [
       "array([-0.0309884 ,  0.03603101])"
      ]
     },
     "execution_count": 7,
     "metadata": {},
     "output_type": "execute_result"
    }
   ],
   "source": [
    "betas_ols = np.linalg.pinv(X.T.dot(X)).dot(X.T.dot(y))\n",
    "betas_ols"
   ]
  },
  {
   "cell_type": "markdown",
   "metadata": {},
   "source": [
    "<font size=5>\n",
    "\\begin{equation}\n",
    "\\boxed{\\hat{\\beta} = \\left(\n",
    "\\begin{array}{ccc}\n",
    "-0.0309884\\\\\n",
    "0.03603101\n",
    "\\end{array}\n",
    "\\right)}\n",
    "\\end{equation}"
   ]
  },
  {
   "cell_type": "code",
   "execution_count": null,
   "metadata": {},
   "outputs": [],
   "source": []
  }
 ],
 "metadata": {
  "kernelspec": {
   "display_name": "Python 3",
   "language": "python",
   "name": "python3"
  },
  "language_info": {
   "codemirror_mode": {
    "name": "ipython",
    "version": 3
   },
   "file_extension": ".py",
   "mimetype": "text/x-python",
   "name": "python",
   "nbconvert_exporter": "python",
   "pygments_lexer": "ipython3",
   "version": "3.7.4"
  }
 },
 "nbformat": 4,
 "nbformat_minor": 4
}

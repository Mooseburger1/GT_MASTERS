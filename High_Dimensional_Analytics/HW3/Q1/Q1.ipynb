{
 "cells": [
  {
   "cell_type": "code",
   "execution_count": 1,
   "metadata": {},
   "outputs": [
    {
     "data": {
      "text/html": [
       "<style>.container { width:100% !important; }</style>"
      ],
      "text/plain": [
       "<IPython.core.display.HTML object>"
      ]
     },
     "metadata": {},
     "output_type": "display_data"
    }
   ],
   "source": [
    "import numpy as np\n",
    "import tensorly as tl\n",
    "from tensorly.decomposition import tucker\n",
    "\n",
    "from IPython.core.display import display, HTML\n",
    "display(HTML(\"<style>.container { width:100% !important; }</style>\"))"
   ]
  },
  {
   "cell_type": "markdown",
   "metadata": {},
   "source": [
    "# **Question 1.** Tensor Decomposition Reconstruction\n",
    "\n",
    "**Part 1.** Kruskal tensors are a way of representing tensor decompositions as a weighted sum of outer products. $\\chi = \\sum_r \\lambda_r U_{1r} \\circ U_{2r} \\circ ... \\circ U_{nr}$ for each rank of the decomposition, r, and rank of the original tensor, n.\n",
    "\n",
    "## **a)** Given the following rank-2 CP decomposition:\n",
    "\n",
    "\\begin{equation}\n",
    "\\lambda = \n",
    "\\begin{pmatrix}\n",
    "39.288 & 10.676\n",
    "\\end{pmatrix}\n",
    "U_1 = \n",
    "\\begin{pmatrix}\n",
    "0.5719 & 0.1469\\\\\n",
    "0.5885 & 0.9817\\\\\n",
    "0.5715 & -0.1210\n",
    "\\end{pmatrix}\n",
    "U_2 = \n",
    "\\begin{pmatrix}\n",
    "0.5121 & -0.4042\\\\\n",
    "0.6284 & 0.5877\\\\\n",
    "0.5856 & 0.7009\n",
    "\\end{pmatrix}\n",
    "\\\\\n",
    "U_3 = \n",
    "\\begin{pmatrix}\n",
    "0.5605 & -0.3179\\\\\n",
    "0.4921 & -0.3682\\\\\n",
    "0.6661 & 0.8737\n",
    "\\end{pmatrix}\n",
    "U_4 = \n",
    "\\begin{pmatrix}\n",
    "0.7502 & -0.9201\\\\\n",
    "0.6612 & 0.3917\n",
    "\\end{pmatrix}\n",
    "\\end{equation}\n",
    "\n",
    "Write out the calculation of the first outer product $U_{1,1} \\circ U_{2,1}$"
   ]
  },
  {
   "cell_type": "markdown",
   "metadata": {},
   "source": [
    "    \n",
    "# Answer\n",
    "<font size=5>\n",
    "\n",
    "\n",
    "$U_{1,1} \\circ U_{2,1} = U_{1,1} * U_{2,1}^T$ Where:\n",
    "\n",
    "\\begin{equation}\n",
    "U_{1,1} = \\begin{pmatrix}0.5719 \\\\ 0.5885 \\\\ 0.5715 \\end{pmatrix}\n",
    ",\n",
    "U_{2,1}^T = \\begin{pmatrix} 0.5121 & 0.6284 & 0.5856 \\end{pmatrix}\n",
    "\\end{equation}\n",
    "\n",
    "Therefore\n",
    "\n",
    "\\begin{equation}\n",
    "\\begin{pmatrix}\n",
    "(0.5719 * 0.5121) & (0.5719 * 0.6284) & (0.5719 * 0.5856)\\\\\n",
    "(0.5885 * 0.5121) & (0.5885 * 0.6284) & (0.5885 * 0.5856)\\\\\n",
    "(0.5715 * 0.5121) & (0.5715 * 0.6284) & (0.5715 * 0.5856))\n",
    "\\end{pmatrix}\n",
    "=\n",
    "\\boxed{    \n",
    "\\begin{pmatrix}\n",
    "0.2929 & 0.3594 & 0.3349\\\\\n",
    "0.3014 & 0.3698 & 0.3446\\\\\n",
    "0.2927 & 0.3591 & 0.3347\n",
    "\\end{pmatrix}\n",
    "}\n",
    "\\end{equation}"
   ]
  },
  {
   "cell_type": "markdown",
   "metadata": {},
   "source": [
    "### Confirm written solution programmatically"
   ]
  },
  {
   "cell_type": "code",
   "execution_count": 2,
   "metadata": {},
   "outputs": [
    {
     "data": {
      "text/plain": [
       "array([[0.29286999, 0.35938196, 0.33490464],\n",
       "       [0.30137085, 0.3698134 , 0.3446256 ],\n",
       "       [0.29266515, 0.3591306 , 0.3346704 ]])"
      ]
     },
     "execution_count": 2,
     "metadata": {},
     "output_type": "execute_result"
    }
   ],
   "source": [
    "u11 = np.array([0.5719, 0.5885, 0.5715])\n",
    "u21 = np.array([0.5121, 0.6284, 0.5856])\n",
    "np.outer(u11, u21)"
   ]
  },
  {
   "cell_type": "markdown",
   "metadata": {},
   "source": [
    "## **b)** Either by hand or in code, calculate:\n",
    "\n",
    "### $\\lambda_1$ $U_{1,1}$ $\\circ$ $U_{2,1}$ $\\circ$ $U_{3,1}$ $\\circ$ $U_{4,1}$"
   ]
  },
  {
   "cell_type": "code",
   "execution_count": 3,
   "metadata": {},
   "outputs": [],
   "source": [
    "lam = np.array([39.288 , 10.676])\n",
    "\n",
    "u1 = np.array([[0.5719, 0.1469], [0.5885,0.9817], [0.5715, -0.1210]])\n",
    "\n",
    "u2 = np.array([[0.5121, -0.4042], [0.6284,0.5877], [0.5856, 0.7009]])\n",
    "\n",
    "u3 = np.array([[0.5605, -0.3179], [0.4921,-0.3682], [0.6661, 0.8737]])\n",
    "\n",
    "u4 = np.array([[0.7502, -0.9201], [0.6612,0.3917]])"
   ]
  },
  {
   "cell_type": "code",
   "execution_count": 4,
   "metadata": {},
   "outputs": [
    {
     "data": {
      "text/plain": [
       "array([[[[4.8382407 , 4.26425586],\n",
       "         [4.24781132, 3.7438721 ],\n",
       "         [5.74978078, 5.06765536]],\n",
       "\n",
       "        [[5.93702491, 5.23268577],\n",
       "         [5.21250661, 4.59412073],\n",
       "         [7.05557946, 6.21854058]],\n",
       "\n",
       "        [[5.5326572 , 4.87629024],\n",
       "         [4.85748547, 4.28121754],\n",
       "         [6.57502758, 5.79499899]]],\n",
       "\n",
       "\n",
       "       [[[4.97867573, 4.38803038],\n",
       "         [4.37110852, 3.85254193],\n",
       "         [5.91667423, 5.2147494 ]],\n",
       "\n",
       "        [[6.10935331, 5.38456999],\n",
       "         [5.36380511, 4.72746992],\n",
       "         [7.26037509, 6.39904027]],\n",
       "\n",
       "        [[5.6932484 , 5.01782971],\n",
       "         [4.99847911, 4.40548439],\n",
       "         [6.76587469, 5.96320494]]],\n",
       "\n",
       "\n",
       "       [[[4.83485672, 4.26127335],\n",
       "         [4.24484031, 3.74125355],\n",
       "         [5.74575925, 5.06411093]],\n",
       "\n",
       "        [[5.93287241, 5.22902591],\n",
       "         [5.20886087, 4.5909075 ],\n",
       "         [7.05064463, 6.21419119]],\n",
       "\n",
       "        [[5.52878753, 4.87287965],\n",
       "         [4.85408804, 4.27822315],\n",
       "         [6.57042886, 5.79094583]]]])"
      ]
     },
     "execution_count": 4,
     "metadata": {},
     "output_type": "execute_result"
    }
   ],
   "source": [
    "#intialize empty placeholder for outer product of the first rank\n",
    "prod1 = np.zeros((3,3,3,2))\n",
    "\n",
    "#extract first column from each U matrix\n",
    "u11 = u1[:,0]\n",
    "u21 = u2[:,0]\n",
    "u31 = u3[:,0]\n",
    "u41 = u4[:,0]\n",
    "\n",
    "#perform outer product\n",
    "for i in range(len(u41)):             #length should be 2 since there's 2 values in the columns of U4\n",
    "    for j in range(len(u31)):         #length should be 3 since there's 3 values in the columns of U3\n",
    "        for k in range(len(u21)):     #length should be 3 since there's 3 values in the columns of U2\n",
    "            for l in range(len(u11)): #length should be 3 since there's 3 values in the columns of U1\n",
    "                \n",
    "                prod1[l][k][j][i] = u11[l] * u21[k] * u31[j] * u41[i]\n",
    "\n",
    "#multiply outer product by the first lambda value\n",
    "prod1 = prod1 * lam[0]\n",
    "prod1"
   ]
  },
  {
   "cell_type": "markdown",
   "metadata": {},
   "source": [
    "### $\\lambda_1$ $U_{1,2}$ $\\circ$ $U_{2,2}$ $\\circ$ $U_{3,2}$ $\\circ$ $U_{4,2}$"
   ]
  },
  {
   "cell_type": "code",
   "execution_count": 5,
   "metadata": {},
   "outputs": [
    {
     "data": {
      "text/plain": [
       "array([[[[-0.18541814,  0.07893521],\n",
       "         [-0.21475609,  0.0914248 ],\n",
       "         [ 0.50959368, -0.21694147]],\n",
       "\n",
       "        [[ 0.26959486, -0.11477047],\n",
       "         [ 0.31225174, -0.13293012],\n",
       "         [-0.74094064,  0.31542925]],\n",
       "\n",
       "        [[ 0.32152295, -0.13687701],\n",
       "         [ 0.3723962 , -0.1585345 ],\n",
       "         [-0.88365713,  0.37618574]]],\n",
       "\n",
       "\n",
       "       [[[-1.23910818,  0.52750644],\n",
       "         [-1.43516713,  0.6109716 ],\n",
       "         [ 3.40550115, -1.44977155]],\n",
       "\n",
       "        [[ 1.80164245, -0.76698549],\n",
       "         [ 2.08670887, -0.88834242],\n",
       "         [-4.95154139,  2.10794344]],\n",
       "\n",
       "        [[ 2.14866631, -0.91471861],\n",
       "         [ 2.48864088, -1.05945075],\n",
       "         [-5.90528391,  2.51396556]]],\n",
       "\n",
       "\n",
       "       [[[ 0.15272699, -0.06501811],\n",
       "         [ 0.17689235, -0.07530566],\n",
       "         [-0.41974701,  0.17869243]],\n",
       "\n",
       "        [[-0.22206248,  0.09453524],\n",
       "         [-0.25719851,  0.10949316],\n",
       "         [ 0.61030509, -0.25981579]],\n",
       "\n",
       "        [[-0.26483511,  0.11274417],\n",
       "         [-0.30673887,  0.13058321],\n",
       "         [ 0.72785918, -0.30986028]]]])"
      ]
     },
     "execution_count": 5,
     "metadata": {},
     "output_type": "execute_result"
    }
   ],
   "source": [
    "#initialize empty placeholder for outer product fo the second rank\n",
    "prod2 = np.zeros((3,3,3,2))\n",
    "\n",
    "#extract second column from each U matrix\n",
    "u12 = u1[:,1]\n",
    "u22 = u2[:,1]\n",
    "u32 = u3[:,1]\n",
    "u42 = u4[:,1]\n",
    "\n",
    "#perform outer product\n",
    "for i in range(len(u42)):             #length should be 2 since there's 2 values in the columns of U4\n",
    "    for j in range(len(u32)):         #length should be 3 since there's 3 values in the columns of U3\n",
    "        for k in range(len(u22)):     #length should be 3 since there's 3 values in the columns of U2\n",
    "            for l in range(len(u12)): #length should be 3 since there's 3 values in the columns of U1\n",
    "                \n",
    "                prod2[l][k][j][i] = u12[l] * u22[k] * u32[j] * u42[i]\n",
    "\n",
    "#multiply outer product by the second lambda value\n",
    "prod2 = prod2 * lam[1]\n",
    "prod2"
   ]
  },
  {
   "cell_type": "markdown",
   "metadata": {},
   "source": [
    "### $\\chi$ the full reconstruction"
   ]
  },
  {
   "cell_type": "code",
   "execution_count": 6,
   "metadata": {},
   "outputs": [
    {
     "data": {
      "text/plain": [
       "(3, 3, 3, 2)"
      ]
     },
     "execution_count": 6,
     "metadata": {},
     "output_type": "execute_result"
    }
   ],
   "source": [
    "X = prod1 + prod2\n",
    "X.shape"
   ]
  },
  {
   "cell_type": "code",
   "execution_count": 7,
   "metadata": {},
   "outputs": [
    {
     "data": {
      "text/plain": [
       "array([[[[4.65282255, 4.34319107],\n",
       "         [4.03305524, 3.8352969 ],\n",
       "         [6.25937447, 4.85071389]],\n",
       "\n",
       "        [[6.20661977, 5.11791531],\n",
       "         [5.52475835, 4.46119061],\n",
       "         [6.31463882, 6.53396982]],\n",
       "\n",
       "        [[5.85418015, 4.73941323],\n",
       "         [5.22988167, 4.12268304],\n",
       "         [5.69137045, 6.17118473]]],\n",
       "\n",
       "\n",
       "       [[[3.73956755, 4.91553682],\n",
       "         [2.93594139, 4.46351353],\n",
       "         [9.32217538, 3.76497785]],\n",
       "\n",
       "        [[7.91099576, 4.6175845 ],\n",
       "         [7.45051398, 3.8391275 ],\n",
       "         [2.30883371, 8.50698371]],\n",
       "\n",
       "        [[7.84191472, 4.10311109],\n",
       "         [7.48711999, 3.34603364],\n",
       "         [0.86059077, 8.47717049]]],\n",
       "\n",
       "\n",
       "       [[[4.98758371, 4.19625523],\n",
       "         [4.42173266, 3.66594789],\n",
       "         [5.32601224, 5.24280336]],\n",
       "\n",
       "        [[5.71080993, 5.32356115],\n",
       "         [4.95166236, 4.70040065],\n",
       "         [7.66094972, 5.9543754 ]],\n",
       "\n",
       "        [[5.26395243, 4.98562382],\n",
       "         [4.54734917, 4.40880637],\n",
       "         [7.29828804, 5.48108555]]]])"
      ]
     },
     "execution_count": 7,
     "metadata": {},
     "output_type": "execute_result"
    }
   ],
   "source": [
    "X"
   ]
  },
  {
   "cell_type": "markdown",
   "metadata": {},
   "source": [
    "### Use tensorly and compare results of manual calculation from library implementation"
   ]
  },
  {
   "cell_type": "code",
   "execution_count": 8,
   "metadata": {},
   "outputs": [
    {
     "data": {
      "text/plain": [
       "array([[[[4.65282255, 4.34319107],\n",
       "         [4.03305524, 3.8352969 ],\n",
       "         [6.25937447, 4.85071389]],\n",
       "\n",
       "        [[6.20661977, 5.11791531],\n",
       "         [5.52475835, 4.46119061],\n",
       "         [6.31463882, 6.53396982]],\n",
       "\n",
       "        [[5.85418015, 4.73941323],\n",
       "         [5.22988167, 4.12268304],\n",
       "         [5.69137045, 6.17118473]]],\n",
       "\n",
       "\n",
       "       [[[3.73956755, 4.91553682],\n",
       "         [2.93594139, 4.46351353],\n",
       "         [9.32217538, 3.76497785]],\n",
       "\n",
       "        [[7.91099576, 4.6175845 ],\n",
       "         [7.45051398, 3.8391275 ],\n",
       "         [2.30883371, 8.50698371]],\n",
       "\n",
       "        [[7.84191472, 4.10311109],\n",
       "         [7.48711999, 3.34603364],\n",
       "         [0.86059077, 8.47717049]]],\n",
       "\n",
       "\n",
       "       [[[4.98758371, 4.19625523],\n",
       "         [4.42173266, 3.66594789],\n",
       "         [5.32601224, 5.24280336]],\n",
       "\n",
       "        [[5.71080993, 5.32356115],\n",
       "         [4.95166236, 4.70040065],\n",
       "         [7.66094972, 5.9543754 ]],\n",
       "\n",
       "        [[5.26395243, 4.98562382],\n",
       "         [4.54734917, 4.40880637],\n",
       "         [7.29828804, 5.48108555]]]])"
      ]
     },
     "execution_count": 8,
     "metadata": {},
     "output_type": "execute_result"
    }
   ],
   "source": [
    "X_tl = tl.kruskal_to_tensor((lam, [u1,u2,u3,u4]))\n",
    "X_tl"
   ]
  },
  {
   "cell_type": "markdown",
   "metadata": {},
   "source": [
    "### **Part 2.** A Tucker decomposition of the same original tensor is:\n",
    "\n",
    "<font size=5>\n",
    "    \n",
    "\\begin{equation}\n",
    "G_{1,1} = \n",
    "\\begin{pmatrix}\n",
    "38.946 & 0.8653\\\\ 0.9666 & -4.8832\n",
    "\\end{pmatrix}\n",
    "G_{2,1} = \n",
    "\\begin{pmatrix}\n",
    "-0.4799 & -0.0792\\\\ -1.7302 & -4.3675\n",
    "\\end{pmatrix}\n",
    "G_{1,2} = \n",
    "\\begin{pmatrix}\n",
    "0.7059 & -1.6496\\\\ 0.7553 & -1.1648\n",
    "\\end{pmatrix}\n",
    "G_{2,2} = \n",
    "\\begin{pmatrix}\n",
    "5.7493 & -3.3204\\\\ -2.0019 & 7.6587\n",
    "\\end{pmatrix}\n",
    "\\\\\n",
    "U_1 = \n",
    "\\begin{pmatrix}\n",
    "0.5661 & -01945\\\\ 0.6005 & -0.5685\\\\0.5648 & 0.7994\n",
    "\\end{pmatrix}\n",
    "U_2 = \n",
    "\\begin{pmatrix}\n",
    "0.5031 & 0.8331\\\\ 0.6345 & -0.1755\\\\0.5867 & -0.5246\n",
    "\\end{pmatrix}\n",
    "U_3 = \n",
    "\\begin{pmatrix}\n",
    "0.5773 & -0.3364\\\\ 0.5013 & -0.5733\\\\0.6445 & 0.7471\n",
    "\\end{pmatrix}\n",
    "U_4 = \n",
    "\\begin{pmatrix}\n",
    "0.7524 & -0.6587\\\\ 0.6587 & 0.7524\n",
    "\\end{pmatrix}\n",
    "\\end{equation}\n",
    "\n",
    "Compute the reconstruction of the Tucker decomposition"
   ]
  },
  {
   "cell_type": "code",
   "execution_count": 9,
   "metadata": {},
   "outputs": [],
   "source": [
    "g11 = np.array([[38.946, 0.8653],\n",
    "                [0.9666, -4.8832]])\n",
    "\n",
    "g12 = np.array([[0.7059, -1.6496],\n",
    "                [0.7553, -1.1648]])\n",
    "\n",
    "g21 = np.array([[-0.4799, -0.0792],\n",
    "                [-1.7302, -4.3675]])\n",
    "\n",
    "g22 = np.array([[5.7493, -3.3204],\n",
    "                [-2.0019, 7.6587]])\n",
    "\n",
    "g = np.zeros((2,2,2,2))\n",
    "\n",
    "\n",
    "g[:,:,0,0] = g11\n",
    "g[:,:,1,0] = g12\n",
    "g[:,:,0,1] = g21\n",
    "g[:,:,1,1] = g22\n",
    "\n",
    "g = tl.tensor(g, dtype=tl.float32)"
   ]
  },
  {
   "cell_type": "code",
   "execution_count": 10,
   "metadata": {},
   "outputs": [],
   "source": [
    "u1 = np.array([[0.5661, -0.1945],\n",
    "               [0.6005, -0.5685],\n",
    "               [0.5648, 0.7994]])\n",
    "\n",
    "u2 = np.array([[0.5031, 0.8331],\n",
    "               [0.6345, -0.1755],\n",
    "               [0.5867, -0.5246]])\n",
    "\n",
    "u3 = np.array([[0.5773, -0.3364],\n",
    "               [0.5013, -0.5733],\n",
    "               [0.6445, 0.7471]])\n",
    "\n",
    "u4 = np.array([[0.7524, -0.6587],\n",
    "               [0.6587, 0.7524]])"
   ]
  },
  {
   "cell_type": "markdown",
   "metadata": {},
   "source": [
    "### Manual Calculation"
   ]
  },
  {
   "cell_type": "code",
   "execution_count": 11,
   "metadata": {},
   "outputs": [],
   "source": [
    "prod = []\n",
    "for p in range(2):\n",
    "    for q in range(2):\n",
    "        for r in range(2):\n",
    "            for s in range(2):\n",
    "                \n",
    "                prod.append(np.outer(np.outer(np.outer((g[p][q][r][s] * u1[:,p]), u2[:,q]), u3[:,r]) , u4[:,s]))"
   ]
  },
  {
   "cell_type": "code",
   "execution_count": 12,
   "metadata": {},
   "outputs": [
    {
     "data": {
      "text/plain": [
       "array([[[[ 4.93169791,  5.29221616],\n",
       "         [ 4.1998829 ,  4.88708718],\n",
       "         [ 5.83543511,  4.74410601]],\n",
       "\n",
       "        [[ 6.52414397,  4.33674962],\n",
       "         [ 6.14284537,  3.09887053],\n",
       "         [ 5.37677372,  7.50444614]],\n",
       "\n",
       "        [[ 6.1225886 ,  3.3192871 ],\n",
       "         [ 5.93006553,  1.95986379],\n",
       "         [ 4.38583683,  7.388613  ]]],\n",
       "\n",
       "\n",
       "       [[[ 4.68851114,  7.26166459],\n",
       "         [ 3.57800094,  6.98710315],\n",
       "         [ 7.20373333,  5.38633794]],\n",
       "\n",
       "        [[ 6.91614031,  4.26511325],\n",
       "         [ 6.74001646,  2.84167726],\n",
       "         [ 4.7891852 ,  8.20297477]],\n",
       "\n",
       "        [[ 6.69150931,  2.49794405],\n",
       "         [ 6.89045511,  0.863456  ],\n",
       "         [ 3.15897946,  8.00158859]]],\n",
       "\n",
       "\n",
       "       [[[ 6.40945058,  0.76002819],\n",
       "         [ 6.5960878 , -0.0698415 ],\n",
       "         [ 3.04148456,  3.76233945]],\n",
       "\n",
       "        [[ 6.52137912,  5.24614314],\n",
       "         [ 5.51461142,  4.31375332],\n",
       "         [ 7.87237581,  6.82201766]],\n",
       "\n",
       "        [[ 5.56851484,  6.11785216],\n",
       "         [ 4.27055427,  5.28945591],\n",
       "         [ 8.47204259,  6.92181322]]]])"
      ]
     },
     "execution_count": 12,
     "metadata": {},
     "output_type": "execute_result"
    }
   ],
   "source": [
    "result = np.zeros(prod[0].shape)\n",
    "\n",
    "for i in prod:\n",
    "    result += i\n",
    "    \n",
    "result = result.reshape((3,3,3,2))\n",
    "result"
   ]
  },
  {
   "cell_type": "markdown",
   "metadata": {},
   "source": [
    "### Tensorly Calculation"
   ]
  },
  {
   "cell_type": "code",
   "execution_count": 13,
   "metadata": {},
   "outputs": [],
   "source": [
    "result_tl = tl.tucker_to_tensor((g, [u1,u2,u3,u4]))"
   ]
  },
  {
   "cell_type": "code",
   "execution_count": 14,
   "metadata": {},
   "outputs": [
    {
     "data": {
      "text/plain": [
       "array([[[[ 4.93169791,  5.29221616],\n",
       "         [ 4.1998829 ,  4.88708718],\n",
       "         [ 5.83543511,  4.74410601]],\n",
       "\n",
       "        [[ 6.52414397,  4.33674962],\n",
       "         [ 6.14284537,  3.09887053],\n",
       "         [ 5.37677372,  7.50444614]],\n",
       "\n",
       "        [[ 6.1225886 ,  3.3192871 ],\n",
       "         [ 5.93006553,  1.95986379],\n",
       "         [ 4.38583683,  7.388613  ]]],\n",
       "\n",
       "\n",
       "       [[[ 4.68851114,  7.26166459],\n",
       "         [ 3.57800094,  6.98710315],\n",
       "         [ 7.20373333,  5.38633794]],\n",
       "\n",
       "        [[ 6.91614031,  4.26511325],\n",
       "         [ 6.74001646,  2.84167726],\n",
       "         [ 4.7891852 ,  8.20297477]],\n",
       "\n",
       "        [[ 6.69150931,  2.49794405],\n",
       "         [ 6.89045511,  0.863456  ],\n",
       "         [ 3.15897946,  8.00158859]]],\n",
       "\n",
       "\n",
       "       [[[ 6.40945058,  0.76002819],\n",
       "         [ 6.5960878 , -0.0698415 ],\n",
       "         [ 3.04148456,  3.76233945]],\n",
       "\n",
       "        [[ 6.52137912,  5.24614314],\n",
       "         [ 5.51461142,  4.31375332],\n",
       "         [ 7.87237581,  6.82201766]],\n",
       "\n",
       "        [[ 5.56851484,  6.11785216],\n",
       "         [ 4.27055427,  5.28945591],\n",
       "         [ 8.47204259,  6.92181322]]]])"
      ]
     },
     "execution_count": 14,
     "metadata": {},
     "output_type": "execute_result"
    }
   ],
   "source": [
    "result_tl"
   ]
  },
  {
   "cell_type": "markdown",
   "metadata": {},
   "source": [
    "## **Part 3.** The actual original tensor was:\n",
    "\n",
    "<font size=5>\n",
    "\\begin{equation}\n",
    "X_{1,1} = \n",
    "\\begin{pmatrix}\n",
    "4 & 0 & 9 \\\\ 7 & 9 & 9 \\\\ 4 & 8 & 5\n",
    "\\end{pmatrix}\n",
    "X_{2,1} = \n",
    "\\begin{pmatrix}\n",
    "7 & 8 & 2 \\\\ 1 & 5 & 8 \\\\ 7 & 9 & 2\n",
    "\\end{pmatrix}\n",
    "X_{3,1} = \n",
    "\\begin{pmatrix}\n",
    "7 & 9 & 4 \\\\ 10 & 1 & 2 \\\\ 1 & 5 & 8\n",
    "\\end{pmatrix}\n",
    "\\\\\n",
    "X_{1,2} = \n",
    "\\begin{pmatrix}\n",
    "6 & 5 & 1 \\\\ 3 & 3 & 5 \\\\ 1 & 8 & 7\n",
    "\\end{pmatrix}\n",
    "X_{2,2} = \n",
    "\\begin{pmatrix}\n",
    "8 & 2 & 3 \\\\ 5 & 3 & 3 \\\\ 2 & 4 & 6\n",
    "\\end{pmatrix}\n",
    "X_{3,2} = \n",
    "\\begin{pmatrix}\n",
    "6 & 6 & 8 \\\\ 5 & 9 & 8 \\\\ 3 & 9 & 5\n",
    "\\end{pmatrix}\n",
    "\\end{equation}\n",
    "\n",
    "Calculate the MSE for both the CP and Tucker decompositions. Briefly discuss (2-3 sentences should be sufficient) the difference, especially regarding the relative reduction of features for each method."
   ]
  },
  {
   "cell_type": "code",
   "execution_count": 15,
   "metadata": {},
   "outputs": [],
   "source": [
    "x11 = np.array([[4,0,9],\n",
    "       [7,9,9],\n",
    "       [4,8,5]])\n",
    "\n",
    "x21 = np.array([[7,8,2],\n",
    "       [1,5,8],\n",
    "       [7,9,2]])\n",
    "\n",
    "x31 = np.array([[7,9,4],\n",
    "       [10,1,2],\n",
    "       [1,5,8]])\n",
    "\n",
    "x12 = np.array([[6,5,1],\n",
    "       [3,3,5],\n",
    "       [1,8,7]])\n",
    "\n",
    "x22 = np.array([[8,2,3],\n",
    "       [4,3,3],\n",
    "       [2,4,6]])\n",
    "\n",
    "x32 = np.array([[6,6,8],\n",
    "       [5,9,8],\n",
    "       [3,9,5]])\n",
    "\n",
    "x = np.zeros((3,3,3,2))\n",
    "\n",
    "\n",
    "x[:,:,0,0] = x11\n",
    "x[:,:,1,0] = x21\n",
    "x[:,:,2,0] = x31\n",
    "x[:,:,0,1] = x12\n",
    "x[:,:,1,1] = x22\n",
    "x[:,:,2,1] = x32"
   ]
  },
  {
   "cell_type": "markdown",
   "metadata": {},
   "source": [
    "### **CP MSE**"
   ]
  },
  {
   "cell_type": "code",
   "execution_count": 16,
   "metadata": {},
   "outputs": [
    {
     "data": {
      "text/plain": [
       "5.033737515123824"
      ]
     },
     "execution_count": 16,
     "metadata": {},
     "output_type": "execute_result"
    }
   ],
   "source": [
    "((x - X_tl)**2).mean()"
   ]
  },
  {
   "cell_type": "markdown",
   "metadata": {},
   "source": [
    "## **Tucker MSE**"
   ]
  },
  {
   "cell_type": "code",
   "execution_count": 17,
   "metadata": {},
   "outputs": [
    {
     "data": {
      "text/plain": [
       "4.927798012475143"
      ]
     },
     "execution_count": 17,
     "metadata": {},
     "output_type": "execute_result"
    }
   ],
   "source": [
    "((x - result_tl)**2).mean()"
   ]
  },
  {
   "cell_type": "markdown",
   "metadata": {},
   "source": [
    "# Result\n",
    "\n",
    "The original Tensor had 54 parameters. After CP Decomposition, the tensor was reduced to 26 parameters from the orignal 54. From these parameters, we achieved a reconstruction MSE of ~5. Conversely after Tucker decomposition, we were left with 38 parameters, a reduction of 16 parameters. The reconstruction MSE was ~4.9. With ~0.1 differene in MSE, CP would be a better choice due to the fewer amount of parameters"
   ]
  },
  {
   "cell_type": "code",
   "execution_count": null,
   "metadata": {},
   "outputs": [],
   "source": []
  }
 ],
 "metadata": {
  "kernelspec": {
   "display_name": "Python 3",
   "language": "python",
   "name": "python3"
  },
  "language_info": {
   "codemirror_mode": {
    "name": "ipython",
    "version": 3
   },
   "file_extension": ".py",
   "mimetype": "text/x-python",
   "name": "python",
   "nbconvert_exporter": "python",
   "pygments_lexer": "ipython3",
   "version": "3.7.7"
  }
 },
 "nbformat": 4,
 "nbformat_minor": 4
}

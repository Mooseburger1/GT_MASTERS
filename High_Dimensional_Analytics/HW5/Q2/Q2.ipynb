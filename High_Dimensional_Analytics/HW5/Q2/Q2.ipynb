{
 "cells": [
  {
   "cell_type": "code",
   "execution_count": 15,
   "metadata": {},
   "outputs": [
    {
     "data": {
      "text/html": [
       "<style>.container { width:100% !important; }</style>"
      ],
      "text/plain": [
       "<IPython.core.display.HTML object>"
      ]
     },
     "metadata": {},
     "output_type": "display_data"
    }
   ],
   "source": [
    "from scipy.io import loadmat\n",
    "import matplotlib.pyplot as plt\n",
    "import numpy as np\n",
    "import cvxpy as cp\n",
    "import pandas as pd\n",
    "import time\n",
    "from collections import defaultdict\n",
    "from IPython.core.display import display, HTML\n",
    "display(HTML(\"<style>.container { width:100% !important; }</style>\"))"
   ]
  },
  {
   "cell_type": "code",
   "execution_count": 2,
   "metadata": {},
   "outputs": [],
   "source": [
    "ratings = loadmat('ratings.mat')['M0']\n",
    "ratings_missing = loadmat('ratings_missing.mat')['M1']"
   ]
  },
  {
   "cell_type": "code",
   "execution_count": 3,
   "metadata": {},
   "outputs": [
    {
     "name": "stdout",
     "output_type": "stream",
     "text": [
      "(200, 100)\n"
     ]
    },
    {
     "data": {
      "text/plain": [
       "array([[5, 5, 5, ..., 5, 5, 5],\n",
       "       [5, 5, 5, ..., 5, 5, 5],\n",
       "       [5, 5, 5, ..., 5, 5, 5],\n",
       "       ...,\n",
       "       [3, 4, 6, ..., 5, 5, 4],\n",
       "       [7, 6, 4, ..., 6, 5, 6],\n",
       "       [4, 4, 7, ..., 5, 6, 5]], dtype=uint8)"
      ]
     },
     "execution_count": 3,
     "metadata": {},
     "output_type": "execute_result"
    }
   ],
   "source": [
    "print(ratings.shape)\n",
    "ratings"
   ]
  },
  {
   "cell_type": "code",
   "execution_count": 4,
   "metadata": {},
   "outputs": [
    {
     "name": "stdout",
     "output_type": "stream",
     "text": [
      "(200, 100)\n"
     ]
    },
    {
     "data": {
      "text/plain": [
       "array([[0, 5, 5, ..., 5, 5, 0],\n",
       "       [5, 0, 0, ..., 5, 0, 5],\n",
       "       [5, 5, 5, ..., 5, 0, 0],\n",
       "       ...,\n",
       "       [0, 4, 6, ..., 5, 5, 0],\n",
       "       [7, 6, 4, ..., 0, 0, 6],\n",
       "       [4, 4, 7, ..., 0, 6, 0]], dtype=uint8)"
      ]
     },
     "execution_count": 4,
     "metadata": {},
     "output_type": "execute_result"
    }
   ],
   "source": [
    "print(ratings_missing.shape)\n",
    "ratings_missing"
   ]
  },
  {
   "cell_type": "markdown",
   "metadata": {},
   "source": [
    "## Method 1\n",
    "\n",
    "Solve the following optimization problem:\n",
    "\n",
    "\\begin{equation}\n",
    "min_m||M||_*\n",
    "\\end{equation}\n",
    "\n",
    "subject to\n",
    "\n",
    "\\begin{equation}\n",
    "M(i,j) = M_1(i,j)\\ \\ \\ \\  \\forall(i,j)\\ \\in\\ \\text{{observed set}}\n",
    "\\end{equation}"
   ]
  },
  {
   "cell_type": "code",
   "execution_count": 5,
   "metadata": {},
   "outputs": [],
   "source": [
    "def optimize(X):\n",
    "    m,n = X.shape\n",
    "    \n",
    "    known_value_indices = tuple(zip(*np.argwhere(X).tolist()))\n",
    "    known_values = ratings_missing[X!=0].tolist()\n",
    "    \n",
    "    M = cp.Variable((m,n))\n",
    "    \n",
    "    objective_fn = cp.normNuc(M)\n",
    "    \n",
    "    constraints = [\n",
    "    M[known_value_indices] == known_values\n",
    "    ]\n",
    "    \n",
    "    problem = cp.Problem(cp.Minimize(objective_fn), constraints)\n",
    "    \n",
    "    problem.solve()\n",
    "    \n",
    "    return M, problem.value"
   ]
  },
  {
   "cell_type": "code",
   "execution_count": 6,
   "metadata": {},
   "outputs": [],
   "source": [
    "def reconstruction_error(M, M0):\n",
    "    return np.linalg.norm(M-M0, 'fro') / np.linalg.norm(M0, 'fro')"
   ]
  },
  {
   "cell_type": "code",
   "execution_count": 7,
   "metadata": {},
   "outputs": [
    {
     "name": "stdout",
     "output_type": "stream",
     "text": [
      "6.85 s ± 22 ms per loop (mean ± std. dev. of 7 runs, 1 loop each)\n"
     ]
    }
   ],
   "source": [
    "%%timeit\n",
    "optimize(ratings_missing)"
   ]
  },
  {
   "cell_type": "code",
   "execution_count": 8,
   "metadata": {},
   "outputs": [
    {
     "name": "stdout",
     "output_type": "stream",
     "text": [
      "Reconstruction Error: 0.03408590631339972\n"
     ]
    }
   ],
   "source": [
    "M, v = optimize(ratings_missing)\n",
    "print('Reconstruction Error: {}'.format(reconstruction_error(M.value, ratings)))"
   ]
  },
  {
   "cell_type": "code",
   "execution_count": 9,
   "metadata": {},
   "outputs": [
    {
     "name": "stdout",
     "output_type": "stream",
     "text": [
      "Optimal Value: 965.47\n"
     ]
    }
   ],
   "source": [
    "print('Optimal Value: {}'.format(round(v,2)))"
   ]
  },
  {
   "cell_type": "markdown",
   "metadata": {},
   "source": [
    "#### Method 1 Results\n",
    "Pure optimization took about 6.84s to reach an optimal value of ~965.47 and a reconstruction error of approximately 3.41%"
   ]
  },
  {
   "cell_type": "markdown",
   "metadata": {},
   "source": [
    "## Method 2"
   ]
  },
  {
   "cell_type": "code",
   "execution_count": 10,
   "metadata": {},
   "outputs": [],
   "source": [
    "def svt(X, delta, tau, iters):\n",
    "    Y = np.zeros_like(X)\n",
    "    X0 = np.copy(X)\n",
    "\n",
    "    err = np.zeros((iters,1))\n",
    "    \n",
    "    mask = X == 0\n",
    "    \n",
    "    for i in range(iters):\n",
    "        U, S, V = np.linalg.svd(Y, full_matrices=False)\n",
    "        S_t = np.diag((S-tau))\n",
    "        S_t[S_t < 0] = 0\n",
    "        Z = U @ S_t @ V\n",
    "        P = X-Z\n",
    "        P[mask] = 0\n",
    "        Y0 = Y.copy()\n",
    "        Y = Y0 + delta * P\n",
    "        \n",
    "    return Z"
   ]
  },
  {
   "cell_type": "code",
   "execution_count": 11,
   "metadata": {},
   "outputs": [],
   "source": [
    "iterations = (1_000, 2_000)\n",
    "delta_taus = ((0.1, 50), (2, 50), (0.1, 500), (2,500))"
   ]
  },
  {
   "cell_type": "code",
   "execution_count": 12,
   "metadata": {},
   "outputs": [],
   "source": [
    "results = []\n",
    "for i in iterations:\n",
    "    for params in delta_taus:\n",
    "        tick = time.time()\n",
    "        z = svt(ratings_missing, *params, i)\n",
    "        tock = time.time()\n",
    "        \n",
    "        runtime = tock-tick\n",
    "        \n",
    "        error = reconstruction_error(z, ratings)\n",
    "        \n",
    "        results.append((i, *params, error, runtime))"
   ]
  },
  {
   "cell_type": "code",
   "execution_count": 13,
   "metadata": {},
   "outputs": [],
   "source": [
    "results_dict=defaultdict(list)\n",
    "for tup in results:\n",
    "    results_dict['iterations'].append(tup[0])\n",
    "    results_dict['delta'].append(tup[1])\n",
    "    results_dict['tau'].append(tup[2])\n",
    "    results_dict['error'].append(round(tup[3],3))\n",
    "    results_dict['runtime'].append(tup[4])"
   ]
  },
  {
   "cell_type": "code",
   "execution_count": 14,
   "metadata": {},
   "outputs": [
    {
     "data": {
      "text/html": [
       "<div>\n",
       "<style scoped>\n",
       "    .dataframe tbody tr th:only-of-type {\n",
       "        vertical-align: middle;\n",
       "    }\n",
       "\n",
       "    .dataframe tbody tr th {\n",
       "        vertical-align: top;\n",
       "    }\n",
       "\n",
       "    .dataframe thead th {\n",
       "        text-align: right;\n",
       "    }\n",
       "</style>\n",
       "<table border=\"1\" class=\"dataframe\">\n",
       "  <thead>\n",
       "    <tr style=\"text-align: right;\">\n",
       "      <th></th>\n",
       "      <th>iterations</th>\n",
       "      <th>delta</th>\n",
       "      <th>tau</th>\n",
       "      <th>error</th>\n",
       "      <th>runtime</th>\n",
       "    </tr>\n",
       "  </thead>\n",
       "  <tbody>\n",
       "    <tr>\n",
       "      <td>0</td>\n",
       "      <td>1000</td>\n",
       "      <td>2.0</td>\n",
       "      <td>500</td>\n",
       "      <td>0.037</td>\n",
       "      <td>6.534128</td>\n",
       "    </tr>\n",
       "    <tr>\n",
       "      <td>1</td>\n",
       "      <td>2000</td>\n",
       "      <td>2.0</td>\n",
       "      <td>500</td>\n",
       "      <td>0.037</td>\n",
       "      <td>15.875451</td>\n",
       "    </tr>\n",
       "    <tr>\n",
       "      <td>2</td>\n",
       "      <td>2000</td>\n",
       "      <td>0.1</td>\n",
       "      <td>500</td>\n",
       "      <td>0.039</td>\n",
       "      <td>14.890137</td>\n",
       "    </tr>\n",
       "    <tr>\n",
       "      <td>3</td>\n",
       "      <td>1000</td>\n",
       "      <td>0.1</td>\n",
       "      <td>500</td>\n",
       "      <td>0.046</td>\n",
       "      <td>6.574397</td>\n",
       "    </tr>\n",
       "    <tr>\n",
       "      <td>4</td>\n",
       "      <td>1000</td>\n",
       "      <td>2.0</td>\n",
       "      <td>50</td>\n",
       "      <td>0.339</td>\n",
       "      <td>6.729908</td>\n",
       "    </tr>\n",
       "    <tr>\n",
       "      <td>5</td>\n",
       "      <td>1000</td>\n",
       "      <td>0.1</td>\n",
       "      <td>50</td>\n",
       "      <td>0.339</td>\n",
       "      <td>6.751017</td>\n",
       "    </tr>\n",
       "    <tr>\n",
       "      <td>6</td>\n",
       "      <td>2000</td>\n",
       "      <td>0.1</td>\n",
       "      <td>50</td>\n",
       "      <td>0.339</td>\n",
       "      <td>13.479637</td>\n",
       "    </tr>\n",
       "    <tr>\n",
       "      <td>7</td>\n",
       "      <td>2000</td>\n",
       "      <td>2.0</td>\n",
       "      <td>50</td>\n",
       "      <td>0.339</td>\n",
       "      <td>13.888789</td>\n",
       "    </tr>\n",
       "  </tbody>\n",
       "</table>\n",
       "</div>"
      ],
      "text/plain": [
       "   iterations  delta  tau  error    runtime\n",
       "0        1000    2.0  500  0.037   6.534128\n",
       "1        2000    2.0  500  0.037  15.875451\n",
       "2        2000    0.1  500  0.039  14.890137\n",
       "3        1000    0.1  500  0.046   6.574397\n",
       "4        1000    2.0   50  0.339   6.729908\n",
       "5        1000    0.1   50  0.339   6.751017\n",
       "6        2000    0.1   50  0.339  13.479637\n",
       "7        2000    2.0   50  0.339  13.888789"
      ]
     },
     "execution_count": 14,
     "metadata": {},
     "output_type": "execute_result"
    }
   ],
   "source": [
    "pd.DataFrame(results_dict).sort_values(['error','runtime'], ascending=[True,True]).reset_index().drop('index',axis=1)"
   ]
  },
  {
   "cell_type": "markdown",
   "metadata": {},
   "source": [
    "#### Method 2 Results\n",
    "With a delta of 2.0 and atau of 500, both 1000 and 2000 iterations approximately gave the same reconstruction error of ~3.7%. However at 2000 iterations, run time for the solution was double that of the 1000 iteration for pretty much the same error. Making the best choice for this method being row 0 above\n",
    "\n",
    "* 1000 iters\n",
    "* delta = 2.0\n",
    "* tau = 500"
   ]
  },
  {
   "cell_type": "markdown",
   "metadata": {},
   "source": [
    "## Final Results (c)\n",
    "Overall, pure optimization, method 1, proved to be superior with a smaller reconstruction error at approximately 1/10th of a second slower than the best parameters for method 2. However this is a relatively small matrix at a dimension of only (200,100). It would be interesting to see conergence time on a much larger matrix for both methods"
   ]
  },
  {
   "cell_type": "code",
   "execution_count": null,
   "metadata": {},
   "outputs": [],
   "source": []
  }
 ],
 "metadata": {
  "kernelspec": {
   "display_name": "Python 3",
   "language": "python",
   "name": "python3"
  },
  "language_info": {
   "codemirror_mode": {
    "name": "ipython",
    "version": 3
   },
   "file_extension": ".py",
   "mimetype": "text/x-python",
   "name": "python",
   "nbconvert_exporter": "python",
   "pygments_lexer": "ipython3",
   "version": "3.7.4"
  }
 },
 "nbformat": 4,
 "nbformat_minor": 4
}

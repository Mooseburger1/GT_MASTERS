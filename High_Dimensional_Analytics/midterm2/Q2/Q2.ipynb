{
 "cells": [
  {
   "cell_type": "code",
   "execution_count": 16,
   "metadata": {},
   "outputs": [
    {
     "data": {
      "text/html": [
       "<style>.container { width:100% !important; }</style>"
      ],
      "text/plain": [
       "<IPython.core.display.HTML object>"
      ]
     },
     "metadata": {},
     "output_type": "display_data"
    }
   ],
   "source": [
    "import numpy as np\n",
    "import matplotlib.pyplot as plt\n",
    "import matplotlib.patheffects as pe\n",
    "import pandas as pd\n",
    "import seaborn as sns\n",
    "from sklearn.metrics import mean_squared_error\n",
    "\n",
    "from IPython.core.display import display, HTML\n",
    "display(HTML(\"<style>.container { width:100% !important; }</style>\"))"
   ]
  },
  {
   "cell_type": "markdown",
   "metadata": {},
   "source": [
    "# Question 2. Matrix Factorization with Regularization (33 points)\n",
    "\n",
    "There is a user-item matrix, M available where nonzero elements of the matrix are ratings that a user has\n",
    "for an item. The objective of matrix factorization is to learn a low-rank factorization of M. It decomposes\n",
    "a large matrix into products of matrices, namely, M = U × V\n",
    "\n",
    "\n",
    "## 1.)\n",
    "In order to learn matrix U and V, we will minimize following loss function L. In order to overcome\n",
    "the problem of overfitting, we are going to use matrix factorization with regularization for this\n",
    "problem. We define the loss function L as follows:\n",
    "\n",
    "\\begin{equation}\n",
    "L = \\sum_{i,j} (M_{i,j} - U_iV_j^T)^2 + \\lambda (\\sum_i ||U_i||^2 + \\sum_j ||V_j||^2)\\ \\ \\ \\ \\ \\text{(1)}\n",
    "\\end{equation}\n",
    "\n",
    "\n",
    "Use the Alternating Least Squares method to minimize the loss function to learn matrix U and V\n",
    "(Hint: fix U or V one at a time, derive a closed form solution for the other). Write out pseudocode\n",
    "for implementing the algorithm. You should clearly show the closed form solution in the updating\n",
    "step of your pseudocode. \n",
    "\n",
    "#### **<u>ANSWER</u>**\n",
    "Noting from (1) above that $M_{i,j} , U_i, V_j$ are indicative of the $i^{th} and j^{th}$ elements of matrices M,U,V we can rewrite (1) in a vectorized format so as to remove the need for a **for** loop\n",
    "\n",
    "\\begin{equation}\n",
    "L = (M - UV^T)^2 + \\lambda (||U||^2 + ||V||^2)\\ \\ \\ \\ \\ \\text{(2)}\n",
    "\\end{equation}\n",
    "\n",
    "Where $U = ℝ^{rank\\ x\\ i}$ and $V = ℝ^{rank\\ x\\ j}$ and i,j are reflective of $M_{i,j}$ \n",
    "\n",
    "Since L is a function of U and V, this objective is non-convex. Note however, that if we fix the set of Variables V and treat them as constants, then the objective is a convex function of U and vice versa\n",
    "\n",
    "Holding V constant and taking the deriviative of (2) with respect to U yields:\n",
    "\n",
    "\\begin{equation}\n",
    "\\frac{\\partial}{\\partial U} L \\\\ \n",
    "= 2(M - UV^T)V + 2 \\lambda U \\\\\n",
    "= 2VM^T - 2UVV^T + 2 \\lambda U\\ \\ \\ \\ \\ \\text{(3)}\n",
    "\\end{equation}\n",
    "\n",
    "Dividing (3) by 2, setting it equal to 0 and solving for U yields:\n",
    "\n",
    "\\begin{equation}\n",
    "VM^T - UVV^T + \\lambda U = 0\\\\\n",
    "UVV^T + \\lambda U = VM^T \\\\\n",
    "U (VV^T + \\lambda I) = VM^T \\\\ \n",
    "U = (VV^T + \\lambda I)^{-1}VM^T\\ \\ \\ \\ \\text{(4)}\n",
    "\\end{equation}\n",
    "\n",
    "Since the derivation is exactly the same when holding U constant and solving for V, we arrive at \n",
    "\n",
    "\\begin{equation}\n",
    "V = (UU^T + \\lambda I)^{-1}UM\\ \\ \\ \\ \\ \\text{(5)}\n",
    "\\end{equation}\n",
    "\n",
    "Notice (4) ends with $VM^T$ and (5) ends with $UM$. This is because M is an (i x j) matrix, U is a (rank x i) matrix, and V is a (rank x j) matrix. Therefor M must be transposed when dotted with V to line up dimensions.\n",
    "\n",
    "\n",
    "#### <u>Algorithm <u>\n",
    "\n",
    "**inputs**: M, rank, lambda, iterations <br>\n",
    "**outpus**: U, V <br><br>\n",
    "i,j = shape(M) <br>\n",
    "Initialize U $\\in random(ℝ^{rank\\ x\\ i})$<br>\n",
    "for iter = 1, 2, ... iterations: **do**<br>\n",
    "$\\ \\ \\ \\ \\ V := (UU^T + \\lambda I)^{-1}UM$ <br>\n",
    "$\\ \\ \\ \\ \\ U := (VV^T + \\lambda I)^{-1}VM^T$ <br>\n",
    "**end**\n",
    "    \n",
    "return U,V"
   ]
  },
  {
   "cell_type": "code",
   "execution_count": 2,
   "metadata": {},
   "outputs": [],
   "source": [
    "train = pd.read_csv('Q2_train.csv', header=None)\n",
    "test = pd.read_csv('Q2_test.csv', header=None)"
   ]
  },
  {
   "cell_type": "code",
   "execution_count": 3,
   "metadata": {},
   "outputs": [
    {
     "name": "stdout",
     "output_type": "stream",
     "text": [
      "943 users ; 1682 ratings\n"
     ]
    },
    {
     "data": {
      "text/html": [
       "<div>\n",
       "<style scoped>\n",
       "    .dataframe tbody tr th:only-of-type {\n",
       "        vertical-align: middle;\n",
       "    }\n",
       "\n",
       "    .dataframe tbody tr th {\n",
       "        vertical-align: top;\n",
       "    }\n",
       "\n",
       "    .dataframe thead th {\n",
       "        text-align: right;\n",
       "    }\n",
       "</style>\n",
       "<table border=\"1\" class=\"dataframe\">\n",
       "  <thead>\n",
       "    <tr style=\"text-align: right;\">\n",
       "      <th></th>\n",
       "      <th>0</th>\n",
       "      <th>1</th>\n",
       "      <th>2</th>\n",
       "      <th>3</th>\n",
       "      <th>4</th>\n",
       "      <th>5</th>\n",
       "      <th>6</th>\n",
       "      <th>7</th>\n",
       "      <th>8</th>\n",
       "      <th>9</th>\n",
       "      <th>...</th>\n",
       "      <th>1672</th>\n",
       "      <th>1673</th>\n",
       "      <th>1674</th>\n",
       "      <th>1675</th>\n",
       "      <th>1676</th>\n",
       "      <th>1677</th>\n",
       "      <th>1678</th>\n",
       "      <th>1679</th>\n",
       "      <th>1680</th>\n",
       "      <th>1681</th>\n",
       "    </tr>\n",
       "  </thead>\n",
       "  <tbody>\n",
       "    <tr>\n",
       "      <td>0</td>\n",
       "      <td>5.0</td>\n",
       "      <td>3.0</td>\n",
       "      <td>4.0</td>\n",
       "      <td>3.0</td>\n",
       "      <td>3.0</td>\n",
       "      <td>5.0</td>\n",
       "      <td>0.0</td>\n",
       "      <td>1.0</td>\n",
       "      <td>5.0</td>\n",
       "      <td>3.0</td>\n",
       "      <td>...</td>\n",
       "      <td>0.0</td>\n",
       "      <td>0.0</td>\n",
       "      <td>0.0</td>\n",
       "      <td>0.0</td>\n",
       "      <td>0.0</td>\n",
       "      <td>0.0</td>\n",
       "      <td>0.0</td>\n",
       "      <td>0.0</td>\n",
       "      <td>0.0</td>\n",
       "      <td>0.0</td>\n",
       "    </tr>\n",
       "    <tr>\n",
       "      <td>1</td>\n",
       "      <td>4.0</td>\n",
       "      <td>0.0</td>\n",
       "      <td>0.0</td>\n",
       "      <td>0.0</td>\n",
       "      <td>0.0</td>\n",
       "      <td>0.0</td>\n",
       "      <td>0.0</td>\n",
       "      <td>0.0</td>\n",
       "      <td>0.0</td>\n",
       "      <td>2.0</td>\n",
       "      <td>...</td>\n",
       "      <td>0.0</td>\n",
       "      <td>0.0</td>\n",
       "      <td>0.0</td>\n",
       "      <td>0.0</td>\n",
       "      <td>0.0</td>\n",
       "      <td>0.0</td>\n",
       "      <td>0.0</td>\n",
       "      <td>0.0</td>\n",
       "      <td>0.0</td>\n",
       "      <td>0.0</td>\n",
       "    </tr>\n",
       "    <tr>\n",
       "      <td>2</td>\n",
       "      <td>0.0</td>\n",
       "      <td>0.0</td>\n",
       "      <td>0.0</td>\n",
       "      <td>0.0</td>\n",
       "      <td>0.0</td>\n",
       "      <td>0.0</td>\n",
       "      <td>0.0</td>\n",
       "      <td>0.0</td>\n",
       "      <td>0.0</td>\n",
       "      <td>0.0</td>\n",
       "      <td>...</td>\n",
       "      <td>0.0</td>\n",
       "      <td>0.0</td>\n",
       "      <td>0.0</td>\n",
       "      <td>0.0</td>\n",
       "      <td>0.0</td>\n",
       "      <td>0.0</td>\n",
       "      <td>0.0</td>\n",
       "      <td>0.0</td>\n",
       "      <td>0.0</td>\n",
       "      <td>0.0</td>\n",
       "    </tr>\n",
       "    <tr>\n",
       "      <td>3</td>\n",
       "      <td>0.0</td>\n",
       "      <td>0.0</td>\n",
       "      <td>0.0</td>\n",
       "      <td>0.0</td>\n",
       "      <td>0.0</td>\n",
       "      <td>0.0</td>\n",
       "      <td>0.0</td>\n",
       "      <td>0.0</td>\n",
       "      <td>0.0</td>\n",
       "      <td>0.0</td>\n",
       "      <td>...</td>\n",
       "      <td>0.0</td>\n",
       "      <td>0.0</td>\n",
       "      <td>0.0</td>\n",
       "      <td>0.0</td>\n",
       "      <td>0.0</td>\n",
       "      <td>0.0</td>\n",
       "      <td>0.0</td>\n",
       "      <td>0.0</td>\n",
       "      <td>0.0</td>\n",
       "      <td>0.0</td>\n",
       "    </tr>\n",
       "    <tr>\n",
       "      <td>4</td>\n",
       "      <td>4.0</td>\n",
       "      <td>0.0</td>\n",
       "      <td>0.0</td>\n",
       "      <td>0.0</td>\n",
       "      <td>0.0</td>\n",
       "      <td>0.0</td>\n",
       "      <td>0.0</td>\n",
       "      <td>0.0</td>\n",
       "      <td>0.0</td>\n",
       "      <td>0.0</td>\n",
       "      <td>...</td>\n",
       "      <td>0.0</td>\n",
       "      <td>0.0</td>\n",
       "      <td>0.0</td>\n",
       "      <td>0.0</td>\n",
       "      <td>0.0</td>\n",
       "      <td>0.0</td>\n",
       "      <td>0.0</td>\n",
       "      <td>0.0</td>\n",
       "      <td>0.0</td>\n",
       "      <td>0.0</td>\n",
       "    </tr>\n",
       "  </tbody>\n",
       "</table>\n",
       "<p>5 rows × 1682 columns</p>\n",
       "</div>"
      ],
      "text/plain": [
       "   0     1     2     3     4     5     6     7     8     9     ...  1672  \\\n",
       "0   5.0   3.0   4.0   3.0   3.0   5.0   0.0   1.0   5.0   3.0  ...   0.0   \n",
       "1   4.0   0.0   0.0   0.0   0.0   0.0   0.0   0.0   0.0   2.0  ...   0.0   \n",
       "2   0.0   0.0   0.0   0.0   0.0   0.0   0.0   0.0   0.0   0.0  ...   0.0   \n",
       "3   0.0   0.0   0.0   0.0   0.0   0.0   0.0   0.0   0.0   0.0  ...   0.0   \n",
       "4   4.0   0.0   0.0   0.0   0.0   0.0   0.0   0.0   0.0   0.0  ...   0.0   \n",
       "\n",
       "   1673  1674  1675  1676  1677  1678  1679  1680  1681  \n",
       "0   0.0   0.0   0.0   0.0   0.0   0.0   0.0   0.0   0.0  \n",
       "1   0.0   0.0   0.0   0.0   0.0   0.0   0.0   0.0   0.0  \n",
       "2   0.0   0.0   0.0   0.0   0.0   0.0   0.0   0.0   0.0  \n",
       "3   0.0   0.0   0.0   0.0   0.0   0.0   0.0   0.0   0.0  \n",
       "4   0.0   0.0   0.0   0.0   0.0   0.0   0.0   0.0   0.0  \n",
       "\n",
       "[5 rows x 1682 columns]"
      ]
     },
     "execution_count": 3,
     "metadata": {},
     "output_type": "execute_result"
    }
   ],
   "source": [
    "#dimensions = users x ratings\n",
    "print('{} users ; {} ratings'.format(*train.shape))\n",
    "train.head()\n"
   ]
  },
  {
   "cell_type": "code",
   "execution_count": 4,
   "metadata": {},
   "outputs": [],
   "source": [
    "def als(M, d, lam, iters):\n",
    "    #intialize U\n",
    "    #shape should be rank x M[rows]\n",
    "    U = np.random.rand(d, M.shape[0])\n",
    "    \n",
    "    errors = []\n",
    "    \n",
    "    mask = ~(M == 0)\n",
    "    \n",
    "    #first iteration will initialize V\n",
    "    for _ in range(iters):\n",
    "        \n",
    "        V = np.linalg.pinv(U.dot(U.T) + lam * np.eye(d)).dot(U.dot(M))\n",
    " \n",
    "        \n",
    "        U = np.linalg.pinv(V.dot(V.T) + lam * np.eye(d)).dot(V.dot(M.T))\n",
    "    \n",
    "        \n",
    "        reconstructed = U.T.dot(V)\n",
    "        \n",
    "        error = mean_squared_error(M[mask], reconstructed[mask])\n",
    "        \n",
    "        errors.append(error)\n",
    "    return errors"
   ]
  },
  {
   "cell_type": "code",
   "execution_count": 38,
   "metadata": {},
   "outputs": [],
   "source": [
    "def plotit(train, test):\n",
    "    plt.figure(figsize=(20,8))\n",
    "    plt.plot(range(len(train)), train, color='yellow', lw=3,label='Train MSE', path_effects=[pe.Stroke(linewidth=5, foreground='k'), pe.Normal()])\n",
    "    plt.plot(range(len(test)), test, color='green', lw=3, label='Test MSE', path_effects=[pe.Stroke(linewidth=5, foreground='black'), pe.Normal()])\n",
    "    plt.xlabel('iterations')\n",
    "    plt.ylabel('MSE')\n",
    "    plt.title('ALS Error per Iterations')\n",
    "    plt.legend()\n",
    "    plt.show()"
   ]
  },
  {
   "cell_type": "code",
   "execution_count": 43,
   "metadata": {},
   "outputs": [],
   "source": [
    "train_errors = als(M=train.values, d=20, lam=0.01, iters=100)"
   ]
  },
  {
   "cell_type": "code",
   "execution_count": 44,
   "metadata": {},
   "outputs": [],
   "source": [
    "test_errors = als(M=test.values, d=20, lam=0.01, iters=100)"
   ]
  },
  {
   "cell_type": "code",
   "execution_count": 45,
   "metadata": {},
   "outputs": [
    {
     "data": {
      "image/png": "[encoded data removed]",
      "text/plain": [
       "<Figure size 1440x576 with 1 Axes>"
      ]
     },
     "metadata": {
      "needs_background": "light"
     },
     "output_type": "display_data"
    }
   ],
   "source": [
    "plotit(train_errors, test_errors)"
   ]
  },
  {
   "cell_type": "code",
   "execution_count": null,
   "metadata": {},
   "outputs": [],
   "source": []
  },
  {
   "cell_type": "code",
   "execution_count": null,
   "metadata": {},
   "outputs": [],
   "source": []
  },
  {
   "cell_type": "code",
   "execution_count": 159,
   "metadata": {},
   "outputs": [],
   "source": [
    "def als2(M, d, lam, iters):\n",
    "    #intialize U\n",
    "    #shape should be rank x M[rows]\n",
    "    U = np.random.rand(d, M.shape[0])\n",
    "    V = np.random.rand(d, M.shape[1])\n",
    "    \n",
    "    u_start = U[:,3].copy()\n",
    "    errors = []\n",
    "    \n",
    "    mask = ~(M == 0)\n",
    "    rows, cols = np.where(~(M == 0))\n",
    "    nonzeros = list(zip(rows,cols))\n",
    "    \n",
    "    #first iteration will initialize V\n",
    "    for i in range(iters):\n",
    "    \n",
    "        for row, col in nonzeros:\n",
    "            \n",
    "            u = U[:,row].reshape(-1,1)\n",
    "            I = lam * np.eye(d)\n",
    "            m = M[row,col].reshape(-1,1)\n",
    "\n",
    "            V[:, col] = np.squeeze(np.linalg.pinv(u.dot(u.T) + I).dot(u.dot(m)))\n",
    "       \n",
    "        \n",
    "        for row, col in nonzeros:\n",
    "            \n",
    "            v = V[:,col].reshape(-1,1)\n",
    "            I = lam * np.eye(d)\n",
    "            m = M[row,col].reshape(-1,1)\n",
    "            \n",
    "            U[:, row] = np.squeeze(np.linalg.pinv(v.dot(v.T) + I).dot(v.dot(m)))\n",
    "            \n",
    "    \n",
    "        if i % 10 == 0: print(i)\n",
    "        reconstructed = U.T.dot(V)\n",
    "        \n",
    "        error = mean_squared_error(M[mask], reconstructed[mask])\n",
    "\n",
    "        errors.append(error)\n",
    "    return errors"
   ]
  },
  {
   "cell_type": "code",
   "execution_count": 162,
   "metadata": {},
   "outputs": [
    {
     "ename": "KeyboardInterrupt",
     "evalue": "",
     "output_type": "error",
     "traceback": [
      "\u001b[0;31m---------------------------------------------------------------------------\u001b[0m",
      "\u001b[0;31mKeyboardInterrupt\u001b[0m                         Traceback (most recent call last)",
      "\u001b[0;32m<ipython-input-162-20b8795471ca>\u001b[0m in \u001b[0;36m<module>\u001b[0;34m\u001b[0m\n\u001b[0;32m----> 1\u001b[0;31m \u001b[0merrs\u001b[0m \u001b[0;34m=\u001b[0m \u001b[0mals2\u001b[0m\u001b[0;34m(\u001b[0m\u001b[0mtrain\u001b[0m\u001b[0;34m.\u001b[0m\u001b[0mvalues\u001b[0m\u001b[0;34m,\u001b[0m \u001b[0;36m20\u001b[0m\u001b[0;34m,\u001b[0m \u001b[0;36m0.01\u001b[0m\u001b[0;34m,\u001b[0m \u001b[0;36m100\u001b[0m\u001b[0;34m)\u001b[0m\u001b[0;34m\u001b[0m\u001b[0;34m\u001b[0m\u001b[0m\n\u001b[0m",
      "\u001b[0;32m<ipython-input-159-3880279c5e72>\u001b[0m in \u001b[0;36mals2\u001b[0;34m(M, d, lam, iters)\u001b[0m\n\u001b[1;32m     21\u001b[0m             \u001b[0mm\u001b[0m \u001b[0;34m=\u001b[0m \u001b[0mM\u001b[0m\u001b[0;34m[\u001b[0m\u001b[0mrow\u001b[0m\u001b[0;34m,\u001b[0m\u001b[0mcol\u001b[0m\u001b[0;34m]\u001b[0m\u001b[0;34m.\u001b[0m\u001b[0mreshape\u001b[0m\u001b[0;34m(\u001b[0m\u001b[0;34m-\u001b[0m\u001b[0;36m1\u001b[0m\u001b[0;34m,\u001b[0m\u001b[0;36m1\u001b[0m\u001b[0;34m)\u001b[0m\u001b[0;34m\u001b[0m\u001b[0;34m\u001b[0m\u001b[0m\n\u001b[1;32m     22\u001b[0m \u001b[0;34m\u001b[0m\u001b[0m\n\u001b[0;32m---> 23\u001b[0;31m             \u001b[0mV\u001b[0m\u001b[0;34m[\u001b[0m\u001b[0;34m:\u001b[0m\u001b[0;34m,\u001b[0m \u001b[0mcol\u001b[0m\u001b[0;34m]\u001b[0m \u001b[0;34m=\u001b[0m \u001b[0mnp\u001b[0m\u001b[0;34m.\u001b[0m\u001b[0msqueeze\u001b[0m\u001b[0;34m(\u001b[0m\u001b[0mnp\u001b[0m\u001b[0;34m.\u001b[0m\u001b[0mlinalg\u001b[0m\u001b[0;34m.\u001b[0m\u001b[0mpinv\u001b[0m\u001b[0;34m(\u001b[0m\u001b[0mu\u001b[0m\u001b[0;34m.\u001b[0m\u001b[0mdot\u001b[0m\u001b[0;34m(\u001b[0m\u001b[0mu\u001b[0m\u001b[0;34m.\u001b[0m\u001b[0mT\u001b[0m\u001b[0;34m)\u001b[0m \u001b[0;34m+\u001b[0m \u001b[0mI\u001b[0m\u001b[0;34m)\u001b[0m\u001b[0;34m.\u001b[0m\u001b[0mdot\u001b[0m\u001b[0;34m(\u001b[0m\u001b[0mu\u001b[0m\u001b[0;34m.\u001b[0m\u001b[0mdot\u001b[0m\u001b[0;34m(\u001b[0m\u001b[0mm\u001b[0m\u001b[0;34m)\u001b[0m\u001b[0;34m)\u001b[0m\u001b[0;34m)\u001b[0m\u001b[0;34m\u001b[0m\u001b[0;34m\u001b[0m\u001b[0m\n\u001b[0m\u001b[1;32m     24\u001b[0m \u001b[0;34m\u001b[0m\u001b[0m\n\u001b[1;32m     25\u001b[0m \u001b[0;34m\u001b[0m\u001b[0m\n",
      "\u001b[0;31mKeyboardInterrupt\u001b[0m: "
     ]
    }
   ],
   "source": [
    "errs = als2(train.values, 20, 0.01, 100)"
   ]
  },
  {
   "cell_type": "code",
   "execution_count": null,
   "metadata": {},
   "outputs": [],
   "source": [
    "terrs = als2(test.values, 20, 0.01, 100)"
   ]
  },
  {
   "cell_type": "code",
   "execution_count": null,
   "metadata": {},
   "outputs": [],
   "source": [
    "plotit(errs, terrs)"
   ]
  },
  {
   "cell_type": "code",
   "execution_count": 85,
   "metadata": {},
   "outputs": [],
   "source": [
    "M = train.values.copy()\n",
    "U = np.random.rand(20, M.shape[0])\n",
    "V = np.random.rand(20, M.shape[1])"
   ]
  },
  {
   "cell_type": "code",
   "execution_count": 94,
   "metadata": {},
   "outputs": [],
   "source": [
    "v[:, 1] = np.ones(20)"
   ]
  },
  {
   "cell_type": "code",
   "execution_count": 98,
   "metadata": {},
   "outputs": [
    {
     "data": {
      "text/plain": [
       "5.902406770039417"
      ]
     },
     "execution_count": 98,
     "metadata": {},
     "output_type": "execute_result"
    }
   ],
   "source": [
    "v[:, 2].dot(v[:,2].T)"
   ]
  },
  {
   "cell_type": "code",
   "execution_count": 100,
   "metadata": {},
   "outputs": [
    {
     "data": {
      "text/plain": [
       "5.902406770039417"
      ]
     },
     "execution_count": 100,
     "metadata": {},
     "output_type": "execute_result"
    }
   ],
   "source": [
    "v[:,2].dot(v[:,2].T)"
   ]
  },
  {
   "cell_type": "code",
   "execution_count": 102,
   "metadata": {},
   "outputs": [
    {
     "data": {
      "text/plain": [
       "(20,)"
      ]
     },
     "execution_count": 102,
     "metadata": {},
     "output_type": "execute_result"
    }
   ],
   "source": [
    "v[:,2].T.shape"
   ]
  },
  {
   "cell_type": "code",
   "execution_count": 103,
   "metadata": {},
   "outputs": [
    {
     "data": {
      "text/plain": [
       "(20,)"
      ]
     },
     "execution_count": 103,
     "metadata": {},
     "output_type": "execute_result"
    }
   ],
   "source": [
    "v[:,2].shape"
   ]
  },
  {
   "cell_type": "code",
   "execution_count": 107,
   "metadata": {},
   "outputs": [],
   "source": [
    "u = v[:,2].reshape(-1,1)"
   ]
  },
  {
   "cell_type": "code",
   "execution_count": 112,
   "metadata": {},
   "outputs": [
    {
     "data": {
      "text/plain": [
       "(20, 20)"
      ]
     },
     "execution_count": 112,
     "metadata": {},
     "output_type": "execute_result"
    }
   ],
   "source": [
    "u.dot(u.T).shape"
   ]
  },
  {
   "cell_type": "code",
   "execution_count": null,
   "metadata": {},
   "outputs": [],
   "source": []
  }
 ],
 "metadata": {
  "kernelspec": {
   "display_name": "Python 3",
   "language": "python",
   "name": "python3"
  },
  "language_info": {
   "codemirror_mode": {
    "name": "ipython",
    "version": 3
   },
   "file_extension": ".py",
   "mimetype": "text/x-python",
   "name": "python",
   "nbconvert_exporter": "python",
   "pygments_lexer": "ipython3",
   "version": "3.7.4"
  }
 },
 "nbformat": 4,
 "nbformat_minor": 4
}

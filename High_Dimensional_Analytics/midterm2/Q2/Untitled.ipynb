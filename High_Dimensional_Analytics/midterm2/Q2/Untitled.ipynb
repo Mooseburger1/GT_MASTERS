{
 "cells": [
  {
   "cell_type": "markdown",
   "metadata": {},
   "source": [
    "\\begin{equation}\n",
    "u \\circ v = u\\ v^T = \n",
    "\\begin{pmatrix}\n",
    "1 \\\\ 2 \\\\ 3 \\\\ 4\n",
    "\\end{pmatrix}\n",
    "\\circ\n",
    "\\begin{pmatrix}\n",
    "5 & 6 & 7 & 8\n",
    "\\end{pmatrix}\n",
    " = \n",
    "\\begin{pmatrix}\n",
    "1*5 & 1*6 & 1*7 & 1*8 \\\\\n",
    "2*5 & 2*6 & 2*7 & 2*8 \\\\\n",
    "3*5 & 3*6 & 3*7 & 3*8 \\\\\n",
    "4*5 & 4*6 & 4*7 & 4*8 \\\\\n",
    "\\end{pmatrix}\n",
    "=\n",
    "\\begin{pmatrix}\n",
    "5 & 6 & 7 & 8 \\\\\n",
    "10 & 12 & 14 & 16 \\\\\n",
    "15 & 18 & 21 & 24 \\\\\n",
    "20 & 24 & 28 & 32\n",
    "\\end{pmatrix}\n",
    "\\end{equation}\n"
   ]
  },
  {
   "cell_type": "markdown",
   "metadata": {},
   "source": [
    "\\begin{equation}\n",
    "(4 x 1) \\circ (4 x  1) = \\text{wrong} \\\\\n",
    "(4 x 1) \\circ (1 x 4) = (4 x 4)\n",
    "\\end{equation}"
   ]
  },
  {
   "cell_type": "markdown",
   "metadata": {},
   "source": [
    "\\begin{equation}\n",
    "u = \n",
    "\\begin{pmatrix}\n",
    "1 & 2\\\\ 3 & 4\n",
    "\\end{pmatrix}\n",
    "\\ \\ , \\ \\ \n",
    "v = \n",
    "\\begin{pmatrix}\n",
    "5 & 6 \\\\ 7 & 8\n",
    "\\end{pmatrix}\n",
    "\\end{equation}"
   ]
  },
  {
   "cell_type": "code",
   "execution_count": null,
   "metadata": {},
   "outputs": [],
   "source": []
  }
 ],
 "metadata": {
  "kernelspec": {
   "display_name": "Python 3",
   "language": "python",
   "name": "python3"
  },
  "language_info": {
   "codemirror_mode": {
    "name": "ipython",
    "version": 3
   },
   "file_extension": ".py",
   "mimetype": "text/x-python",
   "name": "python",
   "nbconvert_exporter": "python",
   "pygments_lexer": "ipython3",
   "version": "3.7.4"
  }
 },
 "nbformat": 4,
 "nbformat_minor": 4
}

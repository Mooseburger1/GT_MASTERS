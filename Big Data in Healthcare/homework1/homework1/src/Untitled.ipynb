{
 "cells": [
  {
   "cell_type": "code",
   "execution_count": null,
   "metadata": {
    "scrolled": true
   },
   "outputs": [],
   "source": [
    "import models_partc\n",
    "from sklearn.model_selection import KFold, ShuffleSplit\n",
    "from numpy import mean\n",
    "\n",
    "import utils\n",
    "\n",
    "# USE THE GIVEN FUNCTION NAME, DO NOT CHANGE IT\n",
    "\n",
    "# USE THIS RANDOM STATE FOR ALL OF YOUR CROSS VALIDATION TESTS, OR THE TESTS WILL NEVER PASS\n",
    "RANDOM_STATE = 545510477\n",
    "\n",
    "#input: training data and corresponding labels\n",
    "#output: accuracy, auc\n",
    "def get_acc_auc_kfold(X,Y,k=5):\n",
    "    #TODO:First get the train indices and test indices for each iteration\n",
    "    #Then train the classifier accordingly\n",
    "    #Report the mean accuracy and mean auc of all the folds\n",
    "    auc_list = []\n",
    "    acc_list = []\n",
    "    folds = KFold(n_splits=k, random_state = RANDOM_STATE)\n",
    "    for train_index, test_index in folds.split(X):\n",
    "        Y_pred = models_partc.logistic_regression_pred(X[train_index], \n",
    "                                                       Y[train_index], \n",
    "                                                       X[test_index])\n",
    "        auc_list.append(models_partc.roc_auc_score(Y[test_index], Y_pred))\n",
    "        acc_list.append(models_partc.accuracy_score(Y[test_index], Y_pred))\n",
    "    return mean(acc_list),mean(auc_list)\n",
    "\n",
    "\n",
    "#input: training data and corresponding labels\n",
    "#output: accuracy, auc\n",
    "def get_acc_auc_randomisedCV(X,Y,iterNo=5,test_percent=0.2):\n",
    "    #TODO: First get the train indices and test indices for each iteration\n",
    "    #Then train the classifier accordingly\n",
    "    #Report the mean accuracy and mean auc of all the iterations\n",
    "    auc_list = []\n",
    "    acc_list = []\n",
    "    folds = ShuffleSplit(n_splits=5, test_size=test_percent, random_state=RANDOM_STATE)\n",
    "    for train_index, test_index in folds.split(X):\n",
    "        Y_pred = models_partc.logistic_regression_pred(X[train_index], \n",
    "                                                       Y[train_index], \n",
    "                                                       X[test_index])\n",
    "        auc_list.append(models_partc.roc_auc_score(Y[test_index], Y_pred))\n",
    "        acc_list.append(models_partc.accuracy_score(Y[test_index], Y_pred))\n",
    "    return mean(acc_list),mean(auc_list)\n",
    "\n",
    "\n",
    "def main():\n",
    "    X,Y = utils.get_data_from_svmlight(\"../deliverables/features_svmlight.train\")\n",
    "    print(\"Classifier: Logistic Regression__________\")\n",
    "    acc_k,auc_k = get_acc_auc_kfold(X,Y)\n",
    "    print((\"Average Accuracy in KFold CV: \"+str(acc_k)))\n",
    "    print((\"Average AUC in KFold CV: \"+str(auc_k)))\n",
    "    acc_r,auc_r = get_acc_auc_randomisedCV(X,Y)\n",
    "    print((\"Average Accuracy in Randomised CV: \"+str(acc_r)))\n",
    "    print((\"Average AUC in Randomised CV: \"+str(auc_r)))\n",
    "\n",
    "if __name__ == \"__main__\":\n",
    "    main()\n",
    "\n"
   ]
  },
  {
   "cell_type": "code",
   "execution_count": null,
   "metadata": {},
   "outputs": [],
   "source": [
    "X,Y = utils.get_data_from_svmlight(\"../deliverables/features_svmlight.train\")"
   ]
  },
  {
   "cell_type": "code",
   "execution_count": 100,
   "metadata": {},
   "outputs": [
    {
     "name": "stdout",
     "output_type": "stream",
     "text": [
      "Generating best svm estimator via Gridsearch\n",
      "Generating best random forest estimator via Gridsearch\n",
      "Generating best gradient boosted estimator via Gridsearch\n",
      "Generating best Multi-Layered Perceptron estimator via Gridsearch - This might take awhile\n",
      "Generating best Adaboost estimator via Gridsearch\n",
      "Generating best logistic regression estimator via Gridsearch\n",
      "Generating Naive Bayes estimator via Gridsearch\n",
      "Compiling Ensemble Voters\n",
      "Prediction Complete\n"
     ]
    }
   ],
   "source": [
    "import utils\n",
    "from etl import *\n",
    "import pandas as pd\n",
    "from sklearn.datasets import load_svmlight_file\n",
    "from sklearn.model_selection import GridSearchCV\n",
    "from sklearn.pipeline import Pipeline\n",
    "from sklearn.metrics import accuracy_score, classification_report, confusion_matrix, roc_auc_score\n",
    "from sklearn.svm import SVC\n",
    "from sklearn.ensemble import RandomForestClassifier\n",
    "from sklearn.ensemble import GradientBoostingClassifier\n",
    "from sklearn.linear_model import LogisticRegression\n",
    "from sklearn.naive_bayes import GaussianNB\n",
    "from sklearn.ensemble import VotingClassifier\n",
    "from sklearn.neural_network import MLPClassifier\n",
    "from sklearn.ensemble import AdaBoostClassifier\n",
    "from sklearn.decomposition import PCA\n",
    "from sklearn.gaussian_process import GaussianProcessClassifier\n",
    "import warnings\n",
    "\n",
    "warnings.filterwarnings('ignore')\n",
    "\n",
    "random_state = 49\n",
    "#Note: You can reuse code that you wrote in etl.py and models.py and cross.py over here. It might help.\n",
    "# PLEASE USE THE GIVEN FUNCTION NAME, DO NOT CHANGE IT\n",
    "\n",
    "'''\n",
    "You may generate your own features over here.\n",
    "Note that for the test data, all events are already filtered such that they fall in the observation window of their respective patients. Thus, if you were to generate features similar to those you constructed in code/etl.py for the test data, all you have to do is aggregate events for each patient.\n",
    "IMPORTANT: Store your test data features in a file called \"test_features.txt\" where each line has the\n",
    "patient_id followed by a space and the corresponding feature in sparse format.\n",
    "Eg of a line:\n",
    "60 971:1.000000 988:1.000000 1648:1.000000 1717:1.000000 2798:0.364078 3005:0.367953 3049:0.013514\n",
    "Here, 60 is the patient id and 971:1.000000 988:1.000000 1648:1.000000 1717:1.000000 2798:0.364078 3005:0.367953 3049:0.013514 is the feature for the patient with id 60.\n",
    "\n",
    "Save the file as \"test_features.txt\" and save it inside the folder deliverables\n",
    "\n",
    "input:\n",
    "output: X_train,Y_train,X_test\n",
    "'''\n",
    "def my_features():\n",
    "    #TODO: complete this\n",
    "    train_path = '../deliverables/features_svmlight.train'\n",
    "    test_path = '../data/test/'\n",
    "\n",
    "    #load train data\n",
    "    X_train, Y_train = utils.get_data_from_svmlight(train_path)\n",
    "\n",
    "    #load test data\n",
    "    events_test = pd.read_csv(test_path + 'events.csv')\n",
    "    efm_test = pd.read_csv(test_path + 'event_feature_map.csv')\n",
    "\n",
    "\n",
    "    #create features from test data\n",
    "    def create_test_features(events, feature_map):\n",
    "        aggregated_events = aggregate_events(events, '_', feature_map, '_')\n",
    "        grp = aggregated_events.groupby('patient_id').agg(list)\n",
    "        def tuples(x,y):\n",
    "            return zip(x,y)\n",
    "        patient_features = pd.Series.to_dict(grp[['feature_id','feature_value']].apply(lambda x: list(tuples(*x)), axis = 1))\n",
    "        return patient_features\n",
    "\n",
    "    patient_test_features = create_test_features(events_test, efm_test)\n",
    "\n",
    "    #save test features\n",
    "    def save_test_features_svm(features, output):\n",
    "        file = open(output, 'wb')\n",
    "        #svm format for test_features\n",
    "        for k in features.keys():\n",
    "            features[k] = sorted(features[k])\n",
    "            file.write(bytes((\"{} \".format(int(k))),'UTF-8'))\n",
    "            for v in features[k]:\n",
    "                file.write(bytes((\"{}:{:.6f} \".format(v[0],v[1])),'UTF-8'))\n",
    "            file.write(bytes((\"\\n\"),'UTF-8'))\n",
    "        file.close()\n",
    "\n",
    "\n",
    "    save_test_features_svm(patient_test_features, \"../deliverables/test_features.txt\")\n",
    "\n",
    "    #load X_test from svmlight\n",
    "    X_test = load_svmlight_file(\"../deliverables/test_features.txt\", n_features=3190)[0]\n",
    "    \n",
    "    return X_train,Y_train,X_test\n",
    "\n",
    "\n",
    "'''\n",
    "You can use any model you wish.\n",
    "\n",
    "input: X_train, Y_train, X_test\n",
    "output: Y_pred\n",
    "'''\n",
    "def my_classifier_predictions(X_train,Y_train,X_test):\n",
    "    \n",
    "    pca = PCA(n_components = 45)\n",
    "    pca.fit(X_train.toarray())\n",
    "    X_train = pca.transform(X_train.toarray())\n",
    "    X_test = pca.transform(X_test.toarray())\n",
    "    \n",
    "    #generate best svm estimator\n",
    "    print('Generating best svm estimator via Gridsearch')\n",
    "    pipe = Pipeline([('classify', SVC(probability=True, random_state=random_state))])\n",
    "    param_grid = [{'classify__C':[0.01,0.1,1,10,100]}]\n",
    "    svc_clf = GridSearchCV(estimator = pipe, param_grid = param_grid, cv = 5, return_train_score=True)\n",
    "    svc_clf.fit(X_train, Y_train)\n",
    "    svm = svc_clf.best_estimator_\n",
    "    \n",
    "\n",
    "    #generate best random forest estimator\n",
    "    print('Generating best random forest estimator via Gridsearch')\n",
    "    param_grid = {'n_estimators':[100,200,300,400,500],\n",
    "                  'max_leaf_nodes':[5,10,15,20,25]}\n",
    "    forest_clf = RandomForestClassifier(random_state=random_state)\n",
    "    forest_cv = GridSearchCV(forest_clf, param_grid = param_grid, cv=5)\n",
    "    forest_cv.fit(X_train, Y_train)\n",
    "    rf = forest_cv.best_estimator_\n",
    "    \n",
    "    #generate best gradient boosted estimator\n",
    "    print('Generating best gradient boosted estimator via Gridsearch')\n",
    "    param_grids = {\n",
    "                   'max_depth':[1,5,10,15],\n",
    "                   'n_estimators':[2,3,4,5],\n",
    "                   }\n",
    "\n",
    "    boost_clf = GradientBoostingClassifier(random_state=random_state)\n",
    "    boost_cv = GridSearchCV(boost_clf, param_grid=param_grids, cv = 5)\n",
    "    boost_cv.fit(X_train,Y_train)\n",
    "    gb = boost_cv.best_estimator_\n",
    "    \n",
    "    #generate best multi-layered perceptron estimator\n",
    "    print('Generating best Multi-Layered Perceptron estimator via Gridsearch - This might take awhile')\n",
    "    param_grids = {\n",
    "                    'activation': [ 'tanh', 'relu'],\n",
    "                    'solver': ['lbfgs', 'sgd', 'adam'],\n",
    "                    'learning_rate': ['adaptive'],\n",
    "                    'hidden_layer_sizes': [(5,2), (10,5,2)]\n",
    "    }\n",
    "    \n",
    "    nn_clf = MLPClassifier(random_state = random_state)\n",
    "    nn_cv = GridSearchCV(nn_clf, param_grid=param_grids, cv =5)\n",
    "    nn_cv.fit(X_train, Y_train)\n",
    "    nn = nn_cv.best_estimator_\n",
    "    \n",
    "    #generate best adaboost classifier\n",
    "    print('Generating best Adaboost estimator via Gridsearch')\n",
    "    param_grids = {\n",
    "                    'n_estimators': [10,30,50,70],\n",
    "                    'algorithm': ['SAMME', 'SAMME.R']\n",
    "    }\n",
    "    \n",
    "    ab_clf = AdaBoostClassifier(random_state = random_state)\n",
    "    ab_cv = GridSearchCV(ab_clf, param_grid=param_grids, cv = 5)\n",
    "    ab_cv.fit(X_train, Y_train)\n",
    "    ab = ab_cv.best_estimator_\n",
    "    \n",
    "    #generate best logistic regression estimator\n",
    "    print('Generating best logistic regression estimator via Gridsearch')\n",
    "    param_grids = {\n",
    "                   'penalty':['l1', 'l2'],\n",
    "                   'C':[0.01,0.1,1, 10, 100]\n",
    "                   }\n",
    "    lr_clf = LogisticRegression(random_state=random_state)\n",
    "    lr_cv = GridSearchCV(lr_clf, param_grid=param_grids, cv = 5)\n",
    "    lr_cv.fit(X_train,Y_train)\n",
    "    lr = lr_cv.best_estimator_\n",
    "    \n",
    "    #generate naive bayes estimator\n",
    "    print('Generating Naive Bayes estimator via Gridsearch')\n",
    "    nb_clf = GaussianNB()\n",
    "    nb_clf.fit(X_train,Y_train)\n",
    "    nb = nb_clf\n",
    "    \n",
    "    param_grid = {\n",
    "        'max_iter_predict':[100,300,500]\n",
    "    }\n",
    "    gpc = GaussianProcessClassifier(random_state=random_state)\n",
    "    gp_cv = GridSearchCV(gpc, param_grid=param_grid, cv=5)\n",
    "    gp_cv.fit(X_train, Y_train)\n",
    "    gpc = gp_cv.best_estimator_\n",
    "    \n",
    "\n",
    "    \n",
    "    \n",
    "    #create ensemble classifier\n",
    "    print('Compiling Ensemble Voters')\n",
    "    estimators=[('gpc', gpc), ('ab', ab), ('nn', nn), ('svm', svm), ('random_forest', rf), ('gradient_boost', gb), ('logistic_regression', lr), ('naive_bayes', nb)]\n",
    "    ensemble = VotingClassifier(estimators, voting='soft')\n",
    "    ensemble.fit(X_train, Y_train)\n",
    "    print('Prediction Complete')\n",
    "    \n",
    "    return ensemble.predict_proba(X_test)[:,1], ensemble, ab, nn, svm, rf, gb, lr, nb, gpc\n",
    "\n",
    "\n",
    "def main():\n",
    "    X_train, Y_train, X_test = my_features()\n",
    "    Y_pred, ensemble, ab, nn, svm, rf, gb, lr, nb, gpc = my_classifier_predictions(X_train,Y_train,X_test)\n",
    "    utils.generate_submission(\"../deliverables/test_features.txt\",Y_pred)\n",
    "    #The above function will generate a csv file of (patient_id,predicted label) and will be saved as \"my_predictions.csv\" in the deliverables folder.\n",
    "    return Y_pred, ensemble, ab, nn, svm, rf, gb, lr, nb, gpc\n",
    "if __name__ == \"__main__\":\n",
    "    y_pred, ensemble, ab, nn, svm, rf, gb, lr, nb, gpc = main()\n"
   ]
  },
  {
   "cell_type": "code",
   "execution_count": 101,
   "metadata": {},
   "outputs": [
    {
     "data": {
      "text/plain": [
       "GaussianProcessClassifier(copy_X_train=True, kernel=None,\n",
       "             max_iter_predict=100, multi_class='one_vs_rest', n_jobs=1,\n",
       "             n_restarts_optimizer=0, optimizer='fmin_l_bfgs_b',\n",
       "             random_state=49, warm_start=False)"
      ]
     },
     "execution_count": 101,
     "metadata": {},
     "output_type": "execute_result"
    }
   ],
   "source": [
    "gpc"
   ]
  },
  {
   "cell_type": "code",
   "execution_count": 76,
   "metadata": {},
   "outputs": [
    {
     "data": {
      "text/plain": [
       "GaussianProcessClassifier(copy_X_train=True, kernel=None,\n",
       "             max_iter_predict=100, multi_class='one_vs_rest', n_jobs=1,\n",
       "             n_restarts_optimizer=0, optimizer='fmin_l_bfgs_b',\n",
       "             random_state=42, warm_start=False)"
      ]
     },
     "execution_count": 76,
     "metadata": {},
     "output_type": "execute_result"
    }
   ],
   "source": [
    "param_grid = {\n",
    "    'n_restarts_optimizer' : [0,5,10,20],\n",
    "    'max_iter_predict': [100,300,500],\n",
    "    \n",
    "}\n",
    "\n",
    "gpc = GaussianProcessClassifier(random_state=random_state)\n",
    "gp_cv = GridSearchCV(gpc, param_grid=param_grid, cv=5)\n",
    "gp_cv.fit(xtr.toarray(), ytr)\n",
    "gp_cv.best_estimator_"
   ]
  },
  {
   "cell_type": "code",
   "execution_count": 42,
   "metadata": {},
   "outputs": [
    {
     "data": {
      "text/plain": [
       "array([1., 0., 0., 0., 1., 0., 0., 0., 1., 0., 0., 0., 0., 1., 1., 0., 0.,\n",
       "       0., 0., 0., 0., 0., 0., 0., 0., 0., 0., 1., 0., 1., 0., 0., 0., 1.,\n",
       "       0., 0., 0., 0., 1., 0., 0., 0., 1., 0., 1., 0., 0., 0., 1., 1., 0.,\n",
       "       0., 0., 0., 0., 0., 1., 0., 0., 0., 0., 1., 0., 0., 1., 0., 0., 1.,\n",
       "       0., 1., 1., 0., 0., 0., 0., 0., 1., 0., 0., 0., 1., 0., 1., 0., 1.,\n",
       "       0., 1., 0., 0., 0., 1., 0., 1., 1., 0., 0., 0., 0., 0., 0., 0., 0.,\n",
       "       1., 1., 1., 0., 0., 1., 1., 1., 1., 0., 0., 1., 1., 0., 1., 0., 0.,\n",
       "       1., 1., 1., 0., 0., 0., 0., 0., 1., 0., 1., 1., 0., 1., 1., 1., 0.,\n",
       "       1., 0., 0., 1., 0., 0., 0., 0., 1., 0., 0., 0., 1., 1., 1., 1., 1.,\n",
       "       0., 0., 0., 1., 1., 1., 1., 0., 1., 1., 1., 1., 0., 1., 1., 1., 1.,\n",
       "       1., 0., 1., 0., 1., 1., 1., 0., 1., 1., 0., 1., 0., 0., 1., 0., 0.,\n",
       "       0., 0., 0., 0., 0., 0., 1., 0., 0., 0., 1., 0., 1., 0., 0., 0., 1.,\n",
       "       1., 0., 0., 0., 1., 0., 1., 1., 0., 0., 0., 0., 0., 1., 1., 1., 0.,\n",
       "       0., 0., 0., 1., 0., 0., 0., 1., 0., 0., 0., 0., 1., 0., 0., 0., 0.,\n",
       "       1., 0., 1., 0., 0., 0., 1., 0., 0., 0., 0., 0., 0., 0., 1., 0., 1.,\n",
       "       0., 0., 0., 1., 1., 0., 0., 0., 0., 0., 0., 0., 1., 0., 0., 1., 0.,\n",
       "       0., 0., 0., 0., 0., 0., 0., 0., 0., 0., 0., 0., 0., 0., 0., 0., 0.,\n",
       "       0., 0., 0., 0., 0., 0., 0., 0., 1., 0., 0., 1., 1., 1., 1., 0., 0.,\n",
       "       1., 1., 0., 1., 0., 1., 0., 0., 0., 0., 1., 0., 1., 0., 0., 1., 1.,\n",
       "       0., 0., 0., 1., 0., 1., 0., 1., 0., 0., 0., 0., 0., 0., 0., 0., 0.,\n",
       "       0., 0., 1., 1., 0., 1., 0., 0., 1., 0., 0., 0., 0., 0., 0., 0., 0.,\n",
       "       1., 0., 0., 0., 0., 1., 1., 0., 0., 0., 0., 0., 0., 0., 1., 0., 0.,\n",
       "       0., 1., 0., 1., 0., 0., 0., 0., 0., 0., 0., 0., 0., 0., 1., 1., 0.,\n",
       "       0., 0., 1., 1., 1., 1., 0., 0., 0., 1., 0., 0., 0., 0., 0., 1., 0.,\n",
       "       0., 0., 0., 0., 0., 0., 0., 0., 0., 0., 1., 0., 0., 1., 1., 0., 0.,\n",
       "       1., 1., 0., 0., 1., 0., 0., 0., 1., 0., 0., 1., 1., 0., 0., 1., 1.,\n",
       "       0., 1., 0., 0., 0., 1., 0., 0., 0., 0., 1., 0., 1., 0., 0., 0., 0.,\n",
       "       0., 0., 0., 0., 0., 1., 0., 1., 0., 0., 0., 1., 1., 0., 0., 1., 0.,\n",
       "       0., 0., 1., 0., 0., 0., 0., 0., 0., 0., 0., 1., 0., 0., 1., 0., 0.,\n",
       "       0., 0., 0., 1., 1., 0., 0., 1., 0., 0., 0., 0., 0., 0., 0., 0., 0.,\n",
       "       0., 0., 1., 1., 0., 0., 1., 0., 1., 0., 0., 1., 0., 1., 0., 1., 1.,\n",
       "       0., 1., 1., 1., 1., 0., 0., 1., 1., 1., 0., 0., 0., 0., 0., 1., 1.,\n",
       "       0., 0., 0., 1., 1., 1., 0., 0., 0., 1., 1., 0., 1., 1., 1., 1., 0.,\n",
       "       1., 0., 1., 0., 1., 0., 1., 0., 1., 1., 1., 1., 0., 1., 1., 1., 0.,\n",
       "       1., 0., 1., 0., 1., 0., 0., 1., 1., 0., 0., 0., 1., 0., 0., 1., 1.,\n",
       "       1., 0., 0., 1., 0., 0., 0., 1., 0., 1., 1., 1., 0., 1., 1., 1., 0.,\n",
       "       1., 1., 0., 1., 1., 1., 1., 0., 0., 0., 0., 1., 1., 0., 0., 1., 0.,\n",
       "       1., 0., 0., 1.])"
      ]
     },
     "execution_count": 42,
     "metadata": {},
     "output_type": "execute_result"
    }
   ],
   "source": [
    "y_"
   ]
  },
  {
   "cell_type": "code",
   "execution_count": 75,
   "metadata": {},
   "outputs": [
    {
     "name": "stdout",
     "output_type": "stream",
     "text": [
      "Pipeline(memory=None,\n",
      "     steps=[('classify', LinearSVC(C=0.01, class_weight=None, dual=True, fit_intercept=True,\n",
      "     intercept_scaling=1, loss='squared_hinge', max_iter=1000,\n",
      "     multi_class='ovr', penalty='l2', random_state=42, tol=0.0001,\n",
      "     verbose=0))]) \n",
      "\n",
      " RandomForestClassifier(bootstrap=True, class_weight=None, criterion='gini',\n",
      "            max_depth=None, max_features='auto', max_leaf_nodes=25,\n",
      "            min_impurity_decrease=0.0, min_impurity_split=None,\n",
      "            min_samples_leaf=1, min_samples_split=2,\n",
      "            min_weight_fraction_leaf=0.0, n_estimators=400, n_jobs=1,\n",
      "            oob_score=False, random_state=42, verbose=0, warm_start=False) \n",
      "\n",
      " GradientBoostingClassifier(criterion='friedman_mse', init=None,\n",
      "              learning_rate=0.1, loss='deviance', max_depth=10,\n",
      "              max_features=None, max_leaf_nodes=None,\n",
      "              min_impurity_decrease=0.0, min_impurity_split=None,\n",
      "              min_samples_leaf=1, min_samples_split=2,\n",
      "              min_weight_fraction_leaf=0.0, n_estimators=4, presort='auto',\n",
      "              random_state=42, subsample=1.0, verbose=0, warm_start=False) \n",
      "\n",
      " LogisticRegression(C=0.1, class_weight=None, dual=False, fit_intercept=True,\n",
      "          intercept_scaling=1, max_iter=100, multi_class='ovr', n_jobs=1,\n",
      "          penalty='l2', random_state=42, solver='liblinear', tol=0.0001,\n",
      "          verbose=0, warm_start=False) \n",
      "\n",
      " GaussianNB(priors=None)\n"
     ]
    }
   ],
   "source": [
    "print(svm, '\\n\\n', rf, '\\n\\n', gb, '\\n\\n', lr, '\\n\\n', nb)"
   ]
  },
  {
   "cell_type": "code",
   "execution_count": 8,
   "metadata": {},
   "outputs": [],
   "source": [
    "xtr,ytr,xtst = my_features()"
   ]
  },
  {
   "cell_type": "code",
   "execution_count": 139,
   "metadata": {},
   "outputs": [],
   "source": [
    "from sklearn.decomposition import PCA\n",
    "import matplotlib.pyplot as plt\n",
    "def pca_model_eda(x_cols):\n",
    "    \n",
    "    pca = PCA()\n",
    "    pca.fit(x_cols)\n",
    "\n",
    "    # Do the rest on your own :)\n",
    "    var = pca.explained_variance_\n",
    "    fig = plt.figure(figsize = (20,15))\n",
    "    plt.plot(range(len(var)),var, marker ='o')\n",
    "    plt.scatter(40, var[40], marker='*', s = 500, c='r')\n",
    "    plt.arrow(200,0.2,-160, -(0.2 - var[40]), head_width=0.01, head_length=0.3, fc='k', ec='k')\n",
    "    plt.text(201,0.2, 'Possible Optimal Components: {}'.format(40),fontsize=18)\n",
    "    plt.xlabel('Number of Components')\n",
    "    plt.ylabel('Explained Variance')\n",
    "    plt.title('PCA Elbow Chart')\n",
    "    plt.show()\n"
   ]
  },
  {
   "cell_type": "code",
   "execution_count": 140,
   "metadata": {},
   "outputs": [
    {
     "data": {
      "image/png": "[encoded data removed]",
      "text/plain": [
       "<Figure size 1440x1080 with 1 Axes>"
      ]
     },
     "metadata": {
      "needs_background": "light"
     },
     "output_type": "display_data"
    }
   ],
   "source": [
    "pca_model_eda(xtr.toarray())"
   ]
  },
  {
   "cell_type": "code",
   "execution_count": 131,
   "metadata": {},
   "outputs": [],
   "source": [
    "pca = PCA(n_components = 40)\n",
    "pca.fit(xtr.toarray())\n",
    "tr = pca.transform(xtr.toarray())\n",
    "ts = pca.transform(xtst.toarray())"
   ]
  },
  {
   "cell_type": "markdown",
   "metadata": {},
   "source": [
    "# SVM"
   ]
  },
  {
   "cell_type": "code",
   "execution_count": 6,
   "metadata": {},
   "outputs": [],
   "source": [
    "from sklearn.model_selection import GridSearchCV\n",
    "from sklearn.pipeline import Pipeline\n",
    "from sklearn.metrics import accuracy_score, classification_report, confusion_matrix, roc_auc_score\n",
    "from sklearn.svm import LinearSVC\n",
    "import seaborn as sns\n",
    "import matplotlib.pyplot as plt"
   ]
  },
  {
   "cell_type": "code",
   "execution_count": 79,
   "metadata": {},
   "outputs": [
    {
     "name": "stdout",
     "output_type": "stream",
     "text": [
      "Best CV Accuracy Score: 0.7392344497607656\n",
      "             precision    recall  f1-score   support\n",
      "\n",
      "        0.0       0.86      0.96      0.91       500\n",
      "        1.0       0.93      0.76      0.84       336\n",
      "\n",
      "avg / total       0.89      0.88      0.88       836\n",
      "\n",
      "Full Train Data Accuracy: 0.8827751196172249\n",
      "AUC: 0.8629523809523809\n"
     ]
    },
    {
     "data": {
      "image/png": "[encoded data removed]",
      "text/plain": [
       "<Figure size 432x288 with 2 Axes>"
      ]
     },
     "metadata": {
      "needs_background": "light"
     },
     "output_type": "display_data"
    }
   ],
   "source": [
    "pipe = Pipeline([\n",
    "    \n",
    "    ('classify', (LinearSVC(random_state=random_state)))\n",
    "])\n",
    "\n",
    "param_grid = [{'classify__C':[0.01,0.1,1,10,100]}]\n",
    "svc_clf = GridSearchCV(estimator = pipe, param_grid = param_grid, cv = 5, return_train_score=True)\n",
    "svc_clf.fit(xtr.toarray(),ytr)\n",
    "svm_preds = svc_clf.predict(xtr.toarray())\n",
    "print('Best CV Accuracy Score: {}'.format(svc_clf.best_score_))\n",
    "print(classification_report(ytr, svm_preds))\n",
    "print('Full Train Data Accuracy: {}'.format(accuracy_score(ytr,svm_preds)))\n",
    "print('AUC: {}'.format(roc_auc_score(ytr, svm_preds)))\n",
    "sns.heatmap(confusion_matrix(ytr, svm_preds),annot=True, fmt = 'd', xticklabels = [0,1],  yticklabels = [0,1], cmap = 'coolwarm')\n",
    "plt.show()"
   ]
  },
  {
   "cell_type": "markdown",
   "metadata": {},
   "source": [
    "# SVM w/ PCA"
   ]
  },
  {
   "cell_type": "code",
   "execution_count": 201,
   "metadata": {},
   "outputs": [],
   "source": [
    "from sklearn.decomposition import PCA, NMF\n",
    "from sklearn.feature_selection import SelectKBest, chi2"
   ]
  },
  {
   "cell_type": "code",
   "execution_count": 202,
   "metadata": {},
   "outputs": [],
   "source": [
    "pca_pipe = Pipeline([\n",
    "    \n",
    "    ('reduce_dim',PCA()),\n",
    "    ('classify',LinearSVC())\n",
    "])"
   ]
  },
  {
   "cell_type": "code",
   "execution_count": 203,
   "metadata": {},
   "outputs": [],
   "source": [
    "N_FEATURES_OPTIONS = [20, 30, 40]\n",
    "C_OPTIONS = [0.01,0.1,1, 10, 100, 1000]"
   ]
  },
  {
   "cell_type": "code",
   "execution_count": 204,
   "metadata": {},
   "outputs": [],
   "source": [
    "\n",
    "param_grid = [\n",
    "    {\n",
    "        'reduce_dim': [PCA(iterated_power=7), NMF()],\n",
    "        'reduce_dim__n_components': N_FEATURES_OPTIONS,\n",
    "        'classify__C': C_OPTIONS\n",
    "    },\n",
    "    {\n",
    "        'reduce_dim': [SelectKBest(chi2)],\n",
    "        'reduce_dim__k': N_FEATURES_OPTIONS,\n",
    "        'classify__C': C_OPTIONS\n",
    "    }\n",
    "]"
   ]
  },
  {
   "cell_type": "code",
   "execution_count": 205,
   "metadata": {},
   "outputs": [],
   "source": [
    "svm_decomp = GridSearchCV(pca_pipe, cv=5, n_jobs=1, param_grid=param_grid)"
   ]
  },
  {
   "cell_type": "code",
   "execution_count": 206,
   "metadata": {},
   "outputs": [
    {
     "data": {
      "text/plain": [
       "GridSearchCV(cv=5, error_score='raise',\n",
       "       estimator=Pipeline(memory=None,\n",
       "     steps=[('reduce_dim', PCA(copy=True, iterated_power='auto', n_components=None, random_state=None,\n",
       "  svd_solver='auto', tol=0.0, whiten=False)), ('classify', LinearSVC(C=1.0, class_weight=None, dual=True, fit_intercept=True,\n",
       "     intercept_scaling=1, loss='squared_hinge', max_iter=1000,\n",
       "     multi_class='ovr', penalty='l2', random_state=None, tol=0.0001,\n",
       "     verbose=0))]),\n",
       "       fit_params=None, iid=True, n_jobs=1,\n",
       "       param_grid=[{'reduce_dim': [PCA(copy=True, iterated_power=7, n_components=40, random_state=None,\n",
       "  svd_solver='auto', tol=0.0, whiten=False), NMF(alpha=0.0, beta_loss='frobenius', init=None, l1_ratio=0.0, max_iter=200,\n",
       "  n_components=40, random_state=None, shuffle=False, solver='cd',\n",
       "  tol=0.0001, v... at 0x7fd6f0fbf378>)], 'reduce_dim__k': [20, 30, 40], 'classify__C': [0.01, 0.1, 1, 10, 100, 1000]}],\n",
       "       pre_dispatch='2*n_jobs', refit=True, return_train_score='warn',\n",
       "       scoring=None, verbose=0)"
      ]
     },
     "execution_count": 206,
     "metadata": {},
     "output_type": "execute_result"
    }
   ],
   "source": [
    "svm_decomp.fit(xtr.toarray(), ytr)"
   ]
  },
  {
   "cell_type": "code",
   "execution_count": 207,
   "metadata": {},
   "outputs": [
    {
     "name": "stdout",
     "output_type": "stream",
     "text": [
      "Best CV Accuracy Score: 0.7212918660287081\n",
      "             precision    recall  f1-score   support\n",
      "\n",
      "        0.0       0.77      0.84      0.80       500\n",
      "        1.0       0.72      0.63      0.67       336\n",
      "\n",
      "avg / total       0.75      0.75      0.75       836\n",
      "\n",
      "Full Train Data Accuracy: 0.7535885167464115\n",
      "AUC: 0.7334761904761905\n"
     ]
    },
    {
     "data": {
      "image/png": "[encoded data removed]",
      "text/plain": [
       "<Figure size 432x288 with 2 Axes>"
      ]
     },
     "metadata": {
      "needs_background": "light"
     },
     "output_type": "display_data"
    }
   ],
   "source": [
    "print('Best CV Accuracy Score: {}'.format(svm_decomp.best_score_))\n",
    "decomp_preds = svm_decomp.predict(xtr.toarray())\n",
    "decomp_accuracy = accuracy_score(ytr, decomp_preds)\n",
    "print(classification_report(ytr, decomp_preds))\n",
    "print('Full Train Data Accuracy: {}'.format(decomp_accuracy))\n",
    "print('AUC: {}'.format(roc_auc_score(ytr, decomp_preds)))\n",
    "sns.heatmap(confusion_matrix(ytr, decomp_preds),annot=True, fmt = 'd', xticklabels = [0,1],  yticklabels = [0,1], cmap = 'coolwarm')\n",
    "plt.show()"
   ]
  },
  {
   "cell_type": "markdown",
   "metadata": {},
   "source": [
    "# Random Forest"
   ]
  },
  {
   "cell_type": "code",
   "execution_count": 208,
   "metadata": {},
   "outputs": [],
   "source": [
    "from sklearn.ensemble import RandomForestClassifier"
   ]
  },
  {
   "cell_type": "code",
   "execution_count": 61,
   "metadata": {},
   "outputs": [],
   "source": [
    "param_grid = {'n_estimators':[100,200,300,400,500],\n",
    "              'max_leaf_nodes':[5,10,15,20,25]}\n",
    "forest_clf = RandomForestClassifier(random_state=random_state)\n",
    "forest_cv = GridSearchCV(forest_clf, param_grid = param_grid, cv=5)\n",
    "forest_cv.fit(xtr, ytr)\n",
    "for_pred = forest_cv.predict(xtr)"
   ]
  },
  {
   "cell_type": "code",
   "execution_count": 62,
   "metadata": {},
   "outputs": [
    {
     "name": "stdout",
     "output_type": "stream",
     "text": [
      "Best CV Accuracy Score: 0.6949760765550239\n",
      "             precision    recall  f1-score   support\n",
      "\n",
      "        0.0       0.84      0.91      0.88       500\n",
      "        1.0       0.85      0.75      0.80       336\n",
      "\n",
      "avg / total       0.85      0.85      0.84       836\n",
      "\n",
      "Full Train Data Accuracy: 0.8456937799043063\n",
      "AUC: 0.8300000000000001\n"
     ]
    },
    {
     "data": {
      "image/png": "[encoded data removed]",
      "text/plain": [
       "<Figure size 432x288 with 2 Axes>"
      ]
     },
     "metadata": {
      "needs_background": "light"
     },
     "output_type": "display_data"
    }
   ],
   "source": [
    "print('Best CV Accuracy Score: {}'.format(forest_cv.best_score_))\n",
    "forest_accuracy = accuracy_score(ytr, for_pred)\n",
    "print(classification_report(ytr, for_pred))\n",
    "print('Full Train Data Accuracy: {}'.format(forest_accuracy))\n",
    "print('AUC: {}'.format(roc_auc_score(ytr, for_pred)))\n",
    "sns.heatmap(confusion_matrix(ytr, for_pred),annot=True, fmt = 'd', xticklabels = [0,1],  yticklabels = [0,1], cmap = 'coolwarm')\n",
    "plt.show()"
   ]
  },
  {
   "cell_type": "markdown",
   "metadata": {},
   "source": [
    "# Gradient Boosting"
   ]
  },
  {
   "cell_type": "code",
   "execution_count": 10,
   "metadata": {},
   "outputs": [],
   "source": [
    "\n",
    "from sklearn.metrics import mean_squared_error\n",
    "from sklearn.ensemble import GradientBoostingClassifier"
   ]
  },
  {
   "cell_type": "code",
   "execution_count": 149,
   "metadata": {},
   "outputs": [],
   "source": [
    "param_grids = {\n",
    "               'max_depth':[1,5,10,15],\n",
    "               'n_estimators':[2,3,4,5],\n",
    "               }\n",
    "\n",
    "boost_clf = GradientBoostingClassifier(random_state=random_state)\n",
    "boost_cv = GridSearchCV(boost_clf, param_grid=param_grids, cv = 5)\n",
    "boost_cv.fit(xtr,ytr)\n",
    "boost_pred = boost_cv.predict(X_test)"
   ]
  },
  {
   "cell_type": "code",
   "execution_count": 150,
   "metadata": {},
   "outputs": [
    {
     "name": "stdout",
     "output_type": "stream",
     "text": [
      "Best CV Accuracy Score: 0.7057416267942583\n",
      "             precision    recall  f1-score   support\n",
      "\n",
      "        0.0       0.69      0.78      0.73       120\n",
      "        1.0       0.65      0.53      0.59        90\n",
      "\n",
      "avg / total       0.67      0.68      0.67       210\n",
      "\n",
      "Full Train Data Accuracy: 0.6761904761904762\n",
      "AUC: 0.6583333333333333\n"
     ]
    },
    {
     "data": {
      "image/png": "[encoded data removed]",
      "text/plain": [
       "<Figure size 432x288 with 2 Axes>"
      ]
     },
     "metadata": {
      "needs_background": "light"
     },
     "output_type": "display_data"
    }
   ],
   "source": [
    "print('Best CV Accuracy Score: {}'.format(boost_cv.best_score_))\n",
    "boost_accuracy = accuracy_score(Y_test, boost_pred)\n",
    "print(classification_report(Y_test,boost_pred))\n",
    "print('Full Train Data Accuracy: {}'.format(boost_accuracy))\n",
    "print('AUC: {}'.format(roc_auc_score(Y_test, boost_pred)))\n",
    "sns.heatmap(confusion_matrix(Y_test, boost_pred),annot=True, fmt = 'd', xticklabels = [0,1],  yticklabels = [0,1], cmap = 'coolwarm')\n",
    "plt.show()"
   ]
  },
  {
   "cell_type": "markdown",
   "metadata": {},
   "source": [
    "# Logistic Regression"
   ]
  },
  {
   "cell_type": "code",
   "execution_count": 186,
   "metadata": {},
   "outputs": [],
   "source": [
    "from sklearn.linear_model import LogisticRegression"
   ]
  },
  {
   "cell_type": "code",
   "execution_count": 65,
   "metadata": {},
   "outputs": [],
   "source": [
    "param_grids = {\n",
    "               'penalty':['l1', 'l2'],\n",
    "               'C':[0.01,0.1,1, 10, 100]\n",
    "               }\n",
    "lr_clf = LogisticRegression(random_state=random_state)\n",
    "lr_cv = GridSearchCV(lr_clf, param_grid=param_grids, cv = 5)\n",
    "lr_cv.fit(xtr,ytr)\n",
    "lr_pred = lr_cv.predict(xtr)"
   ]
  },
  {
   "cell_type": "code",
   "execution_count": 66,
   "metadata": {},
   "outputs": [
    {
     "name": "stdout",
     "output_type": "stream",
     "text": [
      "Best CV Accuracy Score: 0.7057416267942583\n",
      "             precision    recall  f1-score   support\n",
      "\n",
      "        0.0       0.86      0.96      0.91       500\n",
      "        1.0       0.94      0.77      0.85       336\n",
      "\n",
      "avg / total       0.89      0.89      0.88       836\n",
      "\n",
      "Full Train Data Accuracy: 0.8863636363636364\n",
      "AUC: 0.8674166666666667\n"
     ]
    },
    {
     "data": {
      "image/png": "[encoded data removed]",
      "text/plain": [
       "<Figure size 432x288 with 2 Axes>"
      ]
     },
     "metadata": {
      "needs_background": "light"
     },
     "output_type": "display_data"
    }
   ],
   "source": [
    "print('Best CV Accuracy Score: {}'.format(boost_cv.best_score_))\n",
    "boost_accuracy = accuracy_score(ytr, lr_pred)\n",
    "print(classification_report(ytr,lr_pred))\n",
    "print('Full Train Data Accuracy: {}'.format(boost_accuracy))\n",
    "print('AUC: {}'.format(roc_auc_score(ytr, lr_pred)))\n",
    "sns.heatmap(confusion_matrix(ytr, lr_pred),annot=True, fmt = 'd', xticklabels = [0,1],  yticklabels = [0,1], cmap = 'coolwarm')\n",
    "plt.show()"
   ]
  },
  {
   "cell_type": "markdown",
   "metadata": {},
   "source": [
    "# K-Nearest Neighbors"
   ]
  },
  {
   "cell_type": "code",
   "execution_count": 152,
   "metadata": {},
   "outputs": [],
   "source": [
    "from sklearn.neighbors import KNeighborsClassifier"
   ]
  },
  {
   "cell_type": "code",
   "execution_count": 216,
   "metadata": {},
   "outputs": [],
   "source": [
    "param_grids = {\n",
    "               'n_neighbors':[3,4,5,6,7,8,9,10],\n",
    "               'p':[1,2]\n",
    "               }\n",
    "kn_clf = KNeighborsClassifier()\n",
    "kn_cv = GridSearchCV(kn_clf, param_grid=param_grids, cv = 5)\n",
    "kn_cv.fit(xtr,ytr)\n",
    "kn_pred = kn_cv.predict(xtr)"
   ]
  },
  {
   "cell_type": "code",
   "execution_count": 217,
   "metadata": {},
   "outputs": [
    {
     "name": "stdout",
     "output_type": "stream",
     "text": [
      "Best CV Accuracy Score: 0.6447368421052632\n",
      "             precision    recall  f1-score   support\n",
      "\n",
      "        0.0       0.86      0.61      0.72       500\n",
      "        1.0       0.60      0.85      0.70       336\n",
      "\n",
      "avg / total       0.75      0.71      0.71       836\n",
      "\n",
      "Full Train Data Accuracy: 0.7081339712918661\n",
      "AUC: 0.7311071428571428\n"
     ]
    },
    {
     "data": {
      "image/png": "[encoded data removed]",
      "text/plain": [
       "<Figure size 432x288 with 2 Axes>"
      ]
     },
     "metadata": {
      "needs_background": "light"
     },
     "output_type": "display_data"
    }
   ],
   "source": [
    "print('Best CV Accuracy Score: {}'.format(kn_cv.best_score_))\n",
    "kn_accuracy = accuracy_score(ytr, kn_pred)\n",
    "print(classification_report(ytr,kn_pred))\n",
    "print('Full Train Data Accuracy: {}'.format(kn_accuracy))\n",
    "print('AUC: {}'.format(roc_auc_score(ytr, kn_pred)))\n",
    "sns.heatmap(confusion_matrix(ytr, kn_pred),annot=True, fmt = 'd', xticklabels = [0,1],  yticklabels = [0,1], cmap = 'coolwarm')\n",
    "plt.show()"
   ]
  },
  {
   "cell_type": "markdown",
   "metadata": {},
   "source": [
    "# Naive Bayes"
   ]
  },
  {
   "cell_type": "code",
   "execution_count": 193,
   "metadata": {},
   "outputs": [],
   "source": [
    "from sklearn.naive_bayes import GaussianNB"
   ]
  },
  {
   "cell_type": "code",
   "execution_count": 67,
   "metadata": {},
   "outputs": [],
   "source": [
    "nb_clf = GaussianNB()\n",
    "nb_clf.fit(xtr.toarray(),ytr)\n",
    "nb_pred = nb_clf.predict(xtr.toarray())"
   ]
  },
  {
   "cell_type": "code",
   "execution_count": 68,
   "metadata": {},
   "outputs": [
    {
     "name": "stdout",
     "output_type": "stream",
     "text": [
      "             precision    recall  f1-score   support\n",
      "\n",
      "        0.0       0.91      0.98      0.94       500\n",
      "        1.0       0.96      0.85      0.91       336\n",
      "\n",
      "avg / total       0.93      0.93      0.93       836\n",
      "\n",
      "Full Train Data Accuracy: 0.9282296650717703\n",
      "AUC: 0.9160833333333332\n"
     ]
    },
    {
     "data": {
      "image/png": "[encoded data removed]",
      "text/plain": [
       "<Figure size 432x288 with 2 Axes>"
      ]
     },
     "metadata": {
      "needs_background": "light"
     },
     "output_type": "display_data"
    }
   ],
   "source": [
    "nb_accuracy = accuracy_score(ytr, nb_pred)\n",
    "print(classification_report(ytr,nb_pred))\n",
    "print('Full Train Data Accuracy: {}'.format(nb_accuracy))\n",
    "print('AUC: {}'.format(roc_auc_score(ytr, nb_pred)))\n",
    "sns.heatmap(confusion_matrix(ytr, nb_pred),annot=True, fmt = 'd', xticklabels = [0,1],  yticklabels = [0,1], cmap = 'coolwarm')\n",
    "plt.show()"
   ]
  },
  {
   "cell_type": "markdown",
   "metadata": {},
   "source": [
    "# Ensebmle"
   ]
  },
  {
   "cell_type": "code",
   "execution_count": 69,
   "metadata": {},
   "outputs": [],
   "source": [
    "svm = svc_clf.best_estimator_\n",
    "rf = forest_cv.best_estimator_\n",
    "gb = boost_cv.best_estimator_\n",
    "lr = lr_cv.best_estimator_\n",
    "nb = nb_clf"
   ]
  },
  {
   "cell_type": "code",
   "execution_count": 107,
   "metadata": {},
   "outputs": [
    {
     "data": {
      "text/plain": [
       "CalibratedClassifierCV(base_estimator=Pipeline(memory=None,\n",
       "     steps=[('classify', LinearSVC(C=0.01, class_weight=None, dual=True, fit_intercept=True,\n",
       "     intercept_scaling=1, loss='squared_hinge', max_iter=1000,\n",
       "     multi_class='ovr', penalty='l2', random_state=42, tol=0.0001,\n",
       "     verbose=0))]),\n",
       "            cv='prefit', method='sigmoid')"
      ]
     },
     "execution_count": 107,
     "metadata": {},
     "output_type": "execute_result"
    }
   ],
   "source": [
    "clf = CalibratedClassifierCV(base_estimator=svm, cv='prefit')\n",
    "clf.fit(xtr, ytr)"
   ]
  },
  {
   "cell_type": "code",
   "execution_count": 120,
   "metadata": {},
   "outputs": [
    {
     "data": {
      "text/plain": [
       "CalibratedClassifierCV(base_estimator=Pipeline(memory=None,\n",
       "     steps=[('classify', LinearSVC(C=0.01, class_weight=None, dual=True, fit_intercept=True,\n",
       "     intercept_scaling=1, loss='squared_hinge', max_iter=1000,\n",
       "     multi_class='ovr', penalty='l2', random_state=42, tol=0.0001,\n",
       "     verbose=0))]),\n",
       "            cv='prefit', method='sigmoid')"
      ]
     },
     "execution_count": 120,
     "metadata": {},
     "output_type": "execute_result"
    }
   ],
   "source": [
    "clf."
   ]
  },
  {
   "cell_type": "code",
   "execution_count": 110,
   "metadata": {},
   "outputs": [
    {
     "data": {
      "text/plain": [
       "array([1., 1., 0., 0., 1., 1., 1., 0., 0., 1., 1., 1., 0., 1., 1., 0., 0.,\n",
       "       0., 1., 0., 0., 0., 0., 0., 1., 1., 1., 0., 0., 1., 1., 1., 1., 0.,\n",
       "       1., 1., 0., 0., 1., 1., 0., 1., 0., 0., 0., 0., 0., 0., 0., 1., 0.,\n",
       "       0., 0., 0., 1., 0., 1., 0., 0., 0., 1., 0., 0., 0., 1., 1., 0., 0.,\n",
       "       0., 0., 1., 0., 0., 0., 0., 0., 1., 1., 0., 1., 0., 0., 0., 0., 0.,\n",
       "       1., 1., 0., 1., 0., 1., 0., 0., 0., 0., 1., 0., 0., 1., 1., 0., 0.,\n",
       "       0., 1., 0., 1., 0., 1., 0., 0., 1., 0., 1., 0., 1., 1., 1., 0., 1.,\n",
       "       1., 1., 1., 0., 0., 0., 1., 0., 0., 0., 1., 1., 1., 0., 0., 0., 1.,\n",
       "       0., 0., 1., 1., 0., 0., 0., 0., 0., 1., 0., 1., 1., 0., 0., 0., 0.,\n",
       "       1., 1., 0., 0., 0., 0., 0., 0., 0., 1., 0., 1., 0., 0., 1., 0., 0.,\n",
       "       1., 1., 0., 0., 0., 0., 0., 0., 0., 1., 0., 0., 0., 0., 1., 1., 0.,\n",
       "       0., 1., 0., 1., 0., 0., 0., 1., 0., 1., 0., 1., 1., 0., 0., 1., 0.,\n",
       "       0., 0., 0., 1., 0., 0., 0., 0., 0., 0., 0., 1., 0., 0., 0., 0., 1.,\n",
       "       1., 1., 1., 1., 0., 0., 0., 1., 0., 0., 0., 1., 0., 0., 1., 0., 1.,\n",
       "       1., 0., 1., 1., 0., 1., 0., 1., 1., 0., 0., 0., 0., 1., 0., 0., 0.,\n",
       "       0., 0., 1., 0., 0., 0., 0., 1., 0., 0., 0., 1., 0., 0., 1., 0., 0.,\n",
       "       1., 0., 0., 0., 1., 1., 0., 1., 0., 1., 0., 1., 0., 1., 0., 1., 0.,\n",
       "       1., 1., 1., 0., 1., 0., 0., 1., 0., 1., 0., 0., 0., 1., 0., 0., 1.,\n",
       "       0., 0., 0., 0., 1., 0., 0., 0., 0., 0., 0., 0., 0., 0., 1., 0., 0.,\n",
       "       0., 0., 0., 0., 1., 0., 0., 0., 0., 1., 1., 0., 1., 0., 1., 1., 0.,\n",
       "       1., 1., 0., 0., 1., 0., 1., 0., 1., 0., 0., 0., 0., 1., 0., 0., 1.,\n",
       "       1., 0., 1., 1., 0., 0., 1., 1., 1., 1., 1., 0., 0., 0., 0., 0., 0.,\n",
       "       0., 0., 0., 1., 1., 0., 1., 0., 0., 1., 0., 0., 0., 0., 0., 1., 0.,\n",
       "       1., 0., 1., 1., 0., 0., 1., 0., 0., 0., 0., 0., 0., 0., 1., 0., 0.,\n",
       "       0., 1., 0., 0., 0., 1., 0., 0., 1., 1., 1., 0., 0., 0., 0., 0., 1.,\n",
       "       0., 0., 1., 0., 0., 0., 0., 0., 1., 1., 0., 0., 0., 0., 0., 1., 1.,\n",
       "       0., 0., 0., 0., 0., 1., 0., 1., 0., 0., 0., 0., 0., 0., 0., 0., 0.,\n",
       "       1., 1., 1., 0., 0., 0., 0., 1., 0., 0., 1., 1., 0., 0., 1., 1., 0.,\n",
       "       1., 0., 1., 1., 0., 1., 1., 0., 1., 0., 1., 1., 0., 1., 0., 0., 1.,\n",
       "       0., 0., 1., 0., 0., 1., 0., 0., 0., 1., 1., 1., 1., 0., 0., 0., 0.,\n",
       "       0., 0., 0., 0., 1., 0., 1., 0., 0., 0., 0., 0., 1., 0., 0., 0., 0.,\n",
       "       0., 0., 0., 0., 0., 0., 0., 1., 1., 0., 1., 0., 0., 0., 0., 1., 0.,\n",
       "       1., 0., 0., 0., 1., 0., 1., 1., 0., 0., 0., 0., 0., 0., 1., 0., 0.,\n",
       "       1., 0., 0., 1., 1., 0., 1., 1., 0., 0., 0., 1., 0., 0., 0., 0., 0.,\n",
       "       0., 0., 1., 1., 1., 0., 0., 0., 1., 0., 0., 0., 1., 0., 0., 1., 1.,\n",
       "       0., 0., 0., 0., 1., 1., 0., 0., 1., 0., 1., 0., 0., 0., 0., 0., 0.,\n",
       "       0., 1., 0., 0., 1., 0., 0., 0., 1., 1., 0., 0., 0., 1., 0., 0., 1.,\n",
       "       0., 1., 0., 0., 0., 0., 1., 0., 0., 0., 1., 0., 1., 0., 0., 0., 1.,\n",
       "       0., 0., 0., 1., 0., 0., 0., 1., 1., 0., 0., 1., 0., 0., 1., 0., 0.,\n",
       "       1., 0., 0., 0., 0., 0., 1., 1., 0., 1., 0., 0., 0., 0., 0., 1., 0.,\n",
       "       1., 0., 0., 1., 1., 0., 1., 0., 1., 0., 0., 1., 0., 0., 1., 0., 0.,\n",
       "       0., 1., 0., 0., 1., 1., 0., 1., 0., 0., 1., 1., 1., 1., 1., 0., 1.,\n",
       "       1., 0., 1., 1., 1., 1., 1., 1., 1., 0., 1., 0., 0., 1., 1., 1., 1.,\n",
       "       0., 0., 1., 0., 0., 0., 0., 1., 0., 1., 0., 0., 0., 1., 1., 1., 0.,\n",
       "       0., 0., 0., 1., 1., 1., 1., 0., 0., 1., 1., 0., 0., 0., 0., 1., 1.,\n",
       "       0., 0., 1., 1., 0., 0., 0., 0., 0., 0., 0., 1., 1., 1., 1., 0., 0.,\n",
       "       1., 0., 0., 1., 0., 0., 1., 0., 0., 0., 0., 0., 0., 0., 0., 1., 1.,\n",
       "       1., 0., 0., 0., 1., 0., 1., 1., 1., 1., 1., 1., 1., 1., 1., 0., 1.,\n",
       "       0., 0., 0., 1., 1., 1., 0., 1., 0., 1., 1., 1., 1., 1., 1., 1., 0.,\n",
       "       1., 1., 1.])"
      ]
     },
     "execution_count": 110,
     "metadata": {},
     "output_type": "execute_result"
    }
   ],
   "source": [
    "clf.predict(xtr)"
   ]
  },
  {
   "cell_type": "code",
   "execution_count": 88,
   "metadata": {},
   "outputs": [
    {
     "name": "stdout",
     "output_type": "stream",
     "text": [
      "             precision    recall  f1-score   support\n",
      "\n",
      "        0.0       0.89      0.93      0.91       500\n",
      "        1.0       0.88      0.84      0.86       336\n",
      "\n",
      "avg / total       0.89      0.89      0.89       836\n",
      "\n",
      "Full Train Data Accuracy: 0.8899521531100478\n",
      "AUC: 0.8811547619047619\n"
     ]
    },
    {
     "data": {
      "image/png": "[encoded data removed]",
      "text/plain": [
       "<Figure size 432x288 with 2 Axes>"
      ]
     },
     "metadata": {
      "needs_background": "light"
     },
     "output_type": "display_data"
    }
   ],
   "source": [
    "print(classification_report(ytr, pred))\n",
    "print('Full Train Data Accuracy: {}'.format(accuracy_score(ytr,pred)))\n",
    "print('AUC: {}'.format(roc_auc_score(ytr, pred)))\n",
    "sns.heatmap(confusion_matrix(ytr, pred),annot=True, fmt = 'd', xticklabels = [0,1],  yticklabels = [0,1], cmap = 'coolwarm')\n",
    "plt.show()"
   ]
  },
  {
   "cell_type": "code",
   "execution_count": 49,
   "metadata": {},
   "outputs": [],
   "source": [
    "from sklearn.ensemble import VotingClassifier"
   ]
  },
  {
   "cell_type": "code",
   "execution_count": 70,
   "metadata": {},
   "outputs": [],
   "source": [
    "estimators=[ ('random_forest', rf), ('gradient_boost', gb), ('logistic_regression', lr), ('naive_bayes', nb)]"
   ]
  },
  {
   "cell_type": "code",
   "execution_count": 71,
   "metadata": {},
   "outputs": [],
   "source": [
    "ensemble = VotingClassifier(estimators, voting='hard')"
   ]
  },
  {
   "cell_type": "code",
   "execution_count": 72,
   "metadata": {},
   "outputs": [
    {
     "name": "stderr",
     "output_type": "stream",
     "text": [
      "/home/scott/anaconda3/envs/env/lib/python3.6/site-packages/sklearn/preprocessing/label.py:151: DeprecationWarning: The truth value of an empty array is ambiguous. Returning False, but in future this will result in an error. Use `array.size > 0` to check that an array is not empty.\n",
      "  if diff:\n"
     ]
    }
   ],
   "source": [
    "ensemble.fit(xtr.toarray(), ytr)\n",
    "ens_pred = ensemble.predict(xtst.toarray())"
   ]
  },
  {
   "cell_type": "code",
   "execution_count": 73,
   "metadata": {},
   "outputs": [
    {
     "ename": "NameError",
     "evalue": "name 'Y_pred' is not defined",
     "output_type": "error",
     "traceback": [
      "\u001b[0;31m---------------------------------------------------------------------------\u001b[0m",
      "\u001b[0;31mNameError\u001b[0m                                 Traceback (most recent call last)",
      "\u001b[0;32m<ipython-input-73-d5de80633fa9>\u001b[0m in \u001b[0;36m<module>\u001b[0;34m\u001b[0m\n\u001b[0;32m----> 1\u001b[0;31m \u001b[0mens_pred\u001b[0m \u001b[0;34m==\u001b[0m \u001b[0mY_pred\u001b[0m\u001b[0;34m\u001b[0m\u001b[0m\n\u001b[0m",
      "\u001b[0;31mNameError\u001b[0m: name 'Y_pred' is not defined"
     ]
    }
   ],
   "source": [
    "ens_pred == Y_pred"
   ]
  },
  {
   "cell_type": "code",
   "execution_count": 232,
   "metadata": {},
   "outputs": [
    {
     "data": {
      "text/plain": [
       "0.9101547619047619"
      ]
     },
     "execution_count": 232,
     "metadata": {},
     "output_type": "execute_result"
    }
   ],
   "source": [
    "roc_auc_score(ytr, ens_pred)"
   ]
  },
  {
   "cell_type": "code",
   "execution_count": 233,
   "metadata": {},
   "outputs": [
    {
     "data": {
      "text/plain": [
       "<matplotlib.axes._subplots.AxesSubplot at 0x7fd6c682a0b8>"
      ]
     },
     "execution_count": 233,
     "metadata": {},
     "output_type": "execute_result"
    },
    {
     "data": {
      "image/png": "[encoded data removed]",
      "text/plain": [
       "<Figure size 432x288 with 2 Axes>"
      ]
     },
     "metadata": {
      "needs_background": "light"
     },
     "output_type": "display_data"
    }
   ],
   "source": [
    "sns.heatmap(confusion_matrix(ytr, ens_pred),annot=True, fmt = 'd', xticklabels = [0,1],  yticklabels = [0,1], cmap = 'coolwarm')\n"
   ]
  },
  {
   "cell_type": "code",
   "execution_count": null,
   "metadata": {},
   "outputs": [],
   "source": []
  }
 ],
 "metadata": {
  "kernelspec": {
   "display_name": "Python 3",
   "language": "python",
   "name": "python3"
  },
  "language_info": {
   "codemirror_mode": {
    "name": "ipython",
    "version": 3
   },
   "file_extension": ".py",
   "mimetype": "text/x-python",
   "name": "python",
   "nbconvert_exporter": "python",
   "pygments_lexer": "ipython3",
   "version": "3.7.4"
  }
 },
 "nbformat": 4,
 "nbformat_minor": 2
}

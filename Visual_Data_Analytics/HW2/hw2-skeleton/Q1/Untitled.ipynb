{
 "cells": [
  {
   "cell_type": "code",
   "execution_count": 2,
   "metadata": {},
   "outputs": [],
   "source": [
    "import pandas as pd\n",
    "import numpy as np\n",
    "import matplotlib.pyplot as plt"
   ]
  },
  {
   "cell_type": "code",
   "execution_count": 3,
   "metadata": {},
   "outputs": [
    {
     "data": {
      "text/html": [
       "<div>\n",
       "<style scoped>\n",
       "    .dataframe tbody tr th:only-of-type {\n",
       "        vertical-align: middle;\n",
       "    }\n",
       "\n",
       "    .dataframe tbody tr th {\n",
       "        vertical-align: top;\n",
       "    }\n",
       "\n",
       "    .dataframe thead th {\n",
       "        text-align: right;\n",
       "    }\n",
       "</style>\n",
       "<table border=\"1\" class=\"dataframe\">\n",
       "  <thead>\n",
       "    <tr style=\"text-align: right;\">\n",
       "      <th></th>\n",
       "      <th>Region</th>\n",
       "      <th>Item Type</th>\n",
       "      <th>Sales Channel</th>\n",
       "      <th>Order Date</th>\n",
       "      <th>Units Sold</th>\n",
       "      <th>Total Profit</th>\n",
       "    </tr>\n",
       "  </thead>\n",
       "  <tbody>\n",
       "    <tr>\n",
       "      <td>0</td>\n",
       "      <td>Australia and Oceania</td>\n",
       "      <td>Baby Food</td>\n",
       "      <td>Offline</td>\n",
       "      <td>5/28/2010</td>\n",
       "      <td>9925</td>\n",
       "      <td>951410.50</td>\n",
       "    </tr>\n",
       "    <tr>\n",
       "      <td>1</td>\n",
       "      <td>Central America and the Caribbean</td>\n",
       "      <td>Cereal</td>\n",
       "      <td>Online</td>\n",
       "      <td>8/22/2012</td>\n",
       "      <td>2804</td>\n",
       "      <td>248406.36</td>\n",
       "    </tr>\n",
       "    <tr>\n",
       "      <td>2</td>\n",
       "      <td>Europe</td>\n",
       "      <td>Office Supplies</td>\n",
       "      <td>Offline</td>\n",
       "      <td>5/2/2014</td>\n",
       "      <td>1779</td>\n",
       "      <td>224598.75</td>\n",
       "    </tr>\n",
       "    <tr>\n",
       "      <td>3</td>\n",
       "      <td>Sub-Saharan Africa</td>\n",
       "      <td>Fruits</td>\n",
       "      <td>Online</td>\n",
       "      <td>6/20/2014</td>\n",
       "      <td>8102</td>\n",
       "      <td>19525.82</td>\n",
       "    </tr>\n",
       "    <tr>\n",
       "      <td>4</td>\n",
       "      <td>Sub-Saharan Africa</td>\n",
       "      <td>Office Supplies</td>\n",
       "      <td>Offline</td>\n",
       "      <td>2/1/2013</td>\n",
       "      <td>5062</td>\n",
       "      <td>639077.50</td>\n",
       "    </tr>\n",
       "  </tbody>\n",
       "</table>\n",
       "</div>"
      ],
      "text/plain": [
       "                              Region        Item Type Sales Channel  \\\n",
       "0              Australia and Oceania        Baby Food       Offline   \n",
       "1  Central America and the Caribbean           Cereal        Online   \n",
       "2                             Europe  Office Supplies       Offline   \n",
       "3                 Sub-Saharan Africa           Fruits        Online   \n",
       "4                 Sub-Saharan Africa  Office Supplies       Offline   \n",
       "\n",
       "  Order Date  Units Sold  Total Profit  \n",
       "0  5/28/2010        9925     951410.50  \n",
       "1  8/22/2012        2804     248406.36  \n",
       "2   5/2/2014        1779     224598.75  \n",
       "3  6/20/2014        8102      19525.82  \n",
       "4   2/1/2013        5062     639077.50  "
      ]
     },
     "execution_count": 3,
     "metadata": {},
     "output_type": "execute_result"
    }
   ],
   "source": [
    "df = pd.read_csv('sales.csv')\n",
    "df.head()"
   ]
  },
  {
   "cell_type": "code",
   "execution_count": 4,
   "metadata": {},
   "outputs": [],
   "source": [
    "df['Order Date'] = pd.to_datetime(df['Order Date'])"
   ]
  },
  {
   "cell_type": "markdown",
   "metadata": {},
   "source": [
    "# separate 2015 and 2016"
   ]
  },
  {
   "cell_type": "code",
   "execution_count": 5,
   "metadata": {},
   "outputs": [],
   "source": [
    "fifteen = df[(df['Order Date'] >= '2015-01-01') & (df['Order Date'] < '2016-01-01')]"
   ]
  },
  {
   "cell_type": "code",
   "execution_count": 6,
   "metadata": {},
   "outputs": [],
   "source": [
    "sixteen = df[(df['Order Date'] >= '2016-01-01') & (df['Order Date'] < '2017-01-01')]"
   ]
  },
  {
   "cell_type": "markdown",
   "metadata": {},
   "source": [
    "# Units Sold"
   ]
  },
  {
   "cell_type": "code",
   "execution_count": 7,
   "metadata": {},
   "outputs": [
    {
     "data": {
      "text/plain": [
       "Region\n",
       "Asia                            14180\n",
       "Australia and Oceania            5898\n",
       "Europe                           4120\n",
       "Middle East and North Africa      673\n",
       "North America                    5767\n",
       "Sub-Saharan Africa              18842\n",
       "Name: Units Sold, dtype: int64"
      ]
     },
     "execution_count": 7,
     "metadata": {},
     "output_type": "execute_result"
    }
   ],
   "source": [
    "units_sold_fifteen = fifteen.groupby('Region')['Units Sold'].sum()\n",
    "units_sold_fifteen"
   ]
  },
  {
   "cell_type": "code",
   "execution_count": 8,
   "metadata": {},
   "outputs": [
    {
     "data": {
      "text/plain": [
       "Region\n",
       "Asia                                  6952\n",
       "Central America and the Caribbean     7723\n",
       "Europe                               18597\n",
       "Middle East and North Africa          6489\n",
       "Sub-Saharan Africa                    3395\n",
       "Name: Units Sold, dtype: int64"
      ]
     },
     "execution_count": 8,
     "metadata": {},
     "output_type": "execute_result"
    }
   ],
   "source": [
    "units_sold_sixteen = sixteen.groupby('Region')['Units Sold'].sum()\n",
    "units_sold_sixteen"
   ]
  },
  {
   "cell_type": "markdown",
   "metadata": {},
   "source": [
    "# Total Profits"
   ]
  },
  {
   "cell_type": "code",
   "execution_count": 9,
   "metadata": {},
   "outputs": [
    {
     "data": {
      "text/plain": [
       "{'Asia': 1802771.7,\n",
       " 'Australia and Oceania': 654242.64,\n",
       " 'Europe': 617037.67,\n",
       " 'Middle East and North Africa': 1621.93,\n",
       " 'North America': 144521.02,\n",
       " 'Sub-Saharan Africa': 776344.48}"
      ]
     },
     "execution_count": 9,
     "metadata": {},
     "output_type": "execute_result"
    }
   ],
   "source": [
    "total_profits_fifteen = fifteen.groupby('Region')['Total Profit'].sum().to_dict()\n",
    "total_profits_fifteen"
   ]
  },
  {
   "cell_type": "code",
   "execution_count": 27,
   "metadata": {},
   "outputs": [
    {
     "data": {
      "text/plain": [
       "298.65663"
      ]
     },
     "execution_count": 27,
     "metadata": {},
     "output_type": "execute_result"
    }
   ],
   "source": [
    "298656.63/ 1000.0"
   ]
  },
  {
   "cell_type": "code",
   "execution_count": 10,
   "metadata": {},
   "outputs": [
    {
     "data": {
      "text/plain": [
       "{'Asia': 1208744.24,\n",
       " 'Central America and the Caribbean': 526459.62,\n",
       " 'Europe': 1741735.09,\n",
       " 'Middle East and North Africa': 1128242.43,\n",
       " 'Sub-Saharan Africa': 298656.63}"
      ]
     },
     "execution_count": 10,
     "metadata": {},
     "output_type": "execute_result"
    }
   ],
   "source": [
    "total_profits_sixteen = sixteen.groupby('Region')['Total Profit'].sum().to_dict()\n",
    "total_profits_sixteen"
   ]
  },
  {
   "cell_type": "markdown",
   "metadata": {},
   "source": [
    "# Item With Highest Sales"
   ]
  },
  {
   "cell_type": "code",
   "execution_count": 12,
   "metadata": {},
   "outputs": [
    {
     "data": {
      "text/html": [
       "<div>\n",
       "<style scoped>\n",
       "    .dataframe tbody tr th:only-of-type {\n",
       "        vertical-align: middle;\n",
       "    }\n",
       "\n",
       "    .dataframe tbody tr th {\n",
       "        vertical-align: top;\n",
       "    }\n",
       "\n",
       "    .dataframe thead th {\n",
       "        text-align: right;\n",
       "    }\n",
       "</style>\n",
       "<table border=\"1\" class=\"dataframe\">\n",
       "  <thead>\n",
       "    <tr style=\"text-align: right;\">\n",
       "      <th></th>\n",
       "      <th>Item Type</th>\n",
       "      <th>Sales Channel</th>\n",
       "      <th>Order Date</th>\n",
       "      <th>Units Sold</th>\n",
       "      <th>Total Profit</th>\n",
       "    </tr>\n",
       "    <tr>\n",
       "      <th>Region</th>\n",
       "      <th></th>\n",
       "      <th></th>\n",
       "      <th></th>\n",
       "      <th></th>\n",
       "      <th></th>\n",
       "    </tr>\n",
       "  </thead>\n",
       "  <tbody>\n",
       "    <tr>\n",
       "      <td>Asia</td>\n",
       "      <td>Household</td>\n",
       "      <td>Offline</td>\n",
       "      <td>2015-01-16</td>\n",
       "      <td>8250</td>\n",
       "      <td>1367272.50</td>\n",
       "    </tr>\n",
       "    <tr>\n",
       "      <td>Australia and Oceania</td>\n",
       "      <td>Baby Food</td>\n",
       "      <td>Online</td>\n",
       "      <td>2015-02-04</td>\n",
       "      <td>2974</td>\n",
       "      <td>285087.64</td>\n",
       "    </tr>\n",
       "    <tr>\n",
       "      <td>Europe</td>\n",
       "      <td>Cosmetics</td>\n",
       "      <td>Offline</td>\n",
       "      <td>2015-02-23</td>\n",
       "      <td>2847</td>\n",
       "      <td>495007.89</td>\n",
       "    </tr>\n",
       "    <tr>\n",
       "      <td>Middle East and North Africa</td>\n",
       "      <td>Fruits</td>\n",
       "      <td>Online</td>\n",
       "      <td>2015-08-14</td>\n",
       "      <td>673</td>\n",
       "      <td>1621.93</td>\n",
       "    </tr>\n",
       "    <tr>\n",
       "      <td>North America</td>\n",
       "      <td>Personal Care</td>\n",
       "      <td>Offline</td>\n",
       "      <td>2015-07-30</td>\n",
       "      <td>5767</td>\n",
       "      <td>144521.02</td>\n",
       "    </tr>\n",
       "    <tr>\n",
       "      <td>Sub-Saharan Africa</td>\n",
       "      <td>Clothes</td>\n",
       "      <td>Offline</td>\n",
       "      <td>2015-04-25</td>\n",
       "      <td>7342</td>\n",
       "      <td>539196.48</td>\n",
       "    </tr>\n",
       "  </tbody>\n",
       "</table>\n",
       "</div>"
      ],
      "text/plain": [
       "                                  Item Type Sales Channel Order Date  \\\n",
       "Region                                                                 \n",
       "Asia                              Household       Offline 2015-01-16   \n",
       "Australia and Oceania             Baby Food        Online 2015-02-04   \n",
       "Europe                            Cosmetics       Offline 2015-02-23   \n",
       "Middle East and North Africa         Fruits        Online 2015-08-14   \n",
       "North America                 Personal Care       Offline 2015-07-30   \n",
       "Sub-Saharan Africa                  Clothes       Offline 2015-04-25   \n",
       "\n",
       "                              Units Sold  Total Profit  \n",
       "Region                                                  \n",
       "Asia                                8250    1367272.50  \n",
       "Australia and Oceania               2974     285087.64  \n",
       "Europe                              2847     495007.89  \n",
       "Middle East and North Africa         673       1621.93  \n",
       "North America                       5767     144521.02  \n",
       "Sub-Saharan Africa                  7342     539196.48  "
      ]
     },
     "execution_count": 12,
     "metadata": {},
     "output_type": "execute_result"
    }
   ],
   "source": [
    "highest_sales_fifteen = fifteen.loc[fifteen.groupby(['Region'])['Units Sold'].idxmax()].set_index('Region')\n",
    "highest_sales_fifteen"
   ]
  },
  {
   "cell_type": "code",
   "execution_count": 14,
   "metadata": {},
   "outputs": [
    {
     "data": {
      "text/html": [
       "<div>\n",
       "<style scoped>\n",
       "    .dataframe tbody tr th:only-of-type {\n",
       "        vertical-align: middle;\n",
       "    }\n",
       "\n",
       "    .dataframe tbody tr th {\n",
       "        vertical-align: top;\n",
       "    }\n",
       "\n",
       "    .dataframe thead th {\n",
       "        text-align: right;\n",
       "    }\n",
       "</style>\n",
       "<table border=\"1\" class=\"dataframe\">\n",
       "  <thead>\n",
       "    <tr style=\"text-align: right;\">\n",
       "      <th></th>\n",
       "      <th>Item Type</th>\n",
       "      <th>Sales Channel</th>\n",
       "      <th>Order Date</th>\n",
       "      <th>Units Sold</th>\n",
       "      <th>Total Profit</th>\n",
       "    </tr>\n",
       "    <tr>\n",
       "      <th>Region</th>\n",
       "      <th></th>\n",
       "      <th></th>\n",
       "      <th></th>\n",
       "      <th></th>\n",
       "      <th></th>\n",
       "    </tr>\n",
       "  </thead>\n",
       "  <tbody>\n",
       "    <tr>\n",
       "      <td>Asia</td>\n",
       "      <td>Cosmetics</td>\n",
       "      <td>Offline</td>\n",
       "      <td>2016-11-19</td>\n",
       "      <td>6952</td>\n",
       "      <td>1208744.24</td>\n",
       "    </tr>\n",
       "    <tr>\n",
       "      <td>Central America and the Caribbean</td>\n",
       "      <td>Clothes</td>\n",
       "      <td>Offline</td>\n",
       "      <td>2016-07-25</td>\n",
       "      <td>5498</td>\n",
       "      <td>403773.12</td>\n",
       "    </tr>\n",
       "    <tr>\n",
       "      <td>Europe</td>\n",
       "      <td>Cosmetics</td>\n",
       "      <td>Online</td>\n",
       "      <td>2016-12-31</td>\n",
       "      <td>8867</td>\n",
       "      <td>1541705.29</td>\n",
       "    </tr>\n",
       "    <tr>\n",
       "      <td>Middle East and North Africa</td>\n",
       "      <td>Cosmetics</td>\n",
       "      <td>Online</td>\n",
       "      <td>2016-11-15</td>\n",
       "      <td>6489</td>\n",
       "      <td>1128242.43</td>\n",
       "    </tr>\n",
       "    <tr>\n",
       "      <td>Sub-Saharan Africa</td>\n",
       "      <td>Vegetables</td>\n",
       "      <td>Offline</td>\n",
       "      <td>2016-06-01</td>\n",
       "      <td>1485</td>\n",
       "      <td>93748.05</td>\n",
       "    </tr>\n",
       "  </tbody>\n",
       "</table>\n",
       "</div>"
      ],
      "text/plain": [
       "                                    Item Type Sales Channel Order Date  \\\n",
       "Region                                                                   \n",
       "Asia                                Cosmetics       Offline 2016-11-19   \n",
       "Central America and the Caribbean     Clothes       Offline 2016-07-25   \n",
       "Europe                              Cosmetics        Online 2016-12-31   \n",
       "Middle East and North Africa        Cosmetics        Online 2016-11-15   \n",
       "Sub-Saharan Africa                 Vegetables       Offline 2016-06-01   \n",
       "\n",
       "                                   Units Sold  Total Profit  \n",
       "Region                                                       \n",
       "Asia                                     6952    1208744.24  \n",
       "Central America and the Caribbean        5498     403773.12  \n",
       "Europe                                   8867    1541705.29  \n",
       "Middle East and North Africa             6489    1128242.43  \n",
       "Sub-Saharan Africa                       1485      93748.05  "
      ]
     },
     "execution_count": 14,
     "metadata": {},
     "output_type": "execute_result"
    }
   ],
   "source": [
    "highest_sales_sixteen = sixteen.loc[sixteen.groupby(['Region'])['Units Sold'].idxmax()].set_index('Region')\n",
    "highest_sales_sixteen"
   ]
  },
  {
   "cell_type": "markdown",
   "metadata": {},
   "source": [
    "# Percentage"
   ]
  },
  {
   "cell_type": "code",
   "execution_count": 80,
   "metadata": {},
   "outputs": [
    {
     "data": {
      "text/plain": [
       "{'Item Type': {'Asia': 'Cosmetics',\n",
       "  'Central America and the Caribbean': 'Clothes',\n",
       "  'Europe': 'Cosmetics',\n",
       "  'Middle East and North Africa': 'Cosmetics',\n",
       "  'Sub-Saharan Africa': 'Vegetables'},\n",
       " 'Sales Channel': {'Asia': 'Offline',\n",
       "  'Central America and the Caribbean': 'Offline',\n",
       "  'Europe': 'Online',\n",
       "  'Middle East and North Africa': 'Online',\n",
       "  'Sub-Saharan Africa': 'Offline'},\n",
       " 'Order Date': {'Asia': Timestamp('2016-11-19 00:00:00'),\n",
       "  'Central America and the Caribbean': Timestamp('2016-07-25 00:00:00'),\n",
       "  'Europe': Timestamp('2016-12-31 00:00:00'),\n",
       "  'Middle East and North Africa': Timestamp('2016-11-15 00:00:00'),\n",
       "  'Sub-Saharan Africa': Timestamp('2016-06-01 00:00:00')},\n",
       " 'Units Sold': {'Asia': 6952,\n",
       "  'Central America and the Caribbean': 5498,\n",
       "  'Europe': 8867,\n",
       "  'Middle East and North Africa': 6489,\n",
       "  'Sub-Saharan Africa': 1485},\n",
       " 'Total Profit': {'Asia': 1208744.24,\n",
       "  'Central America and the Caribbean': 403773.12,\n",
       "  'Europe': 1541705.29,\n",
       "  'Middle East and North Africa': 1128242.43,\n",
       "  'Sub-Saharan Africa': 93748.05}}"
      ]
     },
     "execution_count": 80,
     "metadata": {},
     "output_type": "execute_result"
    }
   ],
   "source": [
    "highest_sales_sixteen"
   ]
  },
  {
   "cell_type": "code",
   "execution_count": 81,
   "metadata": {},
   "outputs": [
    {
     "data": {
      "text/plain": [
       "{'Asia': 1208744.24,\n",
       " 'Central America and the Caribbean': 526459.62,\n",
       " 'Europe': 1741735.09,\n",
       " 'Middle East and North Africa': 1128242.43,\n",
       " 'Sub-Saharan Africa': 298656.63}"
      ]
     },
     "execution_count": 81,
     "metadata": {},
     "output_type": "execute_result"
    }
   ],
   "source": [
    "total_profits_sixteen"
   ]
  },
  {
   "cell_type": "code",
   "execution_count": 91,
   "metadata": {},
   "outputs": [],
   "source": [
    "mydict16 = {}\n",
    "for cont, profit in total_profits_sixteen.items():\n",
    "\n",
    "    mydict16[cont] = highest_sales_sixteen['Total Profit'][cont] / profit"
   ]
  },
  {
   "cell_type": "code",
   "execution_count": 93,
   "metadata": {},
   "outputs": [
    {
     "data": {
      "text/plain": [
       "{'Asia': 1.0,\n",
       " 'Central America and the Caribbean': 0.7669593348868807,\n",
       " 'Europe': 0.8851548658872114,\n",
       " 'Middle East and North Africa': 1.0,\n",
       " 'Sub-Saharan Africa': 0.3138991088193823}"
      ]
     },
     "execution_count": 93,
     "metadata": {},
     "output_type": "execute_result"
    }
   ],
   "source": [
    "mydict16"
   ]
  },
  {
   "cell_type": "code",
   "execution_count": 89,
   "metadata": {},
   "outputs": [],
   "source": [
    "mydict15 = {}\n",
    "for cont, profit in total_profits_fifteen.items():\n",
    "\n",
    "    mydict15[cont] = highest_sales_fifteen['Total Profit'][cont] / profit"
   ]
  },
  {
   "cell_type": "code",
   "execution_count": 90,
   "metadata": {},
   "outputs": [
    {
     "data": {
      "text/plain": [
       "{'Asia': 0.7584279806477991,\n",
       " 'Australia and Oceania': 0.435752154582893,\n",
       " 'Europe': 0.8022328523313658,\n",
       " 'Middle East and North Africa': 1.0,\n",
       " 'North America': 1.0,\n",
       " 'Sub-Saharan Africa': 0.6945325095890422}"
      ]
     },
     "execution_count": 90,
     "metadata": {},
     "output_type": "execute_result"
    }
   ],
   "source": [
    "mydict15"
   ]
  },
  {
   "cell_type": "code",
   "execution_count": null,
   "metadata": {},
   "outputs": [],
   "source": []
  }
 ],
 "metadata": {
  "kernelspec": {
   "display_name": "Python 3",
   "language": "python",
   "name": "python3"
  },
  "language_info": {
   "codemirror_mode": {
    "name": "ipython",
    "version": 3
   },
   "file_extension": ".py",
   "mimetype": "text/x-python",
   "name": "python",
   "nbconvert_exporter": "python",
   "pygments_lexer": "ipython3",
   "version": "3.7.4"
  }
 },
 "nbformat": 4,
 "nbformat_minor": 2
}
